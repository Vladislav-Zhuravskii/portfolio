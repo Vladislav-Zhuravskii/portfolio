{
 "cells": [
  {
   "cell_type": "markdown",
   "metadata": {},
   "source": [
    "# Восстановление золота из руды"
   ]
  },
  {
   "cell_type": "markdown",
   "metadata": {
    "toc": true
   },
   "source": [
    "<h1>Содержание<span class=\"tocSkip\"></span></h1>\n",
    "<div class=\"toc\"><ul class=\"toc-item\"><li><span><a href=\"#Описание-проекта\" data-toc-modified-id=\"Описание-проекта-1\"><span class=\"toc-item-num\">1&nbsp;&nbsp;</span>Описание проекта</a></span><ul class=\"toc-item\"><li><span><a href=\"#Задача\" data-toc-modified-id=\"Задача-1.1\"><span class=\"toc-item-num\">1.1&nbsp;&nbsp;</span>Задача</a></span></li><li><span><a href=\"#Технологический-процесс:\" data-toc-modified-id=\"Технологический-процесс:-1.2\"><span class=\"toc-item-num\">1.2&nbsp;&nbsp;</span>Технологический процесс:</a></span></li><li><span><a href=\"#Описание-данных\" data-toc-modified-id=\"Описание-данных-1.3\"><span class=\"toc-item-num\">1.3&nbsp;&nbsp;</span>Описание данных</a></span></li><li><span><a href=\"#Наименование-признаков\" data-toc-modified-id=\"Наименование-признаков-1.4\"><span class=\"toc-item-num\">1.4&nbsp;&nbsp;</span>Наименование признаков</a></span></li><li><span><a href=\"#Расчёт-эффективности\" data-toc-modified-id=\"Расчёт-эффективности-1.5\"><span class=\"toc-item-num\">1.5&nbsp;&nbsp;</span>Расчёт эффективности</a></span></li><li><span><a href=\"#Метрика-качества\" data-toc-modified-id=\"Метрика-качества-1.6\"><span class=\"toc-item-num\">1.6&nbsp;&nbsp;</span>Метрика качества</a></span></li><li><span><a href=\"#План-исследования\" data-toc-modified-id=\"План-исследования-1.7\"><span class=\"toc-item-num\">1.7&nbsp;&nbsp;</span>План исследования</a></span></li></ul></li><li><span><a href=\"#Изучение-данных-из-файлов\" data-toc-modified-id=\"Изучение-данных-из-файлов-2\"><span class=\"toc-item-num\">2&nbsp;&nbsp;</span>Изучение данных из файлов</a></span><ul class=\"toc-item\"><li><span><a href=\"#Загрузка-данных\" data-toc-modified-id=\"Загрузка-данных-2.1\"><span class=\"toc-item-num\">2.1&nbsp;&nbsp;</span>Загрузка данных</a></span></li><li><span><a href=\"#Изучение-таблиц\" data-toc-modified-id=\"Изучение-таблиц-2.2\"><span class=\"toc-item-num\">2.2&nbsp;&nbsp;</span>Изучение таблиц</a></span></li><li><span><a href=\"#Категории-признаков\" data-toc-modified-id=\"Категории-признаков-2.3\"><span class=\"toc-item-num\">2.3&nbsp;&nbsp;</span>Категории признаков</a></span></li><li><span><a href=\"#Вывод\" data-toc-modified-id=\"Вывод-2.4\"><span class=\"toc-item-num\">2.4&nbsp;&nbsp;</span>Вывод</a></span></li></ul></li><li><span><a href=\"#Подготовка-данных\" data-toc-modified-id=\"Подготовка-данных-3\"><span class=\"toc-item-num\">3&nbsp;&nbsp;</span>Подготовка данных</a></span><ul class=\"toc-item\"><li><span><a href=\"#Преобразование-данных\" data-toc-modified-id=\"Преобразование-данных-3.1\"><span class=\"toc-item-num\">3.1&nbsp;&nbsp;</span>Преобразование данных</a></span></li><li><span><a href=\"#Проверка-рассчета-эффективности-обогащения\" data-toc-modified-id=\"Проверка-рассчета-эффективности-обогащения-3.2\"><span class=\"toc-item-num\">3.2&nbsp;&nbsp;</span>Проверка рассчета эффективности обогащения</a></span></li><li><span><a href=\"#Признаки-в-тестовой-выборке\" data-toc-modified-id=\"Признаки-в-тестовой-выборке-3.3\"><span class=\"toc-item-num\">3.3&nbsp;&nbsp;</span>Признаки в тестовой выборке</a></span></li><li><span><a href=\"#Вывод\" data-toc-modified-id=\"Вывод-3.4\"><span class=\"toc-item-num\">3.4&nbsp;&nbsp;</span>Вывод</a></span></li></ul></li><li><span><a href=\"#Анализ-данных\" data-toc-modified-id=\"Анализ-данных-4\"><span class=\"toc-item-num\">4&nbsp;&nbsp;</span>Анализ данных</a></span><ul class=\"toc-item\"><li><span><a href=\"#Анализ-выборок-по-датам.\" data-toc-modified-id=\"Анализ-выборок-по-датам.-4.1\"><span class=\"toc-item-num\">4.1&nbsp;&nbsp;</span>Анализ выборок по датам.</a></span></li><li><span><a href=\"#Изменение-концентрации-металлов\" data-toc-modified-id=\"Изменение-концентрации-металлов-4.2\"><span class=\"toc-item-num\">4.2&nbsp;&nbsp;</span>Изменение концентрации металлов</a></span></li><li><span><a href=\"#Распределение-размера-гранул-сырья\" data-toc-modified-id=\"Распределение-размера-гранул-сырья-4.3\"><span class=\"toc-item-num\">4.3&nbsp;&nbsp;</span>Распределение размера гранул сырья</a></span></li><li><span><a href=\"#Суммарная-концентрация-всех-веществ\" data-toc-modified-id=\"Суммарная-концентрация-всех-веществ-4.4\"><span class=\"toc-item-num\">4.4&nbsp;&nbsp;</span>Суммарная концентрация всех веществ</a></span></li><li><span><a href=\"#Вывод\" data-toc-modified-id=\"Вывод-4.5\"><span class=\"toc-item-num\">4.5&nbsp;&nbsp;</span>Вывод</a></span></li></ul></li><li><span><a href=\"#Модель\" data-toc-modified-id=\"Модель-5\"><span class=\"toc-item-num\">5&nbsp;&nbsp;</span>Модель</a></span><ul class=\"toc-item\"><li><span><a href=\"#Выделение-признаков\" data-toc-modified-id=\"Выделение-признаков-5.1\"><span class=\"toc-item-num\">5.1&nbsp;&nbsp;</span>Выделение признаков</a></span><ul class=\"toc-item\"><li><span><a href=\"#Мультиколлинеарность-признаков\" data-toc-modified-id=\"Мультиколлинеарность-признаков-5.1.1\"><span class=\"toc-item-num\">5.1.1&nbsp;&nbsp;</span>Мультиколлинеарность признаков</a></span></li><li><span><a href=\"#Выделение-признаков-в-выборках\" data-toc-modified-id=\"Выделение-признаков-в-выборках-5.1.2\"><span class=\"toc-item-num\">5.1.2&nbsp;&nbsp;</span>Выделение признаков в выборках</a></span></li></ul></li><li><span><a href=\"#Функция-для-вычисления-метрики\" data-toc-modified-id=\"Функция-для-вычисления-метрики-5.2\"><span class=\"toc-item-num\">5.2&nbsp;&nbsp;</span>Функция для вычисления метрики</a></span></li><li><span><a href=\"#Выбор-модели\" data-toc-modified-id=\"Выбор-модели-5.3\"><span class=\"toc-item-num\">5.3&nbsp;&nbsp;</span>Выбор модели</a></span><ul class=\"toc-item\"><li><span><a href=\"#Функции-кросс-валидации\" data-toc-modified-id=\"Функции-кросс-валидации-5.3.1\"><span class=\"toc-item-num\">5.3.1&nbsp;&nbsp;</span>Функции кросс-валидации</a></span></li><li><span><a href=\"#Выбор-модели-для-этапа-флотации\" data-toc-modified-id=\"Выбор-модели-для-этапа-флотации-5.3.2\"><span class=\"toc-item-num\">5.3.2&nbsp;&nbsp;</span>Выбор модели для этапа флотации</a></span></li><li><span><a href=\"#Выбор-модели-для-этапа-очистки\" data-toc-modified-id=\"Выбор-модели-для-этапа-очистки-5.3.3\"><span class=\"toc-item-num\">5.3.3&nbsp;&nbsp;</span>Выбор модели для этапа очистки</a></span></li></ul></li><li><span><a href=\"#Проверка-на-тестовой-выборке.\" data-toc-modified-id=\"Проверка-на-тестовой-выборке.-5.4\"><span class=\"toc-item-num\">5.4&nbsp;&nbsp;</span>Проверка на тестовой выборке.</a></span><ul class=\"toc-item\"><li><span><a href=\"#Тестирование-модели.\" data-toc-modified-id=\"Тестирование-модели.-5.4.1\"><span class=\"toc-item-num\">5.4.1&nbsp;&nbsp;</span>Тестирование модели.</a></span></li><li><span><a href=\"#Проверка-модели-на-адекватность.\" data-toc-modified-id=\"Проверка-модели-на-адекватность.-5.4.2\"><span class=\"toc-item-num\">5.4.2&nbsp;&nbsp;</span>Проверка модели на адекватность.</a></span></li><li><span><a href=\"#Интерпретация-модели.\" data-toc-modified-id=\"Интерпретация-модели.-5.4.3\"><span class=\"toc-item-num\">5.4.3&nbsp;&nbsp;</span>Интерпретация модели.</a></span></li></ul></li><li><span><a href=\"#Вывод\" data-toc-modified-id=\"Вывод-5.5\"><span class=\"toc-item-num\">5.5&nbsp;&nbsp;</span>Вывод</a></span></li></ul></li><li><span><a href=\"#Вывод\" data-toc-modified-id=\"Вывод-6\"><span class=\"toc-item-num\">6&nbsp;&nbsp;</span>Вывод</a></span></li></ul></div>"
   ]
  },
  {
   "cell_type": "markdown",
   "metadata": {},
   "source": [
    "## Описание проекта"
   ]
  },
  {
   "cell_type": "markdown",
   "metadata": {},
   "source": [
    "### Задача\n",
    "\n",
    "Необходимо подготовить прототип модели машинного обучения для компании «Цифра». Компания разрабатывает решения для эффективной работы промышленных предприятий.\n",
    "\n",
    "Модель должна предсказать коэффициент восстановления золота из золотосодержащей руды. В нашем распоряжении данные с параметрами добычи и очистки.\n",
    "\n",
    "Модель поможет оптимизировать производство, чтобы не запускать предприятие с убыточными характеристиками.\n",
    "\n",
    "Данные находятся в трёх файлах:\n",
    "\n",
    "* `gold_recovery_train_new.csv` — обучающая выборка;\n",
    "* `gold_recovery_test_new.csv` — тестовая выборка;\n",
    "* `gold_recovery_full_new.csv` — исходные данные.\n",
    "\n",
    "Данные индексируются датой и временем получения информации (признак `date`). Соседние по времени параметры часто похожи.\n",
    "\n",
    "Некоторые параметры недоступны, потому что замеряются и/или рассчитываются значительно позже. Из-за этого в тестовой выборке отсутствуют некоторые признаки, которые могут быть в обучающей. Также в тестовом наборе нет целевых признаков.\n",
    "\n",
    "Исходный датасет содержит обучающую и тестовую выборки со всеми признаками.\n",
    "\n",
    "В нашем распоряжении сырые данные. Прежде чем приступить к построению модели, необходимо проверить их на корректность."
   ]
  },
  {
   "cell_type": "markdown",
   "metadata": {},
   "source": [
    "### Технологический процесс:\n",
    "\n",
    "Добытая руда проходит первичную обработку, получается дроблёная смесь. Её отправляют на флотацию (обогащение) и двухэтапную очистку."
   ]
  },
  {
   "cell_type": "markdown",
   "metadata": {},
   "source": [
    "[![](https://mermaid.ink/img/eyJjb2RlIjoiZ3JhcGggTFJcbiAgICBBW9Ch0LzQtdGB0YwgPGJyPiDQt9C70L7RgtC-0L3QvtGB0L3QvtC5INGA0YPQtNGLXTo6OmNsYXNzXzEgLS0-IEJ7e9Ck0LvQvtGC0LDRhtC40Y99fTo6OmNsYXNzXzNcbiAgICBCIC0tPiBDW9Cn0LXRgNC90L7QstC-0Lk8YnI-INC60L7QvdGG0LXQvdGC0YDQsNGCXTo6OmNsYXNzXzFcbiAgICBDIC0tPiBEe3vQn9C10YDQstGL0Lk8YnI-INGN0YLQsNC_INC-0YfQuNGB0YLQutC4fX06OjpjbGFzc18zXG4gICAgRCAtLT4gRXt70JLRgtC-0YDQvtC5PGJyPiDRjdGC0LDQvyDQvtGH0LjRgdGC0LrQuH19Ojo6Y2xhc3NfM1xuICAgIEUgLS0-IEZb0KTQuNC90LDQu9GM0L3Ri9C5PGJyPiDQutC-0L3RhtC10L3RgtGA0LDRgl06OjpjbGFzc18xXG4gICAgQiAtLT4gRyjQntGC0LLQsNC70YzQvdGL0LU8YnI-INGF0LLQvtGB0YLRiyk6OjpjbGFzc18yXG4gICAgRCAtLT4gR1xuICAgIEUgLS0-IEdcbiAgICBjbGFzc0RlZiBjbGFzc18xIGZpbGw6Izc2RUVDNjtcbiAgICBjbGFzc0RlZiBjbGFzc18yIGZpbGw6I0ZGNzI1NjtcbiAgICBjbGFzc0RlZiBjbGFzc18zIGZpbGw6Izk4RjVGRjsiLCJtZXJtYWlkIjp7InRoZW1lIjoiZGVmYXVsdCJ9LCJ1cGRhdGVFZGl0b3IiOmZhbHNlLCJhdXRvU3luYyI6dHJ1ZSwidXBkYXRlRGlhZ3JhbSI6ZmFsc2V9)](https://mermaid-js.github.io/mermaid-live-editor/edit##eyJjb2RlIjoiZ3JhcGggTFJcbiAgICBBW9Ch0LzQtdGB0YwgPGJyPiDQt9C70L7RgtC-0L3QvtGB0L3QvtC5INGA0YPQtNGLXTo6OmNsYXNzXzEgLS0-IEJ7e9Ck0LvQvtGC0LDRhtC40Y99fTo6OmNsYXNzXzNcbiAgICBCIC0tPiBDW9Cn0LXRgNC90L7QstC-0Lk8YnI-INC60L7QvdGG0LXQvdGC0YDQsNGCXTo6OmNsYXNzXzFcbiAgICBDIC0tPiBEe3vQn9C10YDQstGL0Lk8YnI-INGN0YLQsNC_INC-0YfQuNGB0YLQutC4fX06OjpjbGFzc18zXG4gICAgRCAtLT4gRXt70JLRgtC-0YDQvtC5PGJyPiDRjdGC0LDQvyDQvtGH0LjRgdGC0LrQuH19Ojo6Y2xhc3NfM1xuICAgIEUgLS0-IEZb0KTQuNC90LDQu9GM0L3Ri9C5PGJyPiDQutC-0L3RhtC10L3RgtGA0LDRgl06OjpjbGFzc18xXG4gICAgQiAtLT4gRyjQntGC0LLQsNC70YzQvdGL0LU8YnI-INGF0LLQvtGB0YLRiyk6OjpjbGFzc18yXG4gICAgRCAtLT4gR1xuICAgIEUgLS0-IEdcbiAgICBjbGFzc0RlZiBjbGFzc18xIGZpbGw6Izc2RUVDNjtcbiAgICBjbGFzc0RlZiBjbGFzc18yIGZpbGw6I0ZGNjM0NztcbiAgICBjbGFzc0RlZiBjbGFzc18zIGZpbGw6Izk4RjVGRjsiLCJtZXJtYWlkIjoie1xuICBcInRoZW1lXCI6IFwiZGVmYXVsdFwiXG59IiwidXBkYXRlRWRpdG9yIjpmYWxzZSwiYXV0b1N5bmMiOnRydWUsInVwZGF0ZURpYWdyYW0iOmZhbHNlfQ)"
   ]
  },
  {
   "cell_type": "markdown",
   "metadata": {},
   "source": [
    "1. **Флотация**\n",
    "Во флотационную установку подаётся смесь золотосодержащей руды. После обогащения получается черновой концентрат и «отвальные хвосты», то есть остатки продукта с низкой концентрацией ценных металлов.\n",
    "На стабильность этого процесса влияет непостоянное и неоптимальное физико-химическое состояние флотационной пульпы (смеси твёрдых частиц и жидкости).\n",
    "2. **Очистка**\n",
    "Черновой концентрат проходит две очистки. На выходе получается финальный концентрат и новые отвальные хвосты."
   ]
  },
  {
   "cell_type": "markdown",
   "metadata": {},
   "source": [
    "### Описание данных\n",
    "\n",
    "**Технологический процесс**\n",
    "\n",
    "* Rougher feed — исходное сырье\n",
    "* Rougher additions (или reagent additions) — флотационные реагенты: Xanthate, Sulphate, Depressant\n",
    "    * Xanthate — ксантогенат (промотер, или активатор флотации);\n",
    "    * Sulphate — сульфат (на данном производстве сульфид натрия);\n",
    "    * Depressant — депрессант (силикат натрия).\n",
    "* Rougher process (англ. «грубый процесс») — флотация\n",
    "* Rougher tails — отвальные хвосты\n",
    "* Float banks — флотационная установка\n",
    "* Cleaner process — очистка\n",
    "* Rougher Au — черновой концентрат золота\n",
    "* Final Au — финальный концентрат золота\n",
    "\n",
    "**Параметры этапов**\n",
    "\n",
    "* air amount — объём воздуха\n",
    "* fluid levels — уровень жидкости\n",
    "* feed size — размер гранул сырья\n",
    "* feed rate — скорость подачи"
   ]
  },
  {
   "cell_type": "markdown",
   "metadata": {},
   "source": [
    "### Наименование признаков\n",
    "\n",
    "Наименование признаков в данных такое:\n",
    "\n",
    "`этап`.`тип_параметра`.`название_параметра`\n",
    "\n",
    "Пример: `rougher.input.feed_ag`\n",
    "\n",
    "Возможные значения для блока `этап`:\n",
    "\n",
    "* rougher — флотация\n",
    "* primary_cleaner — первичная очистка\n",
    "* secondary_cleaner — вторичная очистка\n",
    "* final — финальные характеристики\n",
    "\n",
    "Возможные значения для блока `тип_параметра`:\n",
    "\n",
    "* input — параметры сырья\n",
    "* output — параметры продукта\n",
    "* state — параметры, характеризующие текущее состояние этапа\n",
    "* calculation — расчётные характеристики"
   ]
  },
  {
   "cell_type": "markdown",
   "metadata": {},
   "source": [
    "### Расчёт эффективности\n",
    "\n",
    "В исследовании необходимо смоделировать процесс восстановления золота из золотосодержащей руды.\n",
    "Эффективность обогащения рассчитывается по формуле:\n",
    "\n",
    "$$\\text{Recovery} = \n",
    "\\frac{C\\times(F-T)}{F\\times(C-T)}\n",
    "\\times100\\%$$\n",
    "\n",
    "где:\n",
    "* $C$ — доля золота в концентрате после флотации/очистки;\n",
    "* $F$ — доля золота в сырье/концентрате до флотации/очистки;\n",
    "* $T$ — доля золота в отвальных хвостах после флотации/очистки.\n",
    "\n",
    "Для прогноза коэффициента нужно найти долю золота в концентратах и хвостах. Причём важен не только финальный продукт, но и черновой концентрат."
   ]
  },
  {
   "cell_type": "markdown",
   "metadata": {},
   "source": [
    "### Метрика качества\n",
    "\n",
    "Для решения задачи используется метрика  — sMAPE (англ. Symmetric Mean Absolute Percentage Error, «симметричное среднее абсолютное процентное отклонение»).\n",
    "\n",
    "Метрика sMAPE вычисляется так:\n",
    "\n",
    "$$\\text{sMAPE} = \n",
    "\\frac{1}{N}\n",
    "\\displaystyle\\sum_{i=1}^{N}\n",
    "\\frac{|y_{i}-\\hat{y}_{i}|}{(|y_{i}|+|\\hat{y}_{i}|)/2}\n",
    "\\times100\\%$$\n",
    "\n",
    "где:\n",
    "* $y_{i}$ — значение целевого признака для объекта с порядковым номером i в выборке, на которой измеряется качество;\n",
    "* $\\hat{y}_{i}$ — значение предсказания для объекта с порядковым номером i, например, в тестовой выборке;\n",
    "* $N$ — количество объектов в выборке\n",
    "\n",
    "Нужно спрогнозировать две величины:\n",
    "\n",
    "* эффективность обогащения чернового концентрата `rougher.output.recovery`;\n",
    "* эффективность обогащения финального концентрата `final.output.recovery`.\n",
    "\n",
    "Итоговая метрика складывается из двух величин:\n",
    "\n",
    "$$\\text{Итоговое sMAPE} = \n",
    "25\\%\\times \\text{sMAPE(rougher)} + \n",
    "75\\%\\times \\text{sMAPE(final)}$$"
   ]
  },
  {
   "cell_type": "markdown",
   "metadata": {},
   "source": [
    "### План исследования\n",
    "\n",
    "* Подготовить данные\n",
    "    * Открыть файлы и изучить их.\n",
    "    * Проверить, что эффективность обогащения рассчитана правильно. Вычислить её на обучающей выборке для признака `rougher.output.recovery`. Найти MAE между нашими расчётами и значением признака. Описать выводы.\n",
    "    * Проанализировать признаки, недоступные в тестовой выборке. Что это за параметры? К какому типу относятся?\n",
    "    * Провести предобработку данных.\n",
    "* Проанализировать данные\n",
    "    * Посмотреть, как меняется концентрация металлов (Au, Ag, Pb) на различных этапах очистки. Описать выводы.\n",
    "    * Сравнить распределения размеров гранул сырья на обучающей и тестовой выборках. Если распределения сильно отличаются друг от друга, оценка модели будет неправильной.\n",
    "    * Исследовать суммарную концентрацию всех веществ на разных стадиях: в сырье, в черновом и финальном концентратах.\n",
    "* Построить модель\n",
    "    * Написать функцию для вычисления итоговой sMAPE.\n",
    "    * Обучить разные модели и оценить их качество кросс-валидацией. Выберать лучшую модель и проверить её на тестовой выборке. Описать выводы."
   ]
  },
  {
   "cell_type": "markdown",
   "metadata": {},
   "source": [
    "## Изучение данных из файлов"
   ]
  },
  {
   "cell_type": "markdown",
   "metadata": {},
   "source": [
    "### Загрузка данных"
   ]
  },
  {
   "cell_type": "markdown",
   "metadata": {},
   "source": [
    "Импортируем необходимые библиотеки."
   ]
  },
  {
   "cell_type": "code",
   "execution_count": 1,
   "metadata": {},
   "outputs": [],
   "source": [
    "import pandas as pd\n",
    "import numpy as np\n",
    "\n",
    "import matplotlib.pyplot as plt\n",
    "import plotly.express as px\n",
    "import plotly.graph_objects as go\n",
    "import plotly.io as pio\n",
    "pio.renderers.default = \"png\"\n",
    "\n",
    "from sklearn.model_selection import cross_validate, GridSearchCV\n",
    "from sklearn.linear_model import LinearRegression\n",
    "from sklearn.tree import DecisionTreeRegressor\n",
    "from sklearn.ensemble import RandomForestRegressor\n",
    "from sklearn.metrics import mean_absolute_error, make_scorer\n",
    "from sklearn.dummy import DummyRegressor\n",
    "from sklearn.inspection import permutation_importance\n",
    "\n",
    "from scipy import stats as st\n",
    "from hyperopt import STATUS_OK, Trials, fmin, hp, tpe, space_eval"
   ]
  },
  {
   "cell_type": "markdown",
   "metadata": {},
   "source": [
    "Прочитаем файлы с данными с параметрами добычи и очистки, сохраним их в переменных `train`, `test` и `full`."
   ]
  },
  {
   "cell_type": "code",
   "execution_count": 2,
   "metadata": {},
   "outputs": [],
   "source": [
    "train = pd.read_csv('dataset/gold_recovery_train_new.csv')\n",
    "test = pd.read_csv('dataset/gold_recovery_test_new.csv')\n",
    "full = pd.read_csv('dataset/gold_recovery_full_new.csv')"
   ]
  },
  {
   "cell_type": "markdown",
   "metadata": {},
   "source": [
    "### Изучение таблиц"
   ]
  },
  {
   "cell_type": "markdown",
   "metadata": {},
   "source": [
    "Чтобы составить представление о данных, получим первые 5 строк таблиц, а так же общую информацию."
   ]
  },
  {
   "cell_type": "code",
   "execution_count": 3,
   "metadata": {},
   "outputs": [
    {
     "data": {
      "text/html": [
       "<div>\n",
       "<style scoped>\n",
       "    .dataframe tbody tr th:only-of-type {\n",
       "        vertical-align: middle;\n",
       "    }\n",
       "\n",
       "    .dataframe tbody tr th {\n",
       "        vertical-align: top;\n",
       "    }\n",
       "\n",
       "    .dataframe thead th {\n",
       "        text-align: right;\n",
       "    }\n",
       "</style>\n",
       "<table border=\"1\" class=\"dataframe\">\n",
       "  <thead>\n",
       "    <tr style=\"text-align: right;\">\n",
       "      <th></th>\n",
       "      <th>date</th>\n",
       "      <th>final.output.concentrate_ag</th>\n",
       "      <th>final.output.concentrate_pb</th>\n",
       "      <th>final.output.concentrate_sol</th>\n",
       "      <th>final.output.concentrate_au</th>\n",
       "      <th>final.output.recovery</th>\n",
       "      <th>final.output.tail_ag</th>\n",
       "      <th>final.output.tail_pb</th>\n",
       "      <th>final.output.tail_sol</th>\n",
       "      <th>final.output.tail_au</th>\n",
       "      <th>...</th>\n",
       "      <th>secondary_cleaner.state.floatbank4_a_air</th>\n",
       "      <th>secondary_cleaner.state.floatbank4_a_level</th>\n",
       "      <th>secondary_cleaner.state.floatbank4_b_air</th>\n",
       "      <th>secondary_cleaner.state.floatbank4_b_level</th>\n",
       "      <th>secondary_cleaner.state.floatbank5_a_air</th>\n",
       "      <th>secondary_cleaner.state.floatbank5_a_level</th>\n",
       "      <th>secondary_cleaner.state.floatbank5_b_air</th>\n",
       "      <th>secondary_cleaner.state.floatbank5_b_level</th>\n",
       "      <th>secondary_cleaner.state.floatbank6_a_air</th>\n",
       "      <th>secondary_cleaner.state.floatbank6_a_level</th>\n",
       "    </tr>\n",
       "  </thead>\n",
       "  <tbody>\n",
       "    <tr>\n",
       "      <th>0</th>\n",
       "      <td>2016-01-15 00:00:00</td>\n",
       "      <td>6.055403</td>\n",
       "      <td>9.889648</td>\n",
       "      <td>5.507324</td>\n",
       "      <td>42.192020</td>\n",
       "      <td>70.541216</td>\n",
       "      <td>10.411962</td>\n",
       "      <td>0.895447</td>\n",
       "      <td>16.904297</td>\n",
       "      <td>2.143149</td>\n",
       "      <td>...</td>\n",
       "      <td>14.016835</td>\n",
       "      <td>-502.488007</td>\n",
       "      <td>12.099931</td>\n",
       "      <td>-504.715942</td>\n",
       "      <td>9.925633</td>\n",
       "      <td>-498.310211</td>\n",
       "      <td>8.079666</td>\n",
       "      <td>-500.470978</td>\n",
       "      <td>14.151341</td>\n",
       "      <td>-605.841980</td>\n",
       "    </tr>\n",
       "    <tr>\n",
       "      <th>1</th>\n",
       "      <td>2016-01-15 01:00:00</td>\n",
       "      <td>6.029369</td>\n",
       "      <td>9.968944</td>\n",
       "      <td>5.257781</td>\n",
       "      <td>42.701629</td>\n",
       "      <td>69.266198</td>\n",
       "      <td>10.462676</td>\n",
       "      <td>0.927452</td>\n",
       "      <td>16.634514</td>\n",
       "      <td>2.224930</td>\n",
       "      <td>...</td>\n",
       "      <td>13.992281</td>\n",
       "      <td>-505.503262</td>\n",
       "      <td>11.950531</td>\n",
       "      <td>-501.331529</td>\n",
       "      <td>10.039245</td>\n",
       "      <td>-500.169983</td>\n",
       "      <td>7.984757</td>\n",
       "      <td>-500.582168</td>\n",
       "      <td>13.998353</td>\n",
       "      <td>-599.787184</td>\n",
       "    </tr>\n",
       "    <tr>\n",
       "      <th>2</th>\n",
       "      <td>2016-01-15 02:00:00</td>\n",
       "      <td>6.055926</td>\n",
       "      <td>10.213995</td>\n",
       "      <td>5.383759</td>\n",
       "      <td>42.657501</td>\n",
       "      <td>68.116445</td>\n",
       "      <td>10.507046</td>\n",
       "      <td>0.953716</td>\n",
       "      <td>16.208849</td>\n",
       "      <td>2.257889</td>\n",
       "      <td>...</td>\n",
       "      <td>14.015015</td>\n",
       "      <td>-502.520901</td>\n",
       "      <td>11.912783</td>\n",
       "      <td>-501.133383</td>\n",
       "      <td>10.070913</td>\n",
       "      <td>-500.129135</td>\n",
       "      <td>8.013877</td>\n",
       "      <td>-500.517572</td>\n",
       "      <td>14.028663</td>\n",
       "      <td>-601.427363</td>\n",
       "    </tr>\n",
       "    <tr>\n",
       "      <th>3</th>\n",
       "      <td>2016-01-15 03:00:00</td>\n",
       "      <td>6.047977</td>\n",
       "      <td>9.977019</td>\n",
       "      <td>4.858634</td>\n",
       "      <td>42.689819</td>\n",
       "      <td>68.347543</td>\n",
       "      <td>10.422762</td>\n",
       "      <td>0.883763</td>\n",
       "      <td>16.532835</td>\n",
       "      <td>2.146849</td>\n",
       "      <td>...</td>\n",
       "      <td>14.036510</td>\n",
       "      <td>-500.857308</td>\n",
       "      <td>11.999550</td>\n",
       "      <td>-501.193686</td>\n",
       "      <td>9.970366</td>\n",
       "      <td>-499.201640</td>\n",
       "      <td>7.977324</td>\n",
       "      <td>-500.255908</td>\n",
       "      <td>14.005551</td>\n",
       "      <td>-599.996129</td>\n",
       "    </tr>\n",
       "    <tr>\n",
       "      <th>4</th>\n",
       "      <td>2016-01-15 04:00:00</td>\n",
       "      <td>6.148599</td>\n",
       "      <td>10.142511</td>\n",
       "      <td>4.939416</td>\n",
       "      <td>42.774141</td>\n",
       "      <td>66.927016</td>\n",
       "      <td>10.360302</td>\n",
       "      <td>0.792826</td>\n",
       "      <td>16.525686</td>\n",
       "      <td>2.055292</td>\n",
       "      <td>...</td>\n",
       "      <td>14.027298</td>\n",
       "      <td>-499.838632</td>\n",
       "      <td>11.953070</td>\n",
       "      <td>-501.053894</td>\n",
       "      <td>9.925709</td>\n",
       "      <td>-501.686727</td>\n",
       "      <td>7.894242</td>\n",
       "      <td>-500.356035</td>\n",
       "      <td>13.996647</td>\n",
       "      <td>-601.496691</td>\n",
       "    </tr>\n",
       "  </tbody>\n",
       "</table>\n",
       "<p>5 rows × 87 columns</p>\n",
       "</div>"
      ],
      "text/plain": [
       "                  date  final.output.concentrate_ag  \\\n",
       "0  2016-01-15 00:00:00                     6.055403   \n",
       "1  2016-01-15 01:00:00                     6.029369   \n",
       "2  2016-01-15 02:00:00                     6.055926   \n",
       "3  2016-01-15 03:00:00                     6.047977   \n",
       "4  2016-01-15 04:00:00                     6.148599   \n",
       "\n",
       "   final.output.concentrate_pb  final.output.concentrate_sol  \\\n",
       "0                     9.889648                      5.507324   \n",
       "1                     9.968944                      5.257781   \n",
       "2                    10.213995                      5.383759   \n",
       "3                     9.977019                      4.858634   \n",
       "4                    10.142511                      4.939416   \n",
       "\n",
       "   final.output.concentrate_au  final.output.recovery  final.output.tail_ag  \\\n",
       "0                    42.192020              70.541216             10.411962   \n",
       "1                    42.701629              69.266198             10.462676   \n",
       "2                    42.657501              68.116445             10.507046   \n",
       "3                    42.689819              68.347543             10.422762   \n",
       "4                    42.774141              66.927016             10.360302   \n",
       "\n",
       "   final.output.tail_pb  final.output.tail_sol  final.output.tail_au  ...  \\\n",
       "0              0.895447              16.904297              2.143149  ...   \n",
       "1              0.927452              16.634514              2.224930  ...   \n",
       "2              0.953716              16.208849              2.257889  ...   \n",
       "3              0.883763              16.532835              2.146849  ...   \n",
       "4              0.792826              16.525686              2.055292  ...   \n",
       "\n",
       "   secondary_cleaner.state.floatbank4_a_air  \\\n",
       "0                                 14.016835   \n",
       "1                                 13.992281   \n",
       "2                                 14.015015   \n",
       "3                                 14.036510   \n",
       "4                                 14.027298   \n",
       "\n",
       "   secondary_cleaner.state.floatbank4_a_level  \\\n",
       "0                                 -502.488007   \n",
       "1                                 -505.503262   \n",
       "2                                 -502.520901   \n",
       "3                                 -500.857308   \n",
       "4                                 -499.838632   \n",
       "\n",
       "   secondary_cleaner.state.floatbank4_b_air  \\\n",
       "0                                 12.099931   \n",
       "1                                 11.950531   \n",
       "2                                 11.912783   \n",
       "3                                 11.999550   \n",
       "4                                 11.953070   \n",
       "\n",
       "   secondary_cleaner.state.floatbank4_b_level  \\\n",
       "0                                 -504.715942   \n",
       "1                                 -501.331529   \n",
       "2                                 -501.133383   \n",
       "3                                 -501.193686   \n",
       "4                                 -501.053894   \n",
       "\n",
       "   secondary_cleaner.state.floatbank5_a_air  \\\n",
       "0                                  9.925633   \n",
       "1                                 10.039245   \n",
       "2                                 10.070913   \n",
       "3                                  9.970366   \n",
       "4                                  9.925709   \n",
       "\n",
       "   secondary_cleaner.state.floatbank5_a_level  \\\n",
       "0                                 -498.310211   \n",
       "1                                 -500.169983   \n",
       "2                                 -500.129135   \n",
       "3                                 -499.201640   \n",
       "4                                 -501.686727   \n",
       "\n",
       "   secondary_cleaner.state.floatbank5_b_air  \\\n",
       "0                                  8.079666   \n",
       "1                                  7.984757   \n",
       "2                                  8.013877   \n",
       "3                                  7.977324   \n",
       "4                                  7.894242   \n",
       "\n",
       "   secondary_cleaner.state.floatbank5_b_level  \\\n",
       "0                                 -500.470978   \n",
       "1                                 -500.582168   \n",
       "2                                 -500.517572   \n",
       "3                                 -500.255908   \n",
       "4                                 -500.356035   \n",
       "\n",
       "   secondary_cleaner.state.floatbank6_a_air  \\\n",
       "0                                 14.151341   \n",
       "1                                 13.998353   \n",
       "2                                 14.028663   \n",
       "3                                 14.005551   \n",
       "4                                 13.996647   \n",
       "\n",
       "   secondary_cleaner.state.floatbank6_a_level  \n",
       "0                                 -605.841980  \n",
       "1                                 -599.787184  \n",
       "2                                 -601.427363  \n",
       "3                                 -599.996129  \n",
       "4                                 -601.496691  \n",
       "\n",
       "[5 rows x 87 columns]"
      ]
     },
     "metadata": {},
     "output_type": "display_data"
    },
    {
     "name": "stdout",
     "output_type": "stream",
     "text": [
      "\n",
      "<class 'pandas.core.frame.DataFrame'>\n",
      "RangeIndex: 14149 entries, 0 to 14148\n",
      "Data columns (total 87 columns):\n",
      " #   Column                                              Non-Null Count  Dtype  \n",
      "---  ------                                              --------------  -----  \n",
      " 0   date                                                14149 non-null  object \n",
      " 1   final.output.concentrate_ag                         14148 non-null  float64\n",
      " 2   final.output.concentrate_pb                         14148 non-null  float64\n",
      " 3   final.output.concentrate_sol                        13938 non-null  float64\n",
      " 4   final.output.concentrate_au                         14149 non-null  float64\n",
      " 5   final.output.recovery                               14149 non-null  float64\n",
      " 6   final.output.tail_ag                                14149 non-null  float64\n",
      " 7   final.output.tail_pb                                14049 non-null  float64\n",
      " 8   final.output.tail_sol                               14144 non-null  float64\n",
      " 9   final.output.tail_au                                14149 non-null  float64\n",
      " 10  primary_cleaner.input.sulfate                       14129 non-null  float64\n",
      " 11  primary_cleaner.input.depressant                    14117 non-null  float64\n",
      " 12  primary_cleaner.input.feed_size                     14149 non-null  float64\n",
      " 13  primary_cleaner.input.xanthate                      14049 non-null  float64\n",
      " 14  primary_cleaner.output.concentrate_ag               14149 non-null  float64\n",
      " 15  primary_cleaner.output.concentrate_pb               14063 non-null  float64\n",
      " 16  primary_cleaner.output.concentrate_sol              13863 non-null  float64\n",
      " 17  primary_cleaner.output.concentrate_au               14149 non-null  float64\n",
      " 18  primary_cleaner.output.tail_ag                      14148 non-null  float64\n",
      " 19  primary_cleaner.output.tail_pb                      14134 non-null  float64\n",
      " 20  primary_cleaner.output.tail_sol                     14103 non-null  float64\n",
      " 21  primary_cleaner.output.tail_au                      14149 non-null  float64\n",
      " 22  primary_cleaner.state.floatbank8_a_air              14145 non-null  float64\n",
      " 23  primary_cleaner.state.floatbank8_a_level            14148 non-null  float64\n",
      " 24  primary_cleaner.state.floatbank8_b_air              14145 non-null  float64\n",
      " 25  primary_cleaner.state.floatbank8_b_level            14148 non-null  float64\n",
      " 26  primary_cleaner.state.floatbank8_c_air              14147 non-null  float64\n",
      " 27  primary_cleaner.state.floatbank8_c_level            14148 non-null  float64\n",
      " 28  primary_cleaner.state.floatbank8_d_air              14146 non-null  float64\n",
      " 29  primary_cleaner.state.floatbank8_d_level            14148 non-null  float64\n",
      " 30  rougher.calculation.sulfate_to_au_concentrate       14148 non-null  float64\n",
      " 31  rougher.calculation.floatbank10_sulfate_to_au_feed  14148 non-null  float64\n",
      " 32  rougher.calculation.floatbank11_sulfate_to_au_feed  14148 non-null  float64\n",
      " 33  rougher.calculation.au_pb_ratio                     14149 non-null  float64\n",
      " 34  rougher.input.feed_ag                               14149 non-null  float64\n",
      " 35  rougher.input.feed_pb                               14049 non-null  float64\n",
      " 36  rougher.input.feed_rate                             14141 non-null  float64\n",
      " 37  rougher.input.feed_size                             14005 non-null  float64\n",
      " 38  rougher.input.feed_sol                              14071 non-null  float64\n",
      " 39  rougher.input.feed_au                               14149 non-null  float64\n",
      " 40  rougher.input.floatbank10_sulfate                   14120 non-null  float64\n",
      " 41  rougher.input.floatbank10_xanthate                  14141 non-null  float64\n",
      " 42  rougher.input.floatbank11_sulfate                   14113 non-null  float64\n",
      " 43  rougher.input.floatbank11_xanthate                  13721 non-null  float64\n",
      " 44  rougher.output.concentrate_ag                       14149 non-null  float64\n",
      " 45  rougher.output.concentrate_pb                       14149 non-null  float64\n",
      " 46  rougher.output.concentrate_sol                      14127 non-null  float64\n",
      " 47  rougher.output.concentrate_au                       14149 non-null  float64\n",
      " 48  rougher.output.recovery                             14149 non-null  float64\n",
      " 49  rougher.output.tail_ag                              14148 non-null  float64\n",
      " 50  rougher.output.tail_pb                              14149 non-null  float64\n",
      " 51  rougher.output.tail_sol                             14149 non-null  float64\n",
      " 52  rougher.output.tail_au                              14149 non-null  float64\n",
      " 53  rougher.state.floatbank10_a_air                     14148 non-null  float64\n",
      " 54  rougher.state.floatbank10_a_level                   14148 non-null  float64\n",
      " 55  rougher.state.floatbank10_b_air                     14148 non-null  float64\n",
      " 56  rougher.state.floatbank10_b_level                   14148 non-null  float64\n",
      " 57  rougher.state.floatbank10_c_air                     14148 non-null  float64\n",
      " 58  rougher.state.floatbank10_c_level                   14148 non-null  float64\n",
      " 59  rougher.state.floatbank10_d_air                     14149 non-null  float64\n",
      " 60  rougher.state.floatbank10_d_level                   14149 non-null  float64\n",
      " 61  rougher.state.floatbank10_e_air                     13713 non-null  float64\n",
      " 62  rougher.state.floatbank10_e_level                   14149 non-null  float64\n",
      " 63  rougher.state.floatbank10_f_air                     14149 non-null  float64\n",
      " 64  rougher.state.floatbank10_f_level                   14149 non-null  float64\n",
      " 65  secondary_cleaner.output.tail_ag                    14147 non-null  float64\n",
      " 66  secondary_cleaner.output.tail_pb                    14139 non-null  float64\n",
      " 67  secondary_cleaner.output.tail_sol                   12544 non-null  float64\n",
      " 68  secondary_cleaner.output.tail_au                    14149 non-null  float64\n",
      " 69  secondary_cleaner.state.floatbank2_a_air            13932 non-null  float64\n",
      " 70  secondary_cleaner.state.floatbank2_a_level          14148 non-null  float64\n",
      " 71  secondary_cleaner.state.floatbank2_b_air            14128 non-null  float64\n",
      " 72  secondary_cleaner.state.floatbank2_b_level          14148 non-null  float64\n",
      " 73  secondary_cleaner.state.floatbank3_a_air            14145 non-null  float64\n",
      " 74  secondary_cleaner.state.floatbank3_a_level          14148 non-null  float64\n",
      " 75  secondary_cleaner.state.floatbank3_b_air            14148 non-null  float64\n",
      " 76  secondary_cleaner.state.floatbank3_b_level          14148 non-null  float64\n",
      " 77  secondary_cleaner.state.floatbank4_a_air            14143 non-null  float64\n",
      " 78  secondary_cleaner.state.floatbank4_a_level          14148 non-null  float64\n",
      " 79  secondary_cleaner.state.floatbank4_b_air            14148 non-null  float64\n",
      " 80  secondary_cleaner.state.floatbank4_b_level          14148 non-null  float64\n",
      " 81  secondary_cleaner.state.floatbank5_a_air            14148 non-null  float64\n",
      " 82  secondary_cleaner.state.floatbank5_a_level          14148 non-null  float64\n",
      " 83  secondary_cleaner.state.floatbank5_b_air            14148 non-null  float64\n",
      " 84  secondary_cleaner.state.floatbank5_b_level          14148 non-null  float64\n",
      " 85  secondary_cleaner.state.floatbank6_a_air            14147 non-null  float64\n",
      " 86  secondary_cleaner.state.floatbank6_a_level          14148 non-null  float64\n",
      "dtypes: float64(86), object(1)\n",
      "memory usage: 9.4+ MB\n"
     ]
    }
   ],
   "source": [
    "display(train.head())\n",
    "print()\n",
    "train.info()"
   ]
  },
  {
   "cell_type": "code",
   "execution_count": 4,
   "metadata": {
    "scrolled": true
   },
   "outputs": [
    {
     "data": {
      "text/html": [
       "<div>\n",
       "<style scoped>\n",
       "    .dataframe tbody tr th:only-of-type {\n",
       "        vertical-align: middle;\n",
       "    }\n",
       "\n",
       "    .dataframe tbody tr th {\n",
       "        vertical-align: top;\n",
       "    }\n",
       "\n",
       "    .dataframe thead th {\n",
       "        text-align: right;\n",
       "    }\n",
       "</style>\n",
       "<table border=\"1\" class=\"dataframe\">\n",
       "  <thead>\n",
       "    <tr style=\"text-align: right;\">\n",
       "      <th></th>\n",
       "      <th>date</th>\n",
       "      <th>primary_cleaner.input.sulfate</th>\n",
       "      <th>primary_cleaner.input.depressant</th>\n",
       "      <th>primary_cleaner.input.feed_size</th>\n",
       "      <th>primary_cleaner.input.xanthate</th>\n",
       "      <th>primary_cleaner.state.floatbank8_a_air</th>\n",
       "      <th>primary_cleaner.state.floatbank8_a_level</th>\n",
       "      <th>primary_cleaner.state.floatbank8_b_air</th>\n",
       "      <th>primary_cleaner.state.floatbank8_b_level</th>\n",
       "      <th>primary_cleaner.state.floatbank8_c_air</th>\n",
       "      <th>...</th>\n",
       "      <th>secondary_cleaner.state.floatbank4_a_air</th>\n",
       "      <th>secondary_cleaner.state.floatbank4_a_level</th>\n",
       "      <th>secondary_cleaner.state.floatbank4_b_air</th>\n",
       "      <th>secondary_cleaner.state.floatbank4_b_level</th>\n",
       "      <th>secondary_cleaner.state.floatbank5_a_air</th>\n",
       "      <th>secondary_cleaner.state.floatbank5_a_level</th>\n",
       "      <th>secondary_cleaner.state.floatbank5_b_air</th>\n",
       "      <th>secondary_cleaner.state.floatbank5_b_level</th>\n",
       "      <th>secondary_cleaner.state.floatbank6_a_air</th>\n",
       "      <th>secondary_cleaner.state.floatbank6_a_level</th>\n",
       "    </tr>\n",
       "  </thead>\n",
       "  <tbody>\n",
       "    <tr>\n",
       "      <th>0</th>\n",
       "      <td>2016-09-01 00:59:59</td>\n",
       "      <td>210.800909</td>\n",
       "      <td>14.993118</td>\n",
       "      <td>8.080000</td>\n",
       "      <td>1.005021</td>\n",
       "      <td>1398.981301</td>\n",
       "      <td>-500.225577</td>\n",
       "      <td>1399.144926</td>\n",
       "      <td>-499.919735</td>\n",
       "      <td>1400.102998</td>\n",
       "      <td>...</td>\n",
       "      <td>12.023554</td>\n",
       "      <td>-497.795834</td>\n",
       "      <td>8.016656</td>\n",
       "      <td>-501.289139</td>\n",
       "      <td>7.946562</td>\n",
       "      <td>-432.317850</td>\n",
       "      <td>4.872511</td>\n",
       "      <td>-500.037437</td>\n",
       "      <td>26.705889</td>\n",
       "      <td>-499.709414</td>\n",
       "    </tr>\n",
       "    <tr>\n",
       "      <th>1</th>\n",
       "      <td>2016-09-01 01:59:59</td>\n",
       "      <td>215.392455</td>\n",
       "      <td>14.987471</td>\n",
       "      <td>8.080000</td>\n",
       "      <td>0.990469</td>\n",
       "      <td>1398.777912</td>\n",
       "      <td>-500.057435</td>\n",
       "      <td>1398.055362</td>\n",
       "      <td>-499.778182</td>\n",
       "      <td>1396.151033</td>\n",
       "      <td>...</td>\n",
       "      <td>12.058140</td>\n",
       "      <td>-498.695773</td>\n",
       "      <td>8.130979</td>\n",
       "      <td>-499.634209</td>\n",
       "      <td>7.958270</td>\n",
       "      <td>-525.839648</td>\n",
       "      <td>4.878850</td>\n",
       "      <td>-500.162375</td>\n",
       "      <td>25.019940</td>\n",
       "      <td>-499.819438</td>\n",
       "    </tr>\n",
       "    <tr>\n",
       "      <th>2</th>\n",
       "      <td>2016-09-01 02:59:59</td>\n",
       "      <td>215.259946</td>\n",
       "      <td>12.884934</td>\n",
       "      <td>7.786667</td>\n",
       "      <td>0.996043</td>\n",
       "      <td>1398.493666</td>\n",
       "      <td>-500.868360</td>\n",
       "      <td>1398.860436</td>\n",
       "      <td>-499.764529</td>\n",
       "      <td>1398.075709</td>\n",
       "      <td>...</td>\n",
       "      <td>11.962366</td>\n",
       "      <td>-498.767484</td>\n",
       "      <td>8.096893</td>\n",
       "      <td>-500.827423</td>\n",
       "      <td>8.071056</td>\n",
       "      <td>-500.801673</td>\n",
       "      <td>4.905125</td>\n",
       "      <td>-499.828510</td>\n",
       "      <td>24.994862</td>\n",
       "      <td>-500.622559</td>\n",
       "    </tr>\n",
       "    <tr>\n",
       "      <th>3</th>\n",
       "      <td>2016-09-01 03:59:59</td>\n",
       "      <td>215.336236</td>\n",
       "      <td>12.006805</td>\n",
       "      <td>7.640000</td>\n",
       "      <td>0.863514</td>\n",
       "      <td>1399.618111</td>\n",
       "      <td>-498.863574</td>\n",
       "      <td>1397.440120</td>\n",
       "      <td>-499.211024</td>\n",
       "      <td>1400.129303</td>\n",
       "      <td>...</td>\n",
       "      <td>12.033091</td>\n",
       "      <td>-498.350935</td>\n",
       "      <td>8.074946</td>\n",
       "      <td>-499.474407</td>\n",
       "      <td>7.897085</td>\n",
       "      <td>-500.868509</td>\n",
       "      <td>4.931400</td>\n",
       "      <td>-499.963623</td>\n",
       "      <td>24.948919</td>\n",
       "      <td>-498.709987</td>\n",
       "    </tr>\n",
       "    <tr>\n",
       "      <th>4</th>\n",
       "      <td>2016-09-01 04:59:59</td>\n",
       "      <td>199.099327</td>\n",
       "      <td>10.682530</td>\n",
       "      <td>7.530000</td>\n",
       "      <td>0.805575</td>\n",
       "      <td>1401.268123</td>\n",
       "      <td>-500.808305</td>\n",
       "      <td>1398.128818</td>\n",
       "      <td>-499.504543</td>\n",
       "      <td>1402.172226</td>\n",
       "      <td>...</td>\n",
       "      <td>12.025367</td>\n",
       "      <td>-500.786497</td>\n",
       "      <td>8.054678</td>\n",
       "      <td>-500.397500</td>\n",
       "      <td>8.107890</td>\n",
       "      <td>-509.526725</td>\n",
       "      <td>4.957674</td>\n",
       "      <td>-500.360026</td>\n",
       "      <td>25.003331</td>\n",
       "      <td>-500.856333</td>\n",
       "    </tr>\n",
       "  </tbody>\n",
       "</table>\n",
       "<p>5 rows × 53 columns</p>\n",
       "</div>"
      ],
      "text/plain": [
       "                  date  primary_cleaner.input.sulfate  \\\n",
       "0  2016-09-01 00:59:59                     210.800909   \n",
       "1  2016-09-01 01:59:59                     215.392455   \n",
       "2  2016-09-01 02:59:59                     215.259946   \n",
       "3  2016-09-01 03:59:59                     215.336236   \n",
       "4  2016-09-01 04:59:59                     199.099327   \n",
       "\n",
       "   primary_cleaner.input.depressant  primary_cleaner.input.feed_size  \\\n",
       "0                         14.993118                         8.080000   \n",
       "1                         14.987471                         8.080000   \n",
       "2                         12.884934                         7.786667   \n",
       "3                         12.006805                         7.640000   \n",
       "4                         10.682530                         7.530000   \n",
       "\n",
       "   primary_cleaner.input.xanthate  primary_cleaner.state.floatbank8_a_air  \\\n",
       "0                        1.005021                             1398.981301   \n",
       "1                        0.990469                             1398.777912   \n",
       "2                        0.996043                             1398.493666   \n",
       "3                        0.863514                             1399.618111   \n",
       "4                        0.805575                             1401.268123   \n",
       "\n",
       "   primary_cleaner.state.floatbank8_a_level  \\\n",
       "0                               -500.225577   \n",
       "1                               -500.057435   \n",
       "2                               -500.868360   \n",
       "3                               -498.863574   \n",
       "4                               -500.808305   \n",
       "\n",
       "   primary_cleaner.state.floatbank8_b_air  \\\n",
       "0                             1399.144926   \n",
       "1                             1398.055362   \n",
       "2                             1398.860436   \n",
       "3                             1397.440120   \n",
       "4                             1398.128818   \n",
       "\n",
       "   primary_cleaner.state.floatbank8_b_level  \\\n",
       "0                               -499.919735   \n",
       "1                               -499.778182   \n",
       "2                               -499.764529   \n",
       "3                               -499.211024   \n",
       "4                               -499.504543   \n",
       "\n",
       "   primary_cleaner.state.floatbank8_c_air  ...  \\\n",
       "0                             1400.102998  ...   \n",
       "1                             1396.151033  ...   \n",
       "2                             1398.075709  ...   \n",
       "3                             1400.129303  ...   \n",
       "4                             1402.172226  ...   \n",
       "\n",
       "   secondary_cleaner.state.floatbank4_a_air  \\\n",
       "0                                 12.023554   \n",
       "1                                 12.058140   \n",
       "2                                 11.962366   \n",
       "3                                 12.033091   \n",
       "4                                 12.025367   \n",
       "\n",
       "   secondary_cleaner.state.floatbank4_a_level  \\\n",
       "0                                 -497.795834   \n",
       "1                                 -498.695773   \n",
       "2                                 -498.767484   \n",
       "3                                 -498.350935   \n",
       "4                                 -500.786497   \n",
       "\n",
       "   secondary_cleaner.state.floatbank4_b_air  \\\n",
       "0                                  8.016656   \n",
       "1                                  8.130979   \n",
       "2                                  8.096893   \n",
       "3                                  8.074946   \n",
       "4                                  8.054678   \n",
       "\n",
       "   secondary_cleaner.state.floatbank4_b_level  \\\n",
       "0                                 -501.289139   \n",
       "1                                 -499.634209   \n",
       "2                                 -500.827423   \n",
       "3                                 -499.474407   \n",
       "4                                 -500.397500   \n",
       "\n",
       "   secondary_cleaner.state.floatbank5_a_air  \\\n",
       "0                                  7.946562   \n",
       "1                                  7.958270   \n",
       "2                                  8.071056   \n",
       "3                                  7.897085   \n",
       "4                                  8.107890   \n",
       "\n",
       "   secondary_cleaner.state.floatbank5_a_level  \\\n",
       "0                                 -432.317850   \n",
       "1                                 -525.839648   \n",
       "2                                 -500.801673   \n",
       "3                                 -500.868509   \n",
       "4                                 -509.526725   \n",
       "\n",
       "   secondary_cleaner.state.floatbank5_b_air  \\\n",
       "0                                  4.872511   \n",
       "1                                  4.878850   \n",
       "2                                  4.905125   \n",
       "3                                  4.931400   \n",
       "4                                  4.957674   \n",
       "\n",
       "   secondary_cleaner.state.floatbank5_b_level  \\\n",
       "0                                 -500.037437   \n",
       "1                                 -500.162375   \n",
       "2                                 -499.828510   \n",
       "3                                 -499.963623   \n",
       "4                                 -500.360026   \n",
       "\n",
       "   secondary_cleaner.state.floatbank6_a_air  \\\n",
       "0                                 26.705889   \n",
       "1                                 25.019940   \n",
       "2                                 24.994862   \n",
       "3                                 24.948919   \n",
       "4                                 25.003331   \n",
       "\n",
       "   secondary_cleaner.state.floatbank6_a_level  \n",
       "0                                 -499.709414  \n",
       "1                                 -499.819438  \n",
       "2                                 -500.622559  \n",
       "3                                 -498.709987  \n",
       "4                                 -500.856333  \n",
       "\n",
       "[5 rows x 53 columns]"
      ]
     },
     "metadata": {},
     "output_type": "display_data"
    },
    {
     "name": "stdout",
     "output_type": "stream",
     "text": [
      "\n",
      "<class 'pandas.core.frame.DataFrame'>\n",
      "RangeIndex: 5290 entries, 0 to 5289\n",
      "Data columns (total 53 columns):\n",
      " #   Column                                      Non-Null Count  Dtype  \n",
      "---  ------                                      --------------  -----  \n",
      " 0   date                                        5290 non-null   object \n",
      " 1   primary_cleaner.input.sulfate               5286 non-null   float64\n",
      " 2   primary_cleaner.input.depressant            5285 non-null   float64\n",
      " 3   primary_cleaner.input.feed_size             5290 non-null   float64\n",
      " 4   primary_cleaner.input.xanthate              5286 non-null   float64\n",
      " 5   primary_cleaner.state.floatbank8_a_air      5290 non-null   float64\n",
      " 6   primary_cleaner.state.floatbank8_a_level    5290 non-null   float64\n",
      " 7   primary_cleaner.state.floatbank8_b_air      5290 non-null   float64\n",
      " 8   primary_cleaner.state.floatbank8_b_level    5290 non-null   float64\n",
      " 9   primary_cleaner.state.floatbank8_c_air      5290 non-null   float64\n",
      " 10  primary_cleaner.state.floatbank8_c_level    5290 non-null   float64\n",
      " 11  primary_cleaner.state.floatbank8_d_air      5290 non-null   float64\n",
      " 12  primary_cleaner.state.floatbank8_d_level    5290 non-null   float64\n",
      " 13  rougher.input.feed_ag                       5290 non-null   float64\n",
      " 14  rougher.input.feed_pb                       5290 non-null   float64\n",
      " 15  rougher.input.feed_rate                     5287 non-null   float64\n",
      " 16  rougher.input.feed_size                     5289 non-null   float64\n",
      " 17  rougher.input.feed_sol                      5269 non-null   float64\n",
      " 18  rougher.input.feed_au                       5290 non-null   float64\n",
      " 19  rougher.input.floatbank10_sulfate           5285 non-null   float64\n",
      " 20  rougher.input.floatbank10_xanthate          5290 non-null   float64\n",
      " 21  rougher.input.floatbank11_sulfate           5282 non-null   float64\n",
      " 22  rougher.input.floatbank11_xanthate          5265 non-null   float64\n",
      " 23  rougher.state.floatbank10_a_air             5290 non-null   float64\n",
      " 24  rougher.state.floatbank10_a_level           5290 non-null   float64\n",
      " 25  rougher.state.floatbank10_b_air             5290 non-null   float64\n",
      " 26  rougher.state.floatbank10_b_level           5290 non-null   float64\n",
      " 27  rougher.state.floatbank10_c_air             5290 non-null   float64\n",
      " 28  rougher.state.floatbank10_c_level           5290 non-null   float64\n",
      " 29  rougher.state.floatbank10_d_air             5290 non-null   float64\n",
      " 30  rougher.state.floatbank10_d_level           5290 non-null   float64\n",
      " 31  rougher.state.floatbank10_e_air             5290 non-null   float64\n",
      " 32  rougher.state.floatbank10_e_level           5290 non-null   float64\n",
      " 33  rougher.state.floatbank10_f_air             5290 non-null   float64\n",
      " 34  rougher.state.floatbank10_f_level           5290 non-null   float64\n",
      " 35  secondary_cleaner.state.floatbank2_a_air    5287 non-null   float64\n",
      " 36  secondary_cleaner.state.floatbank2_a_level  5290 non-null   float64\n",
      " 37  secondary_cleaner.state.floatbank2_b_air    5288 non-null   float64\n",
      " 38  secondary_cleaner.state.floatbank2_b_level  5290 non-null   float64\n",
      " 39  secondary_cleaner.state.floatbank3_a_air    5281 non-null   float64\n",
      " 40  secondary_cleaner.state.floatbank3_a_level  5290 non-null   float64\n",
      " 41  secondary_cleaner.state.floatbank3_b_air    5290 non-null   float64\n",
      " 42  secondary_cleaner.state.floatbank3_b_level  5290 non-null   float64\n",
      " 43  secondary_cleaner.state.floatbank4_a_air    5290 non-null   float64\n",
      " 44  secondary_cleaner.state.floatbank4_a_level  5290 non-null   float64\n",
      " 45  secondary_cleaner.state.floatbank4_b_air    5290 non-null   float64\n",
      " 46  secondary_cleaner.state.floatbank4_b_level  5290 non-null   float64\n",
      " 47  secondary_cleaner.state.floatbank5_a_air    5290 non-null   float64\n",
      " 48  secondary_cleaner.state.floatbank5_a_level  5290 non-null   float64\n",
      " 49  secondary_cleaner.state.floatbank5_b_air    5290 non-null   float64\n",
      " 50  secondary_cleaner.state.floatbank5_b_level  5290 non-null   float64\n",
      " 51  secondary_cleaner.state.floatbank6_a_air    5290 non-null   float64\n",
      " 52  secondary_cleaner.state.floatbank6_a_level  5290 non-null   float64\n",
      "dtypes: float64(52), object(1)\n",
      "memory usage: 2.1+ MB\n"
     ]
    }
   ],
   "source": [
    "display(test.head())\n",
    "print()\n",
    "test.info()"
   ]
  },
  {
   "cell_type": "code",
   "execution_count": 5,
   "metadata": {},
   "outputs": [
    {
     "data": {
      "text/html": [
       "<div>\n",
       "<style scoped>\n",
       "    .dataframe tbody tr th:only-of-type {\n",
       "        vertical-align: middle;\n",
       "    }\n",
       "\n",
       "    .dataframe tbody tr th {\n",
       "        vertical-align: top;\n",
       "    }\n",
       "\n",
       "    .dataframe thead th {\n",
       "        text-align: right;\n",
       "    }\n",
       "</style>\n",
       "<table border=\"1\" class=\"dataframe\">\n",
       "  <thead>\n",
       "    <tr style=\"text-align: right;\">\n",
       "      <th></th>\n",
       "      <th>date</th>\n",
       "      <th>final.output.concentrate_ag</th>\n",
       "      <th>final.output.concentrate_pb</th>\n",
       "      <th>final.output.concentrate_sol</th>\n",
       "      <th>final.output.concentrate_au</th>\n",
       "      <th>final.output.recovery</th>\n",
       "      <th>final.output.tail_ag</th>\n",
       "      <th>final.output.tail_pb</th>\n",
       "      <th>final.output.tail_sol</th>\n",
       "      <th>final.output.tail_au</th>\n",
       "      <th>...</th>\n",
       "      <th>secondary_cleaner.state.floatbank4_a_air</th>\n",
       "      <th>secondary_cleaner.state.floatbank4_a_level</th>\n",
       "      <th>secondary_cleaner.state.floatbank4_b_air</th>\n",
       "      <th>secondary_cleaner.state.floatbank4_b_level</th>\n",
       "      <th>secondary_cleaner.state.floatbank5_a_air</th>\n",
       "      <th>secondary_cleaner.state.floatbank5_a_level</th>\n",
       "      <th>secondary_cleaner.state.floatbank5_b_air</th>\n",
       "      <th>secondary_cleaner.state.floatbank5_b_level</th>\n",
       "      <th>secondary_cleaner.state.floatbank6_a_air</th>\n",
       "      <th>secondary_cleaner.state.floatbank6_a_level</th>\n",
       "    </tr>\n",
       "  </thead>\n",
       "  <tbody>\n",
       "    <tr>\n",
       "      <th>0</th>\n",
       "      <td>2016-01-15 00:00:00</td>\n",
       "      <td>6.055403</td>\n",
       "      <td>9.889648</td>\n",
       "      <td>5.507324</td>\n",
       "      <td>42.192020</td>\n",
       "      <td>70.541216</td>\n",
       "      <td>10.411962</td>\n",
       "      <td>0.895447</td>\n",
       "      <td>16.904297</td>\n",
       "      <td>2.143149</td>\n",
       "      <td>...</td>\n",
       "      <td>14.016835</td>\n",
       "      <td>-502.488007</td>\n",
       "      <td>12.099931</td>\n",
       "      <td>-504.715942</td>\n",
       "      <td>9.925633</td>\n",
       "      <td>-498.310211</td>\n",
       "      <td>8.079666</td>\n",
       "      <td>-500.470978</td>\n",
       "      <td>14.151341</td>\n",
       "      <td>-605.841980</td>\n",
       "    </tr>\n",
       "    <tr>\n",
       "      <th>1</th>\n",
       "      <td>2016-01-15 01:00:00</td>\n",
       "      <td>6.029369</td>\n",
       "      <td>9.968944</td>\n",
       "      <td>5.257781</td>\n",
       "      <td>42.701629</td>\n",
       "      <td>69.266198</td>\n",
       "      <td>10.462676</td>\n",
       "      <td>0.927452</td>\n",
       "      <td>16.634514</td>\n",
       "      <td>2.224930</td>\n",
       "      <td>...</td>\n",
       "      <td>13.992281</td>\n",
       "      <td>-505.503262</td>\n",
       "      <td>11.950531</td>\n",
       "      <td>-501.331529</td>\n",
       "      <td>10.039245</td>\n",
       "      <td>-500.169983</td>\n",
       "      <td>7.984757</td>\n",
       "      <td>-500.582168</td>\n",
       "      <td>13.998353</td>\n",
       "      <td>-599.787184</td>\n",
       "    </tr>\n",
       "    <tr>\n",
       "      <th>2</th>\n",
       "      <td>2016-01-15 02:00:00</td>\n",
       "      <td>6.055926</td>\n",
       "      <td>10.213995</td>\n",
       "      <td>5.383759</td>\n",
       "      <td>42.657501</td>\n",
       "      <td>68.116445</td>\n",
       "      <td>10.507046</td>\n",
       "      <td>0.953716</td>\n",
       "      <td>16.208849</td>\n",
       "      <td>2.257889</td>\n",
       "      <td>...</td>\n",
       "      <td>14.015015</td>\n",
       "      <td>-502.520901</td>\n",
       "      <td>11.912783</td>\n",
       "      <td>-501.133383</td>\n",
       "      <td>10.070913</td>\n",
       "      <td>-500.129135</td>\n",
       "      <td>8.013877</td>\n",
       "      <td>-500.517572</td>\n",
       "      <td>14.028663</td>\n",
       "      <td>-601.427363</td>\n",
       "    </tr>\n",
       "    <tr>\n",
       "      <th>3</th>\n",
       "      <td>2016-01-15 03:00:00</td>\n",
       "      <td>6.047977</td>\n",
       "      <td>9.977019</td>\n",
       "      <td>4.858634</td>\n",
       "      <td>42.689819</td>\n",
       "      <td>68.347543</td>\n",
       "      <td>10.422762</td>\n",
       "      <td>0.883763</td>\n",
       "      <td>16.532835</td>\n",
       "      <td>2.146849</td>\n",
       "      <td>...</td>\n",
       "      <td>14.036510</td>\n",
       "      <td>-500.857308</td>\n",
       "      <td>11.999550</td>\n",
       "      <td>-501.193686</td>\n",
       "      <td>9.970366</td>\n",
       "      <td>-499.201640</td>\n",
       "      <td>7.977324</td>\n",
       "      <td>-500.255908</td>\n",
       "      <td>14.005551</td>\n",
       "      <td>-599.996129</td>\n",
       "    </tr>\n",
       "    <tr>\n",
       "      <th>4</th>\n",
       "      <td>2016-01-15 04:00:00</td>\n",
       "      <td>6.148599</td>\n",
       "      <td>10.142511</td>\n",
       "      <td>4.939416</td>\n",
       "      <td>42.774141</td>\n",
       "      <td>66.927016</td>\n",
       "      <td>10.360302</td>\n",
       "      <td>0.792826</td>\n",
       "      <td>16.525686</td>\n",
       "      <td>2.055292</td>\n",
       "      <td>...</td>\n",
       "      <td>14.027298</td>\n",
       "      <td>-499.838632</td>\n",
       "      <td>11.953070</td>\n",
       "      <td>-501.053894</td>\n",
       "      <td>9.925709</td>\n",
       "      <td>-501.686727</td>\n",
       "      <td>7.894242</td>\n",
       "      <td>-500.356035</td>\n",
       "      <td>13.996647</td>\n",
       "      <td>-601.496691</td>\n",
       "    </tr>\n",
       "  </tbody>\n",
       "</table>\n",
       "<p>5 rows × 87 columns</p>\n",
       "</div>"
      ],
      "text/plain": [
       "                  date  final.output.concentrate_ag  \\\n",
       "0  2016-01-15 00:00:00                     6.055403   \n",
       "1  2016-01-15 01:00:00                     6.029369   \n",
       "2  2016-01-15 02:00:00                     6.055926   \n",
       "3  2016-01-15 03:00:00                     6.047977   \n",
       "4  2016-01-15 04:00:00                     6.148599   \n",
       "\n",
       "   final.output.concentrate_pb  final.output.concentrate_sol  \\\n",
       "0                     9.889648                      5.507324   \n",
       "1                     9.968944                      5.257781   \n",
       "2                    10.213995                      5.383759   \n",
       "3                     9.977019                      4.858634   \n",
       "4                    10.142511                      4.939416   \n",
       "\n",
       "   final.output.concentrate_au  final.output.recovery  final.output.tail_ag  \\\n",
       "0                    42.192020              70.541216             10.411962   \n",
       "1                    42.701629              69.266198             10.462676   \n",
       "2                    42.657501              68.116445             10.507046   \n",
       "3                    42.689819              68.347543             10.422762   \n",
       "4                    42.774141              66.927016             10.360302   \n",
       "\n",
       "   final.output.tail_pb  final.output.tail_sol  final.output.tail_au  ...  \\\n",
       "0              0.895447              16.904297              2.143149  ...   \n",
       "1              0.927452              16.634514              2.224930  ...   \n",
       "2              0.953716              16.208849              2.257889  ...   \n",
       "3              0.883763              16.532835              2.146849  ...   \n",
       "4              0.792826              16.525686              2.055292  ...   \n",
       "\n",
       "   secondary_cleaner.state.floatbank4_a_air  \\\n",
       "0                                 14.016835   \n",
       "1                                 13.992281   \n",
       "2                                 14.015015   \n",
       "3                                 14.036510   \n",
       "4                                 14.027298   \n",
       "\n",
       "   secondary_cleaner.state.floatbank4_a_level  \\\n",
       "0                                 -502.488007   \n",
       "1                                 -505.503262   \n",
       "2                                 -502.520901   \n",
       "3                                 -500.857308   \n",
       "4                                 -499.838632   \n",
       "\n",
       "   secondary_cleaner.state.floatbank4_b_air  \\\n",
       "0                                 12.099931   \n",
       "1                                 11.950531   \n",
       "2                                 11.912783   \n",
       "3                                 11.999550   \n",
       "4                                 11.953070   \n",
       "\n",
       "   secondary_cleaner.state.floatbank4_b_level  \\\n",
       "0                                 -504.715942   \n",
       "1                                 -501.331529   \n",
       "2                                 -501.133383   \n",
       "3                                 -501.193686   \n",
       "4                                 -501.053894   \n",
       "\n",
       "   secondary_cleaner.state.floatbank5_a_air  \\\n",
       "0                                  9.925633   \n",
       "1                                 10.039245   \n",
       "2                                 10.070913   \n",
       "3                                  9.970366   \n",
       "4                                  9.925709   \n",
       "\n",
       "   secondary_cleaner.state.floatbank5_a_level  \\\n",
       "0                                 -498.310211   \n",
       "1                                 -500.169983   \n",
       "2                                 -500.129135   \n",
       "3                                 -499.201640   \n",
       "4                                 -501.686727   \n",
       "\n",
       "   secondary_cleaner.state.floatbank5_b_air  \\\n",
       "0                                  8.079666   \n",
       "1                                  7.984757   \n",
       "2                                  8.013877   \n",
       "3                                  7.977324   \n",
       "4                                  7.894242   \n",
       "\n",
       "   secondary_cleaner.state.floatbank5_b_level  \\\n",
       "0                                 -500.470978   \n",
       "1                                 -500.582168   \n",
       "2                                 -500.517572   \n",
       "3                                 -500.255908   \n",
       "4                                 -500.356035   \n",
       "\n",
       "   secondary_cleaner.state.floatbank6_a_air  \\\n",
       "0                                 14.151341   \n",
       "1                                 13.998353   \n",
       "2                                 14.028663   \n",
       "3                                 14.005551   \n",
       "4                                 13.996647   \n",
       "\n",
       "   secondary_cleaner.state.floatbank6_a_level  \n",
       "0                                 -605.841980  \n",
       "1                                 -599.787184  \n",
       "2                                 -601.427363  \n",
       "3                                 -599.996129  \n",
       "4                                 -601.496691  \n",
       "\n",
       "[5 rows x 87 columns]"
      ]
     },
     "metadata": {},
     "output_type": "display_data"
    },
    {
     "name": "stdout",
     "output_type": "stream",
     "text": [
      "\n",
      "<class 'pandas.core.frame.DataFrame'>\n",
      "RangeIndex: 19439 entries, 0 to 19438\n",
      "Data columns (total 87 columns):\n",
      " #   Column                                              Non-Null Count  Dtype  \n",
      "---  ------                                              --------------  -----  \n",
      " 0   date                                                19439 non-null  object \n",
      " 1   final.output.concentrate_ag                         19438 non-null  float64\n",
      " 2   final.output.concentrate_pb                         19438 non-null  float64\n",
      " 3   final.output.concentrate_sol                        19228 non-null  float64\n",
      " 4   final.output.concentrate_au                         19439 non-null  float64\n",
      " 5   final.output.recovery                               19439 non-null  float64\n",
      " 6   final.output.tail_ag                                19438 non-null  float64\n",
      " 7   final.output.tail_pb                                19338 non-null  float64\n",
      " 8   final.output.tail_sol                               19433 non-null  float64\n",
      " 9   final.output.tail_au                                19439 non-null  float64\n",
      " 10  primary_cleaner.input.sulfate                       19415 non-null  float64\n",
      " 11  primary_cleaner.input.depressant                    19402 non-null  float64\n",
      " 12  primary_cleaner.input.feed_size                     19439 non-null  float64\n",
      " 13  primary_cleaner.input.xanthate                      19335 non-null  float64\n",
      " 14  primary_cleaner.output.concentrate_ag               19439 non-null  float64\n",
      " 15  primary_cleaner.output.concentrate_pb               19323 non-null  float64\n",
      " 16  primary_cleaner.output.concentrate_sol              19069 non-null  float64\n",
      " 17  primary_cleaner.output.concentrate_au               19439 non-null  float64\n",
      " 18  primary_cleaner.output.tail_ag                      19435 non-null  float64\n",
      " 19  primary_cleaner.output.tail_pb                      19418 non-null  float64\n",
      " 20  primary_cleaner.output.tail_sol                     19377 non-null  float64\n",
      " 21  primary_cleaner.output.tail_au                      19439 non-null  float64\n",
      " 22  primary_cleaner.state.floatbank8_a_air              19435 non-null  float64\n",
      " 23  primary_cleaner.state.floatbank8_a_level            19438 non-null  float64\n",
      " 24  primary_cleaner.state.floatbank8_b_air              19435 non-null  float64\n",
      " 25  primary_cleaner.state.floatbank8_b_level            19438 non-null  float64\n",
      " 26  primary_cleaner.state.floatbank8_c_air              19437 non-null  float64\n",
      " 27  primary_cleaner.state.floatbank8_c_level            19438 non-null  float64\n",
      " 28  primary_cleaner.state.floatbank8_d_air              19436 non-null  float64\n",
      " 29  primary_cleaner.state.floatbank8_d_level            19438 non-null  float64\n",
      " 30  rougher.calculation.sulfate_to_au_concentrate       19437 non-null  float64\n",
      " 31  rougher.calculation.floatbank10_sulfate_to_au_feed  19437 non-null  float64\n",
      " 32  rougher.calculation.floatbank11_sulfate_to_au_feed  19437 non-null  float64\n",
      " 33  rougher.calculation.au_pb_ratio                     19439 non-null  float64\n",
      " 34  rougher.input.feed_ag                               19439 non-null  float64\n",
      " 35  rougher.input.feed_pb                               19339 non-null  float64\n",
      " 36  rougher.input.feed_rate                             19428 non-null  float64\n",
      " 37  rougher.input.feed_size                             19294 non-null  float64\n",
      " 38  rougher.input.feed_sol                              19340 non-null  float64\n",
      " 39  rougher.input.feed_au                               19439 non-null  float64\n",
      " 40  rougher.input.floatbank10_sulfate                   19405 non-null  float64\n",
      " 41  rougher.input.floatbank10_xanthate                  19431 non-null  float64\n",
      " 42  rougher.input.floatbank11_sulfate                   19395 non-null  float64\n",
      " 43  rougher.input.floatbank11_xanthate                  18986 non-null  float64\n",
      " 44  rougher.output.concentrate_ag                       19439 non-null  float64\n",
      " 45  rougher.output.concentrate_pb                       19439 non-null  float64\n",
      " 46  rougher.output.concentrate_sol                      19416 non-null  float64\n",
      " 47  rougher.output.concentrate_au                       19439 non-null  float64\n",
      " 48  rougher.output.recovery                             19439 non-null  float64\n",
      " 49  rougher.output.tail_ag                              19438 non-null  float64\n",
      " 50  rougher.output.tail_pb                              19439 non-null  float64\n",
      " 51  rougher.output.tail_sol                             19439 non-null  float64\n",
      " 52  rougher.output.tail_au                              19439 non-null  float64\n",
      " 53  rougher.state.floatbank10_a_air                     19438 non-null  float64\n",
      " 54  rougher.state.floatbank10_a_level                   19438 non-null  float64\n",
      " 55  rougher.state.floatbank10_b_air                     19438 non-null  float64\n",
      " 56  rougher.state.floatbank10_b_level                   19438 non-null  float64\n",
      " 57  rougher.state.floatbank10_c_air                     19438 non-null  float64\n",
      " 58  rougher.state.floatbank10_c_level                   19438 non-null  float64\n",
      " 59  rougher.state.floatbank10_d_air                     19439 non-null  float64\n",
      " 60  rougher.state.floatbank10_d_level                   19439 non-null  float64\n",
      " 61  rougher.state.floatbank10_e_air                     19003 non-null  float64\n",
      " 62  rougher.state.floatbank10_e_level                   19439 non-null  float64\n",
      " 63  rougher.state.floatbank10_f_air                     19439 non-null  float64\n",
      " 64  rougher.state.floatbank10_f_level                   19439 non-null  float64\n",
      " 65  secondary_cleaner.output.tail_ag                    19437 non-null  float64\n",
      " 66  secondary_cleaner.output.tail_pb                    19427 non-null  float64\n",
      " 67  secondary_cleaner.output.tail_sol                   17691 non-null  float64\n",
      " 68  secondary_cleaner.output.tail_au                    19439 non-null  float64\n",
      " 69  secondary_cleaner.state.floatbank2_a_air            19219 non-null  float64\n",
      " 70  secondary_cleaner.state.floatbank2_a_level          19438 non-null  float64\n",
      " 71  secondary_cleaner.state.floatbank2_b_air            19416 non-null  float64\n",
      " 72  secondary_cleaner.state.floatbank2_b_level          19438 non-null  float64\n",
      " 73  secondary_cleaner.state.floatbank3_a_air            19426 non-null  float64\n",
      " 74  secondary_cleaner.state.floatbank3_a_level          19438 non-null  float64\n",
      " 75  secondary_cleaner.state.floatbank3_b_air            19438 non-null  float64\n",
      " 76  secondary_cleaner.state.floatbank3_b_level          19438 non-null  float64\n",
      " 77  secondary_cleaner.state.floatbank4_a_air            19433 non-null  float64\n",
      " 78  secondary_cleaner.state.floatbank4_a_level          19438 non-null  float64\n",
      " 79  secondary_cleaner.state.floatbank4_b_air            19438 non-null  float64\n",
      " 80  secondary_cleaner.state.floatbank4_b_level          19438 non-null  float64\n",
      " 81  secondary_cleaner.state.floatbank5_a_air            19438 non-null  float64\n",
      " 82  secondary_cleaner.state.floatbank5_a_level          19438 non-null  float64\n",
      " 83  secondary_cleaner.state.floatbank5_b_air            19438 non-null  float64\n",
      " 84  secondary_cleaner.state.floatbank5_b_level          19438 non-null  float64\n",
      " 85  secondary_cleaner.state.floatbank6_a_air            19437 non-null  float64\n",
      " 86  secondary_cleaner.state.floatbank6_a_level          19438 non-null  float64\n",
      "dtypes: float64(86), object(1)\n",
      "memory usage: 12.9+ MB\n"
     ]
    }
   ],
   "source": [
    "display(full.head())\n",
    "print()\n",
    "full.info()"
   ]
  },
  {
   "cell_type": "code",
   "execution_count": 6,
   "metadata": {},
   "outputs": [
    {
     "name": "stdout",
     "output_type": "stream",
     "text": [
      "Тестовая выборка составляет 27.21% от исходных данных\n"
     ]
    }
   ],
   "source": [
    "print('Тестовая выборка составляет {0:.2%} от исходных данных'.format(len(test)/len(full)))"
   ]
  },
  {
   "cell_type": "markdown",
   "metadata": {},
   "source": [
    "### Категории признаков"
   ]
  },
  {
   "cell_type": "markdown",
   "metadata": {},
   "source": [
    "Всего в таблице `full` (полные данные) 87 признаков, включая дату. Для удобства дальнейшей работы создадим таблицу, где названия признаков сгруппированы по этапу технологического процесса и типу параметра. Сохраним таблицу в переменной `column_table`."
   ]
  },
  {
   "cell_type": "code",
   "execution_count": 7,
   "metadata": {},
   "outputs": [
    {
     "data": {
      "text/html": [
       "<div>\n",
       "<style scoped>\n",
       "    .dataframe tbody tr th:only-of-type {\n",
       "        vertical-align: middle;\n",
       "    }\n",
       "\n",
       "    .dataframe tbody tr th {\n",
       "        vertical-align: top;\n",
       "    }\n",
       "\n",
       "    .dataframe thead th {\n",
       "        text-align: right;\n",
       "    }\n",
       "</style>\n",
       "<table border=\"1\" class=\"dataframe\">\n",
       "  <thead>\n",
       "    <tr style=\"text-align: right;\">\n",
       "      <th></th>\n",
       "      <th>сырьё флотации</th>\n",
       "      <th>параметры флотации</th>\n",
       "      <th>продукт  флотации</th>\n",
       "      <th>расчетные характеристики  флотации</th>\n",
       "      <th>сырьё первичной очистки</th>\n",
       "      <th>параметры первичной очистки</th>\n",
       "      <th>продукт первичной очистки</th>\n",
       "      <th>параметры вторичной очистки</th>\n",
       "      <th>продукт вторичной очистки</th>\n",
       "      <th>финальный продукт</th>\n",
       "    </tr>\n",
       "  </thead>\n",
       "  <tbody>\n",
       "    <tr>\n",
       "      <th>0</th>\n",
       "      <td>rougher.input.feed_ag</td>\n",
       "      <td>rougher.state.floatbank10_a_air</td>\n",
       "      <td>rougher.output.concentrate_ag</td>\n",
       "      <td>rougher.calculation.sulfate_to_au_concentrate</td>\n",
       "      <td>primary_cleaner.input.sulfate</td>\n",
       "      <td>primary_cleaner.state.floatbank8_a_air</td>\n",
       "      <td>primary_cleaner.output.concentrate_ag</td>\n",
       "      <td>secondary_cleaner.state.floatbank2_a_air</td>\n",
       "      <td>secondary_cleaner.output.tail_ag</td>\n",
       "      <td>final.output.concentrate_ag</td>\n",
       "    </tr>\n",
       "    <tr>\n",
       "      <th>1</th>\n",
       "      <td>rougher.input.feed_pb</td>\n",
       "      <td>rougher.state.floatbank10_a_level</td>\n",
       "      <td>rougher.output.concentrate_pb</td>\n",
       "      <td>rougher.calculation.floatbank10_sulfate_to_au_...</td>\n",
       "      <td>primary_cleaner.input.depressant</td>\n",
       "      <td>primary_cleaner.state.floatbank8_a_level</td>\n",
       "      <td>primary_cleaner.output.concentrate_pb</td>\n",
       "      <td>secondary_cleaner.state.floatbank2_a_level</td>\n",
       "      <td>secondary_cleaner.output.tail_pb</td>\n",
       "      <td>final.output.concentrate_pb</td>\n",
       "    </tr>\n",
       "    <tr>\n",
       "      <th>2</th>\n",
       "      <td>rougher.input.feed_rate</td>\n",
       "      <td>rougher.state.floatbank10_b_air</td>\n",
       "      <td>rougher.output.concentrate_sol</td>\n",
       "      <td>rougher.calculation.floatbank11_sulfate_to_au_...</td>\n",
       "      <td>primary_cleaner.input.feed_size</td>\n",
       "      <td>primary_cleaner.state.floatbank8_b_air</td>\n",
       "      <td>primary_cleaner.output.concentrate_sol</td>\n",
       "      <td>secondary_cleaner.state.floatbank2_b_air</td>\n",
       "      <td>secondary_cleaner.output.tail_sol</td>\n",
       "      <td>final.output.concentrate_sol</td>\n",
       "    </tr>\n",
       "    <tr>\n",
       "      <th>3</th>\n",
       "      <td>rougher.input.feed_size</td>\n",
       "      <td>rougher.state.floatbank10_b_level</td>\n",
       "      <td>rougher.output.concentrate_au</td>\n",
       "      <td>rougher.calculation.au_pb_ratio</td>\n",
       "      <td>primary_cleaner.input.xanthate</td>\n",
       "      <td>primary_cleaner.state.floatbank8_b_level</td>\n",
       "      <td>primary_cleaner.output.concentrate_au</td>\n",
       "      <td>secondary_cleaner.state.floatbank2_b_level</td>\n",
       "      <td>secondary_cleaner.output.tail_au</td>\n",
       "      <td>final.output.concentrate_au</td>\n",
       "    </tr>\n",
       "    <tr>\n",
       "      <th>4</th>\n",
       "      <td>rougher.input.feed_sol</td>\n",
       "      <td>rougher.state.floatbank10_c_air</td>\n",
       "      <td>rougher.output.recovery</td>\n",
       "      <td></td>\n",
       "      <td></td>\n",
       "      <td>primary_cleaner.state.floatbank8_c_air</td>\n",
       "      <td>primary_cleaner.output.tail_ag</td>\n",
       "      <td>secondary_cleaner.state.floatbank3_a_air</td>\n",
       "      <td></td>\n",
       "      <td>final.output.recovery</td>\n",
       "    </tr>\n",
       "    <tr>\n",
       "      <th>5</th>\n",
       "      <td>rougher.input.feed_au</td>\n",
       "      <td>rougher.state.floatbank10_c_level</td>\n",
       "      <td>rougher.output.tail_ag</td>\n",
       "      <td></td>\n",
       "      <td></td>\n",
       "      <td>primary_cleaner.state.floatbank8_c_level</td>\n",
       "      <td>primary_cleaner.output.tail_pb</td>\n",
       "      <td>secondary_cleaner.state.floatbank3_a_level</td>\n",
       "      <td></td>\n",
       "      <td>final.output.tail_ag</td>\n",
       "    </tr>\n",
       "    <tr>\n",
       "      <th>6</th>\n",
       "      <td>rougher.input.floatbank10_sulfate</td>\n",
       "      <td>rougher.state.floatbank10_d_air</td>\n",
       "      <td>rougher.output.tail_pb</td>\n",
       "      <td></td>\n",
       "      <td></td>\n",
       "      <td>primary_cleaner.state.floatbank8_d_air</td>\n",
       "      <td>primary_cleaner.output.tail_sol</td>\n",
       "      <td>secondary_cleaner.state.floatbank3_b_air</td>\n",
       "      <td></td>\n",
       "      <td>final.output.tail_pb</td>\n",
       "    </tr>\n",
       "    <tr>\n",
       "      <th>7</th>\n",
       "      <td>rougher.input.floatbank10_xanthate</td>\n",
       "      <td>rougher.state.floatbank10_d_level</td>\n",
       "      <td>rougher.output.tail_sol</td>\n",
       "      <td></td>\n",
       "      <td></td>\n",
       "      <td>primary_cleaner.state.floatbank8_d_level</td>\n",
       "      <td>primary_cleaner.output.tail_au</td>\n",
       "      <td>secondary_cleaner.state.floatbank3_b_level</td>\n",
       "      <td></td>\n",
       "      <td>final.output.tail_sol</td>\n",
       "    </tr>\n",
       "    <tr>\n",
       "      <th>8</th>\n",
       "      <td>rougher.input.floatbank11_sulfate</td>\n",
       "      <td>rougher.state.floatbank10_e_air</td>\n",
       "      <td>rougher.output.tail_au</td>\n",
       "      <td></td>\n",
       "      <td></td>\n",
       "      <td></td>\n",
       "      <td></td>\n",
       "      <td>secondary_cleaner.state.floatbank4_a_air</td>\n",
       "      <td></td>\n",
       "      <td>final.output.tail_au</td>\n",
       "    </tr>\n",
       "    <tr>\n",
       "      <th>9</th>\n",
       "      <td>rougher.input.floatbank11_xanthate</td>\n",
       "      <td>rougher.state.floatbank10_e_level</td>\n",
       "      <td></td>\n",
       "      <td></td>\n",
       "      <td></td>\n",
       "      <td></td>\n",
       "      <td></td>\n",
       "      <td>secondary_cleaner.state.floatbank4_a_level</td>\n",
       "      <td></td>\n",
       "      <td></td>\n",
       "    </tr>\n",
       "    <tr>\n",
       "      <th>10</th>\n",
       "      <td></td>\n",
       "      <td>rougher.state.floatbank10_f_air</td>\n",
       "      <td></td>\n",
       "      <td></td>\n",
       "      <td></td>\n",
       "      <td></td>\n",
       "      <td></td>\n",
       "      <td>secondary_cleaner.state.floatbank4_b_air</td>\n",
       "      <td></td>\n",
       "      <td></td>\n",
       "    </tr>\n",
       "    <tr>\n",
       "      <th>11</th>\n",
       "      <td></td>\n",
       "      <td>rougher.state.floatbank10_f_level</td>\n",
       "      <td></td>\n",
       "      <td></td>\n",
       "      <td></td>\n",
       "      <td></td>\n",
       "      <td></td>\n",
       "      <td>secondary_cleaner.state.floatbank4_b_level</td>\n",
       "      <td></td>\n",
       "      <td></td>\n",
       "    </tr>\n",
       "    <tr>\n",
       "      <th>12</th>\n",
       "      <td></td>\n",
       "      <td></td>\n",
       "      <td></td>\n",
       "      <td></td>\n",
       "      <td></td>\n",
       "      <td></td>\n",
       "      <td></td>\n",
       "      <td>secondary_cleaner.state.floatbank5_a_air</td>\n",
       "      <td></td>\n",
       "      <td></td>\n",
       "    </tr>\n",
       "    <tr>\n",
       "      <th>13</th>\n",
       "      <td></td>\n",
       "      <td></td>\n",
       "      <td></td>\n",
       "      <td></td>\n",
       "      <td></td>\n",
       "      <td></td>\n",
       "      <td></td>\n",
       "      <td>secondary_cleaner.state.floatbank5_a_level</td>\n",
       "      <td></td>\n",
       "      <td></td>\n",
       "    </tr>\n",
       "    <tr>\n",
       "      <th>14</th>\n",
       "      <td></td>\n",
       "      <td></td>\n",
       "      <td></td>\n",
       "      <td></td>\n",
       "      <td></td>\n",
       "      <td></td>\n",
       "      <td></td>\n",
       "      <td>secondary_cleaner.state.floatbank5_b_air</td>\n",
       "      <td></td>\n",
       "      <td></td>\n",
       "    </tr>\n",
       "    <tr>\n",
       "      <th>15</th>\n",
       "      <td></td>\n",
       "      <td></td>\n",
       "      <td></td>\n",
       "      <td></td>\n",
       "      <td></td>\n",
       "      <td></td>\n",
       "      <td></td>\n",
       "      <td>secondary_cleaner.state.floatbank5_b_level</td>\n",
       "      <td></td>\n",
       "      <td></td>\n",
       "    </tr>\n",
       "    <tr>\n",
       "      <th>16</th>\n",
       "      <td></td>\n",
       "      <td></td>\n",
       "      <td></td>\n",
       "      <td></td>\n",
       "      <td></td>\n",
       "      <td></td>\n",
       "      <td></td>\n",
       "      <td>secondary_cleaner.state.floatbank6_a_air</td>\n",
       "      <td></td>\n",
       "      <td></td>\n",
       "    </tr>\n",
       "    <tr>\n",
       "      <th>17</th>\n",
       "      <td></td>\n",
       "      <td></td>\n",
       "      <td></td>\n",
       "      <td></td>\n",
       "      <td></td>\n",
       "      <td></td>\n",
       "      <td></td>\n",
       "      <td>secondary_cleaner.state.floatbank6_a_level</td>\n",
       "      <td></td>\n",
       "      <td></td>\n",
       "    </tr>\n",
       "  </tbody>\n",
       "</table>\n",
       "</div>"
      ],
      "text/plain": [
       "                        сырьё флотации                 параметры флотации  \\\n",
       "0                rougher.input.feed_ag    rougher.state.floatbank10_a_air   \n",
       "1                rougher.input.feed_pb  rougher.state.floatbank10_a_level   \n",
       "2              rougher.input.feed_rate    rougher.state.floatbank10_b_air   \n",
       "3              rougher.input.feed_size  rougher.state.floatbank10_b_level   \n",
       "4               rougher.input.feed_sol    rougher.state.floatbank10_c_air   \n",
       "5                rougher.input.feed_au  rougher.state.floatbank10_c_level   \n",
       "6    rougher.input.floatbank10_sulfate    rougher.state.floatbank10_d_air   \n",
       "7   rougher.input.floatbank10_xanthate  rougher.state.floatbank10_d_level   \n",
       "8    rougher.input.floatbank11_sulfate    rougher.state.floatbank10_e_air   \n",
       "9   rougher.input.floatbank11_xanthate  rougher.state.floatbank10_e_level   \n",
       "10                                        rougher.state.floatbank10_f_air   \n",
       "11                                      rougher.state.floatbank10_f_level   \n",
       "12                                                                          \n",
       "13                                                                          \n",
       "14                                                                          \n",
       "15                                                                          \n",
       "16                                                                          \n",
       "17                                                                          \n",
       "\n",
       "                 продукт  флотации  \\\n",
       "0    rougher.output.concentrate_ag   \n",
       "1    rougher.output.concentrate_pb   \n",
       "2   rougher.output.concentrate_sol   \n",
       "3    rougher.output.concentrate_au   \n",
       "4          rougher.output.recovery   \n",
       "5           rougher.output.tail_ag   \n",
       "6           rougher.output.tail_pb   \n",
       "7          rougher.output.tail_sol   \n",
       "8           rougher.output.tail_au   \n",
       "9                                    \n",
       "10                                   \n",
       "11                                   \n",
       "12                                   \n",
       "13                                   \n",
       "14                                   \n",
       "15                                   \n",
       "16                                   \n",
       "17                                   \n",
       "\n",
       "                   расчетные характеристики  флотации  \\\n",
       "0       rougher.calculation.sulfate_to_au_concentrate   \n",
       "1   rougher.calculation.floatbank10_sulfate_to_au_...   \n",
       "2   rougher.calculation.floatbank11_sulfate_to_au_...   \n",
       "3                     rougher.calculation.au_pb_ratio   \n",
       "4                                                       \n",
       "5                                                       \n",
       "6                                                       \n",
       "7                                                       \n",
       "8                                                       \n",
       "9                                                       \n",
       "10                                                      \n",
       "11                                                      \n",
       "12                                                      \n",
       "13                                                      \n",
       "14                                                      \n",
       "15                                                      \n",
       "16                                                      \n",
       "17                                                      \n",
       "\n",
       "             сырьё первичной очистки  \\\n",
       "0      primary_cleaner.input.sulfate   \n",
       "1   primary_cleaner.input.depressant   \n",
       "2    primary_cleaner.input.feed_size   \n",
       "3     primary_cleaner.input.xanthate   \n",
       "4                                      \n",
       "5                                      \n",
       "6                                      \n",
       "7                                      \n",
       "8                                      \n",
       "9                                      \n",
       "10                                     \n",
       "11                                     \n",
       "12                                     \n",
       "13                                     \n",
       "14                                     \n",
       "15                                     \n",
       "16                                     \n",
       "17                                     \n",
       "\n",
       "                 параметры первичной очистки  \\\n",
       "0     primary_cleaner.state.floatbank8_a_air   \n",
       "1   primary_cleaner.state.floatbank8_a_level   \n",
       "2     primary_cleaner.state.floatbank8_b_air   \n",
       "3   primary_cleaner.state.floatbank8_b_level   \n",
       "4     primary_cleaner.state.floatbank8_c_air   \n",
       "5   primary_cleaner.state.floatbank8_c_level   \n",
       "6     primary_cleaner.state.floatbank8_d_air   \n",
       "7   primary_cleaner.state.floatbank8_d_level   \n",
       "8                                              \n",
       "9                                              \n",
       "10                                             \n",
       "11                                             \n",
       "12                                             \n",
       "13                                             \n",
       "14                                             \n",
       "15                                             \n",
       "16                                             \n",
       "17                                             \n",
       "\n",
       "                 продукт первичной очистки  \\\n",
       "0    primary_cleaner.output.concentrate_ag   \n",
       "1    primary_cleaner.output.concentrate_pb   \n",
       "2   primary_cleaner.output.concentrate_sol   \n",
       "3    primary_cleaner.output.concentrate_au   \n",
       "4           primary_cleaner.output.tail_ag   \n",
       "5           primary_cleaner.output.tail_pb   \n",
       "6          primary_cleaner.output.tail_sol   \n",
       "7           primary_cleaner.output.tail_au   \n",
       "8                                            \n",
       "9                                            \n",
       "10                                           \n",
       "11                                           \n",
       "12                                           \n",
       "13                                           \n",
       "14                                           \n",
       "15                                           \n",
       "16                                           \n",
       "17                                           \n",
       "\n",
       "                   параметры вторичной очистки  \\\n",
       "0     secondary_cleaner.state.floatbank2_a_air   \n",
       "1   secondary_cleaner.state.floatbank2_a_level   \n",
       "2     secondary_cleaner.state.floatbank2_b_air   \n",
       "3   secondary_cleaner.state.floatbank2_b_level   \n",
       "4     secondary_cleaner.state.floatbank3_a_air   \n",
       "5   secondary_cleaner.state.floatbank3_a_level   \n",
       "6     secondary_cleaner.state.floatbank3_b_air   \n",
       "7   secondary_cleaner.state.floatbank3_b_level   \n",
       "8     secondary_cleaner.state.floatbank4_a_air   \n",
       "9   secondary_cleaner.state.floatbank4_a_level   \n",
       "10    secondary_cleaner.state.floatbank4_b_air   \n",
       "11  secondary_cleaner.state.floatbank4_b_level   \n",
       "12    secondary_cleaner.state.floatbank5_a_air   \n",
       "13  secondary_cleaner.state.floatbank5_a_level   \n",
       "14    secondary_cleaner.state.floatbank5_b_air   \n",
       "15  secondary_cleaner.state.floatbank5_b_level   \n",
       "16    secondary_cleaner.state.floatbank6_a_air   \n",
       "17  secondary_cleaner.state.floatbank6_a_level   \n",
       "\n",
       "            продукт вторичной очистки             финальный продукт  \n",
       "0    secondary_cleaner.output.tail_ag   final.output.concentrate_ag  \n",
       "1    secondary_cleaner.output.tail_pb   final.output.concentrate_pb  \n",
       "2   secondary_cleaner.output.tail_sol  final.output.concentrate_sol  \n",
       "3    secondary_cleaner.output.tail_au   final.output.concentrate_au  \n",
       "4                                             final.output.recovery  \n",
       "5                                              final.output.tail_ag  \n",
       "6                                              final.output.tail_pb  \n",
       "7                                             final.output.tail_sol  \n",
       "8                                              final.output.tail_au  \n",
       "9                                                                    \n",
       "10                                                                   \n",
       "11                                                                   \n",
       "12                                                                   \n",
       "13                                                                   \n",
       "14                                                                   \n",
       "15                                                                   \n",
       "16                                                                   \n",
       "17                                                                   "
      ]
     },
     "metadata": {},
     "output_type": "display_data"
    }
   ],
   "source": [
    "column_names = full.columns.to_list()                         # берём названия колонок\n",
    "column_names.pop(0)                                           # убираем date\n",
    "column_names = [name.split('.') for name in column_names]     # разделяем строки по \".\"\n",
    "\n",
    "# создаём dict, где ключи - первые два блока названия признака,\n",
    "# а значения - соответствующие полные названия\n",
    "column_dict = {}\n",
    "for x in column_names:\n",
    "    name = '.'.join(x[:2])                                    # соединяем названия в ключ\n",
    "    if name not in column_dict:                               # если такого ключа ещё нет, создаем ключ и list значений\n",
    "        column_dict[name] = []\n",
    "    column_dict[name].append('.'.join(x[0:]))                 # заполняем значения соединенными названиями признаков                 \n",
    "\n",
    "# создаем новый dict, в котором каждому ключу соответствует Series,\n",
    "# чтобы колонки были одинаковой дины, и из него - DataFrame\n",
    "column_table = pd.DataFrame(\n",
    "    dict(\n",
    "        [(k, pd.Series(v)) for k,v in column_dict.items()]\n",
    "    )\n",
    ")\n",
    "\n",
    "# меняем порядок колонок в соотв. с технологическим процессом\n",
    "column_table = column_table[[\n",
    "    'rougher.input', 'rougher.state', 'rougher.output', 'rougher.calculation', \n",
    "    'primary_cleaner.input', 'primary_cleaner.state', 'primary_cleaner.output',\n",
    "    'secondary_cleaner.state', 'secondary_cleaner.output', 'final.output'\n",
    "]]\n",
    "\n",
    "# переименовываем колонки\n",
    "column_table.columns = [\n",
    "    'сырьё флотации', 'параметры флотации', 'продукт  флотации', 'расчетные характеристики  флотации', \n",
    "    'сырьё первичной очистки', 'параметры первичной очистки', 'продукт первичной очистки',\n",
    "    'параметры вторичной очистки', 'продукт вторичной очистки', 'финальный продукт'\n",
    "]\n",
    "column_table = column_table.fillna('') # заполняем NaN для красоты\n",
    "display(column_table)"
   ]
  },
  {
   "cell_type": "markdown",
   "metadata": {},
   "source": [
    "### Вывод"
   ]
  },
  {
   "cell_type": "markdown",
   "metadata": {},
   "source": [
    "На входе имеем три таблицы с выборками:\n",
    "1. **Обучающая**: 14149 объектов, 87 колонок\n",
    "2. **Тестовая**: 5290 объектов, 53 колонки\n",
    "3. **Исходные данные**: 19439 объектов, 87 колонок\n",
    "\n",
    "Тестовая выборка составляет 27.21% от исходных данных.\n",
    "\n",
    "---\n",
    "\n",
    "Признаки можно разделить на категории:\n",
    "1. Сырьё и характеристики процессов обработки - `input` и `state`.\n",
    "2. Продукты процессов обработки - `output`.\n",
    "3. Расчётные характеристики - `calculation`. Сюда же технически можно отнести и **целевые признаки** - `rougher.output.recovery` и `final.output.recovery`.\n",
    "\n",
    "---\n",
    "\n",
    "* Следует проверить наличие полных дубликатов в данных.\n",
    "* Колонку `date` - дата и время следует преобразовать в тип данных `datetime` и затем использовать как идексы таблиц, таким образом можно будет соотнести объекты в выборкак и в исходных данных.\n",
    "* Во всех трех таблицах есть пропуски, их следует заполнить. \n",
    "* Целевые признаки (`recovery`) рассчитаны из данных, также имеющихся в таблице. Следует проверить правильность рассчетов.\n",
    "* В тестовой выборке отсутствует часть колонок, которые есть в обучающей и в исходных данных. Скорее всего, это колонки, не нужные для обучения моделей. Следует проверить это предположение.\n",
    "* Следует проверить, как именно была взята тестовая выборка, посмотреть распределения признаков, проверить наличие выбросов."
   ]
  },
  {
   "cell_type": "markdown",
   "metadata": {},
   "source": [
    "## Подготовка данных"
   ]
  },
  {
   "cell_type": "markdown",
   "metadata": {},
   "source": [
    "### Преобразование данных"
   ]
  },
  {
   "cell_type": "markdown",
   "metadata": {},
   "source": [
    "Проверим наличие полных дубликатов в данных, воспользовавшись методом `.duplicated()`."
   ]
  },
  {
   "cell_type": "code",
   "execution_count": 8,
   "metadata": {},
   "outputs": [
    {
     "name": "stdout",
     "output_type": "stream",
     "text": [
      "Дубликатов в обучающей выборке: 0 \n",
      "Дубликатов в тестовой выборке: 0 \n",
      "Дубликатов в исходных данных: 0\n"
     ]
    }
   ],
   "source": [
    "print(\n",
    "    'Дубликатов в обучающей выборке:', train.duplicated().sum(), '\\n' +\n",
    "    'Дубликатов в тестовой выборке:', test.duplicated().sum(), '\\n' +\n",
    "    'Дубликатов в исходных данных:', full.duplicated().sum()\n",
    ")"
   ]
  },
  {
   "cell_type": "markdown",
   "metadata": {},
   "source": [
    "Преобразуем тип данных колонки `date` во всех трёх таблицах в тип данных `datetime`, используя `pandas.to_datetime()`."
   ]
  },
  {
   "cell_type": "code",
   "execution_count": 9,
   "metadata": {},
   "outputs": [],
   "source": [
    "train['date'] = pd.to_datetime(train['date'], format='%Y-%m-%dT%H:%M:%S')\n",
    "test['date'] = pd.to_datetime(test['date'], format='%Y-%m-%dT%H:%M:%S')\n",
    "full['date'] = pd.to_datetime(full['date'], format='%Y-%m-%dT%H:%M:%S')"
   ]
  },
  {
   "cell_type": "markdown",
   "metadata": {},
   "source": [
    "Сделаем колонку `date` индексом во всех таблицах, чтобы можно было проводить преобразования между таблицами по индексу (сейчас индексы у одинаковых объектов в выборках и исходных данных разные). Используем `.set_index()`."
   ]
  },
  {
   "cell_type": "code",
   "execution_count": 10,
   "metadata": {},
   "outputs": [],
   "source": [
    "train = train.set_index('date')\n",
    "test = test.set_index('date')\n",
    "full = full.set_index('date')"
   ]
  },
  {
   "cell_type": "markdown",
   "metadata": {},
   "source": [
    "Напишем короткую функцию `check_na`, которая считает количество пропусков во всех табицах, используя `.isna()`."
   ]
  },
  {
   "cell_type": "code",
   "execution_count": 11,
   "metadata": {},
   "outputs": [],
   "source": [
    "def check_na(train, test, full):\n",
    "    print(\n",
    "        'Пропусков в обучающей выборке:', train.isna().sum().sum(), '\\n' +\n",
    "        'Пропусков в тестовой выборке:', test.isna().sum().sum(), '\\n' +\n",
    "        'Пропусков в исходных данных:', full.isna().sum().sum()\n",
    "    )"
   ]
  },
  {
   "cell_type": "code",
   "execution_count": 12,
   "metadata": {},
   "outputs": [
    {
     "name": "stdout",
     "output_type": "stream",
     "text": [
      "Пропусков в обучающей выборке: 4100 \n",
      "Пропусков в тестовой выборке: 90 \n",
      "Пропусков в исходных данных: 4481\n"
     ]
    }
   ],
   "source": [
    "check_na(train, test, full)"
   ]
  },
  {
   "cell_type": "markdown",
   "metadata": {},
   "source": [
    "Из описания данных нам известно, что соседние по времени параметры часто похожи. Таким образом, мы можем заполнить пропуски, используя метод `.fillna()` с аргументом `method='ffill'` (заполнить предыдущим известным значением). Если в данных имеются большие периоды с пропуском, подобное заполнение будет не вполне адекватно, поэтому установим максимальное количество заполняемых подряд значений `limit=4`."
   ]
  },
  {
   "cell_type": "code",
   "execution_count": 13,
   "metadata": {},
   "outputs": [],
   "source": [
    "train = train.fillna(method='ffill', axis=0, limit=4)\n",
    "test = test.fillna(method='ffill', axis=0, limit=4)\n",
    "full = full.fillna(method='ffill', axis=0, limit=4)"
   ]
  },
  {
   "cell_type": "code",
   "execution_count": 14,
   "metadata": {},
   "outputs": [
    {
     "name": "stdout",
     "output_type": "stream",
     "text": [
      "Пропусков в обучающей выборке: 2364 \n",
      "Пропусков в тестовой выборке: 15 \n",
      "Пропусков в исходных данных: 2452\n"
     ]
    }
   ],
   "source": [
    "check_na(train, test, full)"
   ]
  },
  {
   "cell_type": "markdown",
   "metadata": {},
   "source": [
    "Повторим процедуру заполнеия, но на этот раз заполним из следующих известных значений - `method='bfill'`, \"сужая\" неопределенные интервалы."
   ]
  },
  {
   "cell_type": "code",
   "execution_count": 15,
   "metadata": {},
   "outputs": [],
   "source": [
    "train = train.fillna(method='bfill', axis=0, limit=4)\n",
    "test = test.fillna(method='bfill', axis=0, limit=4)\n",
    "full = full.fillna(method='bfill', axis=0, limit=4)"
   ]
  },
  {
   "cell_type": "code",
   "execution_count": 16,
   "metadata": {},
   "outputs": [
    {
     "name": "stdout",
     "output_type": "stream",
     "text": [
      "Пропусков в обучающей выборке: 1868 \n",
      "Пропусков в тестовой выборке: 4 \n",
      "Пропусков в исходных данных: 1916\n"
     ]
    }
   ],
   "source": [
    "check_na(train, test, full)"
   ]
  },
  {
   "cell_type": "markdown",
   "metadata": {},
   "source": [
    "Отбросим оставшиеся пропуски. Найдем индексы объектов с пропусками в `full`, а затем удалим по ним объекты из всех траех таблиц, используя `.drop()`."
   ]
  },
  {
   "cell_type": "code",
   "execution_count": 17,
   "metadata": {},
   "outputs": [
    {
     "name": "stdout",
     "output_type": "stream",
     "text": [
      "Из обучающей выборки отброшено 12.18% объектов\n",
      "Из тестовой выборки отброшено 0.81% объектов\n",
      "Из полных данных отброшено 9.09% объектов\n"
     ]
    }
   ],
   "source": [
    "train_len = len(train)\n",
    "test_len = len(test)\n",
    "full_len = len(full)\n",
    "\n",
    "na_index = full[full.isna().sum(axis=1) != 0].index\n",
    "\n",
    "train = train.drop(index=na_index, errors='ignore')\n",
    "test = test.drop(index=na_index, errors='ignore')\n",
    "full = full.drop(index=na_index)\n",
    "\n",
    "print(\n",
    "    'Из обучающей выборки отброшено {:.2%} объектов'.format(1 - len(train) / train_len) + '\\n' +\n",
    "    'Из тестовой выборки отброшено {:.2%} объектов'.format(1 - len(test) / test_len) + '\\n' +\n",
    "    'Из полных данных отброшено {:.2%} объектов'.format(1 - len(full) / full_len)\n",
    ")"
   ]
  },
  {
   "cell_type": "code",
   "execution_count": 18,
   "metadata": {},
   "outputs": [
    {
     "name": "stdout",
     "output_type": "stream",
     "text": [
      "Пропусков всего после заполнения и удаления: 0\n"
     ]
    }
   ],
   "source": [
    "print(\n",
    "    'Пропусков всего после заполнения и удаления:', \n",
    "    train.isna().sum().sum() + \n",
    "    test.isna().sum().sum() + \n",
    "    full.isna().sum().sum()\n",
    ")"
   ]
  },
  {
   "cell_type": "markdown",
   "metadata": {},
   "source": [
    "### Проверка рассчета эффективности обогащения"
   ]
  },
  {
   "cell_type": "markdown",
   "metadata": {},
   "source": [
    "Проверим, правильно ли рассчитан в обучающей выборке целевой признак `rougher.output.recovery`. Он считается по формуле:\n",
    "\n",
    "$$\\text{Recovery} = \n",
    "\\frac{C\\times(F-T)}{F\\times(C-T)}\n",
    "\\times100\\%$$\n",
    "\n",
    "где:\n",
    "* $C$ — доля золота в концентрате после флотации, `rougher.output.concentrate_au`;\n",
    "* $F$ — доля золота в сырье до флотации, `rougher.input.feed_au`;\n",
    "* $T$ — доля золота в отвальных хвостах после флотации, `rougher.output.tail_au`.\n",
    "\n",
    "Согласно формуле напишем функцию `recovery`."
   ]
  },
  {
   "cell_type": "code",
   "execution_count": 19,
   "metadata": {},
   "outputs": [],
   "source": [
    "def recovery(c, f, t):\n",
    "    return (c * (f - t)) / (f * (c - t)) * 100"
   ]
  },
  {
   "cell_type": "markdown",
   "metadata": {},
   "source": [
    "Передадим функции необходимые для расчета признаки из выборки `train`, рассчитаем MAE - среднюю абсолютную ошибку между рассчитанными значениями и значениями целевого признака из таблицы, используя `sklearn.metrics.mean_absolute_error()`.\n",
    "\n",
    "$$\\text{MAE} = \n",
    "\\frac{1}{N}\n",
    "\\displaystyle\\sum_{i=1}^{N}\n",
    "{|y_{i}-\\hat{y}_{i}|}$$"
   ]
  },
  {
   "cell_type": "code",
   "execution_count": 20,
   "metadata": {},
   "outputs": [
    {
     "name": "stdout",
     "output_type": "stream",
     "text": [
      "MAE между нашими расчётами и значением признака rougher.output.recovery равна 9.832939291772268e-15\n"
     ]
    }
   ],
   "source": [
    "calculated_recovery = recovery(\n",
    "    train['rougher.output.concentrate_au'],\n",
    "    train['rougher.input.feed_au'],\n",
    "    train['rougher.output.tail_au'],\n",
    ")\n",
    "\n",
    "print(\n",
    "    'MAE между нашими расчётами и значением признака rougher.output.recovery равна',\n",
    "    mean_absolute_error(\n",
    "        train['rougher.output.recovery'],\n",
    "        calculated_recovery\n",
    "    )\n",
    ")"
   ]
  },
  {
   "cell_type": "markdown",
   "metadata": {},
   "source": [
    "Получаем значение средней абсолютной ошибки порядка $9.83\\times10^{-15}$ - скорее всего, погрешность при округлении. Делаем вывод, что целевой признак рассчитан верно."
   ]
  },
  {
   "cell_type": "markdown",
   "metadata": {},
   "source": [
    "### Признаки в тестовой выборке"
   ]
  },
  {
   "cell_type": "markdown",
   "metadata": {},
   "source": [
    "В тестовой выборке отстутствуют 34 признака, которые есть в обучающей выборке и в исходных данных. Узнаем, что это за признаки. Названия признаков, сгруппированые по категориям, уже сохранены в переменной `column_table`. Выведем срез этой таблицы, используя логическое индексирование по условию: названия призаков не в списке колонок таблицы `test`."
   ]
  },
  {
   "cell_type": "code",
   "execution_count": 21,
   "metadata": {},
   "outputs": [
    {
     "name": "stdout",
     "output_type": "stream",
     "text": [
      "Признаки, недоступные в тестовой выборке:\n"
     ]
    },
    {
     "data": {
      "text/html": [
       "<div>\n",
       "<style scoped>\n",
       "    .dataframe tbody tr th:only-of-type {\n",
       "        vertical-align: middle;\n",
       "    }\n",
       "\n",
       "    .dataframe tbody tr th {\n",
       "        vertical-align: top;\n",
       "    }\n",
       "\n",
       "    .dataframe thead th {\n",
       "        text-align: right;\n",
       "    }\n",
       "</style>\n",
       "<table border=\"1\" class=\"dataframe\">\n",
       "  <thead>\n",
       "    <tr style=\"text-align: right;\">\n",
       "      <th></th>\n",
       "      <th>сырьё флотации</th>\n",
       "      <th>параметры флотации</th>\n",
       "      <th>продукт  флотации</th>\n",
       "      <th>расчетные характеристики  флотации</th>\n",
       "      <th>сырьё первичной очистки</th>\n",
       "      <th>параметры первичной очистки</th>\n",
       "      <th>продукт первичной очистки</th>\n",
       "      <th>параметры вторичной очистки</th>\n",
       "      <th>продукт вторичной очистки</th>\n",
       "      <th>финальный продукт</th>\n",
       "    </tr>\n",
       "  </thead>\n",
       "  <tbody>\n",
       "    <tr>\n",
       "      <th>0</th>\n",
       "      <td></td>\n",
       "      <td></td>\n",
       "      <td>rougher.output.concentrate_ag</td>\n",
       "      <td>rougher.calculation.sulfate_to_au_concentrate</td>\n",
       "      <td></td>\n",
       "      <td></td>\n",
       "      <td>primary_cleaner.output.concentrate_ag</td>\n",
       "      <td></td>\n",
       "      <td>secondary_cleaner.output.tail_ag</td>\n",
       "      <td>final.output.concentrate_ag</td>\n",
       "    </tr>\n",
       "    <tr>\n",
       "      <th>1</th>\n",
       "      <td></td>\n",
       "      <td></td>\n",
       "      <td>rougher.output.concentrate_pb</td>\n",
       "      <td>rougher.calculation.floatbank10_sulfate_to_au_...</td>\n",
       "      <td></td>\n",
       "      <td></td>\n",
       "      <td>primary_cleaner.output.concentrate_pb</td>\n",
       "      <td></td>\n",
       "      <td>secondary_cleaner.output.tail_pb</td>\n",
       "      <td>final.output.concentrate_pb</td>\n",
       "    </tr>\n",
       "    <tr>\n",
       "      <th>2</th>\n",
       "      <td></td>\n",
       "      <td></td>\n",
       "      <td>rougher.output.concentrate_sol</td>\n",
       "      <td>rougher.calculation.floatbank11_sulfate_to_au_...</td>\n",
       "      <td></td>\n",
       "      <td></td>\n",
       "      <td>primary_cleaner.output.concentrate_sol</td>\n",
       "      <td></td>\n",
       "      <td>secondary_cleaner.output.tail_sol</td>\n",
       "      <td>final.output.concentrate_sol</td>\n",
       "    </tr>\n",
       "    <tr>\n",
       "      <th>3</th>\n",
       "      <td></td>\n",
       "      <td></td>\n",
       "      <td>rougher.output.concentrate_au</td>\n",
       "      <td>rougher.calculation.au_pb_ratio</td>\n",
       "      <td></td>\n",
       "      <td></td>\n",
       "      <td>primary_cleaner.output.concentrate_au</td>\n",
       "      <td></td>\n",
       "      <td>secondary_cleaner.output.tail_au</td>\n",
       "      <td>final.output.concentrate_au</td>\n",
       "    </tr>\n",
       "    <tr>\n",
       "      <th>4</th>\n",
       "      <td></td>\n",
       "      <td></td>\n",
       "      <td>rougher.output.recovery</td>\n",
       "      <td></td>\n",
       "      <td></td>\n",
       "      <td></td>\n",
       "      <td>primary_cleaner.output.tail_ag</td>\n",
       "      <td></td>\n",
       "      <td></td>\n",
       "      <td>final.output.recovery</td>\n",
       "    </tr>\n",
       "    <tr>\n",
       "      <th>5</th>\n",
       "      <td></td>\n",
       "      <td></td>\n",
       "      <td>rougher.output.tail_ag</td>\n",
       "      <td></td>\n",
       "      <td></td>\n",
       "      <td></td>\n",
       "      <td>primary_cleaner.output.tail_pb</td>\n",
       "      <td></td>\n",
       "      <td></td>\n",
       "      <td>final.output.tail_ag</td>\n",
       "    </tr>\n",
       "    <tr>\n",
       "      <th>6</th>\n",
       "      <td></td>\n",
       "      <td></td>\n",
       "      <td>rougher.output.tail_pb</td>\n",
       "      <td></td>\n",
       "      <td></td>\n",
       "      <td></td>\n",
       "      <td>primary_cleaner.output.tail_sol</td>\n",
       "      <td></td>\n",
       "      <td></td>\n",
       "      <td>final.output.tail_pb</td>\n",
       "    </tr>\n",
       "    <tr>\n",
       "      <th>7</th>\n",
       "      <td></td>\n",
       "      <td></td>\n",
       "      <td>rougher.output.tail_sol</td>\n",
       "      <td></td>\n",
       "      <td></td>\n",
       "      <td></td>\n",
       "      <td>primary_cleaner.output.tail_au</td>\n",
       "      <td></td>\n",
       "      <td></td>\n",
       "      <td>final.output.tail_sol</td>\n",
       "    </tr>\n",
       "    <tr>\n",
       "      <th>8</th>\n",
       "      <td></td>\n",
       "      <td></td>\n",
       "      <td>rougher.output.tail_au</td>\n",
       "      <td></td>\n",
       "      <td></td>\n",
       "      <td></td>\n",
       "      <td></td>\n",
       "      <td></td>\n",
       "      <td></td>\n",
       "      <td>final.output.tail_au</td>\n",
       "    </tr>\n",
       "    <tr>\n",
       "      <th>9</th>\n",
       "      <td></td>\n",
       "      <td></td>\n",
       "      <td></td>\n",
       "      <td></td>\n",
       "      <td></td>\n",
       "      <td></td>\n",
       "      <td></td>\n",
       "      <td></td>\n",
       "      <td></td>\n",
       "      <td></td>\n",
       "    </tr>\n",
       "  </tbody>\n",
       "</table>\n",
       "</div>"
      ],
      "text/plain": [
       "  сырьё флотации параметры флотации               продукт  флотации  \\\n",
       "0                                     rougher.output.concentrate_ag   \n",
       "1                                     rougher.output.concentrate_pb   \n",
       "2                                    rougher.output.concentrate_sol   \n",
       "3                                     rougher.output.concentrate_au   \n",
       "4                                           rougher.output.recovery   \n",
       "5                                            rougher.output.tail_ag   \n",
       "6                                            rougher.output.tail_pb   \n",
       "7                                           rougher.output.tail_sol   \n",
       "8                                            rougher.output.tail_au   \n",
       "9                                                                     \n",
       "\n",
       "                  расчетные характеристики  флотации сырьё первичной очистки  \\\n",
       "0      rougher.calculation.sulfate_to_au_concentrate                           \n",
       "1  rougher.calculation.floatbank10_sulfate_to_au_...                           \n",
       "2  rougher.calculation.floatbank11_sulfate_to_au_...                           \n",
       "3                    rougher.calculation.au_pb_ratio                           \n",
       "4                                                                              \n",
       "5                                                                              \n",
       "6                                                                              \n",
       "7                                                                              \n",
       "8                                                                              \n",
       "9                                                                              \n",
       "\n",
       "  параметры первичной очистки               продукт первичной очистки  \\\n",
       "0                               primary_cleaner.output.concentrate_ag   \n",
       "1                               primary_cleaner.output.concentrate_pb   \n",
       "2                              primary_cleaner.output.concentrate_sol   \n",
       "3                               primary_cleaner.output.concentrate_au   \n",
       "4                                      primary_cleaner.output.tail_ag   \n",
       "5                                      primary_cleaner.output.tail_pb   \n",
       "6                                     primary_cleaner.output.tail_sol   \n",
       "7                                      primary_cleaner.output.tail_au   \n",
       "8                                                                       \n",
       "9                                                                       \n",
       "\n",
       "  параметры вторичной очистки          продукт вторичной очистки  \\\n",
       "0                               secondary_cleaner.output.tail_ag   \n",
       "1                               secondary_cleaner.output.tail_pb   \n",
       "2                              secondary_cleaner.output.tail_sol   \n",
       "3                               secondary_cleaner.output.tail_au   \n",
       "4                                                                  \n",
       "5                                                                  \n",
       "6                                                                  \n",
       "7                                                                  \n",
       "8                                                                  \n",
       "9                                                                  \n",
       "\n",
       "              финальный продукт  \n",
       "0   final.output.concentrate_ag  \n",
       "1   final.output.concentrate_pb  \n",
       "2  final.output.concentrate_sol  \n",
       "3   final.output.concentrate_au  \n",
       "4         final.output.recovery  \n",
       "5          final.output.tail_ag  \n",
       "6          final.output.tail_pb  \n",
       "7         final.output.tail_sol  \n",
       "8          final.output.tail_au  \n",
       "9                                "
      ]
     },
     "execution_count": 21,
     "metadata": {},
     "output_type": "execute_result"
    }
   ],
   "source": [
    "print('Признаки, недоступные в тестовой выборке:')\n",
    "column_table[~column_table.isin(test.columns)].fillna('').head(10)"
   ]
  },
  {
   "cell_type": "markdown",
   "metadata": {},
   "source": [
    "Наблюдаем, что в тестовой выборке отсутствуют признаки, относящиеся к следующим категориям: продукты процессов обработки - `output` и расчётные характеристики - `calculation`. Эти значения не нужны для построения модели, так как получаются позже момента, когда модель может быть применена - после окончания соответствующего этапа процесса очистки. Эти признаки также следует исключить из обучающей выборки.\n",
    "\n",
    "Также наблюдаем, что в тестовой выборке нет  **целевых признаков** - `rougher.output.recovery` и `final.output.recovery`. Их следует добавить из исходных данных."
   ]
  },
  {
   "cell_type": "markdown",
   "metadata": {},
   "source": [
    "### Вывод"
   ]
  },
  {
   "cell_type": "markdown",
   "metadata": {},
   "source": [
    "В ходе подготовки данных:\n",
    "\n",
    "* Проверено наличие полных дубликатов в данных, таковых не обнаружено.\n",
    "\n",
    "* Изменен тип данных колонки с датой и временем наблюдений на тип `datetime`, сама колонка преобразована в индекс для всех таблиц.\n",
    "\n",
    "* Пропуски в данных заполнены значениями предыдущих или следующих доступных наблюдений (максимум 4 пропуска подряд). Остальные строки с пропусками удалены. Отброшено 9% исходных данных.\n",
    "\n",
    "* Проверена правильность рассчета целевого признака `rougher.output.recovery` на обучающей выборке. Средняя абсолютная ошибка (MAE) между расчётными значениями и значением признака из таблицы равна $9.83\\times10^{-15}$ - скорее всего, погрешность при округлении. Сделан вывод, что целевой признак рассчитан верно.\n",
    "\n",
    "* Изучены 34 признака, которые отсутствуют в тестовой выборке, но есть в обучающей выборке и в исходных данных. Это признаки, относящиеся к следующим категориям: продукты процессов обработки - `output` и расчётные характеристики - `calculation`. Эти значения не нужны для построения модели, так как получаются позже момента, когда модель может быть применена - после окончания соответствующего этапа процесса очистки. Также в тестовой выборке нет целевых признаков - `rougher.output.recovery` и `final.output.recovery`."
   ]
  },
  {
   "cell_type": "markdown",
   "metadata": {},
   "source": [
    "## Анализ данных"
   ]
  },
  {
   "cell_type": "markdown",
   "metadata": {},
   "source": [
    "### Анализ выборок по датам."
   ]
  },
  {
   "cell_type": "markdown",
   "metadata": {},
   "source": [
    "Проанализируем, как распределены данные в выборках по датам. Построим график рассеяния целевого признака `final.output.recovery` в зависимости от даты наблюдения.\n",
    "\n",
    "Скопируем в новую переменную колонку `final.output.recovery` из таблицы `full`. Добавим колонку `выборка`, которая будет маркировать, к тестовой или обучающей выборке относятся наблюдения. Соответствующие значения присвоим, сделав срез методом `.loc` по индексам выборок."
   ]
  },
  {
   "cell_type": "code",
   "execution_count": 22,
   "metadata": {},
   "outputs": [],
   "source": [
    "graph_df = full[['final.output.recovery']].copy()\n",
    "graph_df.loc[train.index, 'выборка'] = 'обучающая'\n",
    "graph_df.loc[test.index, 'выборка'] = 'тестовая'"
   ]
  },
  {
   "cell_type": "markdown",
   "metadata": {},
   "source": [
    "Построим график методом `plotly.express.scatter()`, где разные выборки будут выделены цветом."
   ]
  },
  {
   "cell_type": "code",
   "execution_count": 23,
   "metadata": {},
   "outputs": [
    {
     "data": {
      "image/png": "[encoded data removed]"
     },
     "metadata": {},
     "output_type": "display_data"
    }
   ],
   "source": [
    "fig = px.scatter(\n",
    "    graph_df.reset_index(), \n",
    "    x='date',\n",
    "    y='final.output.recovery',\n",
    "    color='выборка',\n",
    "    template='seaborn',\n",
    "    title='Рассеяние эффективности обогащения финального концентрата в выборках по датам',\n",
    "    labels={\n",
    "        'final.output.recovery': 'эффективность обогащения',\n",
    "        'date': 'дата'\n",
    "    }\n",
    ")\n",
    "fig.show()"
   ]
  },
  {
   "cell_type": "markdown",
   "metadata": {},
   "source": [
    "Из графика видно, как именно были разделены выборки: три периода для обучающей и два для тестовой. Целевой признак `final.output.recovery` распределен по датам в выбрках сходным образом."
   ]
  },
  {
   "cell_type": "markdown",
   "metadata": {},
   "source": [
    "### Изменение концентрации металлов"
   ]
  },
  {
   "cell_type": "markdown",
   "metadata": {},
   "source": [
    "Изучим, как меняется концентрация разных металлов (золото, серебро, свинец) в процессе очистки золотой руды.\n",
    "\n",
    "Напишем короткую функцию `mean_and_std()`, которая возвращает среднее и стандартное отклонение перданной ей колонки."
   ]
  },
  {
   "cell_type": "code",
   "execution_count": 24,
   "metadata": {},
   "outputs": [],
   "source": [
    "def mean_and_std(column):\n",
    "    return full[column].mean(), full[column].std()  "
   ]
  },
  {
   "cell_type": "markdown",
   "metadata": {},
   "source": [
    "Соберем в таблице названия металлов, этапы перерабтки руды (руда, черновой концентрат, финальный концентрат) и соответствующие им значения среднего и стандартного отклонения концентраций металлов."
   ]
  },
  {
   "cell_type": "code",
   "execution_count": 25,
   "metadata": {},
   "outputs": [],
   "source": [
    "metals_concentrate = pd.DataFrame(\n",
    "    columns = ['металл', 'этап обработки', 'средняя концентрация', 'std'],\n",
    "    data = [\n",
    "        ['Ag серебро', 'руда', *mean_and_std('rougher.input.feed_ag')],\n",
    "        ['Ag серебро', 'черновой концентрат', *mean_and_std('rougher.output.concentrate_ag')],\n",
    "        ['Ag серебро', 'финальный концентрат', *mean_and_std('final.output.concentrate_ag')],   \n",
    "        \n",
    "        ['Pb свинец', 'руда', *mean_and_std('rougher.input.feed_pb')],\n",
    "        ['Pb свинец', 'черновой концентрат', *mean_and_std('rougher.output.concentrate_pb')],\n",
    "        ['Pb свинец', 'финальный концентрат', *mean_and_std('final.output.concentrate_pb')],\n",
    "        \n",
    "        ['Au золото', 'руда', *mean_and_std('rougher.input.feed_au')],\n",
    "        ['Au золото', 'черновой концентрат', *mean_and_std('rougher.output.concentrate_au')],\n",
    "        ['Au золото', 'финальный концентрат', *mean_and_std('final.output.concentrate_au')]    \n",
    "    ]\n",
    ")"
   ]
  },
  {
   "cell_type": "markdown",
   "metadata": {},
   "source": [
    "Построим линейный график концентраций металлов на разных стадиях обработки, используя `plotly.express.line()`."
   ]
  },
  {
   "cell_type": "code",
   "execution_count": 26,
   "metadata": {},
   "outputs": [
    {
     "data": {
      "image/png": "[encoded data removed]"
     },
     "metadata": {},
     "output_type": "display_data"
    }
   ],
   "source": [
    "fig = px.line(\n",
    "    metals_concentrate, \n",
    "    x='этап обработки',\n",
    "    y='средняя концентрация',\n",
    "    error_y='std',\n",
    "    color='металл',\n",
    "    template='seaborn',\n",
    "    title='Изменение концентрации металлов в процессе обработки'\n",
    ")\n",
    "fig.show()"
   ]
  },
  {
   "cell_type": "markdown",
   "metadata": {},
   "source": [
    "Наблюдаем, что в процессе обрабтки концентрация золота растет, причем сильнее на этапе очистки, чем на этапе флотации. Таким образом, важнее правильно предсказывать результаты именно этапа очистки, что отражено в нашей формуле рассчета итоговой метрики: $\\text{Итоговое sMAPE} = 25\\%\\times \\text{sMAPE(rougher)} + 75\\%\\times \\text{sMAPE(final)}$. Концентрация свинца незначительно растет на обоих этапах. Концентрация серебра растет на этапе флотации, но падает на этапе очистки - часть серебра остается в отвальных хвостах."
   ]
  },
  {
   "cell_type": "markdown",
   "metadata": {},
   "source": [
    "### Распределение размера гранул сырья"
   ]
  },
  {
   "cell_type": "markdown",
   "metadata": {},
   "source": [
    "Исследуем распределения размеров гранул сырья (`rougher.input.feed_size` и `primary_cleaner.input.feed_size`) для тестовой и обучающей выборок. Если распределения сильно отличаются друг от друга, оценка модели будет неправильной.\n",
    "\n",
    "Скопируем в новую переменную нужные колонки из таблицы `full`. Добавим колонку `выборка`, которая будет маркировать, к тестовой или обучающей выборке относятся наблюдения. Соответствующие значения присвоим, сделав срез методом `.loc` по индексам выборок."
   ]
  },
  {
   "cell_type": "code",
   "execution_count": 27,
   "metadata": {},
   "outputs": [],
   "source": [
    "graph_df = full[['rougher.input.feed_size', 'primary_cleaner.input.feed_size']].copy()\n",
    "graph_df.loc[train.index, 'выборка'] = 'обучающая'\n",
    "graph_df.loc[test.index, 'выборка'] = 'тестовая'"
   ]
  },
  {
   "cell_type": "markdown",
   "metadata": {},
   "source": [
    "В цикле для двух признаков с размерами гранул (для флотации и для очистки) построим гистораммы и \"ящик с усами\" с помощью `plotly.express.histogram()`. Выборки обозначим цветом."
   ]
  },
  {
   "cell_type": "code",
   "execution_count": 28,
   "metadata": {},
   "outputs": [
    {
     "data": {
      "image/png": "[encoded data removed]"
     },
     "metadata": {},
     "output_type": "display_data"
    },
    {
     "data": {
      "image/png": "[encoded data removed]"
     },
     "metadata": {},
     "output_type": "display_data"
    }
   ],
   "source": [
    "counter_group = zip(\n",
    "    ('rougher.input.feed_size', 'primary_cleaner.input.feed_size'),\n",
    "    ('флотации', 'очистки')\n",
    ")\n",
    "\n",
    "for stage, stge_title in counter_group:\n",
    "    fig = px.histogram(\n",
    "        graph_df,\n",
    "        x=stage,\n",
    "        color='выборка',\n",
    "        opacity=.7,\n",
    "        barmode='overlay',\n",
    "        marginal='box',\n",
    "        template='seaborn',\n",
    "        title='Распределение размера гранул сырья для этапа ' + stge_title + ' в выборках',\n",
    "        labels={stage: 'размер гранул'}\n",
    "    )\n",
    "    fig.show()"
   ]
  },
  {
   "cell_type": "markdown",
   "metadata": {},
   "source": [
    "Распределение для тестовой выборки немного отличается от такового для обучающей - первое сдвинуто немного в меньшую сторону. Однако в целом размеры большинства частиц лежат в оптимальном интервале 40—100 мкм [«Флотация руды»: ООО \"Техноаналитприбор\"](https://techade.ru/stati/flotatsiya-rudy) для обоих выборок. Выборки подходят для оценки."
   ]
  },
  {
   "cell_type": "markdown",
   "metadata": {},
   "source": [
    "### Суммарная концентрация всех веществ"
   ]
  },
  {
   "cell_type": "markdown",
   "metadata": {},
   "source": [
    "Исследуем распределения суммарной концентрации всех веществ (Ag, Pb, Au, Sol) на разных стадиях обработки.\n",
    "\n",
    "Создадим таблицу, в трех колонках которой сохраним суммы (используя `.sum(axis=1)`) соответствующих признаков из таблицы `full` на разных стадиях обработки: в исходном сырье, в черновом концентрате, в финальном концентрате."
   ]
  },
  {
   "cell_type": "code",
   "execution_count": 29,
   "metadata": {},
   "outputs": [],
   "source": [
    "concentrate_sum = pd.DataFrame()\n",
    "\n",
    "concentrate_sum['исходном сырье'] = (\n",
    "    full[['rougher.input.feed_ag',\n",
    "          'rougher.input.feed_pb',\n",
    "          'rougher.input.feed_sol',\n",
    "          'rougher.input.feed_au']]\n",
    "    .sum(axis=1)\n",
    ")\n",
    "concentrate_sum['черновом концентрате'] = (\n",
    "    full[['rougher.output.concentrate_ag',\n",
    "          'rougher.output.concentrate_pb',\n",
    "          'rougher.output.concentrate_sol',\n",
    "          'rougher.output.concentrate_au']]\n",
    "    .sum(axis=1)\n",
    ")\n",
    "concentrate_sum['финальном концентрате'] = (\n",
    "    full[['final.output.concentrate_ag',\n",
    "          'final.output.concentrate_pb',\n",
    "          'final.output.concentrate_sol',\n",
    "          'final.output.concentrate_au']]\n",
    "    .sum(axis=1)\n",
    ")"
   ]
  },
  {
   "cell_type": "markdown",
   "metadata": {},
   "source": [
    "В цикле для каждой стадии построим гистораммы и \"ящик с усами\" с помощью `plotly.express.histogram()`."
   ]
  },
  {
   "cell_type": "code",
   "execution_count": 30,
   "metadata": {
    "scrolled": false
   },
   "outputs": [
    {
     "data": {
      "image/png": "[encoded data removed]"
     },
     "metadata": {},
     "output_type": "display_data"
    },
    {
     "data": {
      "image/png": "[encoded data removed]"
     },
     "metadata": {},
     "output_type": "display_data"
    },
    {
     "data": {
      "image/png": "[encoded data removed]"
     },
     "metadata": {},
     "output_type": "display_data"
    }
   ],
   "source": [
    "for stage in ('исходном сырье', 'черновом концентрате', 'финальном концентрате'):\n",
    "    fig = px.histogram(\n",
    "        concentrate_sum,\n",
    "        x=stage,\n",
    "        opacity=1,\n",
    "        marginal='box',\n",
    "        template='seaborn',\n",
    "        title='Распределение суммарной концентрации веществ в ' + stage,\n",
    "        labels={stage: 'суммарная концентрация'}\n",
    "    )\n",
    "    fig.show()"
   ]
  },
  {
   "cell_type": "markdown",
   "metadata": {},
   "source": [
    "Наблюдаем, что на стадиях чернового и финального концентрата есть значения суммарной концентрации 0. Это подозрительные значения, скорее всего неточность измерения, от них следует избавиться.\n",
    "\n",
    "Сохраним в пременной `del_objects` индексы (даты наблюдений) таких объектов, которые найдем методом `.query()`."
   ]
  },
  {
   "cell_type": "code",
   "execution_count": 31,
   "metadata": {},
   "outputs": [],
   "source": [
    "del_objects = (\n",
    "    concentrate_sum\n",
    "    .query('`черновом концентрате` == 0 or `финальном концентрате` == 0')\n",
    "    .index\n",
    ")"
   ]
  },
  {
   "cell_type": "markdown",
   "metadata": {},
   "source": [
    "Удалим из всех трех таблиц объекты с нулевой суммарной концентрацией, используя `.drop()`. Для `train` и `test` укажем аргументом `errors='ignore'`, так как в этих таблицах содержатся не все индексы на удаление. Предварительно сохраним в переменных количество объектов в таблицах, чтобы узнать, какую часть данных мы потеряли."
   ]
  },
  {
   "cell_type": "code",
   "execution_count": 32,
   "metadata": {},
   "outputs": [],
   "source": [
    "train_len = len(train)\n",
    "test_len = len(test)\n",
    "full_len = len(full)\n",
    "\n",
    "train = train.drop(index=del_objects, errors='ignore')\n",
    "test = test.drop(index=del_objects, errors='ignore')\n",
    "full = full.drop(index=del_objects)"
   ]
  },
  {
   "cell_type": "code",
   "execution_count": 33,
   "metadata": {},
   "outputs": [
    {
     "name": "stdout",
     "output_type": "stream",
     "text": [
      "Из обучающей выборки отброшено 2.20% объектов\n",
      "Из тестовой выборки отброшено 2.55% объектов\n",
      "Из полных данных отброшено 2.30% объектов\n"
     ]
    }
   ],
   "source": [
    "print(\n",
    "    'Из обучающей выборки отброшено {:.2%} объектов'.format(1 - len(train) / train_len) + '\\n' +\n",
    "    'Из тестовой выборки отброшено {:.2%} объектов'.format(1 - len(test) / test_len) + '\\n' +\n",
    "    'Из полных данных отброшено {:.2%} объектов'.format(1 - len(full) / full_len)\n",
    ")"
   ]
  },
  {
   "cell_type": "markdown",
   "metadata": {},
   "source": [
    "### Вывод"
   ]
  },
  {
   "cell_type": "markdown",
   "metadata": {},
   "source": [
    "В ходе анализа данных:\n",
    "\n",
    "* Проанализировано распределение данных в выборках по датам. Построен график рассеяния целевого признака `final.output.recovery` в зависимости от даты наблюдения. Из графика видно, как именно были разделены выборки: три периода для обучающей и два для тестовой. Целевой признак `final.output.recovery` распределен по датам в выбрках сходным образом.\n",
    "\n",
    "* Изучено изменение концентрациии разных металлов (золото, серебро, свинец) в процессе очистки золотой руды. Построен линейный график концентраций металлов на разных стадиях обработки. Из графика видно, что в процессе обрабтки концентрация золота растет, причем сильнее на этапе очистки, чем на этапе флотации. Таким образом, важнее правильно предсказывать результаты именно этапа очистки, что отражено в нашей формуле рассчета итоговой метрики: $\\text{Итоговое sMAPE} = 25\\%\\times \\text{sMAPE(rougher)} + 75\\%\\times \\text{sMAPE(final)}$. Концентрация свинца незначительно растет на обоих этапах. Концентрация серебра растет на этапе флотации, но падает на этапе очистки - часть серебра остается в отвальных хвостах.\n",
    "\n",
    "* Проанализированы распределения размеров гранул сырья (`rougher.input.feed_size` и `primary_cleaner.input.feed_size`) для тестовой и обучающей выборок. Построены гистограммы и boxplot. Распределение для тестовой выборки немного отличается от такового для обучающей - первое сдвинуто немного в меньшую сторону. Однако в целом размеры большинства частиц лежат в оптимальном интервале 40—100 мкм [«Флотация руды»: ООО \"Техноаналитприбор\"](https://techade.ru/stati/flotatsiya-rudy) для обоих выборок. Выборки подходят для оценки.\n",
    "\n",
    "* Проанализированы распределения суммарной концентрации всех веществ (Ag, Pb, Au, Sol) на разных стадиях обработки: в исходном сырье, в черновом концентрате, в финальном концентрате. Построены гистограммы и boxplot. Сделано наблюдение, что на стадиях чернового и финального концентрата есть значения суммарной концентрации 0. Эти значения присзнаны подозрительными (скорее всего, неточность измерения), принято решение от них избавиться. После удаления выбросов потеряно порядка 2.5% данных в каждой таблице."
   ]
  },
  {
   "cell_type": "markdown",
   "metadata": {},
   "source": [
    "## Модель"
   ]
  },
  {
   "cell_type": "markdown",
   "metadata": {},
   "source": [
    "### Выделение признаков"
   ]
  },
  {
   "cell_type": "markdown",
   "metadata": {},
   "source": [
    "#### Мультиколлинеарность признаков"
   ]
  },
  {
   "cell_type": "markdown",
   "metadata": {},
   "source": [
    "Сделаем проверку мультиколлинеарности признаков.\n",
    "Найдем в исходных данных те призкаки, используемые для обучения модели, корреляция между которыми по модулю больше 0.8. Наличие сильных корреляций увеличит дисперсию оценок модели, а это снизит значение метрики."
   ]
  },
  {
   "cell_type": "code",
   "execution_count": 34,
   "metadata": {},
   "outputs": [
    {
     "data": {
      "text/plain": [
       "primary_cleaner.state.floatbank8_a_air      primary_cleaner.state.floatbank8_b_air        0.958270\n",
       "                                            primary_cleaner.state.floatbank8_c_air        0.917532\n",
       "primary_cleaner.state.floatbank8_a_level    primary_cleaner.state.floatbank8_b_level      0.873502\n",
       "                                            primary_cleaner.state.floatbank8_c_level      0.942169\n",
       "primary_cleaner.state.floatbank8_b_air      primary_cleaner.state.floatbank8_c_air        0.928927\n",
       "primary_cleaner.state.floatbank8_b_level    primary_cleaner.state.floatbank8_c_level      0.851927\n",
       "rougher.input.feed_ag                       rougher.input.feed_au                         0.840357\n",
       "rougher.input.floatbank10_sulfate           rougher.input.floatbank11_sulfate             0.956170\n",
       "rougher.input.floatbank10_xanthate          rougher.input.floatbank11_xanthate            0.937119\n",
       "rougher.state.floatbank10_b_air             rougher.state.floatbank10_c_air               0.932454\n",
       "                                            rougher.state.floatbank10_d_air               0.917859\n",
       "                                            rougher.state.floatbank10_e_air               0.811148\n",
       "rougher.state.floatbank10_b_level           rougher.state.floatbank10_c_level             0.985308\n",
       "                                            rougher.state.floatbank10_d_level             0.968670\n",
       "                                            rougher.state.floatbank10_e_level             0.941402\n",
       "                                            rougher.state.floatbank10_f_level             0.939089\n",
       "rougher.state.floatbank10_c_air             rougher.state.floatbank10_d_air               0.907561\n",
       "rougher.state.floatbank10_c_level           rougher.state.floatbank10_d_level             0.981291\n",
       "                                            rougher.state.floatbank10_e_level             0.954629\n",
       "                                            rougher.state.floatbank10_f_level             0.948209\n",
       "rougher.state.floatbank10_d_air             rougher.state.floatbank10_e_air               0.850717\n",
       "                                            rougher.state.floatbank10_f_air               0.815901\n",
       "rougher.state.floatbank10_d_level           rougher.state.floatbank10_e_level             0.943130\n",
       "                                            rougher.state.floatbank10_f_level             0.940416\n",
       "rougher.state.floatbank10_e_air             rougher.state.floatbank10_f_air               0.928825\n",
       "rougher.state.floatbank10_e_level           rougher.state.floatbank10_f_level             0.983039\n",
       "secondary_cleaner.state.floatbank2_a_air    secondary_cleaner.state.floatbank2_b_air      0.881138\n",
       "secondary_cleaner.state.floatbank2_a_level  secondary_cleaner.state.floatbank2_b_level    0.896138\n",
       "secondary_cleaner.state.floatbank4_a_air    secondary_cleaner.state.floatbank4_b_air      0.846086\n",
       "secondary_cleaner.state.floatbank4_b_air    secondary_cleaner.state.floatbank5_b_air      0.857377\n",
       "secondary_cleaner.state.floatbank5_a_air    secondary_cleaner.state.floatbank5_b_air      0.897151\n",
       "secondary_cleaner.state.floatbank5_a_level  secondary_cleaner.state.floatbank5_b_level    0.820740\n",
       "dtype: float64"
      ]
     },
     "metadata": {},
     "output_type": "display_data"
    }
   ],
   "source": [
    "corr_features = (\n",
    "    full[test.columns]                             # берем признаки, на которых будем обучать из test\n",
    "    .corr()                                        # сторим матрицу корреляций\n",
    "    .abs()                                         # по модулю\n",
    "    .pipe(lambda x: x[(.8 < x) & (x < 1)])         # отбрасываем слабые корреляции и 1 (корреляция сам с собой)\n",
    "    .unstack()                                     # трансформируем в мультииндекс           \n",
    "    .dropna()                                      # отбрасываем NaN\n",
    "    .drop_duplicates()                             # и дубликаты\n",
    ")    \n",
    "display(corr_features)"
   ]
  },
  {
   "cell_type": "markdown",
   "metadata": {},
   "source": [
    "Наблюдаем сильные корреляции между многими признаками. В основном это признаки, описывающие текущее состояние этапа обработки (`state`). Коррелируют как правило значения в разных флотационных установках на одном и том же этапе (например, уровень воздуха в флотационных установках 10_b, 10_c, 10_d, 10_e и 10_f на этапе флотации). Логично предположить, что при запуске этапа процесса на всех установках выставляют одинаковые параметры.\n",
    "\n",
    "Отбросим часть этих признаков (оставив один из соответствующих коррелирующих групп), прежде чем обучать модель.\n",
    "\n",
    "Запишем в пременную `corr_drop_columns` названия признаков, которые будем отбрасывать."
   ]
  },
  {
   "cell_type": "code",
   "execution_count": 35,
   "metadata": {},
   "outputs": [],
   "source": [
    "corr_drop_columns = corr_features.index.get_level_values(1).drop_duplicates()"
   ]
  },
  {
   "cell_type": "markdown",
   "metadata": {},
   "source": [
    "#### Выделение признаков в выборках"
   ]
  },
  {
   "cell_type": "markdown",
   "metadata": {},
   "source": [
    "Запишем для обучающей и тестовой выборок признаки, с которыми будут работать модели, в пременные `features_train` и `features_test`, отбросив лишние методом `.drop()`."
   ]
  },
  {
   "cell_type": "code",
   "execution_count": 36,
   "metadata": {},
   "outputs": [],
   "source": [
    "features_train = train[test.columns].drop(columns=corr_drop_columns)\n",
    "features_test = test.drop(columns=corr_drop_columns)"
   ]
  },
  {
   "cell_type": "markdown",
   "metadata": {},
   "source": [
    "Запишем для обучающей и тестовой выборок целевые признаки rougher и final в переменные `target_rougher_train`, `target_final_train`, `target_rougher_test`, `target_final_test`. Для тестовой выборки возьмем их из исходных данных по тестовым индексам методом `.loc`."
   ]
  },
  {
   "cell_type": "code",
   "execution_count": 37,
   "metadata": {},
   "outputs": [],
   "source": [
    "target_rougher_train = train['rougher.output.recovery']\n",
    "target_final_train = train['final.output.recovery']\n",
    "\n",
    "target_rougher_test = full.loc[test.index]['rougher.output.recovery']\n",
    "target_final_test = full.loc[test.index]['final.output.recovery']"
   ]
  },
  {
   "cell_type": "markdown",
   "metadata": {},
   "source": [
    "Соберем в табицу формы (`.shape`) получившихся выборок с признаками."
   ]
  },
  {
   "cell_type": "code",
   "execution_count": 38,
   "metadata": {},
   "outputs": [
    {
     "name": "stdout",
     "output_type": "stream",
     "text": [
      "Формы выборок:\n"
     ]
    },
    {
     "data": {
      "text/html": [
       "<div>\n",
       "<style scoped>\n",
       "    .dataframe tbody tr th:only-of-type {\n",
       "        vertical-align: middle;\n",
       "    }\n",
       "\n",
       "    .dataframe tbody tr th {\n",
       "        vertical-align: top;\n",
       "    }\n",
       "\n",
       "    .dataframe thead th {\n",
       "        text-align: right;\n",
       "    }\n",
       "</style>\n",
       "<table border=\"1\" class=\"dataframe\">\n",
       "  <thead>\n",
       "    <tr style=\"text-align: right;\">\n",
       "      <th></th>\n",
       "      <th>обучающая</th>\n",
       "      <th>тестовая</th>\n",
       "    </tr>\n",
       "  </thead>\n",
       "  <tbody>\n",
       "    <tr>\n",
       "      <th>признаки</th>\n",
       "      <td>(12152, 32)</td>\n",
       "      <td>(5113, 32)</td>\n",
       "    </tr>\n",
       "    <tr>\n",
       "      <th>целевой признак rougher</th>\n",
       "      <td>(12152,)</td>\n",
       "      <td>(5113,)</td>\n",
       "    </tr>\n",
       "    <tr>\n",
       "      <th>целевой признак final</th>\n",
       "      <td>(12152,)</td>\n",
       "      <td>(5113,)</td>\n",
       "    </tr>\n",
       "  </tbody>\n",
       "</table>\n",
       "</div>"
      ],
      "text/plain": [
       "                           обучающая    тестовая\n",
       "признаки                 (12152, 32)  (5113, 32)\n",
       "целевой признак rougher     (12152,)     (5113,)\n",
       "целевой признак final       (12152,)     (5113,)"
      ]
     },
     "metadata": {},
     "output_type": "display_data"
    }
   ],
   "source": [
    "sample_shape = pd.DataFrame(\n",
    "    index = ['признаки', 'целевой признак rougher', 'целевой признак final'],\n",
    "    columns = ['обучающая', 'тестовая'],\n",
    "    data = [\n",
    "        [features_train.shape, features_test.shape],\n",
    "        [target_rougher_train.shape, target_rougher_test.shape],\n",
    "        [target_final_train.shape, target_final_test.shape]        \n",
    "    ]\n",
    ")\n",
    "print('Формы выборок:')\n",
    "display(sample_shape)"
   ]
  },
  {
   "cell_type": "markdown",
   "metadata": {},
   "source": [
    "### Функция для вычисления метрики"
   ]
  },
  {
   "cell_type": "markdown",
   "metadata": {},
   "source": [
    "Для решения задачи используется метрика — sMAPE (англ. Symmetric Mean Absolute Percentage Error, «симметричное среднее абсолютное процентное отклонение»).\n",
    "\n",
    "$$\\text{sMAPE} = \n",
    "\\frac{1}{N}\n",
    "\\displaystyle\\sum_{i=1}^{N}\n",
    "\\frac{|y_{i}-\\hat{y}_{i}|}{(|y_{i}|+|\\hat{y}_{i}|)/2}\n",
    "\\times100\\%$$\n",
    "\n",
    "где:\n",
    "* $y_{i}$ — значение целевого признака для объекта с порядковым номером i в выборке, на которой измеряется качество;\n",
    "* $\\hat{y}_{i}$ — значение предсказания для объекта с порядковым номером i;\n",
    "* $N$ — количество объектов в выборке\n",
    "\n",
    "Напишем функцию `smape` для вычисления метрики."
   ]
  },
  {
   "cell_type": "code",
   "execution_count": 39,
   "metadata": {},
   "outputs": [],
   "source": [
    "def smape(target_valid, predicted):\n",
    "    return (\n",
    "        (abs(target_valid - predicted) / ((abs(target_valid) + abs(predicted)) / 2))\n",
    "        .mean()\n",
    "        * 100 \n",
    "    )    "
   ]
  },
  {
   "cell_type": "markdown",
   "metadata": {},
   "source": [
    "Для выбора модели и подбора гиперпараметров мы будем использовать методы кросс-валидации библиотеки `sklearn`. Создадим из функции `smape` метрику для этих методов, использовав `sklearn.metrics.make_scorer` с аргументом `greater_is_better=False`, так как наша метрика - метрика ошибки. Сохраним метрику в переменной `score`. Метрика будет выдавать отрицательные значения, поэтому для выводов будем использовать `abs()`."
   ]
  },
  {
   "cell_type": "code",
   "execution_count": 40,
   "metadata": {},
   "outputs": [],
   "source": [
    "score = make_scorer(smape, greater_is_better=False)"
   ]
  },
  {
   "cell_type": "markdown",
   "metadata": {},
   "source": [
    "### Выбор модели"
   ]
  },
  {
   "cell_type": "markdown",
   "metadata": {},
   "source": [
    "Построим модели:\n",
    "\n",
    "* Линейной регрессии `sklearn.linear_model.LinearRegression` \n",
    "\n",
    "* Дерева решений `sklearn.tree.DecisionTreeRegressor`\n",
    "\n",
    "* Случайного леса `sklearn.ensemble.RandomForestRegressor`\n",
    "\n",
    "Проведем кросс-валидацию моделей для обоих этапов технологического процесса, подберем гипрпараметры и выберем лучшую модель для предсказаний результатов каждого этапа."
   ]
  },
  {
   "cell_type": "markdown",
   "metadata": {},
   "source": [
    "#### Функции кросс-валидации"
   ]
  },
  {
   "cell_type": "markdown",
   "metadata": {},
   "source": [
    "Напишем функцию `lin_reg_cv`, которая принимает признаки и целевой признак, строит модель линейной регрессии, делает кросс-валидацию модели с помощью `sklearn.model_selection.cross_validate` и выводит среднее значение метрики sMAPE."
   ]
  },
  {
   "cell_type": "code",
   "execution_count": 41,
   "metadata": {},
   "outputs": [],
   "source": [
    "def lin_reg_cv(features_train, target_train):\n",
    "    model = LinearRegression()\n",
    "    cv_results = cross_validate(model, features_train, target_train, scoring=score, cv=5)\n",
    "    print('sMAPE для модели линейной регрессии: {0:.3}'.format(abs(cv_results['test_score'].mean())) + '%')"
   ]
  },
  {
   "cell_type": "markdown",
   "metadata": {},
   "source": [
    "Для подбора гиперпараметров воспользуемся библиотекой `hyperopt`, где реализуем байесовский алгоритм оптимизации, значительно выигрывающий в скорости и точности у случайного поиска и поиска по сетке.\n",
    "\n",
    "Напишем функцию `hyperopt_search`, принимающую аргументы:\n",
    "* `space` - пространство гиперпараметров для поиска \n",
    "* `model`- модель машинного обучения\n",
    "* `X_train`, `y_train` - выборка для кросс-валидации\n",
    "* `max_evals` - количество попыток вычисления значения функции\n",
    "\n",
    "`hyperopt_search`:\n",
    "\n",
    "* Создает функцию от гиперпараметров `model_cv`, минимум которой мы будем искать. Функция создает выбранную модель машинного обучения, получает от `hyperopt.fmin` значения параметров для модели, возвращает среднее значение sMAPE на кросс-валидации. \n",
    "\n",
    "* Производит поиск минимума функции от параметров, используя `hyperopt.fmin`. Выберем алгоритм выбора гиперпараметров из пространства поиска `hyperopt.tpe.suggest` - это байесовская оптимизация.\n",
    "\n",
    "* Выводит на экран процесс поиска и лучшую комбинацию гиперпараметров."
   ]
  },
  {
   "cell_type": "code",
   "execution_count": 42,
   "metadata": {},
   "outputs": [],
   "source": [
    "def hyperopt_search(space, model, X_train, y_train, max_evals=50):\n",
    "    \n",
    "    def model_cv(params, model=model, X_train=X_train, y_train=y_train, random_state=123):\n",
    "        model = model(**params, random_state=random_state)\n",
    "        cv_results = cross_validate(model, X_train, y_train, scoring=score, cv=5)['test_score']\n",
    "        return abs(cv_results.mean())\n",
    "    \n",
    "    trials = Trials()\n",
    "\n",
    "    best_hyperparams=fmin(\n",
    "        fn=model_cv, \n",
    "        space=space, \n",
    "        algo=tpe.suggest, \n",
    "        max_evals=max_evals, \n",
    "        trials=trials, \n",
    "        rstate=np.random.RandomState(123) \n",
    "    )\n",
    "\n",
    "    print('\\nЛучшие гиперпараметры:\\n', space_eval(space, trials.argmin))\n",
    "    print('sMAPE для модели: {0:.3}'.format(min(trials.losses())) + '%')"
   ]
  },
  {
   "cell_type": "markdown",
   "metadata": {},
   "source": [
    "#### Выбор модели для этапа флотации"
   ]
  },
  {
   "cell_type": "markdown",
   "metadata": {},
   "source": [
    "Применим наши функции, чтобы выбрать лучшую модель для предсказания целевого признака `rougher.output.recovery`."
   ]
  },
  {
   "cell_type": "code",
   "execution_count": 43,
   "metadata": {},
   "outputs": [
    {
     "name": "stdout",
     "output_type": "stream",
     "text": [
      "Результаты кросс-валидации для этапа флотации модели линейной регрессии:\n",
      "sMAPE для модели линейной регрессии: 6.44%\n"
     ]
    }
   ],
   "source": [
    "print('Результаты кросс-валидации для этапа флотации модели линейной регрессии:')\n",
    "lin_reg_cv(features_train, target_rougher_train)"
   ]
  },
  {
   "cell_type": "code",
   "execution_count": 44,
   "metadata": {},
   "outputs": [
    {
     "name": "stdout",
     "output_type": "stream",
     "text": [
      "100%|█████████████████████████████████████████████████| 20/20 [00:22<00:00,  1.10s/trial, best loss: 7.180256705506186]\n",
      "\n",
      "Лучшие гиперпараметры:\n",
      " {'max_depth': 5, 'min_samples_split': 4}\n",
      "sMAPE для модели: 7.18%\n"
     ]
    }
   ],
   "source": [
    "space={\n",
    "    'max_depth' : hp.choice('max_depth', np.arange(1, 20, dtype=int)),\n",
    "    'min_samples_split': hp.choice('min_samples_split', np.arange(2, 10, dtype=int))\n",
    "}\n",
    "\n",
    "hyperopt_search(space, DecisionTreeRegressor , features_train, target_rougher_train, max_evals=20)"
   ]
  },
  {
   "cell_type": "markdown",
   "metadata": {},
   "source": [
    "```python\n",
    "space={\n",
    "    'n_estimators': hp.choice('n_estimators', np.arange(10, 1000, dtype=int)),\n",
    "    'max_depth' : hp.choice('max_depth', np.arange(1, 20, dtype=int)),\n",
    "}\n",
    "hyperopt_search(space, RandomForestRegressor , features_train, target_rougher_train)\n",
    "```\n",
    "---\n",
    "```\n",
    "100%|█████████████████████████████████████████████| 50/50 [5:08:14<00:00, 369.90s/trial, best loss: 6.2440761521901305]\n",
    "\n",
    "Лучшие гиперпараметры:\n",
    " {'max_depth': 13, 'n_estimators': 317}\n",
    "\n",
    "sMAPE для модели: 6.24%\n",
    "```"
   ]
  },
  {
   "cell_type": "markdown",
   "metadata": {},
   "source": [
    "По результатам кросс-валидации на тестовой выборке для этапа флотации лучше всего показала себя модель случайного леса с параметром глубины 13 и количеством деревьев 317: sMAPE = 6.24%"
   ]
  },
  {
   "cell_type": "markdown",
   "metadata": {},
   "source": [
    "#### Выбор модели для этапа очистки"
   ]
  },
  {
   "cell_type": "markdown",
   "metadata": {},
   "source": [
    "Применим наши функции, чтобы выбрать лучшую модель для предсказания целевого признака `final.output.recovery`."
   ]
  },
  {
   "cell_type": "code",
   "execution_count": 45,
   "metadata": {
    "scrolled": true
   },
   "outputs": [
    {
     "name": "stdout",
     "output_type": "stream",
     "text": [
      "Результаты кросс-валидации для этапа очистки модели линейной регрессии:\n",
      "sMAPE для модели линейной регрессии: 10.2%\n"
     ]
    }
   ],
   "source": [
    "print('Результаты кросс-валидации для этапа очистки модели линейной регрессии:')\n",
    "lin_reg_cv(features_train, target_final_train)"
   ]
  },
  {
   "cell_type": "code",
   "execution_count": 46,
   "metadata": {},
   "outputs": [
    {
     "name": "stdout",
     "output_type": "stream",
     "text": [
      "100%|█████████████████████████████████████████████████| 20/20 [00:22<00:00,  1.12s/trial, best loss: 9.345026591590715]\n",
      "\n",
      "Лучшие гиперпараметры:\n",
      " {'max_depth': 2, 'min_samples_split': 3}\n",
      "sMAPE для модели: 9.35%\n"
     ]
    }
   ],
   "source": [
    "space={\n",
    "    'max_depth' : hp.choice('max_depth', np.arange(1, 20, dtype=int)),\n",
    "    'min_samples_split': hp.choice('min_samples_split', np.arange(2, 10, dtype=int))\n",
    "}\n",
    "\n",
    "hyperopt_search(space, DecisionTreeRegressor , features_train, target_final_train, max_evals=20)"
   ]
  },
  {
   "cell_type": "markdown",
   "metadata": {},
   "source": [
    "```python\n",
    "space={\n",
    "    'n_estimators': hp.choice('n_estimators', np.arange(10, 1000, dtype=int)),\n",
    "    'max_depth' : hp.choice('max_depth', np.arange(1, 20, dtype=int)),\n",
    "}\n",
    "hyperopt_search(space, RandomForestRegressor , features_train, target_final_train)\n",
    "```\n",
    "---\n",
    "```\n",
    "100%|██████████████████████████████████████████████| 50/50 [5:13:32<00:00, 376.25s/trial, best loss: 9.001869437622997]\n",
    "\n",
    "Лучшие гиперпараметры:\n",
    " {'max_depth': 6, 'n_estimators': 845}\n",
    "\n",
    "sMAPE для модели: 9.00%\n",
    "```"
   ]
  },
  {
   "cell_type": "markdown",
   "metadata": {},
   "source": [
    "По результатам кросс-валидации на тестовой выборке для этапа очистки лучше всего показала себя модель случайного леса с параметром глубины 6 и количеством деревьев 845: sMAPE = 9.00%"
   ]
  },
  {
   "cell_type": "markdown",
   "metadata": {},
   "source": [
    "### Проверка на тестовой выборке."
   ]
  },
  {
   "cell_type": "markdown",
   "metadata": {},
   "source": [
    "#### Тестирование модели."
   ]
  },
  {
   "cell_type": "markdown",
   "metadata": {},
   "source": [
    "Проверим модели на тестовой выборке: рассчитаем итоговую метрику, а также проведем прверку модели на адекватность - сравним её с \"глупой\" константной моделью. Сравнивать будем через формулирование и проверку гипотезы методом `scipy.stats.ttest_ind`."
   ]
  },
  {
   "cell_type": "markdown",
   "metadata": {},
   "source": [
    "Для проверки гипотезы необходимы не средние значения ошибки, а сами массивы со значениями ошибок. Поэтому для рассчета метрики напишем функцию `s_ape`, которая очень похожа на `smape`, но не считает среднее, а возвращает Series со значениями симметричного абсолютного процентного отклонения:\n",
    "\n",
    "$$\\text{sAPE} = \n",
    "\\frac{|y_{i}-\\hat{y}_{i}|}{(|y_{i}|+|\\hat{y}_{i}|)/2}\n",
    "\\times100\\%$$"
   ]
  },
  {
   "cell_type": "code",
   "execution_count": 47,
   "metadata": {},
   "outputs": [],
   "source": [
    "def s_ape(target_valid, predicted):\n",
    "    return (\n",
    "        (abs(target_valid - predicted) / ((abs(target_valid) + abs(predicted)) / 2))\n",
    "        * 100 \n",
    "    )  "
   ]
  },
  {
   "cell_type": "markdown",
   "metadata": {},
   "source": [
    "Напишем функцию `s_ape_calc` для оценки модели на тестовой выборке. Функция принимает модель, признаки и целевые признаки для обучающей и тестовой выборок. Функция обучает модель на обучающей выборке, предсказывает значения на тестовой и вычисляет метрику, используя функцию `s_ape`. Для получения метрики sMAPE нужнно применить `.mean()` к результатам работы функции."
   ]
  },
  {
   "cell_type": "code",
   "execution_count": 48,
   "metadata": {},
   "outputs": [],
   "source": [
    "def s_ape_calc(model, features_train, target_train, features_test, target_test):\n",
    "    model.fit(features_train, target_train)\n",
    "    predicted = model.predict(features_test)\n",
    "    return s_ape(target_test, predicted)"
   ]
  },
  {
   "cell_type": "markdown",
   "metadata": {},
   "source": [
    "Обучим лучшие модели и выведем значения метрик. Рассчитаем итоговое sMAPE по формуле:\n",
    "\n",
    "$$\\text{Итоговое sMAPE} = \n",
    "25\\%\\times \\text{sMAPE(rougher)} + \n",
    "75\\%\\times \\text{sMAPE(final)}$$"
   ]
  },
  {
   "cell_type": "code",
   "execution_count": 49,
   "metadata": {},
   "outputs": [
    {
     "name": "stdout",
     "output_type": "stream",
     "text": [
      "sMAPE модели для флотации на тестовой выборке: 5.23%\n",
      "sMAPE модели для очистки на тестовой выборке: 8.01%\n",
      "Итоговое sMAPE моделей на тестовой выборке: 7.31%\n"
     ]
    }
   ],
   "source": [
    "model_rougher = RandomForestRegressor(random_state=123, max_depth=13, n_estimators=317)\n",
    "\n",
    "s_ape_rougher = s_ape_calc(\n",
    "    model_rougher,\n",
    "    features_train, target_rougher_train, \n",
    "    features_test, target_rougher_test\n",
    ")\n",
    "\n",
    "print('sMAPE модели для флотации на тестовой выборке: {0:.3}'.format(s_ape_rougher.mean()) + '%')\n",
    "\n",
    "model_final =  RandomForestRegressor(random_state=123, max_depth=6, n_estimators=845)\n",
    "\n",
    "s_ape_final = s_ape_calc(\n",
    "    model_final,\n",
    "    features_train, target_final_train,\n",
    "    features_test, target_final_test\n",
    ")\n",
    "\n",
    "print('sMAPE модели для очистки на тестовой выборке: {0:.3}'.format(s_ape_final.mean()) + '%')\n",
    "\n",
    "s_ape_combined = .25 * s_ape_rougher + .75 * s_ape_final\n",
    "print('Итоговое sMAPE моделей на тестовой выборке: {0:.3}'.format(s_ape_combined.mean()) + '%')"
   ]
  },
  {
   "cell_type": "markdown",
   "metadata": {},
   "source": [
    "#### Проверка модели на адекватность."
   ]
  },
  {
   "cell_type": "markdown",
   "metadata": {},
   "source": [
    "Проверим модели на адекватность: сравним их результаты с результатами \"глупой\" модели, которая предсказывает только средние значения для целевого признака. Для построения \"глупых\" моделей используем `sklearn.dummy.DummyRegressor`. Обучим модели и выведем метрики аналогичным с предыдущим пунктом образом."
   ]
  },
  {
   "cell_type": "code",
   "execution_count": 50,
   "metadata": {
    "scrolled": true
   },
   "outputs": [
    {
     "name": "stdout",
     "output_type": "stream",
     "text": [
      "sMAPE \"глупой\" модели для флотации на тестовой выборке: 5.51%\n",
      "sMAPE \"глупой\" модели для очистки на тестовой выборке: 8.52%\n",
      "Итоговое sMAPE \"глупых\" моделей на тестовой выборке: 7.77%\n"
     ]
    }
   ],
   "source": [
    "dummy_rougher = DummyRegressor(strategy='mean')\n",
    "\n",
    "s_ape_dummy_rougher = s_ape_calc(\n",
    "    dummy_rougher,\n",
    "    features_train, target_rougher_train,\n",
    "    features_test, target_rougher_test\n",
    ")\n",
    "\n",
    "print('sMAPE \"глупой\" модели для флотации на тестовой выборке: {0:.3}'.format(s_ape_dummy_rougher.mean()) + '%')\n",
    "\n",
    "dummy_final = DummyRegressor(strategy='mean')\n",
    "\n",
    "s_ape_dummy_final = s_ape_calc(\n",
    "    dummy_final,\n",
    "    features_train, target_final_train,\n",
    "    features_test, target_final_test\n",
    ")\n",
    "\n",
    "print('sMAPE \"глупой\" модели для очистки на тестовой выборке: {0:.3}'.format(s_ape_dummy_final.mean()) + '%')\n",
    "\n",
    "s_ape_dummy_combined = .25 * s_ape_dummy_rougher + .75 * s_ape_dummy_final\n",
    "print('Итоговое sMAPE \"глупых\" моделей на тестовой выборке: {0:.3}'.format(s_ape_dummy_combined.mean()) + '%')"
   ]
  },
  {
   "cell_type": "markdown",
   "metadata": {},
   "source": [
    "Проверим, различаются ли метрики у нашей и константной моделей. Сформулируем гипотезы:\n",
    "\n",
    "* **Нулевая гипотеза Но:** метрики sMAPE у построеных моделей и у константных моделей равны.\n",
    "\n",
    "* **Альтернативная гипотеза Н1:** метрика sMAPE у построеных моделей меньше, чем у константных моделей.\n",
    "\n",
    "Зададим значение статистической значимости в 1%."
   ]
  },
  {
   "cell_type": "code",
   "execution_count": 51,
   "metadata": {},
   "outputs": [],
   "source": [
    "alpha = 0.01"
   ]
  },
  {
   "cell_type": "markdown",
   "metadata": {},
   "source": [
    "Мы не знаем, равны ли дисперсии выборок. Рассчитаем критерий Бартлетта с помощью `scipy.stats.bartlett()`, чтобы проверить равенство. Нулевая гипотеза этого теста - дисперсии равны."
   ]
  },
  {
   "cell_type": "code",
   "execution_count": 52,
   "metadata": {},
   "outputs": [
    {
     "name": "stdout",
     "output_type": "stream",
     "text": [
      "p-значение:  0.7283422669032238\n",
      "Дисперсии равны\n"
     ]
    }
   ],
   "source": [
    "results = st.bartlett(s_ape_combined, s_ape_dummy_combined)\n",
    "\n",
    "print('p-значение: ', results.pvalue)\n",
    "\n",
    "if results.pvalue < alpha:\n",
    "    print(\"Дисперсии не равны\")\n",
    "else:\n",
    "    print(\"Дисперсии равны\") "
   ]
  },
  {
   "cell_type": "markdown",
   "metadata": {},
   "source": [
    "Дисперсии равны, укажем `equal_var=True` для `scipy.stats.ttest_ind` - метод будет считать t-критерий Стьюдента.\n",
    "\n",
    "Гипотеза односторонняя, поэтому P-value берем в два раза меньше и добавляется сравнение sMAPE."
   ]
  },
  {
   "cell_type": "code",
   "execution_count": 53,
   "metadata": {},
   "outputs": [
    {
     "name": "stdout",
     "output_type": "stream",
     "text": [
      "p-значение:  0.0006172788816263332\n",
      "Отвергаем нулевую гипотезу\n"
     ]
    }
   ],
   "source": [
    "results = st.ttest_ind(s_ape_combined, s_ape_dummy_combined, equal_var=True)\n",
    "\n",
    "\n",
    "print('p-значение: ', results.pvalue / 2)\n",
    "\n",
    "if (results.pvalue / 2 < alpha) and (s_ape_combined.mean() < s_ape_dummy_combined.mean()):\n",
    "    print(\"Отвергаем нулевую гипотезу\")\n",
    "else:\n",
    "    print(\"Не получилось отвергнуть нулевую гипотезу\") "
   ]
  },
  {
   "cell_type": "markdown",
   "metadata": {},
   "source": [
    "Рассматривая одностороннюю гипотезу, мы можем заключить, что есть все основания отвергнуть Но гипотезу  и принять Н1: метрика sMAPE у построеных моделей меньше, чем у константных моделей."
   ]
  },
  {
   "cell_type": "markdown",
   "metadata": {},
   "source": [
    "#### Интерпретация модели."
   ]
  },
  {
   "cell_type": "markdown",
   "metadata": {},
   "source": [
    "Проинтерпретируем работу моделей. Воспользуемся методом `sklearn.inspection.permutation_importance`: он рассчитывает важность признаков, по одному перетасовывая признаки и отмечая, насколько ухудшается метрика модели на тестовом наборе данных. Напишем функцию `feature_importances_graph`,  которая рассчитывает важность признаков и выводит её в виде диаграммы."
   ]
  },
  {
   "cell_type": "code",
   "execution_count": 54,
   "metadata": {},
   "outputs": [],
   "source": [
    "def feature_importances_graph(model, target_test, process_stage=''):\n",
    "    \n",
    "    result = permutation_importance(model, features_test, target_test, scoring=score, random_state=123)\n",
    "    feature_importances = result.importances_mean.tolist()\n",
    "    feature_names = features_train.columns.tolist()\n",
    "\n",
    "        # график\n",
    "    fig = go.Figure(go.Bar(\n",
    "        x=feature_importances,\n",
    "        y=feature_names,\n",
    "        error_x=dict(array=result.importances_std, color='green'),\n",
    "        orientation='h',\n",
    "        marker={'color': feature_importances,\n",
    "                'colorscale': 'bluered'}\n",
    "    ))\n",
    "    fig.update_yaxes(categoryorder='total ascending')\n",
    "    fig.update_layout(\n",
    "        height=900, width=900,\n",
    "        title={'text': 'Важность признаков для предсказаний модели ' + process_stage,\n",
    "                'x':0.5, 'xanchor': 'center'},\n",
    "    )\n",
    "    fig.show()"
   ]
  },
  {
   "cell_type": "markdown",
   "metadata": {},
   "source": [
    "Рассчитаем важность признаков для моделей обоих этапов."
   ]
  },
  {
   "cell_type": "code",
   "execution_count": 55,
   "metadata": {},
   "outputs": [
    {
     "data": {
      "image/png": "[encoded data removed]"
     },
     "metadata": {},
     "output_type": "display_data"
    }
   ],
   "source": [
    "feature_importances_graph(model_rougher, target_rougher_test, 'на стадии флотации')"
   ]
  },
  {
   "cell_type": "code",
   "execution_count": 56,
   "metadata": {},
   "outputs": [
    {
     "data": {
      "image/png": "[encoded data removed]"
     },
     "metadata": {},
     "output_type": "display_data"
    }
   ],
   "source": [
    "feature_importances_graph(model_final, target_final_test, 'на стадии очистки')"
   ]
  },
  {
   "cell_type": "markdown",
   "metadata": {},
   "source": [
    "Наблюдаем,что:\n",
    "\n",
    "* Самый важный признак для обоих этапов - `rougher.input.feed_ag` - концентрация серебра в изначальной руде. Почему серебра? Скорее всего, на эффективнось обогащения больше всего влияет концентрация золота в руде. Однако признак концентрации золота был нами отброшен, так как он сильно коррелировал с концентрацией серебра. Здесь всё логично, концентрация золота в руде непосредственно фигурирует в формуле, по которой рассчитывается целевой признак.\n",
    "\n",
    "* Для предсказаний этапа флотации также важны уровень жидкости во фолтационных баках, количество сульфида натрия, размер гранул руды.\n",
    "\n",
    "* Для предсказаний этапа очистки важно количество ксантогената на этапе флотации, давление воздуха в баках тонкой очистки, количество сульфида натрия."
   ]
  },
  {
   "cell_type": "markdown",
   "metadata": {},
   "source": [
    "### Вывод"
   ]
  },
  {
   "cell_type": "markdown",
   "metadata": {},
   "source": [
    "В ходе построения модели:\n",
    "\n",
    "* Выполнена проверка мультиколлинеарности признаков. Найдены призкаки, используемые для обучения модели, корреляция между которыми в исходных данных по модулю больше 0.8. В основном это признаки, описывающие текущее состояние этапа обработки (`state`). Коррелируют как правило значения в разных флотационных установках на одном и том же этапе (например, уровень воздуха в флотационных установках 10_b, 10_c, 10_d, 10_e и 10_f на этапе флотации). Логично предположить, что при запуске этапа процесса на всех установках выставляют одинаковые параметры.\n",
    "\n",
    "\n",
    "* Часть сильно коррелирующих признаков отброшена, так как наличие сильных корреляций увеличит дисперсию оценок модели, а это снизит значение метрики. Оставлен один признак из каждой коррелирующей групы.\n",
    "\n",
    "\n",
    "* Выделены признаки и целевой признак для обучающей (12152 объектов, 32 признака, 2 целевых признака) и тестовой (5113 объектов, 32 признака, 2 целевых признака) выборок.\n",
    "\n",
    "\n",
    "* Построены модели линейной регрессии, решающего дерева и случайного леса для этапа флотации и этапа очистки. Произведена кросс-валидация моделей и подбор гиперпараметров на обучающей выборке. Для оценки моделей использована метрика sMAPE (англ. Symmetric Mean Absolute Percentage Error, «симметричное среднее абсолютное процентное отклонение»), которая показывает процентную ошибку предсказаний моделе в интервале от 0% до 200%.\n",
    "\n",
    "\n",
    "* По результатам кросс валидации были выбраны **лучшие модели**:\n",
    "\n",
    "    * Модель случайного леса с параметром глубины 13 и количеством деревьев 317 для этапа флотации: sMAPE = 6.24%\n",
    "    * Модель случайного леса с параметром глубины 6 и количеством деревьев 845 для этапа очистки, : sMAPE = 9.00%\n",
    "    \n",
    "\n",
    "* Выполнена проверка лучших моделей на тестовой выборке, рассчитана итоговая метрика $\\text{Итоговое sMAPE} = 25\\%\\times \\text{sMAPE(rougher)} + 75\\%\\times \\text{sMAPE(final)}$:\n",
    "    * sMAPE модели для флотации на тестовой выборке: 5.23%\n",
    "    * sMAPE модели для очистки на тестовой выборке: 8.01%\n",
    "    * **Итоговое sMAPE моделей на тестовой выборке: 7.31%**\n",
    "\n",
    "    \n",
    "* Выполнена проверка адекватности моделей: произведено сравнение их результатов с результатами \"глупой\" модели, которая предсказывает только средние значения для целевого признака:\n",
    "    * sMAPE \"глупой\" модели для флотации на тестовой выборке: 5.51%\n",
    "    * sMAPE \"глупой\" модели для очистки на тестовой выборке: 8.52%\n",
    "    * **Итоговое sMAPE \"глупых\" моделей на тестовой выборке: 7.77%**\n",
    "    \n",
    "    \n",
    "* Выполнена проверка с помощью t-критерия Стьюдента, различаются ли метрики у нашей и константной моделей. на уровне статистической начимости в 1% принята следующая гипотеза: **метрика sMAPE у построеных моделей меньше, чем у константных моделей**\n",
    "\n",
    "\n",
    "* Проинтепретирована работа моделей, выделены наиболее важные признаки:\n",
    "\n",
    "    * Самый важный признак для обоих этапов - `rougher.input.feed_ag` - концентрация серебра в изначальной руде. Почему серебра? Скорее всего, на эффективнось обогащения больше всего влияет концентрация золота в руде. Однако признак концентрации золота был нами отброшен, так как он сильно коррелировал с концентрацией серебра. Здесь всё логично, концентрация золота в руде непосредственно фигурирует в формуле, по которой рассчитывается целевой признак.\n",
    "\n",
    "    * Для предсказаний этапа флотации также важны уровень жидкости во фолтационных баках, количество сульфида натрия, размер гранул руды.\n",
    "\n",
    "    * Для предсказаний этапа очистки важно количество ксантогената на этапе флотации, давление воздуха в баках тонкой очистки, количество сульфида натрия."
   ]
  },
  {
   "cell_type": "markdown",
   "metadata": {},
   "source": [
    "## Вывод"
   ]
  },
  {
   "cell_type": "markdown",
   "metadata": {},
   "source": [
    "В ходе данного исследования был произведен анализ данных с параметрами добычи и очистки золота из золотосодержащей руды, а также подготовлен прототип модели машинного обучения, предсказывающей коэффициент восстановления золота из золотосодержащей руды, для компании «Цифра». Модель должна помочь оптимизировать производство.\n",
    "\n",
    "---\n",
    "\n",
    "На входе были даны три таблицы с выборками:\n",
    "\n",
    "1. **Обучающая**: 14149 объектов, 87 колонок\n",
    "2. **Тестовая**: 5290 объектов, 53 колонки\n",
    "3. **Исходные данные**: 19439 объектов, 87 колонок\n",
    "\n",
    "Тестовая выборка составляет 27.21% от исходных данных.\n",
    "\n",
    "---\n",
    "\n",
    "Признаки можно разделить на категории:\n",
    "\n",
    "1. Сырьё и характеристики процессов обработки`.\n",
    "2. Продукты процессов обработки.\n",
    "3. Расчётные характеристики. Сюда же технически можно отнести и **целевые признаки**: `rougher.output.recovery` - коэффициент восстановления золота на этапе флотации и `final.output.recovery` - коэффициент восстановления золота на этапе очистки.\n",
    "\n",
    "---\n",
    "\n",
    "**В ходе подготовки данных:**\n",
    "\n",
    "* Проверено наличие полных дубликатов в данных, таковых не обнаружено.\n",
    "\n",
    "* Изменен тип данных колонки с датой и временем наблюдений на тип `datetime`, сама колонка преобразована в индекс для всех таблиц.\n",
    "\n",
    "* Пропуски в данных заполнены значениями предыдущих или следующих доступных наблюдений (максимум 4 пропуска подряд). Остальные строки с пропусками удалены. Отброшено 9% исходных данных.\n",
    "\n",
    "* Проверена правильность рассчета целевого признака `rougher.output.recovery` на обучающей выборке. Средняя абсолютная ошибка (MAE) между расчётными значениями и значением признака из таблицы равна $9.83\\times10^{-15}$ - скорее всего, погрешность при округлении. Сделан вывод, что целевой признак рассчитан верно.\n",
    "\n",
    "* Изучены 34 признака, которые отсутствуют в тестовой выборке, но есть в обучающей выборке и в исходных данных. Это признаки, относящиеся к следующим категориям: продукты процессов обработки - `output` и расчётные характеристики - `calculation`. Эти значения не нужны для построения модели, так как получаются позже момента, когда модель может быть применена - после окончания соответствующего этапа процесса очистки. Также в тестовой выборке нет целевых признаков - `rougher.output.recovery` и `final.output.recovery`.\n",
    "\n",
    "---\n",
    "\n",
    "**В ходе анализа данных:**\n",
    "\n",
    "* Проанализировано распределение данных в выборках по датам. Построен график рассеяния целевого признака `final.output.recovery` в зависимости от даты наблюдения. Из графика видно, как именно были разделены выборки: три периода для обучающей и два для тестовой. Целевой признак `final.output.recovery` распределен по датам в выбрках сходным образом.\n",
    "\n",
    "* Изучено изменение концентрациии разных металлов (золото, серебро, свинец) в процессе очистки золотой руды. Построен линейный график концентраций металлов на разных стадиях обработки. Из графика видно, что в процессе обрабтки концентрация золота растет, причем сильнее на этапе очистки, чем на этапе флотации. Таким образом, важнее правильно предсказывать результаты именно этапа очистки, что отражено в нашей формуле рассчета итоговой метрики: $\\text{Итоговое sMAPE} = 25\\%\\times \\text{sMAPE(rougher)} + 75\\%\\times \\text{sMAPE(final)}$. Концентрация свинца незначительно растет на обоих этапах. Концентрация серебра растет на этапе флотации, но падает на этапе очистки - часть серебра остается в отвальных хвостах.\n",
    "\n",
    "* Проанализированы распределения размеров гранул сырья (`rougher.input.feed_size` и `primary_cleaner.input.feed_size`) для тестовой и обучающей выборок. Построены гистограммы и boxplot. Распределение для тестовой выборки немного отличается от такового для обучающей - первое сдвинуто немного в меньшую сторону. Однако в целом размеры большинства частиц лежат в оптимальном интервале 40—100 мкм [«Флотация руды»: ООО \"Техноаналитприбор\"](https://techade.ru/stati/flotatsiya-rudy) для обоих выборок. Выборки подходят для оценки.\n",
    "\n",
    "* Проанализированы распределения суммарной концентрации всех веществ (Ag, Pb, Au, Sol) на разных стадиях обработки: в исходном сырье, в черновом концентрате, в финальном концентрате. Построены гистограммы и boxplot. Сделано наблюдение, что на стадиях чернового и финального концентрата есть значения суммарной концентрации 0. Эти значения присзнаны подозрительными (скорее всего, неточность измерения), принято решение от них избавиться. После удаления выбросов потеряно порядка 2.5% данных в каждой таблице.\n",
    "\n",
    "---\n",
    "\n",
    "В ходе построения модели:\n",
    "\n",
    "* Выполнена проверка мультиколлинеарности признаков. Найдены призкаки, используемые для обучения модели, корреляция между которыми в исходных данных по модулю больше 0.8. В основном это признаки, описывающие текущее состояние этапа обработки (`state`). Коррелируют как правило значения в разных флотационных установках на одном и том же этапе (например, уровень воздуха в флотационных установках 10_b, 10_c, 10_d, 10_e и 10_f на этапе флотации). Логично предположить, что при запуске этапа процесса на всех установках выставляют одинаковые параметры.\n",
    "\n",
    "\n",
    "* Часть сильно коррелирующих признаков отброшена, так как наличие сильных корреляций увеличит дисперсию оценок модели, а это снизит значение метрики. Оставлен один признак из каждой коррелирующей групы.\n",
    "\n",
    "\n",
    "* Выделены признаки и целевой признак для обучающей (12152 объектов, 32 признака, 2 целевых признака) и тестовой (5113 объектов, 32 признака, 2 целевых признака) выборок.\n",
    "\n",
    "\n",
    "* Построены модели линейной регрессии, решающего дерева и случайного леса для этапа флотации и этапа очистки. Произведена кросс-валидация моделей и подбор гиперпараметров на обучающей выборке. Для оценки моделей использована метрика sMAPE (англ. Symmetric Mean Absolute Percentage Error, «симметричное среднее абсолютное процентное отклонение»), которая показывает процентную ошибку предсказаний моделе в интервале от 0% до 200%.\n",
    "\n",
    "\n",
    "* По результатам кросс валидации были выбраны **лучшие модели**:\n",
    "\n",
    "    * Модель случайного леса с параметром глубины 13 и количеством деревьев 317 для этапа флотации: sMAPE = 6.24%\n",
    "    * Модель случайного леса с параметром глубины 6 и количеством деревьев 845 для этапа очистки, : sMAPE = 9.00%\n",
    "    \n",
    "\n",
    "* Выполнена проверка лучших моделей на тестовой выборке, рассчитана итоговая метрика $\\text{Итоговое sMAPE} = 25\\%\\times \\text{sMAPE(rougher)} + 75\\%\\times \\text{sMAPE(final)}$:\n",
    "    * sMAPE модели для флотации на тестовой выборке: 5.23%\n",
    "    * sMAPE модели для очистки на тестовой выборке: 8.01%\n",
    "    * **Итоговое sMAPE моделей на тестовой выборке: 7.31%**\n",
    "\n",
    "    \n",
    "* Выполнена проверка адекватности моделей: произведено сравнение их результатов с результатами \"глупой\" модели, которая предсказывает только средние значения для целевого признака:\n",
    "    * sMAPE \"глупой\" модели для флотации на тестовой выборке: 5.51%\n",
    "    * sMAPE \"глупой\" модели для очистки на тестовой выборке: 8.52%\n",
    "    * **Итоговое sMAPE \"глупых\" моделей на тестовой выборке: 7.77%**\n",
    "    \n",
    "    \n",
    "* Выполнена проверка с помощью t-критерия Стьюдента, различаются ли метрики у нашей и константной моделей. на уровне статистической начимости в 1% принята следующая гипотеза: **метрика sMAPE у построеных моделей меньше, чем у константных моделей**\n",
    "\n",
    "\n",
    "* Проинтепретирована работа моделей, выделены наиболее важные признаки:\n",
    "\n",
    "    * Самый важный признак для обоих этапов - `rougher.input.feed_ag` - концентрация серебра в изначальной руде. Почему серебра? Скорее всего, на эффективнось обогащения больше всего влияет концентрация золота в руде. Однако признак концентрации золота был нами отброшен, так как он сильно коррелировал с концентрацией серебра. Здесь всё логично, концентрация золота в руде непосредственно фигурирует в формуле, по которой рассчитывается целевой признак.\n",
    "\n",
    "    * Для предсказаний этапа флотации также важны уровень жидкости во фолтационных баках, количество сульфида натрия, размер гранул руды.\n",
    "\n",
    "    * Для предсказаний этапа очистки важно количество ксантогената на этапе флотации, давление воздуха в баках тонкой очистки, количество сульфида натрия.\n",
    "\n",
    "---\n",
    "\n",
    "Можно сделать вывод, что прототип модели построен адекватно: его предсказания лучше, чем у константной модели. Однако разница метрики ошибки не так велика, значит до внедрения модель можно улучшить:\n",
    "* Попробовать другие алгоритмы машинного обучения - например, градиентный бустинг.\n",
    "* Продолжить конструирование признаков. Все испробованые модели хуже предсказывают целевой признак на этапе очистки. Возможно стоит попробовать разные комбинации имеющихся признаков для обучения модели для этого этапа. Возможно, для улучшения работы модели нужны дополнительные признаки, которых нет в исходных данных."
   ]
  }
 ],
 "metadata": {
  "ExecuteTimeLog": [
   {
    "duration": 1535,
    "start_time": "2021-07-26T14:12:48.093Z"
   },
   {
    "duration": 1978,
    "start_time": "2021-07-26T14:12:51.047Z"
   },
   {
    "duration": 7667,
    "start_time": "2021-07-26T14:13:43.386Z"
   },
   {
    "duration": 289,
    "start_time": "2021-07-26T14:13:51.056Z"
   },
   {
    "duration": 38,
    "start_time": "2021-07-26T14:13:58.118Z"
   },
   {
    "duration": 412,
    "start_time": "2021-07-26T14:16:59.951Z"
   },
   {
    "duration": 46,
    "start_time": "2021-07-26T14:17:54.519Z"
   },
   {
    "duration": 85,
    "start_time": "2021-07-26T18:32:16.005Z"
   },
   {
    "duration": 88,
    "start_time": "2021-07-26T18:57:36.072Z"
   },
   {
    "duration": 58,
    "start_time": "2021-07-26T20:28:06.543Z"
   },
   {
    "duration": 54,
    "start_time": "2021-07-26T20:28:46.892Z"
   },
   {
    "duration": 501,
    "start_time": "2021-07-26T20:29:59.400Z"
   },
   {
    "duration": 81,
    "start_time": "2021-07-26T21:22:54.264Z"
   },
   {
    "duration": 5,
    "start_time": "2021-07-26T21:26:11.814Z"
   },
   {
    "duration": 1051,
    "start_time": "2021-07-26T21:26:13.695Z"
   },
   {
    "duration": 51,
    "start_time": "2021-07-26T21:26:18.628Z"
   },
   {
    "duration": 44,
    "start_time": "2021-07-26T21:26:19.015Z"
   },
   {
    "duration": 54,
    "start_time": "2021-07-26T21:26:23.001Z"
   },
   {
    "duration": 301,
    "start_time": "2021-07-27T16:55:17.762Z"
   },
   {
    "duration": 2036,
    "start_time": "2021-07-27T16:55:25.533Z"
   },
   {
    "duration": 910,
    "start_time": "2021-07-27T16:55:27.572Z"
   },
   {
    "duration": 56,
    "start_time": "2021-07-27T16:55:28.485Z"
   },
   {
    "duration": 63,
    "start_time": "2021-07-27T16:55:28.543Z"
   },
   {
    "duration": 84,
    "start_time": "2021-07-27T16:55:28.609Z"
   },
   {
    "duration": 5,
    "start_time": "2021-07-27T16:55:28.697Z"
   },
   {
    "duration": 6,
    "start_time": "2021-07-27T16:55:44.637Z"
   },
   {
    "duration": 7,
    "start_time": "2021-07-27T16:56:48.143Z"
   },
   {
    "duration": 442,
    "start_time": "2021-07-27T17:01:43.733Z"
   },
   {
    "duration": 91,
    "start_time": "2021-07-27T17:03:55.872Z"
   },
   {
    "duration": 95,
    "start_time": "2021-07-27T17:04:03.204Z"
   },
   {
    "duration": 224,
    "start_time": "2021-07-27T17:05:58.928Z"
   },
   {
    "duration": 6,
    "start_time": "2021-07-27T17:12:18.111Z"
   },
   {
    "duration": 5,
    "start_time": "2021-07-27T17:12:29.009Z"
   },
   {
    "duration": 243,
    "start_time": "2021-07-27T17:13:30.770Z"
   },
   {
    "duration": 6,
    "start_time": "2021-07-27T17:14:48.383Z"
   },
   {
    "duration": 3,
    "start_time": "2021-07-27T17:15:08.080Z"
   },
   {
    "duration": 6,
    "start_time": "2021-07-27T17:15:15.350Z"
   },
   {
    "duration": 3,
    "start_time": "2021-07-27T17:19:35.421Z"
   },
   {
    "duration": 6,
    "start_time": "2021-07-27T17:19:40.634Z"
   },
   {
    "duration": 12,
    "start_time": "2021-07-27T17:23:02.758Z"
   },
   {
    "duration": 533,
    "start_time": "2021-07-27T17:32:55.783Z"
   },
   {
    "duration": 3520,
    "start_time": "2021-07-27T17:33:47.220Z"
   },
   {
    "duration": 84,
    "start_time": "2021-07-27T17:34:03.001Z"
   },
   {
    "duration": 74,
    "start_time": "2021-07-27T17:34:56.491Z"
   },
   {
    "duration": 71,
    "start_time": "2021-07-27T17:35:05.896Z"
   },
   {
    "duration": 73,
    "start_time": "2021-07-27T17:36:42.885Z"
   },
   {
    "duration": 72,
    "start_time": "2021-07-27T17:36:47.745Z"
   },
   {
    "duration": 74,
    "start_time": "2021-07-27T17:37:33.421Z"
   },
   {
    "duration": 72,
    "start_time": "2021-07-27T17:38:35.815Z"
   },
   {
    "duration": 70,
    "start_time": "2021-07-27T17:38:40.694Z"
   },
   {
    "duration": 23,
    "start_time": "2021-07-27T17:40:10.199Z"
   },
   {
    "duration": 16,
    "start_time": "2021-07-27T17:40:34.744Z"
   },
   {
    "duration": 16,
    "start_time": "2021-07-27T17:43:15.851Z"
   },
   {
    "duration": 337,
    "start_time": "2021-07-27T17:44:00.496Z"
   },
   {
    "duration": 7,
    "start_time": "2021-07-27T17:56:04.213Z"
   },
   {
    "duration": 106,
    "start_time": "2021-07-27T18:01:12.174Z"
   },
   {
    "duration": 5,
    "start_time": "2021-07-27T18:01:32.027Z"
   },
   {
    "duration": 12,
    "start_time": "2021-07-27T18:01:33.725Z"
   },
   {
    "duration": 7,
    "start_time": "2021-07-27T18:01:43.344Z"
   },
   {
    "duration": 4,
    "start_time": "2021-07-27T18:02:56.487Z"
   },
   {
    "duration": 83,
    "start_time": "2021-07-27T18:04:11.488Z"
   },
   {
    "duration": 7,
    "start_time": "2021-07-27T18:04:42.824Z"
   },
   {
    "duration": 6,
    "start_time": "2021-07-27T18:04:54.564Z"
   },
   {
    "duration": 5,
    "start_time": "2021-07-27T18:07:08.600Z"
   },
   {
    "duration": 9,
    "start_time": "2021-07-27T18:26:36.349Z"
   },
   {
    "duration": 6385,
    "start_time": "2021-07-27T18:26:37.331Z"
   },
   {
    "duration": 295,
    "start_time": "2021-07-27T18:26:55.482Z"
   },
   {
    "duration": 34,
    "start_time": "2021-07-27T18:27:38.406Z"
   },
   {
    "duration": 13,
    "start_time": "2021-07-27T18:27:39.539Z"
   },
   {
    "duration": 285,
    "start_time": "2021-07-27T18:27:53.992Z"
   },
   {
    "duration": 2040,
    "start_time": "2021-07-27T18:28:09.382Z"
   },
   {
    "duration": 925,
    "start_time": "2021-07-27T18:28:11.424Z"
   },
   {
    "duration": 61,
    "start_time": "2021-07-27T18:28:12.352Z"
   },
   {
    "duration": 75,
    "start_time": "2021-07-27T18:28:12.415Z"
   },
   {
    "duration": 100,
    "start_time": "2021-07-27T18:28:12.492Z"
   },
   {
    "duration": 4,
    "start_time": "2021-07-27T18:28:12.596Z"
   },
   {
    "duration": 29,
    "start_time": "2021-07-27T18:28:12.604Z"
   },
   {
    "duration": 38,
    "start_time": "2021-07-27T18:28:12.636Z"
   },
   {
    "duration": 502,
    "start_time": "2021-07-27T18:28:12.677Z"
   },
   {
    "duration": 34,
    "start_time": "2021-07-27T18:28:37.444Z"
   },
   {
    "duration": 924,
    "start_time": "2021-07-27T18:29:18.522Z"
   },
   {
    "duration": 15,
    "start_time": "2021-07-27T18:29:48.597Z"
   },
   {
    "duration": 11,
    "start_time": "2021-07-27T18:29:50.787Z"
   },
   {
    "duration": 20,
    "start_time": "2021-07-27T18:29:53.511Z"
   },
   {
    "duration": 278,
    "start_time": "2021-07-27T18:29:55.661Z"
   },
   {
    "duration": 314,
    "start_time": "2021-07-27T18:30:03.807Z"
   },
   {
    "duration": 303,
    "start_time": "2021-07-27T18:30:17.815Z"
   },
   {
    "duration": 1962,
    "start_time": "2021-07-27T18:30:32.064Z"
   },
   {
    "duration": 917,
    "start_time": "2021-07-27T18:30:34.029Z"
   },
   {
    "duration": 61,
    "start_time": "2021-07-27T18:30:34.949Z"
   },
   {
    "duration": 64,
    "start_time": "2021-07-27T18:30:35.012Z"
   },
   {
    "duration": 53,
    "start_time": "2021-07-27T18:30:35.079Z"
   },
   {
    "duration": 28,
    "start_time": "2021-07-27T18:30:35.135Z"
   },
   {
    "duration": 28,
    "start_time": "2021-07-27T18:30:35.166Z"
   },
   {
    "duration": 15,
    "start_time": "2021-07-27T18:30:35.197Z"
   },
   {
    "duration": 27,
    "start_time": "2021-07-27T18:30:35.214Z"
   },
   {
    "duration": 520,
    "start_time": "2021-07-27T18:30:35.243Z"
   },
   {
    "duration": 11,
    "start_time": "2021-07-27T18:37:04.885Z"
   },
   {
    "duration": 8,
    "start_time": "2021-07-27T18:37:15.126Z"
   },
   {
    "duration": 16,
    "start_time": "2021-07-27T18:38:37.946Z"
   },
   {
    "duration": 15,
    "start_time": "2021-07-27T18:38:49.114Z"
   },
   {
    "duration": 294,
    "start_time": "2021-07-27T18:40:20.988Z"
   },
   {
    "duration": 12,
    "start_time": "2021-07-27T18:40:33.166Z"
   },
   {
    "duration": 13,
    "start_time": "2021-07-27T18:40:49.616Z"
   },
   {
    "duration": 13,
    "start_time": "2021-07-27T18:41:09.302Z"
   },
   {
    "duration": 4,
    "start_time": "2021-07-27T18:43:55.620Z"
   },
   {
    "duration": 14,
    "start_time": "2021-07-27T18:43:56.189Z"
   },
   {
    "duration": 4906,
    "start_time": "2021-07-27T18:52:11.749Z"
   },
   {
    "duration": 71,
    "start_time": "2021-07-27T18:52:23.984Z"
   },
   {
    "duration": 165,
    "start_time": "2021-07-27T18:53:17.321Z"
   },
   {
    "duration": 8,
    "start_time": "2021-07-27T18:53:41.690Z"
   },
   {
    "duration": 7,
    "start_time": "2021-07-27T18:53:56.239Z"
   },
   {
    "duration": 8,
    "start_time": "2021-07-27T18:54:10.785Z"
   },
   {
    "duration": 285,
    "start_time": "2021-07-27T18:54:40.120Z"
   },
   {
    "duration": 8,
    "start_time": "2021-07-27T18:55:22.751Z"
   },
   {
    "duration": 8,
    "start_time": "2021-07-27T18:55:30.176Z"
   },
   {
    "duration": 8,
    "start_time": "2021-07-27T18:55:39.966Z"
   },
   {
    "duration": 10,
    "start_time": "2021-07-27T18:56:10.617Z"
   },
   {
    "duration": 4,
    "start_time": "2021-07-27T18:56:13.399Z"
   },
   {
    "duration": 9,
    "start_time": "2021-07-27T18:56:13.816Z"
   },
   {
    "duration": 300,
    "start_time": "2021-07-27T18:56:34.987Z"
   },
   {
    "duration": 8,
    "start_time": "2021-07-27T18:56:58.521Z"
   },
   {
    "duration": 8,
    "start_time": "2021-07-27T18:57:09.199Z"
   },
   {
    "duration": 237,
    "start_time": "2021-07-27T18:57:24.194Z"
   },
   {
    "duration": 265,
    "start_time": "2021-07-27T18:57:27.476Z"
   },
   {
    "duration": 23,
    "start_time": "2021-07-27T18:57:37.774Z"
   },
   {
    "duration": 245,
    "start_time": "2021-07-27T18:58:32.601Z"
   },
   {
    "duration": 1967,
    "start_time": "2021-07-27T18:59:06.818Z"
   },
   {
    "duration": 1110,
    "start_time": "2021-07-27T18:59:08.788Z"
   },
   {
    "duration": 109,
    "start_time": "2021-07-27T18:59:09.901Z"
   },
   {
    "duration": 44,
    "start_time": "2021-07-27T18:59:10.063Z"
   },
   {
    "duration": 158,
    "start_time": "2021-07-27T18:59:10.110Z"
   },
   {
    "duration": 22,
    "start_time": "2021-07-27T18:59:10.271Z"
   },
   {
    "duration": 66,
    "start_time": "2021-07-27T18:59:10.296Z"
   },
   {
    "duration": 14,
    "start_time": "2021-07-27T18:59:10.365Z"
   },
   {
    "duration": 5245,
    "start_time": "2021-07-27T18:59:10.381Z"
   },
   {
    "duration": 7,
    "start_time": "2021-07-27T18:59:15.629Z"
   },
   {
    "duration": 23,
    "start_time": "2021-07-27T18:59:15.638Z"
   },
   {
    "duration": 12,
    "start_time": "2021-07-27T18:59:15.664Z"
   },
   {
    "duration": 7,
    "start_time": "2021-07-27T18:59:15.679Z"
   },
   {
    "duration": 458,
    "start_time": "2021-07-27T18:59:15.689Z"
   },
   {
    "duration": 5,
    "start_time": "2021-07-27T18:59:53.995Z"
   },
   {
    "duration": 29,
    "start_time": "2021-07-27T19:00:26.852Z"
   },
   {
    "duration": 10183,
    "start_time": "2021-07-27T19:01:13.707Z"
   },
   {
    "duration": 9,
    "start_time": "2021-07-27T19:01:23.893Z"
   },
   {
    "duration": 14,
    "start_time": "2021-07-27T19:01:31.820Z"
   },
   {
    "duration": 558,
    "start_time": "2021-07-27T19:01:33.117Z"
   },
   {
    "duration": 1858,
    "start_time": "2021-07-27T19:02:08.156Z"
   },
   {
    "duration": 921,
    "start_time": "2021-07-27T19:02:10.017Z"
   },
   {
    "duration": 63,
    "start_time": "2021-07-27T19:02:10.940Z"
   },
   {
    "duration": 66,
    "start_time": "2021-07-27T19:02:11.006Z"
   },
   {
    "duration": 56,
    "start_time": "2021-07-27T19:02:11.075Z"
   },
   {
    "duration": 48,
    "start_time": "2021-07-27T19:02:11.134Z"
   },
   {
    "duration": 4,
    "start_time": "2021-07-27T19:02:11.184Z"
   },
   {
    "duration": 40,
    "start_time": "2021-07-27T19:02:11.193Z"
   },
   {
    "duration": 10522,
    "start_time": "2021-07-27T19:02:11.236Z"
   },
   {
    "duration": 7,
    "start_time": "2021-07-27T19:02:21.762Z"
   },
   {
    "duration": 7,
    "start_time": "2021-07-27T19:02:21.771Z"
   },
   {
    "duration": 21,
    "start_time": "2021-07-27T19:02:21.780Z"
   },
   {
    "duration": 684,
    "start_time": "2021-07-27T19:02:21.804Z"
   },
   {
    "duration": -3538,
    "start_time": "2021-07-27T19:02:26.028Z"
   },
   {
    "duration": -3539,
    "start_time": "2021-07-27T19:02:26.031Z"
   },
   {
    "duration": -3548,
    "start_time": "2021-07-27T19:02:26.041Z"
   },
   {
    "duration": 233,
    "start_time": "2021-07-27T19:05:15.888Z"
   },
   {
    "duration": 513,
    "start_time": "2021-07-27T19:05:23.079Z"
   },
   {
    "duration": 263,
    "start_time": "2021-07-27T19:05:54.721Z"
   },
   {
    "duration": 191,
    "start_time": "2021-07-27T19:06:04.657Z"
   },
   {
    "duration": 309,
    "start_time": "2021-07-27T19:06:12.494Z"
   },
   {
    "duration": 6530,
    "start_time": "2021-07-27T19:07:25.004Z"
   },
   {
    "duration": 104,
    "start_time": "2021-07-27T19:07:38.797Z"
   },
   {
    "duration": 95,
    "start_time": "2021-07-27T19:09:47.524Z"
   },
   {
    "duration": 191,
    "start_time": "2021-07-27T19:10:14.671Z"
   },
   {
    "duration": 21,
    "start_time": "2021-07-27T19:11:26.920Z"
   },
   {
    "duration": 1990,
    "start_time": "2021-07-27T19:11:44.865Z"
   },
   {
    "duration": 918,
    "start_time": "2021-07-27T19:11:46.858Z"
   },
   {
    "duration": 58,
    "start_time": "2021-07-27T19:11:48.579Z"
   },
   {
    "duration": 45,
    "start_time": "2021-07-27T19:11:48.751Z"
   },
   {
    "duration": 51,
    "start_time": "2021-07-27T19:11:50.366Z"
   },
   {
    "duration": 36,
    "start_time": "2021-07-27T19:11:55.825Z"
   },
   {
    "duration": 4,
    "start_time": "2021-07-27T19:11:57.806Z"
   },
   {
    "duration": 28,
    "start_time": "2021-07-27T19:11:59.110Z"
   },
   {
    "duration": 19,
    "start_time": "2021-07-27T19:12:36.693Z"
   },
   {
    "duration": 7,
    "start_time": "2021-07-27T19:13:00.409Z"
   },
   {
    "duration": 98,
    "start_time": "2021-07-27T19:13:34.791Z"
   },
   {
    "duration": 11,
    "start_time": "2021-07-27T19:15:26.763Z"
   },
   {
    "duration": 6876,
    "start_time": "2021-07-27T19:15:54.893Z"
   },
   {
    "duration": 29,
    "start_time": "2021-07-27T19:17:11.830Z"
   },
   {
    "duration": 16898,
    "start_time": "2021-07-27T19:22:02.143Z"
   },
   {
    "duration": 5,
    "start_time": "2021-07-27T19:22:21.853Z"
   },
   {
    "duration": 27,
    "start_time": "2021-07-27T19:22:22.439Z"
   },
   {
    "duration": 578,
    "start_time": "2021-07-27T19:22:28.551Z"
   },
   {
    "duration": 3,
    "start_time": "2021-07-27T19:28:12.765Z"
   },
   {
    "duration": 249,
    "start_time": "2021-07-27T19:28:38.369Z"
   },
   {
    "duration": 18,
    "start_time": "2021-07-27T19:30:02.459Z"
   },
   {
    "duration": 4,
    "start_time": "2021-07-27T19:32:20.863Z"
   },
   {
    "duration": 91,
    "start_time": "2021-07-27T19:32:32.254Z"
   },
   {
    "duration": 14,
    "start_time": "2021-07-27T19:32:38.359Z"
   },
   {
    "duration": 275,
    "start_time": "2021-07-27T19:32:54.486Z"
   },
   {
    "duration": 13,
    "start_time": "2021-07-27T19:33:59.119Z"
   },
   {
    "duration": 6,
    "start_time": "2021-07-27T19:35:15.660Z"
   },
   {
    "duration": 6,
    "start_time": "2021-07-27T19:35:31.769Z"
   },
   {
    "duration": 6,
    "start_time": "2021-07-27T19:35:42.943Z"
   },
   {
    "duration": 284,
    "start_time": "2021-07-27T19:35:53.141Z"
   },
   {
    "duration": 7,
    "start_time": "2021-07-27T19:36:53.215Z"
   },
   {
    "duration": 89,
    "start_time": "2021-07-27T19:37:00.481Z"
   },
   {
    "duration": 8,
    "start_time": "2021-07-27T19:38:55.915Z"
   },
   {
    "duration": 7,
    "start_time": "2021-07-27T19:41:42.197Z"
   },
   {
    "duration": 6,
    "start_time": "2021-07-27T19:42:13.536Z"
   },
   {
    "duration": 7,
    "start_time": "2021-07-27T19:43:16.236Z"
   },
   {
    "duration": 8,
    "start_time": "2021-07-27T19:43:34.225Z"
   },
   {
    "duration": 14,
    "start_time": "2021-07-27T19:44:14.094Z"
   },
   {
    "duration": 108,
    "start_time": "2021-07-27T19:44:30.308Z"
   },
   {
    "duration": 5,
    "start_time": "2021-07-27T19:44:38.996Z"
   },
   {
    "duration": 723,
    "start_time": "2021-07-27T19:44:59.784Z"
   },
   {
    "duration": 448,
    "start_time": "2021-07-27T19:45:16.912Z"
   },
   {
    "duration": 7,
    "start_time": "2021-07-27T19:45:32.755Z"
   },
   {
    "duration": 6,
    "start_time": "2021-07-27T19:45:58.146Z"
   },
   {
    "duration": 433,
    "start_time": "2021-07-27T19:48:15.476Z"
   },
   {
    "duration": 7,
    "start_time": "2021-07-27T19:48:26.503Z"
   },
   {
    "duration": 5,
    "start_time": "2021-07-27T19:48:59.037Z"
   },
   {
    "duration": 5,
    "start_time": "2021-07-27T19:49:52.700Z"
   },
   {
    "duration": 6,
    "start_time": "2021-07-27T19:49:52.813Z"
   },
   {
    "duration": 5,
    "start_time": "2021-07-27T19:50:36.023Z"
   },
   {
    "duration": 5,
    "start_time": "2021-07-27T19:50:42.576Z"
   },
   {
    "duration": 5,
    "start_time": "2021-07-27T19:50:56.545Z"
   },
   {
    "duration": 4,
    "start_time": "2021-07-27T19:51:02.197Z"
   },
   {
    "duration": 5,
    "start_time": "2021-07-27T19:51:10.946Z"
   },
   {
    "duration": 7,
    "start_time": "2021-07-27T19:51:19.189Z"
   },
   {
    "duration": 6,
    "start_time": "2021-07-27T19:51:42.549Z"
   },
   {
    "duration": 16,
    "start_time": "2021-07-27T19:55:45.304Z"
   },
   {
    "duration": 7,
    "start_time": "2021-07-27T20:03:47.613Z"
   },
   {
    "duration": 84,
    "start_time": "2021-07-27T20:09:53.847Z"
   },
   {
    "duration": 108,
    "start_time": "2021-07-27T20:10:09.925Z"
   },
   {
    "duration": 8,
    "start_time": "2021-07-27T20:10:16.268Z"
   },
   {
    "duration": 80,
    "start_time": "2021-07-27T20:11:01.626Z"
   },
   {
    "duration": 275,
    "start_time": "2021-07-27T20:11:08.610Z"
   },
   {
    "duration": 6,
    "start_time": "2021-07-27T20:11:19.320Z"
   },
   {
    "duration": 481,
    "start_time": "2021-07-28T09:28:10.718Z"
   },
   {
    "duration": 2119,
    "start_time": "2021-07-28T09:28:20.438Z"
   },
   {
    "duration": 901,
    "start_time": "2021-07-28T09:28:22.560Z"
   },
   {
    "duration": 69,
    "start_time": "2021-07-28T09:28:23.464Z"
   },
   {
    "duration": 68,
    "start_time": "2021-07-28T09:28:23.536Z"
   },
   {
    "duration": 54,
    "start_time": "2021-07-28T09:28:23.607Z"
   },
   {
    "duration": 47,
    "start_time": "2021-07-28T09:28:23.663Z"
   },
   {
    "duration": 4,
    "start_time": "2021-07-28T09:28:23.713Z"
   },
   {
    "duration": 23,
    "start_time": "2021-07-28T09:28:23.720Z"
   },
   {
    "duration": 42,
    "start_time": "2021-07-28T09:28:23.746Z"
   },
   {
    "duration": 26,
    "start_time": "2021-07-28T09:28:23.791Z"
   },
   {
    "duration": 11440,
    "start_time": "2021-07-28T09:28:23.820Z"
   },
   {
    "duration": 4,
    "start_time": "2021-07-28T09:28:35.262Z"
   },
   {
    "duration": 39,
    "start_time": "2021-07-28T09:28:35.268Z"
   },
   {
    "duration": 124,
    "start_time": "2021-07-28T09:28:35.310Z"
   },
   {
    "duration": 13,
    "start_time": "2021-07-28T09:28:35.436Z"
   },
   {
    "duration": 657,
    "start_time": "2021-07-28T09:28:35.452Z"
   },
   {
    "duration": -178594,
    "start_time": "2021-07-28T09:31:34.706Z"
   },
   {
    "duration": 6,
    "start_time": "2021-07-28T09:36:33.713Z"
   },
   {
    "duration": 454,
    "start_time": "2021-07-28T09:36:36.385Z"
   },
   {
    "duration": 4,
    "start_time": "2021-07-28T10:55:28.977Z"
   },
   {
    "duration": 4,
    "start_time": "2021-07-28T11:01:18.102Z"
   },
   {
    "duration": 27,
    "start_time": "2021-07-28T11:09:53.687Z"
   },
   {
    "duration": 6,
    "start_time": "2021-07-28T11:13:11.311Z"
   },
   {
    "duration": 5,
    "start_time": "2021-07-28T11:13:21.189Z"
   },
   {
    "duration": 5,
    "start_time": "2021-07-28T11:13:22.132Z"
   },
   {
    "duration": 30,
    "start_time": "2021-07-28T11:13:23.157Z"
   },
   {
    "duration": 15,
    "start_time": "2021-07-28T11:16:16.812Z"
   },
   {
    "duration": 22,
    "start_time": "2021-07-28T11:16:29.307Z"
   },
   {
    "duration": 5,
    "start_time": "2021-07-28T11:21:16.746Z"
   },
   {
    "duration": 32,
    "start_time": "2021-07-28T11:21:27.481Z"
   },
   {
    "duration": 24,
    "start_time": "2021-07-28T11:22:34.191Z"
   },
   {
    "duration": 33,
    "start_time": "2021-07-28T11:26:42.214Z"
   },
   {
    "duration": 51,
    "start_time": "2021-07-28T11:29:41.947Z"
   },
   {
    "duration": 536,
    "start_time": "2021-07-28T11:39:26.302Z"
   },
   {
    "duration": 49,
    "start_time": "2021-07-28T11:40:34.882Z"
   },
   {
    "duration": 59,
    "start_time": "2021-07-28T11:41:33.378Z"
   },
   {
    "duration": 43,
    "start_time": "2021-07-28T11:58:36.257Z"
   },
   {
    "duration": 2011,
    "start_time": "2021-07-29T10:01:57.515Z"
   },
   {
    "duration": 992,
    "start_time": "2021-07-29T10:01:59.530Z"
   },
   {
    "duration": 60,
    "start_time": "2021-07-29T10:02:00.525Z"
   },
   {
    "duration": 70,
    "start_time": "2021-07-29T10:02:00.588Z"
   },
   {
    "duration": 54,
    "start_time": "2021-07-29T10:02:00.661Z"
   },
   {
    "duration": 72,
    "start_time": "2021-07-29T10:02:00.718Z"
   },
   {
    "duration": 40,
    "start_time": "2021-07-29T10:02:00.792Z"
   },
   {
    "duration": 25,
    "start_time": "2021-07-29T10:02:00.836Z"
   },
   {
    "duration": 39,
    "start_time": "2021-07-29T10:02:00.863Z"
   },
   {
    "duration": 4,
    "start_time": "2021-07-29T10:02:00.904Z"
   },
   {
    "duration": 60,
    "start_time": "2021-07-29T10:02:00.910Z"
   },
   {
    "duration": 4815,
    "start_time": "2021-07-29T10:02:00.973Z"
   },
   {
    "duration": 4,
    "start_time": "2021-07-29T10:02:05.791Z"
   },
   {
    "duration": 74,
    "start_time": "2021-07-29T10:02:05.797Z"
   },
   {
    "duration": 211,
    "start_time": "2021-07-29T10:02:05.873Z"
   },
   {
    "duration": 901,
    "start_time": "2021-07-29T10:04:03.229Z"
   },
   {
    "duration": 24,
    "start_time": "2021-07-29T10:04:14.653Z"
   },
   {
    "duration": 25,
    "start_time": "2021-07-29T10:04:15.533Z"
   },
   {
    "duration": 56,
    "start_time": "2021-07-29T10:04:16.647Z"
   },
   {
    "duration": 34,
    "start_time": "2021-07-29T10:04:30.910Z"
   },
   {
    "duration": 4,
    "start_time": "2021-07-29T10:04:41.037Z"
   },
   {
    "duration": 23,
    "start_time": "2021-07-29T10:04:41.949Z"
   },
   {
    "duration": 5,
    "start_time": "2021-07-29T10:18:36.907Z"
   },
   {
    "duration": 15,
    "start_time": "2021-07-29T10:18:49.955Z"
   },
   {
    "duration": 7670,
    "start_time": "2021-07-29T10:24:52.824Z"
   },
   {
    "duration": 23,
    "start_time": "2021-07-29T10:25:19.112Z"
   },
   {
    "duration": 113,
    "start_time": "2021-07-29T10:26:19.829Z"
   },
   {
    "duration": 44,
    "start_time": "2021-07-29T10:26:50.413Z"
   },
   {
    "duration": 7,
    "start_time": "2021-07-29T10:27:30.948Z"
   },
   {
    "duration": 6,
    "start_time": "2021-07-29T10:27:52.396Z"
   },
   {
    "duration": 913,
    "start_time": "2021-07-29T10:33:19.173Z"
   },
   {
    "duration": 304,
    "start_time": "2021-07-29T10:33:48.992Z"
   },
   {
    "duration": 1566,
    "start_time": "2021-07-29T10:34:16.352Z"
   },
   {
    "duration": 39,
    "start_time": "2021-07-29T10:35:06.285Z"
   },
   {
    "duration": 6478,
    "start_time": "2021-07-29T10:35:55.186Z"
   },
   {
    "duration": 39,
    "start_time": "2021-07-29T10:36:26.226Z"
   },
   {
    "duration": 6834,
    "start_time": "2021-07-29T10:39:50.332Z"
   },
   {
    "duration": 6795,
    "start_time": "2021-07-29T10:40:14.037Z"
   },
   {
    "duration": 17,
    "start_time": "2021-07-29T10:40:44.006Z"
   },
   {
    "duration": 19,
    "start_time": "2021-07-29T10:41:15.224Z"
   },
   {
    "duration": 7,
    "start_time": "2021-07-29T10:41:31.149Z"
   },
   {
    "duration": 6,
    "start_time": "2021-07-29T10:41:52.694Z"
   },
   {
    "duration": 851,
    "start_time": "2021-07-29T10:42:27.613Z"
   },
   {
    "duration": 24,
    "start_time": "2021-07-29T10:42:35.188Z"
   },
   {
    "duration": 20,
    "start_time": "2021-07-29T10:42:38.500Z"
   },
   {
    "duration": 938,
    "start_time": "2021-07-29T10:43:38.916Z"
   },
   {
    "duration": 21,
    "start_time": "2021-07-29T10:43:48.122Z"
   },
   {
    "duration": 13,
    "start_time": "2021-07-29T10:43:48.146Z"
   },
   {
    "duration": 4,
    "start_time": "2021-07-29T10:43:48.786Z"
   },
   {
    "duration": 26,
    "start_time": "2021-07-29T10:43:50.323Z"
   },
   {
    "duration": 38,
    "start_time": "2021-07-29T10:43:52.900Z"
   },
   {
    "duration": 1368,
    "start_time": "2021-07-29T10:43:59.475Z"
   },
   {
    "duration": 1297,
    "start_time": "2021-07-29T10:44:59.529Z"
   },
   {
    "duration": 86,
    "start_time": "2021-07-29T10:59:44.127Z"
   },
   {
    "duration": 1302,
    "start_time": "2021-07-29T10:59:49.798Z"
   },
   {
    "duration": 33,
    "start_time": "2021-07-29T11:56:46.380Z"
   },
   {
    "duration": 130,
    "start_time": "2021-07-29T12:06:53.880Z"
   },
   {
    "duration": 11,
    "start_time": "2021-07-29T12:06:59.958Z"
   },
   {
    "duration": 20,
    "start_time": "2021-07-29T12:07:10.381Z"
   },
   {
    "duration": 637,
    "start_time": "2021-07-29T12:10:03.717Z"
   },
   {
    "duration": 21,
    "start_time": "2021-07-29T12:11:37.037Z"
   },
   {
    "duration": 274,
    "start_time": "2021-07-29T12:35:19.378Z"
   },
   {
    "duration": 22,
    "start_time": "2021-07-29T12:35:49.395Z"
   },
   {
    "duration": 402,
    "start_time": "2021-07-29T12:36:29.489Z"
   },
   {
    "duration": 23,
    "start_time": "2021-07-29T12:38:02.377Z"
   },
   {
    "duration": 564,
    "start_time": "2021-07-29T12:38:04.105Z"
   },
   {
    "duration": 22,
    "start_time": "2021-07-29T12:42:22.156Z"
   },
   {
    "duration": 86,
    "start_time": "2021-07-29T12:42:51.893Z"
   },
   {
    "duration": 400,
    "start_time": "2021-07-29T12:42:56.804Z"
   },
   {
    "duration": 25,
    "start_time": "2021-07-29T12:43:57.421Z"
   },
   {
    "duration": 583,
    "start_time": "2021-07-29T12:43:58.835Z"
   },
   {
    "duration": 26,
    "start_time": "2021-07-29T12:54:41.446Z"
   },
   {
    "duration": 406,
    "start_time": "2021-07-29T12:54:42.428Z"
   },
   {
    "duration": 675,
    "start_time": "2021-07-29T12:55:23.060Z"
   },
   {
    "duration": 399,
    "start_time": "2021-07-29T12:56:05.811Z"
   },
   {
    "duration": 313,
    "start_time": "2021-07-29T13:03:15.711Z"
   },
   {
    "duration": 4,
    "start_time": "2021-07-29T13:03:19.596Z"
   },
   {
    "duration": 349,
    "start_time": "2021-07-29T13:03:20.157Z"
   },
   {
    "duration": 8,
    "start_time": "2021-07-29T13:04:08.075Z"
   },
   {
    "duration": 7,
    "start_time": "2021-07-29T13:04:27.636Z"
   },
   {
    "duration": 9,
    "start_time": "2021-07-29T13:05:57.274Z"
   },
   {
    "duration": 24,
    "start_time": "2021-07-29T13:06:20.499Z"
   },
   {
    "duration": 604,
    "start_time": "2021-07-29T13:07:45.818Z"
   },
   {
    "duration": 418,
    "start_time": "2021-07-29T13:09:10.553Z"
   },
   {
    "duration": 605,
    "start_time": "2021-07-29T13:09:18.633Z"
   },
   {
    "duration": 1696,
    "start_time": "2021-07-29T13:54:19.962Z"
   },
   {
    "duration": 726,
    "start_time": "2021-07-29T13:56:02.320Z"
   },
   {
    "duration": 1567,
    "start_time": "2021-07-29T13:56:28.026Z"
   },
   {
    "duration": 1726,
    "start_time": "2021-07-29T13:56:58.153Z"
   },
   {
    "duration": 1643,
    "start_time": "2021-07-29T13:57:14.246Z"
   },
   {
    "duration": 1557,
    "start_time": "2021-07-29T13:57:29.458Z"
   },
   {
    "duration": 560,
    "start_time": "2021-07-29T13:57:55.494Z"
   },
   {
    "duration": 462,
    "start_time": "2021-07-29T13:58:32.805Z"
   },
   {
    "duration": 112,
    "start_time": "2021-07-29T14:00:50.916Z"
   },
   {
    "duration": 621,
    "start_time": "2021-07-29T14:00:59.354Z"
   },
   {
    "duration": 2025,
    "start_time": "2021-07-29T17:45:30.619Z"
   },
   {
    "duration": 882,
    "start_time": "2021-07-29T17:45:32.647Z"
   },
   {
    "duration": 62,
    "start_time": "2021-07-29T17:45:33.532Z"
   },
   {
    "duration": 75,
    "start_time": "2021-07-29T17:45:33.597Z"
   },
   {
    "duration": 55,
    "start_time": "2021-07-29T17:45:33.674Z"
   },
   {
    "duration": 40,
    "start_time": "2021-07-29T17:45:33.754Z"
   },
   {
    "duration": 53,
    "start_time": "2021-07-29T17:45:33.796Z"
   },
   {
    "duration": 29,
    "start_time": "2021-07-29T17:45:33.852Z"
   },
   {
    "duration": 30,
    "start_time": "2021-07-29T17:45:33.885Z"
   },
   {
    "duration": 4,
    "start_time": "2021-07-29T17:45:33.918Z"
   },
   {
    "duration": 3738,
    "start_time": "2021-07-29T17:45:33.924Z"
   },
   {
    "duration": 4,
    "start_time": "2021-07-29T17:45:37.665Z"
   },
   {
    "duration": 29,
    "start_time": "2021-07-29T17:45:37.672Z"
   },
   {
    "duration": 66,
    "start_time": "2021-07-29T17:45:37.704Z"
   },
   {
    "duration": 682,
    "start_time": "2021-07-29T17:45:37.772Z"
   },
   {
    "duration": 2746,
    "start_time": "2021-07-29T17:48:48.587Z"
   },
   {
    "duration": 1564,
    "start_time": "2021-07-29T17:48:51.337Z"
   },
   {
    "duration": 73,
    "start_time": "2021-07-29T17:48:52.903Z"
   },
   {
    "duration": 75,
    "start_time": "2021-07-29T17:48:52.979Z"
   },
   {
    "duration": 53,
    "start_time": "2021-07-29T17:48:53.057Z"
   },
   {
    "duration": 68,
    "start_time": "2021-07-29T17:48:53.112Z"
   },
   {
    "duration": 47,
    "start_time": "2021-07-29T17:48:53.183Z"
   },
   {
    "duration": 36,
    "start_time": "2021-07-29T17:48:53.235Z"
   },
   {
    "duration": 33,
    "start_time": "2021-07-29T17:48:53.274Z"
   },
   {
    "duration": 5,
    "start_time": "2021-07-29T17:48:53.310Z"
   },
   {
    "duration": 3142,
    "start_time": "2021-07-29T17:48:53.318Z"
   },
   {
    "duration": 6,
    "start_time": "2021-07-29T17:48:56.463Z"
   },
   {
    "duration": 22,
    "start_time": "2021-07-29T17:48:56.472Z"
   },
   {
    "duration": 87,
    "start_time": "2021-07-29T17:48:56.498Z"
   },
   {
    "duration": 800,
    "start_time": "2021-07-29T17:48:56.587Z"
   },
   {
    "duration": 12,
    "start_time": "2021-07-29T17:51:34.530Z"
   },
   {
    "duration": 108,
    "start_time": "2021-07-29T17:53:28.024Z"
   },
   {
    "duration": 116,
    "start_time": "2021-07-29T17:54:04.080Z"
   },
   {
    "duration": 10,
    "start_time": "2021-07-29T17:54:11.282Z"
   },
   {
    "duration": 505,
    "start_time": "2021-07-29T18:00:35.548Z"
   },
   {
    "duration": 259,
    "start_time": "2021-07-29T18:00:40.840Z"
   },
   {
    "duration": 86,
    "start_time": "2021-07-29T18:01:02.668Z"
   },
   {
    "duration": 778,
    "start_time": "2021-07-29T18:01:08.351Z"
   },
   {
    "duration": 898,
    "start_time": "2021-07-29T18:01:19.603Z"
   },
   {
    "duration": 270,
    "start_time": "2021-07-29T18:01:59.365Z"
   },
   {
    "duration": 974,
    "start_time": "2021-07-29T18:03:34.900Z"
   },
   {
    "duration": 1386,
    "start_time": "2021-07-29T18:05:39.349Z"
   },
   {
    "duration": 1384,
    "start_time": "2021-07-29T18:11:18.485Z"
   },
   {
    "duration": 1390,
    "start_time": "2021-07-29T18:13:15.965Z"
   },
   {
    "duration": 1225,
    "start_time": "2021-07-29T18:13:59.295Z"
   },
   {
    "duration": 1336,
    "start_time": "2021-07-29T18:16:13.011Z"
   },
   {
    "duration": 1490,
    "start_time": "2021-07-29T18:18:13.158Z"
   },
   {
    "duration": 1212,
    "start_time": "2021-07-29T18:20:10.617Z"
   },
   {
    "duration": 1181,
    "start_time": "2021-07-29T18:20:44.189Z"
   },
   {
    "duration": 2289,
    "start_time": "2021-07-29T18:27:38.206Z"
   },
   {
    "duration": 2109,
    "start_time": "2021-07-29T18:28:06.909Z"
   },
   {
    "duration": 3,
    "start_time": "2021-07-29T18:30:02.911Z"
   },
   {
    "duration": 305,
    "start_time": "2021-07-29T18:30:55.962Z"
   },
   {
    "duration": 1407,
    "start_time": "2021-07-29T18:31:11.359Z"
   },
   {
    "duration": 445,
    "start_time": "2021-07-29T18:32:40.084Z"
   },
   {
    "duration": 615,
    "start_time": "2021-07-29T18:32:55.903Z"
   },
   {
    "duration": 500,
    "start_time": "2021-07-29T18:33:34.999Z"
   },
   {
    "duration": 1502,
    "start_time": "2021-07-29T18:34:08.401Z"
   },
   {
    "duration": 1331,
    "start_time": "2021-07-29T18:35:23.532Z"
   },
   {
    "duration": 1505,
    "start_time": "2021-07-29T18:37:38.399Z"
   },
   {
    "duration": 1345,
    "start_time": "2021-07-29T18:38:12.298Z"
   },
   {
    "duration": 4,
    "start_time": "2021-07-29T18:38:27.043Z"
   },
   {
    "duration": 1500,
    "start_time": "2021-07-29T18:38:27.545Z"
   },
   {
    "duration": 1171,
    "start_time": "2021-07-29T18:41:22.618Z"
   },
   {
    "duration": 1080,
    "start_time": "2021-07-29T18:42:05.766Z"
   },
   {
    "duration": 1213,
    "start_time": "2021-07-29T18:42:44.707Z"
   },
   {
    "duration": 2688,
    "start_time": "2021-07-29T18:47:21.977Z"
   },
   {
    "duration": 2735,
    "start_time": "2021-07-29T18:48:58.519Z"
   },
   {
    "duration": 2628,
    "start_time": "2021-07-29T18:52:28.003Z"
   },
   {
    "duration": 2619,
    "start_time": "2021-07-29T18:52:41.639Z"
   },
   {
    "duration": 3928,
    "start_time": "2021-07-29T18:53:02.449Z"
   },
   {
    "duration": 2754,
    "start_time": "2021-07-29T18:53:56.321Z"
   },
   {
    "duration": 2633,
    "start_time": "2021-07-29T18:55:02.890Z"
   },
   {
    "duration": 578,
    "start_time": "2021-07-29T19:00:35.753Z"
   },
   {
    "duration": 2606,
    "start_time": "2021-07-29T19:00:58.541Z"
   },
   {
    "duration": 2713,
    "start_time": "2021-07-29T19:02:08.111Z"
   },
   {
    "duration": 24,
    "start_time": "2021-07-29T19:07:37.704Z"
   },
   {
    "duration": 272,
    "start_time": "2021-07-29T19:10:22.651Z"
   },
   {
    "duration": 260,
    "start_time": "2021-07-29T19:10:43.229Z"
   },
   {
    "duration": 13,
    "start_time": "2021-07-29T19:12:57.805Z"
   },
   {
    "duration": 104,
    "start_time": "2021-07-29T19:16:11.677Z"
   },
   {
    "duration": 90,
    "start_time": "2021-07-29T19:16:33.560Z"
   },
   {
    "duration": 12,
    "start_time": "2021-07-29T19:16:44.043Z"
   },
   {
    "duration": 10,
    "start_time": "2021-07-29T19:17:05.293Z"
   },
   {
    "duration": 12,
    "start_time": "2021-07-29T19:17:13.979Z"
   },
   {
    "duration": 639,
    "start_time": "2021-07-29T19:18:32.837Z"
   },
   {
    "duration": 630,
    "start_time": "2021-07-29T19:19:07.893Z"
   },
   {
    "duration": 86,
    "start_time": "2021-07-29T19:19:23.093Z"
   },
   {
    "duration": 626,
    "start_time": "2021-07-29T19:19:33.239Z"
   },
   {
    "duration": 656,
    "start_time": "2021-07-29T19:20:55.483Z"
   },
   {
    "duration": 20,
    "start_time": "2021-07-29T19:21:17.770Z"
   },
   {
    "duration": 8,
    "start_time": "2021-07-29T19:21:23.019Z"
   },
   {
    "duration": 5,
    "start_time": "2021-07-29T19:21:30.682Z"
   },
   {
    "duration": 23,
    "start_time": "2021-07-29T19:22:02.131Z"
   },
   {
    "duration": 579,
    "start_time": "2021-07-29T19:27:45.874Z"
   },
   {
    "duration": 36,
    "start_time": "2021-07-29T19:28:33.396Z"
   },
   {
    "duration": 23,
    "start_time": "2021-07-29T19:29:10.195Z"
   },
   {
    "duration": 30,
    "start_time": "2021-07-29T19:31:12.353Z"
   },
   {
    "duration": 17,
    "start_time": "2021-07-29T19:31:59.111Z"
   },
   {
    "duration": 4259,
    "start_time": "2021-07-29T19:33:51.329Z"
   },
   {
    "duration": 263,
    "start_time": "2021-07-29T19:38:36.914Z"
   },
   {
    "duration": 17,
    "start_time": "2021-07-29T19:38:48.813Z"
   },
   {
    "duration": 4357,
    "start_time": "2021-07-29T19:38:51.202Z"
   },
   {
    "duration": 4808,
    "start_time": "2021-07-29T19:39:48.976Z"
   },
   {
    "duration": 4499,
    "start_time": "2021-07-29T19:40:15.650Z"
   },
   {
    "duration": 262,
    "start_time": "2021-07-29T20:02:15.378Z"
   },
   {
    "duration": 267,
    "start_time": "2021-07-29T20:02:23.924Z"
   },
   {
    "duration": 91,
    "start_time": "2021-07-29T20:02:42.575Z"
   },
   {
    "duration": 92,
    "start_time": "2021-07-29T20:02:52.536Z"
   },
   {
    "duration": 16,
    "start_time": "2021-07-29T20:03:56.009Z"
   },
   {
    "duration": 20,
    "start_time": "2021-07-29T20:05:09.432Z"
   },
   {
    "duration": 95,
    "start_time": "2021-07-29T20:05:57.009Z"
   },
   {
    "duration": 9,
    "start_time": "2021-07-29T20:06:05.232Z"
   },
   {
    "duration": 9,
    "start_time": "2021-07-29T20:06:29.347Z"
   },
   {
    "duration": 85,
    "start_time": "2021-07-29T20:07:46.325Z"
   },
   {
    "duration": 20,
    "start_time": "2021-07-29T20:07:53.546Z"
   },
   {
    "duration": 13,
    "start_time": "2021-07-29T20:08:26.141Z"
   },
   {
    "duration": 9,
    "start_time": "2021-07-29T20:09:28.270Z"
   },
   {
    "duration": 13,
    "start_time": "2021-07-29T20:09:49.197Z"
   },
   {
    "duration": 56,
    "start_time": "2021-07-29T20:11:15.866Z"
   },
   {
    "duration": 334,
    "start_time": "2021-07-29T20:11:57.430Z"
   },
   {
    "duration": 49,
    "start_time": "2021-07-29T20:12:59.487Z"
   },
   {
    "duration": 266,
    "start_time": "2021-07-29T20:14:29.115Z"
   },
   {
    "duration": 277,
    "start_time": "2021-07-29T20:14:55.796Z"
   },
   {
    "duration": 95,
    "start_time": "2021-07-29T20:17:56.343Z"
   },
   {
    "duration": 288,
    "start_time": "2021-07-29T20:19:25.792Z"
   },
   {
    "duration": 34,
    "start_time": "2021-07-29T20:19:33.047Z"
   },
   {
    "duration": 5,
    "start_time": "2021-07-29T20:19:35.983Z"
   },
   {
    "duration": 263,
    "start_time": "2021-07-29T20:20:14.039Z"
   },
   {
    "duration": 86,
    "start_time": "2021-07-29T20:20:32.027Z"
   },
   {
    "duration": 5,
    "start_time": "2021-07-29T20:20:38.282Z"
   },
   {
    "duration": 94,
    "start_time": "2021-07-29T20:20:44.647Z"
   },
   {
    "duration": 86,
    "start_time": "2021-07-29T20:20:53.927Z"
   },
   {
    "duration": 83,
    "start_time": "2021-07-29T20:21:16.910Z"
   },
   {
    "duration": 91,
    "start_time": "2021-07-29T20:21:24.084Z"
   },
   {
    "duration": 81,
    "start_time": "2021-07-29T20:21:35.915Z"
   },
   {
    "duration": 254,
    "start_time": "2021-07-29T20:21:51.680Z"
   },
   {
    "duration": 98,
    "start_time": "2021-07-29T20:21:59.888Z"
   },
   {
    "duration": 6,
    "start_time": "2021-07-29T20:22:03.993Z"
   },
   {
    "duration": 5,
    "start_time": "2021-07-29T20:22:36.142Z"
   },
   {
    "duration": 256,
    "start_time": "2021-07-29T20:22:46.155Z"
   },
   {
    "duration": 5,
    "start_time": "2021-07-29T20:24:03.500Z"
   },
   {
    "duration": 6,
    "start_time": "2021-07-29T20:24:58.467Z"
   },
   {
    "duration": 6,
    "start_time": "2021-07-29T20:26:40.232Z"
   },
   {
    "duration": 6,
    "start_time": "2021-07-29T20:27:40.210Z"
   },
   {
    "duration": 5,
    "start_time": "2021-07-29T20:28:16.240Z"
   },
   {
    "duration": 3,
    "start_time": "2021-08-02T18:48:45.234Z"
   },
   {
    "duration": 3,
    "start_time": "2021-08-02T18:51:31.655Z"
   },
   {
    "duration": 1382,
    "start_time": "2021-08-02T18:51:52.025Z"
   },
   {
    "duration": 650,
    "start_time": "2021-08-02T18:51:53.409Z"
   },
   {
    "duration": 39,
    "start_time": "2021-08-02T18:51:54.061Z"
   },
   {
    "duration": 24,
    "start_time": "2021-08-02T18:51:54.102Z"
   },
   {
    "duration": 32,
    "start_time": "2021-08-02T18:51:54.128Z"
   },
   {
    "duration": 53,
    "start_time": "2021-08-02T18:51:54.162Z"
   },
   {
    "duration": 14,
    "start_time": "2021-08-02T18:51:54.217Z"
   },
   {
    "duration": 15,
    "start_time": "2021-08-02T18:51:54.234Z"
   },
   {
    "duration": 58,
    "start_time": "2021-08-02T18:51:54.251Z"
   },
   {
    "duration": 3,
    "start_time": "2021-08-02T18:51:54.310Z"
   },
   {
    "duration": 1459,
    "start_time": "2021-08-02T18:51:54.314Z"
   },
   {
    "duration": 3,
    "start_time": "2021-08-02T18:51:55.775Z"
   },
   {
    "duration": 17,
    "start_time": "2021-08-02T18:51:55.779Z"
   },
   {
    "duration": 438,
    "start_time": "2021-08-02T18:51:55.798Z"
   },
   {
    "duration": 1725,
    "start_time": "2021-08-02T18:51:56.238Z"
   },
   {
    "duration": 3132,
    "start_time": "2021-08-02T18:51:57.965Z"
   },
   {
    "duration": 8,
    "start_time": "2021-08-02T18:52:01.099Z"
   },
   {
    "duration": 34,
    "start_time": "2021-08-02T18:52:01.108Z"
   },
   {
    "duration": 47,
    "start_time": "2021-08-02T18:52:01.144Z"
   },
   {
    "duration": 4,
    "start_time": "2021-08-02T18:52:01.194Z"
   },
   {
    "duration": 14,
    "start_time": "2021-08-02T18:55:37.311Z"
   },
   {
    "duration": 5,
    "start_time": "2021-08-02T18:55:58.735Z"
   },
   {
    "duration": 4,
    "start_time": "2021-08-02T18:56:33.919Z"
   },
   {
    "duration": 13,
    "start_time": "2021-08-02T18:58:12.814Z"
   },
   {
    "duration": 15,
    "start_time": "2021-08-02T18:58:45.345Z"
   },
   {
    "duration": 16,
    "start_time": "2021-08-02T19:00:31.758Z"
   },
   {
    "duration": 10,
    "start_time": "2021-08-02T19:00:46.883Z"
   },
   {
    "duration": 16,
    "start_time": "2021-08-02T19:01:12.291Z"
   },
   {
    "duration": 14,
    "start_time": "2021-08-02T19:01:15.940Z"
   },
   {
    "duration": 10,
    "start_time": "2021-08-02T19:01:46.128Z"
   },
   {
    "duration": 18,
    "start_time": "2021-08-02T19:02:25.711Z"
   },
   {
    "duration": 16,
    "start_time": "2021-08-02T19:02:45.347Z"
   },
   {
    "duration": 14,
    "start_time": "2021-08-02T19:03:13.657Z"
   },
   {
    "duration": 14,
    "start_time": "2021-08-02T19:03:19.428Z"
   },
   {
    "duration": 15,
    "start_time": "2021-08-02T19:03:27.156Z"
   },
   {
    "duration": 5,
    "start_time": "2021-08-02T19:27:11.745Z"
   },
   {
    "duration": 77,
    "start_time": "2021-08-02T19:38:52.389Z"
   },
   {
    "duration": 81,
    "start_time": "2021-08-02T19:50:50.555Z"
   },
   {
    "duration": 470,
    "start_time": "2021-08-02T19:51:10.193Z"
   },
   {
    "duration": 185,
    "start_time": "2021-08-02T19:51:36.351Z"
   },
   {
    "duration": 22,
    "start_time": "2021-08-02T19:57:43.589Z"
   },
   {
    "duration": 9,
    "start_time": "2021-08-02T19:57:51.490Z"
   },
   {
    "duration": 7,
    "start_time": "2021-08-02T19:58:06.746Z"
   },
   {
    "duration": 14,
    "start_time": "2021-08-02T19:59:33.599Z"
   },
   {
    "duration": 1473,
    "start_time": "2021-08-02T19:59:59.554Z"
   },
   {
    "duration": 758,
    "start_time": "2021-08-02T20:00:01.029Z"
   },
   {
    "duration": 40,
    "start_time": "2021-08-02T20:00:01.789Z"
   },
   {
    "duration": 23,
    "start_time": "2021-08-02T20:00:01.831Z"
   },
   {
    "duration": 55,
    "start_time": "2021-08-02T20:00:01.856Z"
   },
   {
    "duration": 26,
    "start_time": "2021-08-02T20:00:01.913Z"
   },
   {
    "duration": 226,
    "start_time": "2021-08-02T20:00:01.941Z"
   },
   {
    "duration": 23,
    "start_time": "2021-08-02T20:00:02.169Z"
   },
   {
    "duration": 21,
    "start_time": "2021-08-02T20:00:02.195Z"
   },
   {
    "duration": 11,
    "start_time": "2021-08-02T20:00:02.217Z"
   },
   {
    "duration": 33,
    "start_time": "2021-08-02T20:00:02.230Z"
   },
   {
    "duration": 31,
    "start_time": "2021-08-02T20:00:02.266Z"
   },
   {
    "duration": 4,
    "start_time": "2021-08-02T20:00:02.300Z"
   },
   {
    "duration": 17,
    "start_time": "2021-08-02T20:00:02.306Z"
   },
   {
    "duration": 15,
    "start_time": "2021-08-02T20:00:02.325Z"
   },
   {
    "duration": 21,
    "start_time": "2021-08-02T20:00:02.342Z"
   },
   {
    "duration": 1642,
    "start_time": "2021-08-02T20:00:02.365Z"
   },
   {
    "duration": 482,
    "start_time": "2021-08-02T20:00:04.009Z"
   },
   {
    "duration": 2274,
    "start_time": "2021-08-02T20:00:04.495Z"
   },
   {
    "duration": 3043,
    "start_time": "2021-08-02T20:00:06.771Z"
   },
   {
    "duration": 8,
    "start_time": "2021-08-02T20:00:09.816Z"
   },
   {
    "duration": 24,
    "start_time": "2021-08-02T20:00:09.826Z"
   },
   {
    "duration": 40,
    "start_time": "2021-08-02T20:00:09.853Z"
   },
   {
    "duration": 8,
    "start_time": "2021-08-02T20:00:09.895Z"
   },
   {
    "duration": 1426,
    "start_time": "2021-08-02T20:01:17.468Z"
   },
   {
    "duration": 765,
    "start_time": "2021-08-02T20:01:18.897Z"
   },
   {
    "duration": 45,
    "start_time": "2021-08-02T20:01:19.664Z"
   },
   {
    "duration": 27,
    "start_time": "2021-08-02T20:01:19.713Z"
   },
   {
    "duration": 28,
    "start_time": "2021-08-02T20:01:19.742Z"
   },
   {
    "duration": 51,
    "start_time": "2021-08-02T20:01:19.771Z"
   },
   {
    "duration": 226,
    "start_time": "2021-08-02T20:01:19.824Z"
   },
   {
    "duration": 13,
    "start_time": "2021-08-02T20:01:20.053Z"
   },
   {
    "duration": 27,
    "start_time": "2021-08-02T20:01:20.068Z"
   },
   {
    "duration": 15,
    "start_time": "2021-08-02T20:01:20.098Z"
   },
   {
    "duration": 32,
    "start_time": "2021-08-02T20:01:20.116Z"
   },
   {
    "duration": 11,
    "start_time": "2021-08-02T20:01:20.150Z"
   },
   {
    "duration": 2,
    "start_time": "2021-08-02T20:01:20.163Z"
   },
   {
    "duration": 34,
    "start_time": "2021-08-02T20:01:20.167Z"
   },
   {
    "duration": 19,
    "start_time": "2021-08-02T20:01:20.203Z"
   },
   {
    "duration": 14,
    "start_time": "2021-08-02T20:01:20.224Z"
   },
   {
    "duration": 1899,
    "start_time": "2021-08-02T20:01:20.240Z"
   },
   {
    "duration": 559,
    "start_time": "2021-08-02T20:01:22.141Z"
   },
   {
    "duration": 2016,
    "start_time": "2021-08-02T20:01:22.702Z"
   },
   {
    "duration": 3208,
    "start_time": "2021-08-02T20:01:24.720Z"
   },
   {
    "duration": 7,
    "start_time": "2021-08-02T20:01:27.930Z"
   },
   {
    "duration": 55,
    "start_time": "2021-08-02T20:01:27.939Z"
   },
   {
    "duration": 6,
    "start_time": "2021-08-02T20:01:27.998Z"
   },
   {
    "duration": 8,
    "start_time": "2021-08-02T20:01:28.007Z"
   },
   {
    "duration": 1434,
    "start_time": "2021-08-02T20:02:38.532Z"
   },
   {
    "duration": 773,
    "start_time": "2021-08-02T20:02:39.968Z"
   },
   {
    "duration": 53,
    "start_time": "2021-08-02T20:02:40.746Z"
   },
   {
    "duration": 30,
    "start_time": "2021-08-02T20:02:40.804Z"
   },
   {
    "duration": 31,
    "start_time": "2021-08-02T20:02:40.836Z"
   },
   {
    "duration": 49,
    "start_time": "2021-08-02T20:02:40.869Z"
   },
   {
    "duration": 212,
    "start_time": "2021-08-02T20:02:40.921Z"
   },
   {
    "duration": 16,
    "start_time": "2021-08-02T20:02:41.135Z"
   },
   {
    "duration": 16,
    "start_time": "2021-08-02T20:02:41.152Z"
   },
   {
    "duration": 32,
    "start_time": "2021-08-02T20:02:41.170Z"
   },
   {
    "duration": 38,
    "start_time": "2021-08-02T20:02:41.205Z"
   },
   {
    "duration": 11,
    "start_time": "2021-08-02T20:02:41.244Z"
   },
   {
    "duration": 68,
    "start_time": "2021-08-02T20:02:41.257Z"
   },
   {
    "duration": 13,
    "start_time": "2021-08-02T20:02:41.328Z"
   },
   {
    "duration": 3,
    "start_time": "2021-08-02T20:02:41.343Z"
   },
   {
    "duration": 9,
    "start_time": "2021-08-02T20:02:41.355Z"
   },
   {
    "duration": 30,
    "start_time": "2021-08-02T20:02:41.365Z"
   },
   {
    "duration": 23,
    "start_time": "2021-08-02T20:02:41.398Z"
   },
   {
    "duration": 1624,
    "start_time": "2021-08-02T20:02:41.423Z"
   },
   {
    "duration": 488,
    "start_time": "2021-08-02T20:02:43.049Z"
   },
   {
    "duration": 2229,
    "start_time": "2021-08-02T20:02:43.538Z"
   },
   {
    "duration": 3090,
    "start_time": "2021-08-02T20:02:45.770Z"
   },
   {
    "duration": 7,
    "start_time": "2021-08-02T20:02:48.862Z"
   },
   {
    "duration": 41,
    "start_time": "2021-08-02T20:02:48.870Z"
   },
   {
    "duration": 4,
    "start_time": "2021-08-02T20:02:48.914Z"
   },
   {
    "duration": 7,
    "start_time": "2021-08-02T20:02:48.920Z"
   },
   {
    "duration": 11,
    "start_time": "2021-08-02T20:03:53.536Z"
   },
   {
    "duration": 1471,
    "start_time": "2021-08-02T20:04:53.524Z"
   },
   {
    "duration": 777,
    "start_time": "2021-08-02T20:04:54.997Z"
   },
   {
    "duration": 48,
    "start_time": "2021-08-02T20:04:55.779Z"
   },
   {
    "duration": 23,
    "start_time": "2021-08-02T20:04:55.829Z"
   },
   {
    "duration": 57,
    "start_time": "2021-08-02T20:04:55.854Z"
   },
   {
    "duration": 24,
    "start_time": "2021-08-02T20:04:55.913Z"
   },
   {
    "duration": 215,
    "start_time": "2021-08-02T20:04:55.940Z"
   },
   {
    "duration": 13,
    "start_time": "2021-08-02T20:04:56.157Z"
   },
   {
    "duration": 29,
    "start_time": "2021-08-02T20:04:56.172Z"
   },
   {
    "duration": 15,
    "start_time": "2021-08-02T20:04:56.203Z"
   },
   {
    "duration": 42,
    "start_time": "2021-08-02T20:04:56.219Z"
   },
   {
    "duration": 82,
    "start_time": "2021-08-02T20:04:56.263Z"
   },
   {
    "duration": 3,
    "start_time": "2021-08-02T20:04:56.347Z"
   },
   {
    "duration": 11,
    "start_time": "2021-08-02T20:04:56.352Z"
   },
   {
    "duration": 13,
    "start_time": "2021-08-02T20:04:56.365Z"
   },
   {
    "duration": 25,
    "start_time": "2021-08-02T20:04:56.397Z"
   },
   {
    "duration": 1658,
    "start_time": "2021-08-02T20:04:56.425Z"
   },
   {
    "duration": 500,
    "start_time": "2021-08-02T20:04:58.085Z"
   },
   {
    "duration": 2365,
    "start_time": "2021-08-02T20:04:58.586Z"
   },
   {
    "duration": 3116,
    "start_time": "2021-08-02T20:05:00.953Z"
   },
   {
    "duration": 7,
    "start_time": "2021-08-02T20:05:04.071Z"
   },
   {
    "duration": 32,
    "start_time": "2021-08-02T20:05:04.080Z"
   },
   {
    "duration": 6,
    "start_time": "2021-08-02T20:05:04.115Z"
   },
   {
    "duration": 4,
    "start_time": "2021-08-02T20:05:04.123Z"
   },
   {
    "duration": 1401,
    "start_time": "2021-08-02T20:18:36.110Z"
   },
   {
    "duration": 689,
    "start_time": "2021-08-02T20:18:37.513Z"
   },
   {
    "duration": 30,
    "start_time": "2021-08-02T20:18:38.204Z"
   },
   {
    "duration": 22,
    "start_time": "2021-08-02T20:18:38.236Z"
   },
   {
    "duration": 44,
    "start_time": "2021-08-02T20:18:38.259Z"
   },
   {
    "duration": 20,
    "start_time": "2021-08-02T20:18:38.304Z"
   },
   {
    "duration": 71,
    "start_time": "2021-08-02T20:18:38.326Z"
   },
   {
    "duration": 233,
    "start_time": "2021-08-02T20:18:38.399Z"
   },
   {
    "duration": 62,
    "start_time": "2021-08-02T20:18:38.634Z"
   },
   {
    "duration": 18,
    "start_time": "2021-08-02T20:18:38.698Z"
   },
   {
    "duration": 13,
    "start_time": "2021-08-02T20:18:38.719Z"
   },
   {
    "duration": 97,
    "start_time": "2021-08-02T20:18:38.733Z"
   },
   {
    "duration": 161,
    "start_time": "2021-08-02T20:18:38.832Z"
   },
   {
    "duration": 106,
    "start_time": "2021-08-02T20:18:38.995Z"
   },
   {
    "duration": 3,
    "start_time": "2021-08-02T20:18:39.103Z"
   },
   {
    "duration": 13,
    "start_time": "2021-08-02T20:18:39.108Z"
   },
   {
    "duration": 11,
    "start_time": "2021-08-02T20:18:39.123Z"
   },
   {
    "duration": 16,
    "start_time": "2021-08-02T20:18:39.136Z"
   },
   {
    "duration": 1392,
    "start_time": "2021-08-02T20:18:39.153Z"
   },
   {
    "duration": 478,
    "start_time": "2021-08-02T20:18:40.547Z"
   },
   {
    "duration": 1614,
    "start_time": "2021-08-02T20:18:41.026Z"
   },
   {
    "duration": 2840,
    "start_time": "2021-08-02T20:18:42.642Z"
   },
   {
    "duration": 12,
    "start_time": "2021-08-02T20:18:45.484Z"
   },
   {
    "duration": 19,
    "start_time": "2021-08-02T20:18:45.498Z"
   },
   {
    "duration": 3,
    "start_time": "2021-08-02T20:18:45.519Z"
   },
   {
    "duration": 8,
    "start_time": "2021-08-02T20:18:45.523Z"
   },
   {
    "duration": 68,
    "start_time": "2021-08-02T20:19:16.787Z"
   },
   {
    "duration": 68,
    "start_time": "2021-08-02T20:19:41.977Z"
   },
   {
    "duration": 87,
    "start_time": "2021-08-02T20:19:48.641Z"
   },
   {
    "duration": 643,
    "start_time": "2021-08-02T20:20:36.347Z"
   },
   {
    "duration": 417,
    "start_time": "2021-08-02T20:20:51.152Z"
   },
   {
    "duration": 392,
    "start_time": "2021-08-02T20:21:05.535Z"
   },
   {
    "duration": 375,
    "start_time": "2021-08-02T20:21:29.844Z"
   },
   {
    "duration": 332,
    "start_time": "2021-08-02T20:21:42.951Z"
   },
   {
    "duration": 374,
    "start_time": "2021-08-02T20:22:53.339Z"
   },
   {
    "duration": 381,
    "start_time": "2021-08-02T20:24:07.374Z"
   },
   {
    "duration": 87,
    "start_time": "2021-08-02T20:24:15.016Z"
   },
   {
    "duration": 73,
    "start_time": "2021-08-02T20:25:03.263Z"
   },
   {
    "duration": 419,
    "start_time": "2021-08-02T20:25:19.910Z"
   },
   {
    "duration": 242,
    "start_time": "2021-08-02T20:25:25.846Z"
   },
   {
    "duration": 58,
    "start_time": "2021-08-02T20:28:10.804Z"
   },
   {
    "duration": 188,
    "start_time": "2021-08-02T20:28:25.872Z"
   },
   {
    "duration": 15,
    "start_time": "2021-08-02T20:28:27.111Z"
   },
   {
    "duration": 11,
    "start_time": "2021-08-02T20:28:30.276Z"
   },
   {
    "duration": 12,
    "start_time": "2021-08-02T20:28:31.176Z"
   },
   {
    "duration": 36,
    "start_time": "2021-08-02T20:28:33.963Z"
   },
   {
    "duration": 35,
    "start_time": "2021-08-02T20:28:35.093Z"
   },
   {
    "duration": 61,
    "start_time": "2021-08-02T20:28:37.491Z"
   },
   {
    "duration": 400,
    "start_time": "2021-08-02T20:29:07.651Z"
   },
   {
    "duration": 187,
    "start_time": "2021-08-02T20:29:10.875Z"
   },
   {
    "duration": 5997,
    "start_time": "2021-08-02T20:29:13.588Z"
   },
   {
    "duration": -2131,
    "start_time": "2021-08-02T20:29:21.718Z"
   },
   {
    "duration": 233,
    "start_time": "2021-08-02T20:29:28.952Z"
   },
   {
    "duration": 14,
    "start_time": "2021-08-02T20:29:32.790Z"
   },
   {
    "duration": 31,
    "start_time": "2021-08-02T20:29:38.082Z"
   },
   {
    "duration": 30,
    "start_time": "2021-08-02T20:29:42.461Z"
   },
   {
    "duration": 58,
    "start_time": "2021-08-02T20:29:50.595Z"
   },
   {
    "duration": 425,
    "start_time": "2021-08-02T20:36:31.927Z"
   },
   {
    "duration": 1335,
    "start_time": "2021-08-02T20:36:46.406Z"
   },
   {
    "duration": 1402,
    "start_time": "2021-08-02T20:38:36.224Z"
   },
   {
    "duration": 686,
    "start_time": "2021-08-02T20:38:37.628Z"
   },
   {
    "duration": 33,
    "start_time": "2021-08-02T20:38:38.318Z"
   },
   {
    "duration": 44,
    "start_time": "2021-08-02T20:38:38.353Z"
   },
   {
    "duration": 30,
    "start_time": "2021-08-02T20:38:38.399Z"
   },
   {
    "duration": 22,
    "start_time": "2021-08-02T20:38:38.430Z"
   },
   {
    "duration": 816,
    "start_time": "2021-08-02T20:38:38.455Z"
   },
   {
    "duration": 200,
    "start_time": "2021-08-02T20:38:39.274Z"
   },
   {
    "duration": 27,
    "start_time": "2021-08-02T20:38:39.476Z"
   },
   {
    "duration": 14,
    "start_time": "2021-08-02T20:38:39.504Z"
   },
   {
    "duration": 13,
    "start_time": "2021-08-02T20:38:39.520Z"
   },
   {
    "duration": 30,
    "start_time": "2021-08-02T20:38:39.535Z"
   },
   {
    "duration": 59,
    "start_time": "2021-08-02T20:38:39.591Z"
   },
   {
    "duration": 72,
    "start_time": "2021-08-02T20:38:39.651Z"
   },
   {
    "duration": 3,
    "start_time": "2021-08-02T20:38:39.724Z"
   },
   {
    "duration": 10,
    "start_time": "2021-08-02T20:38:39.729Z"
   },
   {
    "duration": 12,
    "start_time": "2021-08-02T20:38:39.740Z"
   },
   {
    "duration": 17,
    "start_time": "2021-08-02T20:38:39.753Z"
   },
   {
    "duration": 1374,
    "start_time": "2021-08-02T20:38:39.792Z"
   },
   {
    "duration": 423,
    "start_time": "2021-08-02T20:38:41.168Z"
   },
   {
    "duration": 1860,
    "start_time": "2021-08-02T20:38:41.592Z"
   },
   {
    "duration": 2723,
    "start_time": "2021-08-02T20:38:43.455Z"
   },
   {
    "duration": 14,
    "start_time": "2021-08-02T20:38:46.180Z"
   },
   {
    "duration": 23,
    "start_time": "2021-08-02T20:38:46.196Z"
   },
   {
    "duration": 4,
    "start_time": "2021-08-02T20:38:46.220Z"
   },
   {
    "duration": 5,
    "start_time": "2021-08-02T20:38:46.225Z"
   },
   {
    "duration": 16,
    "start_time": "2021-08-02T21:08:28.362Z"
   },
   {
    "duration": 6,
    "start_time": "2021-08-02T21:33:04.966Z"
   },
   {
    "duration": 5,
    "start_time": "2021-08-02T21:33:17.053Z"
   },
   {
    "duration": 409,
    "start_time": "2021-08-02T21:33:33.703Z"
   },
   {
    "duration": 736,
    "start_time": "2021-08-02T21:34:14.860Z"
   },
   {
    "duration": 1549,
    "start_time": "2021-08-02T21:34:33.935Z"
   },
   {
    "duration": 630,
    "start_time": "2021-08-02T21:35:09.625Z"
   },
   {
    "duration": 7,
    "start_time": "2021-08-02T21:36:06.374Z"
   },
   {
    "duration": 5,
    "start_time": "2021-08-02T21:36:28.059Z"
   },
   {
    "duration": 5,
    "start_time": "2021-08-02T21:36:45.652Z"
   },
   {
    "duration": 5307,
    "start_time": "2021-08-02T21:37:32.711Z"
   },
   {
    "duration": 10,
    "start_time": "2021-08-02T21:37:42.887Z"
   },
   {
    "duration": 6,
    "start_time": "2021-08-02T21:38:04.360Z"
   },
   {
    "duration": 6,
    "start_time": "2021-08-02T21:38:29.515Z"
   },
   {
    "duration": 42,
    "start_time": "2021-08-02T21:38:37.414Z"
   },
   {
    "duration": 1407,
    "start_time": "2021-08-02T21:39:34.201Z"
   },
   {
    "duration": 692,
    "start_time": "2021-08-02T21:39:35.610Z"
   },
   {
    "duration": 31,
    "start_time": "2021-08-02T21:39:36.304Z"
   },
   {
    "duration": 23,
    "start_time": "2021-08-02T21:39:36.336Z"
   },
   {
    "duration": 49,
    "start_time": "2021-08-02T21:39:36.361Z"
   },
   {
    "duration": 21,
    "start_time": "2021-08-02T21:39:36.412Z"
   },
   {
    "duration": 199,
    "start_time": "2021-08-02T21:39:36.434Z"
   },
   {
    "duration": 14,
    "start_time": "2021-08-02T21:39:36.636Z"
   },
   {
    "duration": 15,
    "start_time": "2021-08-02T21:39:36.652Z"
   },
   {
    "duration": 27,
    "start_time": "2021-08-02T21:39:36.669Z"
   },
   {
    "duration": 29,
    "start_time": "2021-08-02T21:39:36.697Z"
   },
   {
    "duration": 3,
    "start_time": "2021-08-02T21:39:36.728Z"
   },
   {
    "duration": 11,
    "start_time": "2021-08-02T21:39:36.732Z"
   },
   {
    "duration": 14,
    "start_time": "2021-08-02T21:39:36.744Z"
   },
   {
    "duration": 33,
    "start_time": "2021-08-02T21:39:36.760Z"
   },
   {
    "duration": 1532,
    "start_time": "2021-08-02T21:39:36.795Z"
   },
   {
    "duration": 544,
    "start_time": "2021-08-02T21:39:38.328Z"
   },
   {
    "duration": 1816,
    "start_time": "2021-08-02T21:39:38.874Z"
   },
   {
    "duration": 3139,
    "start_time": "2021-08-02T21:39:40.692Z"
   },
   {
    "duration": 8,
    "start_time": "2021-08-02T21:39:43.833Z"
   },
   {
    "duration": 60,
    "start_time": "2021-08-02T21:39:43.843Z"
   },
   {
    "duration": 5,
    "start_time": "2021-08-02T21:39:43.905Z"
   },
   {
    "duration": 4,
    "start_time": "2021-08-02T21:39:43.912Z"
   },
   {
    "duration": 1415,
    "start_time": "2021-08-02T21:45:42.856Z"
   },
   {
    "duration": 701,
    "start_time": "2021-08-02T21:45:44.272Z"
   },
   {
    "duration": 33,
    "start_time": "2021-08-02T21:45:44.975Z"
   },
   {
    "duration": 23,
    "start_time": "2021-08-02T21:45:45.009Z"
   },
   {
    "duration": 57,
    "start_time": "2021-08-02T21:45:45.034Z"
   },
   {
    "duration": 24,
    "start_time": "2021-08-02T21:45:45.093Z"
   },
   {
    "duration": 197,
    "start_time": "2021-08-02T21:45:45.119Z"
   },
   {
    "duration": 15,
    "start_time": "2021-08-02T21:45:45.319Z"
   },
   {
    "duration": 15,
    "start_time": "2021-08-02T21:45:45.336Z"
   },
   {
    "duration": 11,
    "start_time": "2021-08-02T21:45:45.352Z"
   },
   {
    "duration": 49,
    "start_time": "2021-08-02T21:45:45.365Z"
   },
   {
    "duration": 3,
    "start_time": "2021-08-02T21:45:45.416Z"
   },
   {
    "duration": 13,
    "start_time": "2021-08-02T21:45:45.420Z"
   },
   {
    "duration": 14,
    "start_time": "2021-08-02T21:45:45.435Z"
   },
   {
    "duration": 10,
    "start_time": "2021-08-02T21:45:45.451Z"
   },
   {
    "duration": 1474,
    "start_time": "2021-08-02T21:45:45.463Z"
   },
   {
    "duration": 436,
    "start_time": "2021-08-02T21:45:46.939Z"
   },
   {
    "duration": 1774,
    "start_time": "2021-08-02T21:45:47.377Z"
   },
   {
    "duration": 3285,
    "start_time": "2021-08-02T21:45:49.153Z"
   },
   {
    "duration": 8,
    "start_time": "2021-08-02T21:45:52.440Z"
   },
   {
    "duration": 49,
    "start_time": "2021-08-02T21:45:52.449Z"
   },
   {
    "duration": 4,
    "start_time": "2021-08-02T21:45:52.500Z"
   },
   {
    "duration": 13,
    "start_time": "2021-08-02T21:45:52.507Z"
   },
   {
    "duration": 1433,
    "start_time": "2021-08-02T21:46:38.204Z"
   },
   {
    "duration": 872,
    "start_time": "2021-08-02T21:46:39.639Z"
   },
   {
    "duration": 34,
    "start_time": "2021-08-02T21:46:40.516Z"
   },
   {
    "duration": 47,
    "start_time": "2021-08-02T21:46:40.552Z"
   },
   {
    "duration": 33,
    "start_time": "2021-08-02T21:46:40.601Z"
   },
   {
    "duration": 23,
    "start_time": "2021-08-02T21:46:40.635Z"
   },
   {
    "duration": 211,
    "start_time": "2021-08-02T21:46:40.660Z"
   },
   {
    "duration": 24,
    "start_time": "2021-08-02T21:46:40.873Z"
   },
   {
    "duration": 18,
    "start_time": "2021-08-02T21:46:40.900Z"
   },
   {
    "duration": 10,
    "start_time": "2021-08-02T21:46:40.920Z"
   },
   {
    "duration": 30,
    "start_time": "2021-08-02T21:46:40.932Z"
   },
   {
    "duration": 3,
    "start_time": "2021-08-02T21:46:40.963Z"
   },
   {
    "duration": 20,
    "start_time": "2021-08-02T21:46:40.992Z"
   },
   {
    "duration": 26,
    "start_time": "2021-08-02T21:46:41.014Z"
   },
   {
    "duration": 7,
    "start_time": "2021-08-02T21:46:41.042Z"
   },
   {
    "duration": 1460,
    "start_time": "2021-08-02T21:46:41.051Z"
   },
   {
    "duration": 435,
    "start_time": "2021-08-02T21:46:42.512Z"
   },
   {
    "duration": 1926,
    "start_time": "2021-08-02T21:46:42.949Z"
   },
   {
    "duration": 2773,
    "start_time": "2021-08-02T21:46:44.877Z"
   },
   {
    "duration": 6,
    "start_time": "2021-08-02T21:46:47.652Z"
   },
   {
    "duration": 39,
    "start_time": "2021-08-02T21:46:47.660Z"
   },
   {
    "duration": 4,
    "start_time": "2021-08-02T21:46:47.702Z"
   },
   {
    "duration": 6,
    "start_time": "2021-08-02T21:46:47.708Z"
   },
   {
    "duration": 20337,
    "start_time": "2021-08-02T21:49:59.469Z"
   },
   {
    "duration": 21987,
    "start_time": "2021-08-02T21:52:00.148Z"
   },
   {
    "duration": 28161,
    "start_time": "2021-08-02T21:52:57.261Z"
   },
   {
    "duration": 28516,
    "start_time": "2021-08-02T21:53:44.105Z"
   },
   {
    "duration": 36239,
    "start_time": "2021-08-02T21:54:39.687Z"
   },
   {
    "duration": 32912,
    "start_time": "2021-08-02T21:59:14.244Z"
   },
   {
    "duration": 34089,
    "start_time": "2021-08-02T22:00:08.693Z"
   },
   {
    "duration": 9517,
    "start_time": "2021-08-02T22:01:26.515Z"
   },
   {
    "duration": 28167,
    "start_time": "2021-08-02T22:02:12.275Z"
   },
   {
    "duration": 42998,
    "start_time": "2021-08-02T22:03:10.215Z"
   },
   {
    "duration": 29580,
    "start_time": "2021-08-02T22:04:43.903Z"
   },
   {
    "duration": 21007,
    "start_time": "2021-08-02T22:07:37.411Z"
   },
   {
    "duration": 18784,
    "start_time": "2021-08-02T22:09:14.024Z"
   },
   {
    "duration": 24307,
    "start_time": "2021-08-02T22:09:55.094Z"
   },
   {
    "duration": 26244,
    "start_time": "2021-08-02T22:10:26.509Z"
   },
   {
    "duration": 29039,
    "start_time": "2021-08-02T22:11:09.781Z"
   },
   {
    "duration": 1957,
    "start_time": "2021-08-03T18:19:15.956Z"
   },
   {
    "duration": 883,
    "start_time": "2021-08-03T18:19:17.916Z"
   },
   {
    "duration": 63,
    "start_time": "2021-08-03T18:19:18.802Z"
   },
   {
    "duration": 42,
    "start_time": "2021-08-03T18:19:18.868Z"
   },
   {
    "duration": 80,
    "start_time": "2021-08-03T18:19:18.912Z"
   },
   {
    "duration": 39,
    "start_time": "2021-08-03T18:19:18.995Z"
   },
   {
    "duration": 368,
    "start_time": "2021-08-03T18:19:19.055Z"
   },
   {
    "duration": 31,
    "start_time": "2021-08-03T18:19:19.427Z"
   },
   {
    "duration": 19,
    "start_time": "2021-08-03T18:19:19.461Z"
   },
   {
    "duration": 16,
    "start_time": "2021-08-03T18:19:19.483Z"
   },
   {
    "duration": 70,
    "start_time": "2021-08-03T18:19:19.502Z"
   },
   {
    "duration": 4,
    "start_time": "2021-08-03T18:19:19.574Z"
   },
   {
    "duration": 15,
    "start_time": "2021-08-03T18:19:19.581Z"
   },
   {
    "duration": 26,
    "start_time": "2021-08-03T18:19:19.599Z"
   },
   {
    "duration": 12,
    "start_time": "2021-08-03T18:19:19.654Z"
   },
   {
    "duration": 50798,
    "start_time": "2021-08-03T18:19:19.668Z"
   },
   {
    "duration": 2655,
    "start_time": "2021-08-03T18:20:10.469Z"
   },
   {
    "duration": 927,
    "start_time": "2021-08-03T18:20:13.127Z"
   },
   {
    "duration": 3055,
    "start_time": "2021-08-03T18:20:14.057Z"
   },
   {
    "duration": 5115,
    "start_time": "2021-08-03T18:20:17.115Z"
   },
   {
    "duration": 24,
    "start_time": "2021-08-03T18:20:22.232Z"
   },
   {
    "duration": 95,
    "start_time": "2021-08-03T18:20:22.259Z"
   },
   {
    "duration": 7,
    "start_time": "2021-08-03T18:20:22.360Z"
   },
   {
    "duration": 13,
    "start_time": "2021-08-03T18:20:22.370Z"
   },
   {
    "duration": 89,
    "start_time": "2021-08-03T18:20:22.386Z"
   },
   {
    "duration": 32,
    "start_time": "2021-08-03T18:50:18.613Z"
   },
   {
    "duration": 1381,
    "start_time": "2021-08-03T18:50:19.211Z"
   },
   {
    "duration": 5,
    "start_time": "2021-08-03T19:01:09.762Z"
   },
   {
    "duration": 2320,
    "start_time": "2021-08-03T19:02:00.769Z"
   },
   {
    "duration": 957,
    "start_time": "2021-08-03T19:02:03.092Z"
   },
   {
    "duration": 59,
    "start_time": "2021-08-03T19:02:04.052Z"
   },
   {
    "duration": 57,
    "start_time": "2021-08-03T19:02:04.113Z"
   },
   {
    "duration": 61,
    "start_time": "2021-08-03T19:02:04.172Z"
   },
   {
    "duration": 5,
    "start_time": "2021-08-03T19:02:04.236Z"
   },
   {
    "duration": 55,
    "start_time": "2021-08-03T19:02:04.243Z"
   },
   {
    "duration": 405,
    "start_time": "2021-08-03T19:02:04.303Z"
   },
   {
    "duration": 21,
    "start_time": "2021-08-03T19:02:04.711Z"
   },
   {
    "duration": 35,
    "start_time": "2021-08-03T19:02:04.735Z"
   },
   {
    "duration": 17,
    "start_time": "2021-08-03T19:02:04.775Z"
   },
   {
    "duration": 38,
    "start_time": "2021-08-03T19:02:04.794Z"
   },
   {
    "duration": 4,
    "start_time": "2021-08-03T19:02:04.835Z"
   },
   {
    "duration": 28,
    "start_time": "2021-08-03T19:02:04.841Z"
   },
   {
    "duration": 31,
    "start_time": "2021-08-03T19:02:04.873Z"
   },
   {
    "duration": 32,
    "start_time": "2021-08-03T19:02:04.906Z"
   },
   {
    "duration": 3005,
    "start_time": "2021-08-03T19:02:04.941Z"
   },
   {
    "duration": 766,
    "start_time": "2021-08-03T19:02:07.949Z"
   },
   {
    "duration": 3057,
    "start_time": "2021-08-03T19:02:08.718Z"
   },
   {
    "duration": 5781,
    "start_time": "2021-08-03T19:02:11.792Z"
   },
   {
    "duration": 10,
    "start_time": "2021-08-03T19:02:17.576Z"
   },
   {
    "duration": 72,
    "start_time": "2021-08-03T19:02:17.588Z"
   },
   {
    "duration": 8,
    "start_time": "2021-08-03T19:02:17.667Z"
   },
   {
    "duration": 13,
    "start_time": "2021-08-03T19:02:17.678Z"
   },
   {
    "duration": 62,
    "start_time": "2021-08-03T19:02:17.693Z"
   },
   {
    "duration": 2567,
    "start_time": "2021-08-03T19:31:30.622Z"
   },
   {
    "duration": 31,
    "start_time": "2021-08-03T19:37:03.597Z"
   },
   {
    "duration": 1442,
    "start_time": "2021-08-04T12:21:51.181Z"
   },
   {
    "duration": 712,
    "start_time": "2021-08-04T12:21:52.625Z"
   },
   {
    "duration": 36,
    "start_time": "2021-08-04T12:21:53.339Z"
   },
   {
    "duration": 24,
    "start_time": "2021-08-04T12:21:53.377Z"
   },
   {
    "duration": 57,
    "start_time": "2021-08-04T12:21:53.403Z"
   },
   {
    "duration": 4,
    "start_time": "2021-08-04T12:21:53.462Z"
   },
   {
    "duration": 24,
    "start_time": "2021-08-04T12:21:53.467Z"
   },
   {
    "duration": 217,
    "start_time": "2021-08-04T12:21:53.493Z"
   },
   {
    "duration": 15,
    "start_time": "2021-08-04T12:21:53.711Z"
   },
   {
    "duration": 28,
    "start_time": "2021-08-04T12:21:53.727Z"
   },
   {
    "duration": 10,
    "start_time": "2021-08-04T12:21:53.757Z"
   },
   {
    "duration": 28,
    "start_time": "2021-08-04T12:21:53.769Z"
   },
   {
    "duration": 4,
    "start_time": "2021-08-04T12:21:53.799Z"
   },
   {
    "duration": 16,
    "start_time": "2021-08-04T12:21:53.804Z"
   },
   {
    "duration": 20,
    "start_time": "2021-08-04T12:21:53.841Z"
   },
   {
    "duration": 24,
    "start_time": "2021-08-04T12:21:53.863Z"
   },
   {
    "duration": 1477,
    "start_time": "2021-08-04T12:21:53.889Z"
   },
   {
    "duration": 2,
    "start_time": "2021-08-04T12:21:55.368Z"
   },
   {
    "duration": 14,
    "start_time": "2021-08-04T12:21:55.372Z"
   },
   {
    "duration": 533,
    "start_time": "2021-08-04T12:21:55.388Z"
   },
   {
    "duration": 34,
    "start_time": "2021-08-04T12:21:55.922Z"
   },
   {
    "duration": 1737,
    "start_time": "2021-08-04T12:21:55.957Z"
   },
   {
    "duration": 2998,
    "start_time": "2021-08-04T12:21:57.697Z"
   },
   {
    "duration": 7,
    "start_time": "2021-08-04T12:22:00.697Z"
   },
   {
    "duration": 45,
    "start_time": "2021-08-04T12:22:00.705Z"
   },
   {
    "duration": 5,
    "start_time": "2021-08-04T12:22:00.752Z"
   },
   {
    "duration": 18,
    "start_time": "2021-08-04T12:22:00.758Z"
   },
   {
    "duration": 15,
    "start_time": "2021-08-04T12:22:00.778Z"
   },
   {
    "duration": 8,
    "start_time": "2021-08-04T12:24:21.371Z"
   },
   {
    "duration": 7,
    "start_time": "2021-08-04T12:24:32.306Z"
   },
   {
    "duration": 13,
    "start_time": "2021-08-04T12:24:52.761Z"
   },
   {
    "duration": 4,
    "start_time": "2021-08-04T12:26:01.159Z"
   },
   {
    "duration": 6361,
    "start_time": "2021-08-04T12:26:13.504Z"
   },
   {
    "duration": 310,
    "start_time": "2021-08-04T12:26:40.391Z"
   },
   {
    "duration": 4,
    "start_time": "2021-08-04T12:29:54.092Z"
   },
   {
    "duration": 323,
    "start_time": "2021-08-04T12:29:54.757Z"
   },
   {
    "duration": 199,
    "start_time": "2021-08-04T12:30:46.636Z"
   },
   {
    "duration": 2602,
    "start_time": "2021-08-04T12:30:47.813Z"
   },
   {
    "duration": 11,
    "start_time": "2021-08-04T12:30:59.418Z"
   },
   {
    "duration": 1488,
    "start_time": "2021-08-04T12:40:52.635Z"
   },
   {
    "duration": 749,
    "start_time": "2021-08-04T12:40:54.124Z"
   },
   {
    "duration": 33,
    "start_time": "2021-08-04T12:40:54.874Z"
   },
   {
    "duration": 46,
    "start_time": "2021-08-04T12:40:54.909Z"
   },
   {
    "duration": 33,
    "start_time": "2021-08-04T12:40:54.957Z"
   },
   {
    "duration": 3,
    "start_time": "2021-08-04T12:40:54.992Z"
   },
   {
    "duration": 47,
    "start_time": "2021-08-04T12:40:54.996Z"
   },
   {
    "duration": 198,
    "start_time": "2021-08-04T12:40:55.045Z"
   },
   {
    "duration": 18,
    "start_time": "2021-08-04T12:40:55.245Z"
   },
   {
    "duration": 16,
    "start_time": "2021-08-04T12:40:55.265Z"
   },
   {
    "duration": 11,
    "start_time": "2021-08-04T12:40:55.282Z"
   },
   {
    "duration": 53,
    "start_time": "2021-08-04T12:40:55.295Z"
   },
   {
    "duration": 3,
    "start_time": "2021-08-04T12:40:55.350Z"
   },
   {
    "duration": 12,
    "start_time": "2021-08-04T12:40:55.355Z"
   },
   {
    "duration": 16,
    "start_time": "2021-08-04T12:40:55.369Z"
   },
   {
    "duration": 25,
    "start_time": "2021-08-04T12:40:55.386Z"
   },
   {
    "duration": 1521,
    "start_time": "2021-08-04T12:40:55.412Z"
   },
   {
    "duration": 2,
    "start_time": "2021-08-04T12:40:56.941Z"
   },
   {
    "duration": 12,
    "start_time": "2021-08-04T12:40:56.945Z"
   },
   {
    "duration": 524,
    "start_time": "2021-08-04T12:40:56.959Z"
   },
   {
    "duration": 21,
    "start_time": "2021-08-04T12:40:57.484Z"
   },
   {
    "duration": 1796,
    "start_time": "2021-08-04T12:40:57.507Z"
   },
   {
    "duration": 148,
    "start_time": "2021-08-04T12:40:59.307Z"
   },
   {
    "duration": 3397,
    "start_time": "2021-08-04T12:40:59.458Z"
   },
   {
    "duration": 7,
    "start_time": "2021-08-04T12:41:02.856Z"
   },
   {
    "duration": 27,
    "start_time": "2021-08-04T12:41:02.865Z"
   },
   {
    "duration": 4,
    "start_time": "2021-08-04T12:41:02.894Z"
   },
   {
    "duration": 48,
    "start_time": "2021-08-04T12:41:02.900Z"
   },
   {
    "duration": 8,
    "start_time": "2021-08-04T12:41:02.950Z"
   },
   {
    "duration": 6,
    "start_time": "2021-08-04T13:12:20.348Z"
   },
   {
    "duration": 462,
    "start_time": "2021-08-04T13:14:03.413Z"
   },
   {
    "duration": 263,
    "start_time": "2021-08-04T13:14:42.309Z"
   },
   {
    "duration": 5,
    "start_time": "2021-08-04T13:15:11.548Z"
   },
   {
    "duration": 6,
    "start_time": "2021-08-04T13:15:29.669Z"
   },
   {
    "duration": 24,
    "start_time": "2021-08-04T13:16:29.379Z"
   },
   {
    "duration": 10,
    "start_time": "2021-08-04T13:19:44.714Z"
   },
   {
    "duration": 1446,
    "start_time": "2021-08-04T13:22:54.791Z"
   },
   {
    "duration": 751,
    "start_time": "2021-08-04T13:22:56.239Z"
   },
   {
    "duration": 33,
    "start_time": "2021-08-04T13:22:56.992Z"
   },
   {
    "duration": 42,
    "start_time": "2021-08-04T13:22:57.027Z"
   },
   {
    "duration": 31,
    "start_time": "2021-08-04T13:22:57.071Z"
   },
   {
    "duration": 3,
    "start_time": "2021-08-04T13:22:57.104Z"
   },
   {
    "duration": 54,
    "start_time": "2021-08-04T13:22:57.109Z"
   },
   {
    "duration": 220,
    "start_time": "2021-08-04T13:22:57.166Z"
   },
   {
    "duration": 16,
    "start_time": "2021-08-04T13:22:57.388Z"
   },
   {
    "duration": 15,
    "start_time": "2021-08-04T13:22:57.406Z"
   },
   {
    "duration": 24,
    "start_time": "2021-08-04T13:22:57.422Z"
   },
   {
    "duration": 30,
    "start_time": "2021-08-04T13:22:57.448Z"
   },
   {
    "duration": 3,
    "start_time": "2021-08-04T13:22:57.480Z"
   },
   {
    "duration": 14,
    "start_time": "2021-08-04T13:22:57.484Z"
   },
   {
    "duration": 15,
    "start_time": "2021-08-04T13:22:57.500Z"
   },
   {
    "duration": 25,
    "start_time": "2021-08-04T13:22:57.540Z"
   },
   {
    "duration": 1522,
    "start_time": "2021-08-04T13:22:57.567Z"
   },
   {
    "duration": 3,
    "start_time": "2021-08-04T13:22:59.091Z"
   },
   {
    "duration": 13,
    "start_time": "2021-08-04T13:22:59.095Z"
   },
   {
    "duration": 458,
    "start_time": "2021-08-04T13:22:59.110Z"
   },
   {
    "duration": 22,
    "start_time": "2021-08-04T13:22:59.569Z"
   },
   {
    "duration": 1964,
    "start_time": "2021-08-04T13:22:59.592Z"
   },
   {
    "duration": 72,
    "start_time": "2021-08-04T13:23:01.561Z"
   },
   {
    "duration": 3195,
    "start_time": "2021-08-04T13:23:01.635Z"
   },
   {
    "duration": 12,
    "start_time": "2021-08-04T13:23:04.832Z"
   },
   {
    "duration": 34,
    "start_time": "2021-08-04T13:23:04.846Z"
   },
   {
    "duration": 3,
    "start_time": "2021-08-04T13:23:04.882Z"
   },
   {
    "duration": 58,
    "start_time": "2021-08-04T13:23:04.887Z"
   },
   {
    "duration": 39,
    "start_time": "2021-08-04T13:23:04.948Z"
   },
   {
    "duration": 30,
    "start_time": "2021-08-04T13:23:04.988Z"
   },
   {
    "duration": 26,
    "start_time": "2021-08-04T13:23:05.019Z"
   },
   {
    "duration": 21,
    "start_time": "2021-08-04T13:30:07.803Z"
   },
   {
    "duration": 1242,
    "start_time": "2021-08-04T14:18:14.810Z"
   },
   {
    "duration": 1061,
    "start_time": "2021-08-04T14:19:07.886Z"
   },
   {
    "duration": 1447,
    "start_time": "2021-08-04T14:19:29.197Z"
   },
   {
    "duration": 1406,
    "start_time": "2021-08-04T14:20:06.437Z"
   },
   {
    "duration": 1395,
    "start_time": "2021-08-04T14:20:15.653Z"
   },
   {
    "duration": 1657,
    "start_time": "2021-08-04T14:21:04.108Z"
   },
   {
    "duration": 19698,
    "start_time": "2021-08-04T14:25:07.212Z"
   },
   {
    "duration": 5,
    "start_time": "2021-08-04T14:25:32.018Z"
   },
   {
    "duration": 6,
    "start_time": "2021-08-04T14:28:17.863Z"
   },
   {
    "duration": 7,
    "start_time": "2021-08-04T14:28:19.271Z"
   },
   {
    "duration": 19060,
    "start_time": "2021-08-04T14:31:31.957Z"
   },
   {
    "duration": 3,
    "start_time": "2021-08-04T14:31:52.604Z"
   },
   {
    "duration": 5,
    "start_time": "2021-08-04T14:31:53.612Z"
   },
   {
    "duration": 7,
    "start_time": "2021-08-04T14:31:54.454Z"
   },
   {
    "duration": 404,
    "start_time": "2021-08-04T14:32:17.796Z"
   },
   {
    "duration": 256,
    "start_time": "2021-08-04T14:33:24.155Z"
   },
   {
    "duration": 3,
    "start_time": "2021-08-04T14:33:54.883Z"
   },
   {
    "duration": 350,
    "start_time": "2021-08-04T14:33:57.878Z"
   },
   {
    "duration": 3,
    "start_time": "2021-08-04T14:34:23.563Z"
   },
   {
    "duration": 350,
    "start_time": "2021-08-04T14:34:26.148Z"
   },
   {
    "duration": 3,
    "start_time": "2021-08-04T14:37:33.585Z"
   },
   {
    "duration": 3,
    "start_time": "2021-08-04T14:37:35.400Z"
   },
   {
    "duration": 1437,
    "start_time": "2021-08-04T14:37:51.009Z"
   },
   {
    "duration": 19098,
    "start_time": "2021-08-04T14:38:15.338Z"
   },
   {
    "duration": 3,
    "start_time": "2021-08-04T14:38:53.032Z"
   },
   {
    "duration": 6,
    "start_time": "2021-08-04T14:39:18.578Z"
   },
   {
    "duration": 358,
    "start_time": "2021-08-04T14:40:49.807Z"
   },
   {
    "duration": 4,
    "start_time": "2021-08-04T14:42:18.390Z"
   },
   {
    "duration": 6,
    "start_time": "2021-08-04T14:42:44.852Z"
   },
   {
    "duration": 222,
    "start_time": "2021-08-04T14:42:49.231Z"
   },
   {
    "duration": 1222,
    "start_time": "2021-08-04T14:43:26.820Z"
   },
   {
    "duration": 573375,
    "start_time": "2021-08-04T14:46:12.876Z"
   },
   {
    "duration": 82,
    "start_time": "2021-08-04T16:16:34.149Z"
   },
   {
    "duration": 88,
    "start_time": "2021-08-04T16:16:48.649Z"
   },
   {
    "duration": 4,
    "start_time": "2021-08-04T16:17:12.960Z"
   },
   {
    "duration": 3,
    "start_time": "2021-08-04T16:22:13.326Z"
   },
   {
    "duration": 6,
    "start_time": "2021-08-04T16:22:13.823Z"
   },
   {
    "duration": 20415,
    "start_time": "2021-08-04T16:22:38.145Z"
   },
   {
    "duration": 5,
    "start_time": "2021-08-04T16:25:00.436Z"
   },
   {
    "duration": 19654,
    "start_time": "2021-08-04T16:25:01.678Z"
   },
   {
    "duration": 348857,
    "start_time": "2021-08-04T16:28:49.514Z"
   },
   {
    "duration": 16135,
    "start_time": "2021-08-04T16:34:57.026Z"
   },
   {
    "duration": 4,
    "start_time": "2021-08-04T16:35:18.210Z"
   },
   {
    "duration": 5,
    "start_time": "2021-08-04T16:35:25.248Z"
   },
   {
    "duration": 231,
    "start_time": "2021-08-04T16:35:26.535Z"
   },
   {
    "duration": 190980,
    "start_time": "2021-08-04T16:35:47.064Z"
   },
   {
    "duration": -3120,
    "start_time": "2021-08-04T16:39:01.167Z"
   },
   {
    "duration": 6,
    "start_time": "2021-08-04T16:39:12.492Z"
   },
   {
    "duration": 14,
    "start_time": "2021-08-04T16:40:43.937Z"
   },
   {
    "duration": 5,
    "start_time": "2021-08-04T16:40:51.151Z"
   },
   {
    "duration": 613,
    "start_time": "2021-08-04T16:41:00.737Z"
   },
   {
    "duration": 4,
    "start_time": "2021-08-04T16:41:11.929Z"
   },
   {
    "duration": 14,
    "start_time": "2021-08-04T16:41:26.745Z"
   },
   {
    "duration": 15,
    "start_time": "2021-08-04T16:42:38.710Z"
   },
   {
    "duration": 314,
    "start_time": "2021-08-04T16:43:43.470Z"
   },
   {
    "duration": 7186,
    "start_time": "2021-08-04T16:43:55.284Z"
   },
   {
    "duration": 5,
    "start_time": "2021-08-04T16:44:13.630Z"
   },
   {
    "duration": -3039,
    "start_time": "2021-08-04T16:44:54.795Z"
   },
   {
    "duration": 260,
    "start_time": "2021-08-04T16:44:53.155Z"
   },
   {
    "duration": 26,
    "start_time": "2021-08-04T16:45:24.561Z"
   },
   {
    "duration": 9,
    "start_time": "2021-08-04T16:45:34.227Z"
   },
   {
    "duration": 6,
    "start_time": "2021-08-04T16:45:42.263Z"
   },
   {
    "duration": 1054,
    "start_time": "2021-08-04T16:47:09.376Z"
   },
   {
    "duration": 5,
    "start_time": "2021-08-04T16:48:46.097Z"
   },
   {
    "duration": 251,
    "start_time": "2021-08-04T16:48:59.015Z"
   },
   {
    "duration": 6,
    "start_time": "2021-08-04T16:49:05.249Z"
   },
   {
    "duration": 8,
    "start_time": "2021-08-04T16:49:20.112Z"
   },
   {
    "duration": 6,
    "start_time": "2021-08-04T16:51:47.222Z"
   },
   {
    "duration": 9,
    "start_time": "2021-08-04T16:55:25.040Z"
   },
   {
    "duration": 7,
    "start_time": "2021-08-04T16:55:33.809Z"
   },
   {
    "duration": 53,
    "start_time": "2021-08-04T16:56:30.470Z"
   },
   {
    "duration": 23,
    "start_time": "2021-08-04T16:56:48.458Z"
   },
   {
    "duration": 6,
    "start_time": "2021-08-04T16:58:08.580Z"
   },
   {
    "duration": 8511,
    "start_time": "2021-08-04T16:58:39.272Z"
   },
   {
    "duration": 6,
    "start_time": "2021-08-04T16:59:00.653Z"
   },
   {
    "duration": 18792,
    "start_time": "2021-08-04T16:59:17.314Z"
   },
   {
    "duration": 8714,
    "start_time": "2021-08-04T16:59:42.783Z"
   },
   {
    "duration": 89,
    "start_time": "2021-08-04T17:06:01.036Z"
   },
   {
    "duration": 3,
    "start_time": "2021-08-04T17:06:10.002Z"
   },
   {
    "duration": 5,
    "start_time": "2021-08-04T17:06:30.009Z"
   },
   {
    "duration": 1572,
    "start_time": "2021-08-04T17:08:59.575Z"
   },
   {
    "duration": 3,
    "start_time": "2021-08-04T17:09:25.984Z"
   },
   {
    "duration": 1444,
    "start_time": "2021-08-04T17:09:31.897Z"
   },
   {
    "duration": 889,
    "start_time": "2021-08-04T17:09:36.163Z"
   },
   {
    "duration": 6,
    "start_time": "2021-08-04T17:17:23.557Z"
   },
   {
    "duration": 18,
    "start_time": "2021-08-04T17:18:55.416Z"
   },
   {
    "duration": 16,
    "start_time": "2021-08-04T17:19:02.660Z"
   },
   {
    "duration": 508,
    "start_time": "2021-08-04T17:20:13.115Z"
   },
   {
    "duration": 10,
    "start_time": "2021-08-04T17:20:36.020Z"
   },
   {
    "duration": 2415,
    "start_time": "2021-08-04T17:21:13.026Z"
   },
   {
    "duration": 3107,
    "start_time": "2021-08-04T17:21:46.443Z"
   },
   {
    "duration": 27799,
    "start_time": "2021-08-04T17:23:13.312Z"
   },
   {
    "duration": 30876,
    "start_time": "2021-08-04T17:23:44.810Z"
   },
   {
    "duration": 7,
    "start_time": "2021-08-04T17:27:33.921Z"
   },
   {
    "duration": 369549,
    "start_time": "2021-08-04T17:28:07.597Z"
   },
   {
    "duration": 6,
    "start_time": "2021-08-04T17:36:05.023Z"
   },
   {
    "duration": 163740,
    "start_time": "2021-08-04T17:36:21.361Z"
   },
   {
    "duration": -4409,
    "start_time": "2021-08-04T17:39:09.513Z"
   },
   {
    "duration": 13226,
    "start_time": "2021-08-04T17:39:09.239Z"
   },
   {
    "duration": 5,
    "start_time": "2021-08-04T17:39:24.802Z"
   },
   {
    "duration": 27491,
    "start_time": "2021-08-04T17:39:31.394Z"
   },
   {
    "duration": 5,
    "start_time": "2021-08-04T17:41:38.311Z"
   },
   {
    "duration": 368302,
    "start_time": "2021-08-04T17:42:28.863Z"
   },
   {
    "duration": 38,
    "start_time": "2021-08-04T17:57:20.972Z"
   },
   {
    "duration": 51,
    "start_time": "2021-08-04T17:58:24.035Z"
   },
   {
    "duration": 587,
    "start_time": "2021-08-04T17:59:29.791Z"
   },
   {
    "duration": 54,
    "start_time": "2021-08-04T17:59:41.038Z"
   },
   {
    "duration": 49,
    "start_time": "2021-08-04T18:00:05.889Z"
   },
   {
    "duration": 60,
    "start_time": "2021-08-04T18:00:32.020Z"
   },
   {
    "duration": 19,
    "start_time": "2021-08-04T18:03:25.537Z"
   },
   {
    "duration": 38,
    "start_time": "2021-08-04T18:04:22.053Z"
   },
   {
    "duration": 39,
    "start_time": "2021-08-04T18:04:30.626Z"
   },
   {
    "duration": 290,
    "start_time": "2021-08-04T18:05:48.837Z"
   },
   {
    "duration": 273,
    "start_time": "2021-08-04T18:06:06.885Z"
   },
   {
    "duration": 374,
    "start_time": "2021-08-04T18:06:58.695Z"
   },
   {
    "duration": 38,
    "start_time": "2021-08-04T18:07:09.702Z"
   },
   {
    "duration": 22,
    "start_time": "2021-08-04T18:08:36.022Z"
   },
   {
    "duration": 321,
    "start_time": "2021-08-04T18:09:12.062Z"
   },
   {
    "duration": 35,
    "start_time": "2021-08-04T18:09:29.587Z"
   },
   {
    "duration": 275,
    "start_time": "2021-08-04T18:09:52.447Z"
   },
   {
    "duration": 287,
    "start_time": "2021-08-04T18:10:39.173Z"
   },
   {
    "duration": 1173,
    "start_time": "2021-08-04T18:11:24.992Z"
   },
   {
    "duration": 301,
    "start_time": "2021-08-04T18:12:05.394Z"
   },
   {
    "duration": 298,
    "start_time": "2021-08-04T18:12:21.316Z"
   },
   {
    "duration": 40,
    "start_time": "2021-08-04T18:12:27.026Z"
   },
   {
    "duration": 312,
    "start_time": "2021-08-04T18:14:10.770Z"
   },
   {
    "duration": 282,
    "start_time": "2021-08-04T18:14:21.862Z"
   },
   {
    "duration": 25,
    "start_time": "2021-08-04T18:14:34.942Z"
   },
   {
    "duration": 280,
    "start_time": "2021-08-04T18:15:06.087Z"
   },
   {
    "duration": 33,
    "start_time": "2021-08-04T18:17:12.022Z"
   },
   {
    "duration": 32,
    "start_time": "2021-08-04T18:17:20.935Z"
   },
   {
    "duration": 94,
    "start_time": "2021-08-04T18:21:49.388Z"
   },
   {
    "duration": 4,
    "start_time": "2021-08-04T18:22:03.833Z"
   },
   {
    "duration": 259,
    "start_time": "2021-08-04T18:22:32.718Z"
   },
   {
    "duration": 1608,
    "start_time": "2021-08-04T18:22:56.939Z"
   },
   {
    "duration": 230,
    "start_time": "2021-08-04T18:23:24.777Z"
   },
   {
    "duration": 89,
    "start_time": "2021-08-04T18:23:49.982Z"
   },
   {
    "duration": 103,
    "start_time": "2021-08-04T18:26:03.736Z"
   },
   {
    "duration": 67,
    "start_time": "2021-08-04T18:29:47.074Z"
   },
   {
    "duration": 73,
    "start_time": "2021-08-04T18:30:42.629Z"
   },
   {
    "duration": 96,
    "start_time": "2021-08-04T18:31:19.539Z"
   },
   {
    "duration": 92,
    "start_time": "2021-08-04T18:32:52.818Z"
   },
   {
    "duration": 99,
    "start_time": "2021-08-04T18:33:17.394Z"
   },
   {
    "duration": 67,
    "start_time": "2021-08-04T18:35:06.740Z"
   },
   {
    "duration": 57,
    "start_time": "2021-08-04T18:36:02.677Z"
   },
   {
    "duration": 58,
    "start_time": "2021-08-04T18:36:13.920Z"
   },
   {
    "duration": 125,
    "start_time": "2021-08-04T18:40:58.846Z"
   },
   {
    "duration": 4,
    "start_time": "2021-08-04T18:41:34.756Z"
   },
   {
    "duration": 114,
    "start_time": "2021-08-04T18:42:05.075Z"
   },
   {
    "duration": 5,
    "start_time": "2021-08-04T18:42:06.127Z"
   },
   {
    "duration": 4,
    "start_time": "2021-08-04T18:42:54.531Z"
   },
   {
    "duration": 4,
    "start_time": "2021-08-04T18:43:09.880Z"
   },
   {
    "duration": 4,
    "start_time": "2021-08-04T18:43:42.779Z"
   },
   {
    "duration": 4,
    "start_time": "2021-08-04T18:44:09.124Z"
   },
   {
    "duration": 5,
    "start_time": "2021-08-04T18:46:19.460Z"
   },
   {
    "duration": 116,
    "start_time": "2021-08-04T18:46:35.234Z"
   },
   {
    "duration": 4,
    "start_time": "2021-08-04T18:46:39.290Z"
   },
   {
    "duration": 264,
    "start_time": "2021-08-04T18:46:46.549Z"
   },
   {
    "duration": 5,
    "start_time": "2021-08-04T18:46:53.813Z"
   },
   {
    "duration": 6,
    "start_time": "2021-08-04T18:48:06.051Z"
   },
   {
    "duration": 5,
    "start_time": "2021-08-04T18:48:17.671Z"
   },
   {
    "duration": 270,
    "start_time": "2021-08-04T18:50:32.602Z"
   },
   {
    "duration": 3,
    "start_time": "2021-08-04T18:50:36.518Z"
   },
   {
    "duration": 8,
    "start_time": "2021-08-04T18:50:42.800Z"
   },
   {
    "duration": 1452,
    "start_time": "2021-08-04T18:51:16.702Z"
   },
   {
    "duration": 125,
    "start_time": "2021-08-04T18:51:39.965Z"
   },
   {
    "duration": 2,
    "start_time": "2021-08-04T18:51:42.899Z"
   },
   {
    "duration": 9,
    "start_time": "2021-08-04T18:51:46.859Z"
   },
   {
    "duration": 1604,
    "start_time": "2021-08-04T18:52:00.037Z"
   },
   {
    "duration": 1887,
    "start_time": "2021-08-04T18:52:17.464Z"
   },
   {
    "duration": 122,
    "start_time": "2021-08-04T18:52:37.407Z"
   },
   {
    "duration": 4,
    "start_time": "2021-08-04T18:52:42.779Z"
   },
   {
    "duration": 1879,
    "start_time": "2021-08-04T18:53:12.088Z"
   },
   {
    "duration": 2000,
    "start_time": "2021-08-04T18:53:27.246Z"
   },
   {
    "duration": 123,
    "start_time": "2021-08-04T18:53:38.858Z"
   },
   {
    "duration": 4,
    "start_time": "2021-08-04T18:53:42.800Z"
   },
   {
    "duration": 8,
    "start_time": "2021-08-04T18:53:45.189Z"
   },
   {
    "duration": 1813,
    "start_time": "2021-08-04T18:53:53.430Z"
   },
   {
    "duration": 2193,
    "start_time": "2021-08-04T18:54:00.966Z"
   },
   {
    "duration": 127,
    "start_time": "2021-08-04T18:54:22.490Z"
   },
   {
    "duration": 3,
    "start_time": "2021-08-04T18:54:34.471Z"
   },
   {
    "duration": 8,
    "start_time": "2021-08-04T18:54:36.665Z"
   },
   {
    "duration": 1376,
    "start_time": "2021-08-04T18:54:44.584Z"
   },
   {
    "duration": 20001,
    "start_time": "2021-08-04T18:54:50.195Z"
   },
   {
    "duration": 1878,
    "start_time": "2021-08-04T18:55:39.364Z"
   },
   {
    "duration": 24229,
    "start_time": "2021-08-04T18:56:05.275Z"
   },
   {
    "duration": 318667,
    "start_time": "2021-08-04T18:57:34.718Z"
   },
   {
    "duration": -3087,
    "start_time": "2021-08-04T19:02:56.474Z"
   },
   {
    "duration": 5,
    "start_time": "2021-08-04T19:03:04.681Z"
   },
   {
    "duration": 5,
    "start_time": "2021-08-04T19:03:10.688Z"
   },
   {
    "duration": 3,
    "start_time": "2021-08-04T19:05:31.723Z"
   },
   {
    "duration": 8,
    "start_time": "2021-08-04T19:05:37.496Z"
   },
   {
    "duration": 10,
    "start_time": "2021-08-04T19:05:50.518Z"
   },
   {
    "duration": 3,
    "start_time": "2021-08-04T19:06:12.562Z"
   },
   {
    "duration": 5,
    "start_time": "2021-08-04T19:06:13.882Z"
   },
   {
    "duration": 6,
    "start_time": "2021-08-04T19:06:19.416Z"
   },
   {
    "duration": 1944,
    "start_time": "2021-08-04T19:06:27.506Z"
   },
   {
    "duration": 2746,
    "start_time": "2021-08-04T19:06:38.902Z"
   },
   {
    "duration": 6,
    "start_time": "2021-08-04T19:14:05.702Z"
   },
   {
    "duration": 1798,
    "start_time": "2021-08-04T19:14:26.654Z"
   },
   {
    "duration": 7,
    "start_time": "2021-08-04T19:16:51.222Z"
   },
   {
    "duration": 1343236,
    "start_time": "2021-08-04T19:16:51.316Z"
   },
   {
    "duration": 1144,
    "start_time": "2021-08-04T19:39:46.089Z"
   },
   {
    "duration": 90,
    "start_time": "2021-08-04T19:40:46.679Z"
   },
   {
    "duration": 137,
    "start_time": "2021-08-04T19:40:55.438Z"
   },
   {
    "duration": 367,
    "start_time": "2021-08-04T19:41:42.307Z"
   },
   {
    "duration": 374,
    "start_time": "2021-08-04T19:41:58.218Z"
   },
   {
    "duration": 115,
    "start_time": "2021-08-04T19:42:44.872Z"
   },
   {
    "duration": 112,
    "start_time": "2021-08-04T19:45:52.953Z"
   },
   {
    "duration": 525,
    "start_time": "2021-08-04T19:46:58.973Z"
   },
   {
    "duration": -3026,
    "start_time": "2021-08-04T19:47:02.526Z"
   },
   {
    "duration": -3040,
    "start_time": "2021-08-04T19:47:02.540Z"
   },
   {
    "duration": 119,
    "start_time": "2021-08-04T19:47:41.752Z"
   },
   {
    "duration": 125,
    "start_time": "2021-08-04T19:47:51.350Z"
   },
   {
    "duration": 125,
    "start_time": "2021-08-04T19:48:31.981Z"
   },
   {
    "duration": 120,
    "start_time": "2021-08-04T19:52:16.174Z"
   },
   {
    "duration": 123,
    "start_time": "2021-08-04T19:56:24.684Z"
   },
   {
    "duration": 1500,
    "start_time": "2021-08-04T20:25:31.034Z"
   },
   {
    "duration": 730,
    "start_time": "2021-08-04T20:25:32.536Z"
   },
   {
    "duration": 32,
    "start_time": "2021-08-04T20:25:33.268Z"
   },
   {
    "duration": 46,
    "start_time": "2021-08-04T20:25:33.302Z"
   },
   {
    "duration": 35,
    "start_time": "2021-08-04T20:25:33.350Z"
   },
   {
    "duration": 18,
    "start_time": "2021-08-04T20:25:33.386Z"
   },
   {
    "duration": 30,
    "start_time": "2021-08-04T20:25:33.406Z"
   },
   {
    "duration": 199,
    "start_time": "2021-08-04T20:25:33.439Z"
   },
   {
    "duration": 16,
    "start_time": "2021-08-04T20:25:33.641Z"
   },
   {
    "duration": 30,
    "start_time": "2021-08-04T20:25:33.659Z"
   },
   {
    "duration": 10,
    "start_time": "2021-08-04T20:25:33.691Z"
   },
   {
    "duration": 26,
    "start_time": "2021-08-04T20:25:33.703Z"
   },
   {
    "duration": 11,
    "start_time": "2021-08-04T20:25:33.731Z"
   },
   {
    "duration": 26,
    "start_time": "2021-08-04T20:25:33.744Z"
   },
   {
    "duration": 21,
    "start_time": "2021-08-04T20:25:33.772Z"
   },
   {
    "duration": 31,
    "start_time": "2021-08-04T20:25:33.794Z"
   },
   {
    "duration": 1565,
    "start_time": "2021-08-04T20:25:33.827Z"
   },
   {
    "duration": 2,
    "start_time": "2021-08-04T20:25:35.394Z"
   },
   {
    "duration": 47,
    "start_time": "2021-08-04T20:25:35.398Z"
   },
   {
    "duration": 416,
    "start_time": "2021-08-04T20:25:35.446Z"
   },
   {
    "duration": 22,
    "start_time": "2021-08-04T20:25:35.863Z"
   },
   {
    "duration": 1793,
    "start_time": "2021-08-04T20:25:35.887Z"
   },
   {
    "duration": 105,
    "start_time": "2021-08-04T20:25:37.683Z"
   },
   {
    "duration": 2785,
    "start_time": "2021-08-04T20:25:37.789Z"
   },
   {
    "duration": 6,
    "start_time": "2021-08-04T20:25:40.576Z"
   },
   {
    "duration": 23,
    "start_time": "2021-08-04T20:25:40.584Z"
   },
   {
    "duration": 4,
    "start_time": "2021-08-04T20:25:40.640Z"
   },
   {
    "duration": 175,
    "start_time": "2021-08-04T20:25:40.646Z"
   },
   {
    "duration": 399,
    "start_time": "2021-08-04T20:25:40.823Z"
   },
   {
    "duration": -407,
    "start_time": "2021-08-04T20:25:41.631Z"
   },
   {
    "duration": -412,
    "start_time": "2021-08-04T20:25:41.637Z"
   },
   {
    "duration": -480,
    "start_time": "2021-08-04T20:25:41.706Z"
   },
   {
    "duration": -513,
    "start_time": "2021-08-04T20:25:41.739Z"
   },
   {
    "duration": -545,
    "start_time": "2021-08-04T20:25:41.772Z"
   },
   {
    "duration": -576,
    "start_time": "2021-08-04T20:25:41.804Z"
   },
   {
    "duration": -607,
    "start_time": "2021-08-04T20:25:41.836Z"
   },
   {
    "duration": -613,
    "start_time": "2021-08-04T20:25:41.842Z"
   },
   {
    "duration": -645,
    "start_time": "2021-08-04T20:25:41.875Z"
   },
   {
    "duration": -676,
    "start_time": "2021-08-04T20:25:41.907Z"
   },
   {
    "duration": -709,
    "start_time": "2021-08-04T20:25:41.940Z"
   },
   {
    "duration": -741,
    "start_time": "2021-08-04T20:25:41.973Z"
   },
   {
    "duration": -772,
    "start_time": "2021-08-04T20:25:42.005Z"
   },
   {
    "duration": -804,
    "start_time": "2021-08-04T20:25:42.037Z"
   },
   {
    "duration": 4,
    "start_time": "2021-08-04T20:26:12.504Z"
   },
   {
    "duration": 494,
    "start_time": "2021-08-04T20:26:13.846Z"
   },
   {
    "duration": 9,
    "start_time": "2021-08-04T20:26:29.341Z"
   },
   {
    "duration": 7,
    "start_time": "2021-08-04T20:26:31.310Z"
   },
   {
    "duration": 13,
    "start_time": "2021-08-04T20:26:34.276Z"
   },
   {
    "duration": 4,
    "start_time": "2021-08-04T20:26:44.450Z"
   },
   {
    "duration": 3,
    "start_time": "2021-08-04T20:26:45.313Z"
   },
   {
    "duration": 4,
    "start_time": "2021-08-04T20:26:48.603Z"
   },
   {
    "duration": 14,
    "start_time": "2021-08-04T20:26:48.609Z"
   },
   {
    "duration": 6,
    "start_time": "2021-08-04T20:26:51.942Z"
   },
   {
    "duration": 1011,
    "start_time": "2021-08-04T20:26:55.840Z"
   },
   {
    "duration": 905,
    "start_time": "2021-08-04T20:26:56.853Z"
   },
   {
    "duration": 12625,
    "start_time": "2021-08-04T20:26:57.763Z"
   },
   {
    "duration": 12843,
    "start_time": "2021-08-04T20:27:10.390Z"
   },
   {
    "duration": 71054,
    "start_time": "2021-08-04T20:27:23.235Z"
   },
   {
    "duration": 66722,
    "start_time": "2021-08-04T20:28:34.291Z"
   },
   {
    "duration": 5,
    "start_time": "2021-08-04T20:33:02.185Z"
   },
   {
    "duration": 575102,
    "start_time": "2021-08-04T20:33:12.402Z"
   },
   {
    "duration": 540639,
    "start_time": "2021-08-04T20:42:47.506Z"
   },
   {
    "duration": 1450,
    "start_time": "2021-08-05T07:58:44.115Z"
   },
   {
    "duration": 706,
    "start_time": "2021-08-05T07:58:45.566Z"
   },
   {
    "duration": 34,
    "start_time": "2021-08-05T07:58:46.274Z"
   },
   {
    "duration": 22,
    "start_time": "2021-08-05T07:58:46.310Z"
   },
   {
    "duration": 29,
    "start_time": "2021-08-05T07:58:46.334Z"
   },
   {
    "duration": 27,
    "start_time": "2021-08-05T07:58:46.364Z"
   },
   {
    "duration": 21,
    "start_time": "2021-08-05T07:58:46.393Z"
   },
   {
    "duration": 208,
    "start_time": "2021-08-05T07:58:46.416Z"
   },
   {
    "duration": 14,
    "start_time": "2021-08-05T07:58:46.627Z"
   },
   {
    "duration": 19,
    "start_time": "2021-08-05T07:58:46.642Z"
   },
   {
    "duration": 11,
    "start_time": "2021-08-05T07:58:46.663Z"
   },
   {
    "duration": 30,
    "start_time": "2021-08-05T07:58:46.692Z"
   },
   {
    "duration": 3,
    "start_time": "2021-08-05T07:58:46.724Z"
   },
   {
    "duration": 13,
    "start_time": "2021-08-05T07:58:46.728Z"
   },
   {
    "duration": 17,
    "start_time": "2021-08-05T07:58:46.743Z"
   },
   {
    "duration": 41,
    "start_time": "2021-08-05T07:58:46.761Z"
   },
   {
    "duration": 1425,
    "start_time": "2021-08-05T07:58:46.804Z"
   },
   {
    "duration": 3,
    "start_time": "2021-08-05T07:58:48.231Z"
   },
   {
    "duration": 15,
    "start_time": "2021-08-05T07:58:48.235Z"
   },
   {
    "duration": 507,
    "start_time": "2021-08-05T07:58:48.252Z"
   },
   {
    "duration": 20,
    "start_time": "2021-08-05T07:58:48.761Z"
   },
   {
    "duration": 1808,
    "start_time": "2021-08-05T07:58:48.783Z"
   },
   {
    "duration": 64,
    "start_time": "2021-08-05T07:58:50.595Z"
   },
   {
    "duration": 2954,
    "start_time": "2021-08-05T07:58:50.661Z"
   },
   {
    "duration": 7,
    "start_time": "2021-08-05T07:58:53.617Z"
   },
   {
    "duration": 20,
    "start_time": "2021-08-05T07:58:53.626Z"
   },
   {
    "duration": 4,
    "start_time": "2021-08-05T07:58:53.648Z"
   },
   {
    "duration": 201,
    "start_time": "2021-08-05T07:58:53.653Z"
   },
   {
    "duration": 3,
    "start_time": "2021-08-05T07:58:53.856Z"
   },
   {
    "duration": 10,
    "start_time": "2021-08-05T07:58:53.861Z"
   },
   {
    "duration": 18,
    "start_time": "2021-08-05T07:58:53.873Z"
   },
   {
    "duration": 10,
    "start_time": "2021-08-05T07:58:53.893Z"
   },
   {
    "duration": 8,
    "start_time": "2021-08-05T07:58:53.904Z"
   },
   {
    "duration": 5,
    "start_time": "2021-08-05T07:58:53.914Z"
   },
   {
    "duration": 6,
    "start_time": "2021-08-05T07:58:53.920Z"
   },
   {
    "duration": 10,
    "start_time": "2021-08-05T07:58:53.928Z"
   },
   {
    "duration": 16,
    "start_time": "2021-08-05T07:58:53.939Z"
   },
   {
    "duration": 842,
    "start_time": "2021-08-05T07:58:53.956Z"
   },
   {
    "duration": 12508,
    "start_time": "2021-08-05T07:58:54.800Z"
   },
   {
    "duration": 508663,
    "start_time": "2021-08-05T07:59:07.310Z"
   },
   {
    "duration": 527,
    "start_time": "2021-08-05T08:07:35.974Z"
   },
   {
    "duration": 11947,
    "start_time": "2021-08-05T08:07:36.502Z"
   },
   {
    "duration": 505044,
    "start_time": "2021-08-05T08:07:48.451Z"
   },
   {
    "duration": 57,
    "start_time": "2021-08-05T08:27:53.443Z"
   },
   {
    "duration": 57,
    "start_time": "2021-08-05T08:31:50.936Z"
   },
   {
    "duration": 93,
    "start_time": "2021-08-05T08:31:51.910Z"
   },
   {
    "duration": 3,
    "start_time": "2021-08-05T08:32:59.346Z"
   },
   {
    "duration": 4,
    "start_time": "2021-08-05T08:33:08.069Z"
   },
   {
    "duration": 1453,
    "start_time": "2021-08-05T08:34:42.720Z"
   },
   {
    "duration": 713,
    "start_time": "2021-08-05T08:34:44.175Z"
   },
   {
    "duration": 34,
    "start_time": "2021-08-05T08:34:44.890Z"
   },
   {
    "duration": 25,
    "start_time": "2021-08-05T08:34:44.926Z"
   },
   {
    "duration": 56,
    "start_time": "2021-08-05T08:34:44.953Z"
   },
   {
    "duration": 4,
    "start_time": "2021-08-05T08:34:45.010Z"
   },
   {
    "duration": 26,
    "start_time": "2021-08-05T08:34:45.016Z"
   },
   {
    "duration": 827,
    "start_time": "2021-08-05T08:34:45.044Z"
   },
   {
    "duration": -198003,
    "start_time": "2021-08-05T08:38:03.877Z"
   },
   {
    "duration": -198010,
    "start_time": "2021-08-05T08:38:03.885Z"
   },
   {
    "duration": -198017,
    "start_time": "2021-08-05T08:38:03.893Z"
   },
   {
    "duration": -198025,
    "start_time": "2021-08-05T08:38:03.902Z"
   },
   {
    "duration": -198032,
    "start_time": "2021-08-05T08:38:03.910Z"
   },
   {
    "duration": -198039,
    "start_time": "2021-08-05T08:38:03.918Z"
   },
   {
    "duration": -198055,
    "start_time": "2021-08-05T08:38:03.935Z"
   },
   {
    "duration": -198060,
    "start_time": "2021-08-05T08:38:03.941Z"
   },
   {
    "duration": -198065,
    "start_time": "2021-08-05T08:38:03.947Z"
   },
   {
    "duration": -198071,
    "start_time": "2021-08-05T08:38:03.954Z"
   },
   {
    "duration": -198075,
    "start_time": "2021-08-05T08:38:03.959Z"
   },
   {
    "duration": -198081,
    "start_time": "2021-08-05T08:38:03.966Z"
   },
   {
    "duration": -198086,
    "start_time": "2021-08-05T08:38:03.972Z"
   },
   {
    "duration": -198089,
    "start_time": "2021-08-05T08:38:03.977Z"
   },
   {
    "duration": -198094,
    "start_time": "2021-08-05T08:38:03.983Z"
   },
   {
    "duration": -198098,
    "start_time": "2021-08-05T08:38:03.988Z"
   },
   {
    "duration": -198103,
    "start_time": "2021-08-05T08:38:03.994Z"
   },
   {
    "duration": -198109,
    "start_time": "2021-08-05T08:38:04.001Z"
   },
   {
    "duration": -198115,
    "start_time": "2021-08-05T08:38:04.008Z"
   },
   {
    "duration": -198120,
    "start_time": "2021-08-05T08:38:04.014Z"
   },
   {
    "duration": -198125,
    "start_time": "2021-08-05T08:38:04.020Z"
   },
   {
    "duration": -198129,
    "start_time": "2021-08-05T08:38:04.025Z"
   },
   {
    "duration": -198144,
    "start_time": "2021-08-05T08:38:04.041Z"
   },
   {
    "duration": -198150,
    "start_time": "2021-08-05T08:38:04.047Z"
   },
   {
    "duration": -198157,
    "start_time": "2021-08-05T08:38:04.055Z"
   },
   {
    "duration": -198162,
    "start_time": "2021-08-05T08:38:04.061Z"
   },
   {
    "duration": -198168,
    "start_time": "2021-08-05T08:38:04.068Z"
   },
   {
    "duration": -198173,
    "start_time": "2021-08-05T08:38:04.074Z"
   },
   {
    "duration": -198178,
    "start_time": "2021-08-05T08:38:04.080Z"
   },
   {
    "duration": -198182,
    "start_time": "2021-08-05T08:38:04.085Z"
   },
   {
    "duration": -198189,
    "start_time": "2021-08-05T08:38:04.093Z"
   },
   {
    "duration": -198194,
    "start_time": "2021-08-05T08:38:04.099Z"
   },
   {
    "duration": -198199,
    "start_time": "2021-08-05T08:38:04.105Z"
   },
   {
    "duration": -198202,
    "start_time": "2021-08-05T08:38:04.110Z"
   },
   {
    "duration": -198207,
    "start_time": "2021-08-05T08:38:04.116Z"
   },
   {
    "duration": -198211,
    "start_time": "2021-08-05T08:38:04.121Z"
   },
   {
    "duration": -198216,
    "start_time": "2021-08-05T08:38:04.127Z"
   },
   {
    "duration": -198220,
    "start_time": "2021-08-05T08:38:04.132Z"
   },
   {
    "duration": -198235,
    "start_time": "2021-08-05T08:38:04.148Z"
   },
   {
    "duration": 1537,
    "start_time": "2021-08-05T08:35:14.871Z"
   },
   {
    "duration": 724,
    "start_time": "2021-08-05T08:35:16.410Z"
   },
   {
    "duration": 33,
    "start_time": "2021-08-05T08:35:17.136Z"
   },
   {
    "duration": 38,
    "start_time": "2021-08-05T08:35:17.171Z"
   },
   {
    "duration": 30,
    "start_time": "2021-08-05T08:35:17.211Z"
   },
   {
    "duration": 4,
    "start_time": "2021-08-05T08:35:17.243Z"
   },
   {
    "duration": 54,
    "start_time": "2021-08-05T08:35:17.249Z"
   },
   {
    "duration": 8,
    "start_time": "2021-08-05T08:35:17.306Z"
   },
   {
    "duration": 211,
    "start_time": "2021-08-05T08:35:17.317Z"
   },
   {
    "duration": 15,
    "start_time": "2021-08-05T08:35:17.530Z"
   },
   {
    "duration": 17,
    "start_time": "2021-08-05T08:35:17.546Z"
   },
   {
    "duration": 28,
    "start_time": "2021-08-05T08:35:17.565Z"
   },
   {
    "duration": 33,
    "start_time": "2021-08-05T08:35:17.595Z"
   },
   {
    "duration": 2,
    "start_time": "2021-08-05T08:35:17.630Z"
   },
   {
    "duration": 11,
    "start_time": "2021-08-05T08:35:17.634Z"
   },
   {
    "duration": 22,
    "start_time": "2021-08-05T08:35:17.647Z"
   },
   {
    "duration": 41,
    "start_time": "2021-08-05T08:35:17.671Z"
   },
   {
    "duration": 1940,
    "start_time": "2021-08-05T08:35:17.713Z"
   },
   {
    "duration": 3,
    "start_time": "2021-08-05T08:35:19.655Z"
   },
   {
    "duration": 34,
    "start_time": "2021-08-05T08:35:19.659Z"
   },
   {
    "duration": 447,
    "start_time": "2021-08-05T08:35:19.694Z"
   },
   {
    "duration": 25,
    "start_time": "2021-08-05T08:35:20.143Z"
   },
   {
    "duration": 1811,
    "start_time": "2021-08-05T08:35:20.173Z"
   },
   {
    "duration": 210,
    "start_time": "2021-08-05T08:35:21.987Z"
   },
   {
    "duration": 2917,
    "start_time": "2021-08-05T08:35:22.199Z"
   },
   {
    "duration": 7,
    "start_time": "2021-08-05T08:35:25.118Z"
   },
   {
    "duration": 21,
    "start_time": "2021-08-05T08:35:25.127Z"
   },
   {
    "duration": 43,
    "start_time": "2021-08-05T08:35:25.150Z"
   },
   {
    "duration": 161,
    "start_time": "2021-08-05T08:35:25.196Z"
   },
   {
    "duration": 3,
    "start_time": "2021-08-05T08:35:25.358Z"
   },
   {
    "duration": 13,
    "start_time": "2021-08-05T08:35:25.362Z"
   },
   {
    "duration": 16,
    "start_time": "2021-08-05T08:35:25.377Z"
   },
   {
    "duration": 9,
    "start_time": "2021-08-05T08:35:25.394Z"
   },
   {
    "duration": 6,
    "start_time": "2021-08-05T08:35:25.405Z"
   },
   {
    "duration": 5,
    "start_time": "2021-08-05T08:35:25.413Z"
   },
   {
    "duration": 5,
    "start_time": "2021-08-05T08:35:25.420Z"
   },
   {
    "duration": 8,
    "start_time": "2021-08-05T08:35:25.427Z"
   },
   {
    "duration": 9,
    "start_time": "2021-08-05T08:35:25.437Z"
   },
   {
    "duration": 652,
    "start_time": "2021-08-05T08:35:25.448Z"
   },
   {
    "duration": 11771,
    "start_time": "2021-08-05T08:35:26.193Z"
   },
   {
    "duration": 505566,
    "start_time": "2021-08-05T08:35:37.966Z"
   },
   {
    "duration": 1061,
    "start_time": "2021-08-05T08:44:03.534Z"
   },
   {
    "duration": 11992,
    "start_time": "2021-08-05T08:44:04.599Z"
   },
   {
    "duration": 507743,
    "start_time": "2021-08-05T08:44:16.593Z"
   },
   {
    "duration": 62,
    "start_time": "2021-08-05T08:52:44.337Z"
   },
   {
    "duration": 248,
    "start_time": "2021-08-05T08:52:44.401Z"
   },
   {
    "duration": 4,
    "start_time": "2021-08-05T08:52:44.651Z"
   },
   {
    "duration": 4,
    "start_time": "2021-08-05T10:24:14.939Z"
   },
   {
    "duration": 3,
    "start_time": "2021-08-05T10:29:16.231Z"
   },
   {
    "duration": 193,
    "start_time": "2021-08-05T10:30:16.502Z"
   },
   {
    "duration": 91,
    "start_time": "2021-08-05T10:31:15.572Z"
   },
   {
    "duration": 10,
    "start_time": "2021-08-05T10:34:37.643Z"
   },
   {
    "duration": 87,
    "start_time": "2021-08-05T10:36:07.305Z"
   },
   {
    "duration": 89,
    "start_time": "2021-08-05T10:36:38.105Z"
   },
   {
    "duration": 4,
    "start_time": "2021-08-05T10:36:44.696Z"
   },
   {
    "duration": 9,
    "start_time": "2021-08-05T10:37:12.049Z"
   },
   {
    "duration": 636,
    "start_time": "2021-08-05T10:37:38.209Z"
   },
   {
    "duration": 9,
    "start_time": "2021-08-05T10:37:46.345Z"
   },
   {
    "duration": 9,
    "start_time": "2021-08-05T10:38:15.783Z"
   },
   {
    "duration": 438,
    "start_time": "2021-08-05T10:40:50.822Z"
   },
   {
    "duration": 195,
    "start_time": "2021-08-05T10:41:18.397Z"
   },
   {
    "duration": 316,
    "start_time": "2021-08-05T10:42:33.931Z"
   },
   {
    "duration": 350,
    "start_time": "2021-08-05T10:43:26.281Z"
   },
   {
    "duration": 10,
    "start_time": "2021-08-05T10:45:46.195Z"
   },
   {
    "duration": 4,
    "start_time": "2021-08-05T10:58:12.818Z"
   },
   {
    "duration": 803,
    "start_time": "2021-08-05T10:58:25.793Z"
   },
   {
    "duration": 3,
    "start_time": "2021-08-05T10:59:10.163Z"
   },
   {
    "duration": 341,
    "start_time": "2021-08-05T10:59:17.136Z"
   },
   {
    "duration": 9,
    "start_time": "2021-08-05T10:59:21.224Z"
   },
   {
    "duration": 3,
    "start_time": "2021-08-05T10:59:58.103Z"
   },
   {
    "duration": 323,
    "start_time": "2021-08-05T11:00:01.824Z"
   },
   {
    "duration": 851,
    "start_time": "2021-08-05T11:00:07.544Z"
   },
   {
    "duration": 1512,
    "start_time": "2021-08-05T11:15:40.083Z"
   },
   {
    "duration": 722,
    "start_time": "2021-08-05T11:15:41.597Z"
   },
   {
    "duration": 32,
    "start_time": "2021-08-05T11:15:42.321Z"
   },
   {
    "duration": 38,
    "start_time": "2021-08-05T11:15:42.355Z"
   },
   {
    "duration": 30,
    "start_time": "2021-08-05T11:15:42.394Z"
   },
   {
    "duration": 5,
    "start_time": "2021-08-05T11:15:42.425Z"
   },
   {
    "duration": 46,
    "start_time": "2021-08-05T11:15:42.431Z"
   },
   {
    "duration": 206,
    "start_time": "2021-08-05T11:15:42.479Z"
   },
   {
    "duration": 18,
    "start_time": "2021-08-05T11:15:42.691Z"
   },
   {
    "duration": 30,
    "start_time": "2021-08-05T11:15:42.711Z"
   },
   {
    "duration": 13,
    "start_time": "2021-08-05T11:15:42.743Z"
   },
   {
    "duration": 45,
    "start_time": "2021-08-05T11:15:42.758Z"
   },
   {
    "duration": 2,
    "start_time": "2021-08-05T11:15:42.805Z"
   },
   {
    "duration": 29,
    "start_time": "2021-08-05T11:15:42.809Z"
   },
   {
    "duration": 33,
    "start_time": "2021-08-05T11:15:42.840Z"
   },
   {
    "duration": 37,
    "start_time": "2021-08-05T11:15:42.874Z"
   },
   {
    "duration": 1391,
    "start_time": "2021-08-05T11:15:42.913Z"
   },
   {
    "duration": 3,
    "start_time": "2021-08-05T11:15:44.305Z"
   },
   {
    "duration": 26,
    "start_time": "2021-08-05T11:15:44.309Z"
   },
   {
    "duration": 411,
    "start_time": "2021-08-05T11:15:44.337Z"
   },
   {
    "duration": 21,
    "start_time": "2021-08-05T11:15:44.750Z"
   },
   {
    "duration": 1936,
    "start_time": "2021-08-05T11:15:44.772Z"
   },
   {
    "duration": 104,
    "start_time": "2021-08-05T11:15:46.712Z"
   },
   {
    "duration": 2643,
    "start_time": "2021-08-05T11:15:46.818Z"
   },
   {
    "duration": 7,
    "start_time": "2021-08-05T11:15:49.462Z"
   },
   {
    "duration": 41,
    "start_time": "2021-08-05T11:15:49.471Z"
   },
   {
    "duration": 3,
    "start_time": "2021-08-05T11:15:49.514Z"
   },
   {
    "duration": 184,
    "start_time": "2021-08-05T11:15:49.518Z"
   },
   {
    "duration": 3,
    "start_time": "2021-08-05T11:15:49.703Z"
   },
   {
    "duration": 11,
    "start_time": "2021-08-05T11:15:49.707Z"
   },
   {
    "duration": 12,
    "start_time": "2021-08-05T11:15:49.719Z"
   },
   {
    "duration": 9,
    "start_time": "2021-08-05T11:15:49.733Z"
   },
   {
    "duration": 5,
    "start_time": "2021-08-05T11:15:49.744Z"
   },
   {
    "duration": 6,
    "start_time": "2021-08-05T11:15:49.750Z"
   },
   {
    "duration": 6,
    "start_time": "2021-08-05T11:15:49.757Z"
   },
   {
    "duration": 11,
    "start_time": "2021-08-05T11:15:49.764Z"
   },
   {
    "duration": 17,
    "start_time": "2021-08-05T11:15:49.777Z"
   },
   {
    "duration": 903,
    "start_time": "2021-08-05T11:15:49.795Z"
   },
   {
    "duration": 27433,
    "start_time": "2021-08-05T11:15:50.701Z"
   },
   {
    "duration": 1099103,
    "start_time": "2021-08-05T11:16:18.136Z"
   },
   {
    "duration": 1166,
    "start_time": "2021-08-05T11:34:37.241Z"
   },
   {
    "duration": 29768,
    "start_time": "2021-08-05T11:34:38.410Z"
   },
   {
    "duration": 1119037,
    "start_time": "2021-08-05T11:35:08.180Z"
   },
   {
    "duration": 3,
    "start_time": "2021-08-05T11:53:47.219Z"
   },
   {
    "duration": 331,
    "start_time": "2021-08-05T11:53:47.224Z"
   },
   {
    "duration": 8,
    "start_time": "2021-08-05T11:53:47.556Z"
   },
   {
    "duration": 1457,
    "start_time": "2021-08-05T14:17:27.170Z"
   },
   {
    "duration": 707,
    "start_time": "2021-08-05T14:17:28.629Z"
   },
   {
    "duration": 37,
    "start_time": "2021-08-05T14:17:29.339Z"
   },
   {
    "duration": 25,
    "start_time": "2021-08-05T14:17:29.392Z"
   },
   {
    "duration": 30,
    "start_time": "2021-08-05T14:17:29.419Z"
   },
   {
    "duration": 4,
    "start_time": "2021-08-05T14:17:29.451Z"
   },
   {
    "duration": 55,
    "start_time": "2021-08-05T14:17:29.457Z"
   },
   {
    "duration": 202,
    "start_time": "2021-08-05T14:17:29.515Z"
   },
   {
    "duration": 15,
    "start_time": "2021-08-05T14:17:29.719Z"
   },
   {
    "duration": 16,
    "start_time": "2021-08-05T14:17:29.735Z"
   },
   {
    "duration": 10,
    "start_time": "2021-08-05T14:17:29.753Z"
   },
   {
    "duration": 49,
    "start_time": "2021-08-05T14:17:29.765Z"
   },
   {
    "duration": 3,
    "start_time": "2021-08-05T14:17:29.816Z"
   },
   {
    "duration": 12,
    "start_time": "2021-08-05T14:17:29.820Z"
   },
   {
    "duration": 14,
    "start_time": "2021-08-05T14:17:29.833Z"
   },
   {
    "duration": 21,
    "start_time": "2021-08-05T14:17:29.849Z"
   },
   {
    "duration": 1446,
    "start_time": "2021-08-05T14:17:29.872Z"
   },
   {
    "duration": 3,
    "start_time": "2021-08-05T14:17:31.320Z"
   },
   {
    "duration": 21,
    "start_time": "2021-08-05T14:17:31.324Z"
   },
   {
    "duration": 438,
    "start_time": "2021-08-05T14:17:31.346Z"
   },
   {
    "duration": 22,
    "start_time": "2021-08-05T14:17:31.786Z"
   },
   {
    "duration": 1675,
    "start_time": "2021-08-05T14:17:31.809Z"
   },
   {
    "duration": 271,
    "start_time": "2021-08-05T14:17:33.488Z"
   },
   {
    "duration": 2594,
    "start_time": "2021-08-05T14:17:33.761Z"
   },
   {
    "duration": 6,
    "start_time": "2021-08-05T14:17:36.356Z"
   },
   {
    "duration": 37,
    "start_time": "2021-08-05T14:17:36.364Z"
   },
   {
    "duration": 4,
    "start_time": "2021-08-05T14:17:36.402Z"
   },
   {
    "duration": 177,
    "start_time": "2021-08-05T14:17:36.407Z"
   },
   {
    "duration": 7,
    "start_time": "2021-08-05T14:17:36.585Z"
   },
   {
    "duration": 11,
    "start_time": "2021-08-05T14:17:36.593Z"
   },
   {
    "duration": 14,
    "start_time": "2021-08-05T14:17:36.606Z"
   },
   {
    "duration": 9,
    "start_time": "2021-08-05T14:17:36.622Z"
   },
   {
    "duration": 5,
    "start_time": "2021-08-05T14:17:36.633Z"
   },
   {
    "duration": 7,
    "start_time": "2021-08-05T14:17:36.640Z"
   },
   {
    "duration": 4,
    "start_time": "2021-08-05T14:17:36.649Z"
   },
   {
    "duration": 12,
    "start_time": "2021-08-05T14:17:36.655Z"
   },
   {
    "duration": 26,
    "start_time": "2021-08-05T14:17:36.669Z"
   },
   {
    "duration": 1003,
    "start_time": "2021-08-05T14:17:36.697Z"
   },
   {
    "duration": 28744,
    "start_time": "2021-08-05T14:17:37.792Z"
   },
   {
    "duration": 507833,
    "start_time": "2021-08-05T14:18:06.538Z"
   },
   {
    "duration": 923,
    "start_time": "2021-08-05T14:26:34.372Z"
   },
   {
    "duration": 27669,
    "start_time": "2021-08-05T14:26:35.298Z"
   },
   {
    "duration": 511386,
    "start_time": "2021-08-05T14:27:02.969Z"
   },
   {
    "duration": 4,
    "start_time": "2021-08-05T14:35:34.357Z"
   },
   {
    "duration": 357,
    "start_time": "2021-08-05T14:35:34.363Z"
   },
   {
    "duration": 10,
    "start_time": "2021-08-05T14:35:34.722Z"
   },
   {
    "duration": 11862,
    "start_time": "2021-08-06T05:03:18.348Z"
   },
   {
    "duration": 899,
    "start_time": "2021-08-06T05:03:30.213Z"
   },
   {
    "duration": 60,
    "start_time": "2021-08-06T05:03:34.271Z"
   },
   {
    "duration": 49,
    "start_time": "2021-08-06T05:03:35.118Z"
   },
   {
    "duration": 54,
    "start_time": "2021-08-06T05:03:35.360Z"
   },
   {
    "duration": 5,
    "start_time": "2021-08-06T05:03:35.615Z"
   },
   {
    "duration": 37,
    "start_time": "2021-08-06T05:03:37.317Z"
   },
   {
    "duration": 390,
    "start_time": "2021-08-06T05:03:39.697Z"
   },
   {
    "duration": 27,
    "start_time": "2021-08-06T05:03:40.090Z"
   },
   {
    "duration": 20,
    "start_time": "2021-08-06T05:03:41.785Z"
   },
   {
    "duration": 17,
    "start_time": "2021-08-06T05:03:42.295Z"
   },
   {
    "duration": 40,
    "start_time": "2021-08-06T05:03:42.659Z"
   },
   {
    "duration": 4,
    "start_time": "2021-08-06T05:03:44.418Z"
   },
   {
    "duration": 15,
    "start_time": "2021-08-06T05:03:45.192Z"
   },
   {
    "duration": 27,
    "start_time": "2021-08-06T05:03:54.205Z"
   },
   {
    "duration": 34,
    "start_time": "2021-08-06T05:04:35.511Z"
   },
   {
    "duration": 2664,
    "start_time": "2021-08-06T05:04:53.261Z"
   },
   {
    "duration": 4,
    "start_time": "2021-08-06T05:05:50.326Z"
   },
   {
    "duration": 17,
    "start_time": "2021-08-06T05:06:05.182Z"
   },
   {
    "duration": 545,
    "start_time": "2021-08-06T05:06:06.608Z"
   },
   {
    "duration": 33,
    "start_time": "2021-08-06T05:06:16.520Z"
   },
   {
    "duration": 2596,
    "start_time": "2021-08-06T05:06:17.216Z"
   },
   {
    "duration": 250,
    "start_time": "2021-08-06T05:06:46.681Z"
   },
   {
    "duration": 4605,
    "start_time": "2021-08-06T05:06:48.190Z"
   },
   {
    "duration": 9,
    "start_time": "2021-08-06T05:06:52.797Z"
   },
   {
    "duration": 29,
    "start_time": "2021-08-06T05:06:52.809Z"
   },
   {
    "duration": 6,
    "start_time": "2021-08-06T05:07:01.994Z"
   },
   {
    "duration": 186,
    "start_time": "2021-08-06T05:07:40.230Z"
   },
   {
    "duration": 4,
    "start_time": "2021-08-06T05:07:45.277Z"
   },
   {
    "duration": 10,
    "start_time": "2021-08-06T05:08:48.215Z"
   },
   {
    "duration": 9,
    "start_time": "2021-08-06T05:08:49.862Z"
   },
   {
    "duration": 17,
    "start_time": "2021-08-06T05:08:50.610Z"
   },
   {
    "duration": 4,
    "start_time": "2021-08-06T05:09:24.514Z"
   },
   {
    "duration": 4,
    "start_time": "2021-08-06T05:09:25.984Z"
   },
   {
    "duration": 5,
    "start_time": "2021-08-06T05:09:47.506Z"
   },
   {
    "duration": 8,
    "start_time": "2021-08-06T05:10:07.554Z"
   },
   {
    "duration": 10,
    "start_time": "2021-08-06T05:10:14.193Z"
   },
   {
    "duration": 1230,
    "start_time": "2021-08-06T05:12:32.458Z"
   },
   {
    "duration": 53677,
    "start_time": "2021-08-06T05:14:31.568Z"
   },
   {
    "duration": 702996,
    "start_time": "2021-08-06T05:16:48.564Z"
   },
   {
    "duration": 1263,
    "start_time": "2021-08-06T05:32:41.624Z"
   },
   {
    "duration": 39865,
    "start_time": "2021-08-06T05:32:42.891Z"
   },
   {
    "duration": 709980,
    "start_time": "2021-08-06T05:33:22.759Z"
   },
   {
    "duration": 88,
    "start_time": "2021-08-06T10:04:33.635Z"
   },
   {
    "duration": 1412,
    "start_time": "2021-08-06T10:07:43.924Z"
   },
   {
    "duration": 711,
    "start_time": "2021-08-06T10:07:45.962Z"
   },
   {
    "duration": 35,
    "start_time": "2021-08-06T10:07:47.590Z"
   },
   {
    "duration": 26,
    "start_time": "2021-08-06T10:07:48.395Z"
   },
   {
    "duration": 32,
    "start_time": "2021-08-06T10:07:48.594Z"
   },
   {
    "duration": 4,
    "start_time": "2021-08-06T10:07:48.795Z"
   },
   {
    "duration": 23,
    "start_time": "2021-08-06T10:07:51.092Z"
   },
   {
    "duration": 185,
    "start_time": "2021-08-06T10:07:57.027Z"
   },
   {
    "duration": 15,
    "start_time": "2021-08-06T10:08:02.875Z"
   },
   {
    "duration": 17,
    "start_time": "2021-08-06T10:08:04.419Z"
   },
   {
    "duration": 3,
    "start_time": "2021-08-06T10:08:05.491Z"
   },
   {
    "duration": 11,
    "start_time": "2021-08-06T10:08:08.309Z"
   },
   {
    "duration": 4,
    "start_time": "2021-08-06T10:08:12.418Z"
   },
   {
    "duration": 12,
    "start_time": "2021-08-06T10:08:12.890Z"
   },
   {
    "duration": 22,
    "start_time": "2021-08-06T10:08:17.771Z"
   },
   {
    "duration": 11,
    "start_time": "2021-08-06T10:08:18.923Z"
   },
   {
    "duration": 22,
    "start_time": "2021-08-06T10:09:04.690Z"
   },
   {
    "duration": 11,
    "start_time": "2021-08-06T10:09:16.994Z"
   },
   {
    "duration": 706,
    "start_time": "2021-08-06T10:10:26.081Z"
   },
   {
    "duration": 184,
    "start_time": "2021-08-06T10:10:32.918Z"
   },
   {
    "duration": 14,
    "start_time": "2021-08-06T10:10:36.009Z"
   },
   {
    "duration": 13,
    "start_time": "2021-08-06T10:10:37.808Z"
   },
   {
    "duration": 3,
    "start_time": "2021-08-06T10:10:39.369Z"
   },
   {
    "duration": 11,
    "start_time": "2021-08-06T10:10:40.205Z"
   },
   {
    "duration": 19,
    "start_time": "2021-08-06T10:10:42.928Z"
   },
   {
    "duration": 11,
    "start_time": "2021-08-06T10:10:43.881Z"
   },
   {
    "duration": 19,
    "start_time": "2021-08-06T10:10:47.169Z"
   },
   {
    "duration": 11,
    "start_time": "2021-08-06T10:10:48.009Z"
   },
   {
    "duration": 678,
    "start_time": "2021-08-06T10:11:08.545Z"
   },
   {
    "duration": 189,
    "start_time": "2021-08-06T10:11:18.657Z"
   },
   {
    "duration": 15,
    "start_time": "2021-08-06T10:11:20.544Z"
   },
   {
    "duration": 19,
    "start_time": "2021-08-06T10:11:22.625Z"
   },
   {
    "duration": 4,
    "start_time": "2021-08-06T10:11:24.057Z"
   },
   {
    "duration": 14,
    "start_time": "2021-08-06T10:11:27.592Z"
   },
   {
    "duration": 22,
    "start_time": "2021-08-06T10:11:29.456Z"
   },
   {
    "duration": 14,
    "start_time": "2021-08-06T10:11:30.480Z"
   },
   {
    "duration": 20,
    "start_time": "2021-08-06T10:11:33.273Z"
   },
   {
    "duration": 13,
    "start_time": "2021-08-06T10:11:34.208Z"
   },
   {
    "duration": 658,
    "start_time": "2021-08-06T10:14:14.327Z"
   },
   {
    "duration": 184,
    "start_time": "2021-08-06T10:14:21.633Z"
   },
   {
    "duration": 14,
    "start_time": "2021-08-06T10:14:22.711Z"
   },
   {
    "duration": 11,
    "start_time": "2021-08-06T10:14:23.735Z"
   },
   {
    "duration": 3,
    "start_time": "2021-08-06T10:14:24.670Z"
   },
   {
    "duration": 13,
    "start_time": "2021-08-06T10:14:26.310Z"
   },
   {
    "duration": 20,
    "start_time": "2021-08-06T10:14:27.766Z"
   },
   {
    "duration": 11,
    "start_time": "2021-08-06T10:14:29.023Z"
   },
   {
    "duration": 16,
    "start_time": "2021-08-06T10:14:33.855Z"
   },
   {
    "duration": 11,
    "start_time": "2021-08-06T10:14:34.871Z"
   },
   {
    "duration": 5,
    "start_time": "2021-08-06T10:14:40.174Z"
   },
   {
    "duration": 23,
    "start_time": "2021-08-06T10:14:42.567Z"
   },
   {
    "duration": 12,
    "start_time": "2021-08-06T10:14:43.802Z"
   },
   {
    "duration": 6,
    "start_time": "2021-08-06T10:14:45.158Z"
   },
   {
    "duration": 1417,
    "start_time": "2021-08-06T10:14:57.199Z"
   },
   {
    "duration": 708,
    "start_time": "2021-08-06T10:14:58.618Z"
   },
   {
    "duration": 32,
    "start_time": "2021-08-06T10:14:59.330Z"
   },
   {
    "duration": 36,
    "start_time": "2021-08-06T10:14:59.364Z"
   },
   {
    "duration": 29,
    "start_time": "2021-08-06T10:14:59.402Z"
   },
   {
    "duration": 4,
    "start_time": "2021-08-06T10:14:59.433Z"
   },
   {
    "duration": 51,
    "start_time": "2021-08-06T10:14:59.440Z"
   },
   {
    "duration": 208,
    "start_time": "2021-08-06T10:14:59.493Z"
   },
   {
    "duration": 15,
    "start_time": "2021-08-06T10:14:59.703Z"
   },
   {
    "duration": 20,
    "start_time": "2021-08-06T10:14:59.720Z"
   },
   {
    "duration": 3,
    "start_time": "2021-08-06T10:14:59.742Z"
   },
   {
    "duration": 14,
    "start_time": "2021-08-06T10:14:59.746Z"
   },
   {
    "duration": 41,
    "start_time": "2021-08-06T10:14:59.761Z"
   },
   {
    "duration": 10,
    "start_time": "2021-08-06T10:14:59.804Z"
   },
   {
    "duration": 20,
    "start_time": "2021-08-06T10:14:59.816Z"
   },
   {
    "duration": 10,
    "start_time": "2021-08-06T10:14:59.838Z"
   },
   {
    "duration": 5,
    "start_time": "2021-08-06T10:14:59.849Z"
   },
   {
    "duration": 43,
    "start_time": "2021-08-06T10:14:59.856Z"
   },
   {
    "duration": 9,
    "start_time": "2021-08-06T10:14:59.901Z"
   },
   {
    "duration": 5,
    "start_time": "2021-08-06T10:14:59.912Z"
   },
   {
    "duration": 4,
    "start_time": "2021-08-06T10:14:59.918Z"
   },
   {
    "duration": 13,
    "start_time": "2021-08-06T10:14:59.925Z"
   },
   {
    "duration": 15,
    "start_time": "2021-08-06T10:14:59.940Z"
   },
   {
    "duration": 1124,
    "start_time": "2021-08-06T10:14:59.956Z"
   },
   {
    "duration": -222548,
    "start_time": "2021-08-06T10:18:43.630Z"
   },
   {
    "duration": -222555,
    "start_time": "2021-08-06T10:18:43.638Z"
   },
   {
    "duration": -222562,
    "start_time": "2021-08-06T10:18:43.646Z"
   },
   {
    "duration": -222568,
    "start_time": "2021-08-06T10:18:43.653Z"
   },
   {
    "duration": -222576,
    "start_time": "2021-08-06T10:18:43.662Z"
   },
   {
    "duration": -222582,
    "start_time": "2021-08-06T10:18:43.669Z"
   },
   {
    "duration": -222590,
    "start_time": "2021-08-06T10:18:43.677Z"
   },
   {
    "duration": -222597,
    "start_time": "2021-08-06T10:18:43.685Z"
   },
   {
    "duration": -222605,
    "start_time": "2021-08-06T10:18:43.694Z"
   },
   {
    "duration": -222611,
    "start_time": "2021-08-06T10:18:43.701Z"
   },
   {
    "duration": -222619,
    "start_time": "2021-08-06T10:18:43.709Z"
   },
   {
    "duration": -222626,
    "start_time": "2021-08-06T10:18:43.717Z"
   },
   {
    "duration": -222665,
    "start_time": "2021-08-06T10:18:43.757Z"
   },
   {
    "duration": -222673,
    "start_time": "2021-08-06T10:18:43.766Z"
   },
   {
    "duration": -222681,
    "start_time": "2021-08-06T10:18:43.774Z"
   },
   {
    "duration": -222687,
    "start_time": "2021-08-06T10:18:43.781Z"
   },
   {
    "duration": -222694,
    "start_time": "2021-08-06T10:18:43.789Z"
   },
   {
    "duration": -222700,
    "start_time": "2021-08-06T10:18:43.796Z"
   },
   {
    "duration": -222707,
    "start_time": "2021-08-06T10:18:43.804Z"
   },
   {
    "duration": -222712,
    "start_time": "2021-08-06T10:18:43.810Z"
   },
   {
    "duration": -222719,
    "start_time": "2021-08-06T10:18:43.818Z"
   },
   {
    "duration": -222725,
    "start_time": "2021-08-06T10:18:43.825Z"
   },
   {
    "duration": -222733,
    "start_time": "2021-08-06T10:18:43.833Z"
   },
   {
    "duration": -222739,
    "start_time": "2021-08-06T10:18:43.840Z"
   },
   {
    "duration": -222746,
    "start_time": "2021-08-06T10:18:43.848Z"
   },
   {
    "duration": -222763,
    "start_time": "2021-08-06T10:18:43.866Z"
   },
   {
    "duration": -222771,
    "start_time": "2021-08-06T10:18:43.874Z"
   },
   {
    "duration": -222779,
    "start_time": "2021-08-06T10:18:43.883Z"
   },
   {
    "duration": -222785,
    "start_time": "2021-08-06T10:18:43.890Z"
   },
   {
    "duration": -222792,
    "start_time": "2021-08-06T10:18:43.898Z"
   },
   {
    "duration": 716,
    "start_time": "2021-08-06T10:22:52.843Z"
   },
   {
    "duration": 191,
    "start_time": "2021-08-06T10:23:04.612Z"
   },
   {
    "duration": 15,
    "start_time": "2021-08-06T10:23:05.618Z"
   },
   {
    "duration": 12,
    "start_time": "2021-08-06T10:23:06.580Z"
   },
   {
    "duration": 4,
    "start_time": "2021-08-06T10:23:09.042Z"
   },
   {
    "duration": 12,
    "start_time": "2021-08-06T10:23:09.635Z"
   },
   {
    "duration": 17,
    "start_time": "2021-08-06T10:23:10.818Z"
   },
   {
    "duration": 12,
    "start_time": "2021-08-06T10:23:12.563Z"
   },
   {
    "duration": 17,
    "start_time": "2021-08-06T10:23:13.274Z"
   },
   {
    "duration": 12,
    "start_time": "2021-08-06T10:23:16.035Z"
   },
   {
    "duration": 6,
    "start_time": "2021-08-06T10:23:17.842Z"
   },
   {
    "duration": 23,
    "start_time": "2021-08-06T10:23:18.522Z"
   },
   {
    "duration": 31,
    "start_time": "2021-08-06T10:23:29.643Z"
   },
   {
    "duration": 34,
    "start_time": "2021-08-06T10:23:51.307Z"
   },
   {
    "duration": 9,
    "start_time": "2021-08-06T10:24:04.355Z"
   },
   {
    "duration": 9,
    "start_time": "2021-08-06T10:24:15.906Z"
   },
   {
    "duration": 9,
    "start_time": "2021-08-06T10:24:20.507Z"
   },
   {
    "duration": 9,
    "start_time": "2021-08-06T10:24:48.290Z"
   },
   {
    "duration": 9,
    "start_time": "2021-08-06T10:24:56.754Z"
   },
   {
    "duration": 25,
    "start_time": "2021-08-06T10:25:06.210Z"
   },
   {
    "duration": 9,
    "start_time": "2021-08-06T10:25:43.851Z"
   },
   {
    "duration": 242,
    "start_time": "2021-08-06T10:27:44.129Z"
   },
   {
    "duration": 104,
    "start_time": "2021-08-06T10:28:44.617Z"
   },
   {
    "duration": 11,
    "start_time": "2021-08-06T10:28:50.459Z"
   },
   {
    "duration": 6,
    "start_time": "2021-08-06T10:28:52.047Z"
   },
   {
    "duration": 1436,
    "start_time": "2021-08-06T10:29:15.573Z"
   },
   {
    "duration": 698,
    "start_time": "2021-08-06T10:29:17.011Z"
   },
   {
    "duration": 32,
    "start_time": "2021-08-06T10:29:17.712Z"
   },
   {
    "duration": 23,
    "start_time": "2021-08-06T10:29:17.746Z"
   },
   {
    "duration": 48,
    "start_time": "2021-08-06T10:29:17.770Z"
   },
   {
    "duration": 3,
    "start_time": "2021-08-06T10:29:17.820Z"
   },
   {
    "duration": 24,
    "start_time": "2021-08-06T10:29:17.824Z"
   },
   {
    "duration": 205,
    "start_time": "2021-08-06T10:29:17.850Z"
   },
   {
    "duration": 15,
    "start_time": "2021-08-06T10:29:18.057Z"
   },
   {
    "duration": 32,
    "start_time": "2021-08-06T10:29:18.073Z"
   },
   {
    "duration": 3,
    "start_time": "2021-08-06T10:29:18.107Z"
   },
   {
    "duration": 13,
    "start_time": "2021-08-06T10:29:18.111Z"
   },
   {
    "duration": 20,
    "start_time": "2021-08-06T10:29:18.126Z"
   },
   {
    "duration": 10,
    "start_time": "2021-08-06T10:29:18.148Z"
   },
   {
    "duration": 41,
    "start_time": "2021-08-06T10:29:18.160Z"
   },
   {
    "duration": 11,
    "start_time": "2021-08-06T10:29:18.203Z"
   },
   {
    "duration": 5,
    "start_time": "2021-08-06T10:29:18.215Z"
   },
   {
    "duration": 27,
    "start_time": "2021-08-06T10:29:18.222Z"
   },
   {
    "duration": 10,
    "start_time": "2021-08-06T10:29:18.250Z"
   },
   {
    "duration": 33,
    "start_time": "2021-08-06T10:29:18.261Z"
   },
   {
    "duration": 3,
    "start_time": "2021-08-06T10:29:18.295Z"
   },
   {
    "duration": 11,
    "start_time": "2021-08-06T10:29:18.299Z"
   },
   {
    "duration": 15,
    "start_time": "2021-08-06T10:29:18.314Z"
   },
   {
    "duration": 21,
    "start_time": "2021-08-06T10:29:18.331Z"
   },
   {
    "duration": 1430,
    "start_time": "2021-08-06T10:29:18.354Z"
   },
   {
    "duration": 3,
    "start_time": "2021-08-06T10:29:19.791Z"
   },
   {
    "duration": 11,
    "start_time": "2021-08-06T10:29:19.795Z"
   },
   {
    "duration": 421,
    "start_time": "2021-08-06T10:29:19.808Z"
   },
   {
    "duration": 20,
    "start_time": "2021-08-06T10:29:20.230Z"
   },
   {
    "duration": 1568,
    "start_time": "2021-08-06T10:29:20.251Z"
   },
   {
    "duration": 178,
    "start_time": "2021-08-06T10:29:21.821Z"
   },
   {
    "duration": 2865,
    "start_time": "2021-08-06T10:29:22.001Z"
   },
   {
    "duration": 23,
    "start_time": "2021-08-06T10:29:24.868Z"
   },
   {
    "duration": 18,
    "start_time": "2021-08-06T10:29:24.893Z"
   },
   {
    "duration": 3,
    "start_time": "2021-08-06T10:29:24.913Z"
   },
   {
    "duration": 208,
    "start_time": "2021-08-06T10:29:24.918Z"
   },
   {
    "duration": 3,
    "start_time": "2021-08-06T10:29:25.127Z"
   },
   {
    "duration": 11,
    "start_time": "2021-08-06T10:29:25.131Z"
   },
   {
    "duration": 10,
    "start_time": "2021-08-06T10:29:25.143Z"
   },
   {
    "duration": 8,
    "start_time": "2021-08-06T10:29:25.155Z"
   },
   {
    "duration": 6,
    "start_time": "2021-08-06T10:29:25.164Z"
   },
   {
    "duration": 20,
    "start_time": "2021-08-06T10:29:25.172Z"
   },
   {
    "duration": 5,
    "start_time": "2021-08-06T10:29:25.193Z"
   },
   {
    "duration": 7,
    "start_time": "2021-08-06T10:29:25.199Z"
   },
   {
    "duration": 13,
    "start_time": "2021-08-06T10:29:25.208Z"
   },
   {
    "duration": 869,
    "start_time": "2021-08-06T10:29:25.222Z"
   },
   {
    "duration": 23235,
    "start_time": "2021-08-06T10:29:26.093Z"
   },
   {
    "duration": 426001,
    "start_time": "2021-08-06T10:29:49.329Z"
   },
   {
    "duration": 859,
    "start_time": "2021-08-06T10:36:55.332Z"
   },
   {
    "duration": 24937,
    "start_time": "2021-08-06T10:36:56.210Z"
   },
   {
    "duration": 431595,
    "start_time": "2021-08-06T10:37:21.149Z"
   },
   {
    "duration": 3,
    "start_time": "2021-08-06T10:44:32.745Z"
   },
   {
    "duration": 401,
    "start_time": "2021-08-06T10:44:32.750Z"
   },
   {
    "duration": 8,
    "start_time": "2021-08-06T10:44:33.153Z"
   },
   {
    "duration": 265,
    "start_time": "2021-08-06T10:59:42.661Z"
   },
   {
    "duration": 424,
    "start_time": "2021-08-06T10:59:50.509Z"
   },
   {
    "duration": 236,
    "start_time": "2021-08-06T10:59:55.677Z"
   },
   {
    "duration": 1424,
    "start_time": "2021-08-06T11:00:56.916Z"
   },
   {
    "duration": 715,
    "start_time": "2021-08-06T11:00:58.342Z"
   },
   {
    "duration": 41,
    "start_time": "2021-08-06T11:00:59.059Z"
   },
   {
    "duration": 24,
    "start_time": "2021-08-06T11:00:59.102Z"
   },
   {
    "duration": 29,
    "start_time": "2021-08-06T11:00:59.127Z"
   },
   {
    "duration": 3,
    "start_time": "2021-08-06T11:00:59.158Z"
   },
   {
    "duration": 20,
    "start_time": "2021-08-06T11:00:59.191Z"
   },
   {
    "duration": 194,
    "start_time": "2021-08-06T11:00:59.214Z"
   },
   {
    "duration": 15,
    "start_time": "2021-08-06T11:00:59.410Z"
   },
   {
    "duration": 18,
    "start_time": "2021-08-06T11:00:59.427Z"
   },
   {
    "duration": 3,
    "start_time": "2021-08-06T11:00:59.447Z"
   },
   {
    "duration": 15,
    "start_time": "2021-08-06T11:00:59.451Z"
   },
   {
    "duration": 42,
    "start_time": "2021-08-06T11:00:59.467Z"
   },
   {
    "duration": 10,
    "start_time": "2021-08-06T11:00:59.511Z"
   },
   {
    "duration": 22,
    "start_time": "2021-08-06T11:00:59.522Z"
   },
   {
    "duration": 11,
    "start_time": "2021-08-06T11:00:59.546Z"
   },
   {
    "duration": 5,
    "start_time": "2021-08-06T11:00:59.558Z"
   },
   {
    "duration": 22,
    "start_time": "2021-08-06T11:00:59.592Z"
   },
   {
    "duration": 11,
    "start_time": "2021-08-06T11:00:59.615Z"
   },
   {
    "duration": 5,
    "start_time": "2021-08-06T11:00:59.627Z"
   },
   {
    "duration": 5,
    "start_time": "2021-08-06T11:00:59.633Z"
   },
   {
    "duration": 16,
    "start_time": "2021-08-06T11:00:59.639Z"
   },
   {
    "duration": 35,
    "start_time": "2021-08-06T11:00:59.658Z"
   },
   {
    "duration": 21,
    "start_time": "2021-08-06T11:00:59.695Z"
   },
   {
    "duration": 1505,
    "start_time": "2021-08-06T11:00:59.717Z"
   },
   {
    "duration": 3,
    "start_time": "2021-08-06T11:01:01.224Z"
   },
   {
    "duration": 21,
    "start_time": "2021-08-06T11:01:01.229Z"
   },
   {
    "duration": 432,
    "start_time": "2021-08-06T11:01:01.252Z"
   },
   {
    "duration": 20,
    "start_time": "2021-08-06T11:01:01.686Z"
   },
   {
    "duration": 1709,
    "start_time": "2021-08-06T11:01:01.708Z"
   },
   {
    "duration": 97,
    "start_time": "2021-08-06T11:01:03.418Z"
   },
   {
    "duration": 2664,
    "start_time": "2021-08-06T11:01:03.517Z"
   },
   {
    "duration": 8,
    "start_time": "2021-08-06T11:01:06.183Z"
   },
   {
    "duration": 16,
    "start_time": "2021-08-06T11:01:06.193Z"
   },
   {
    "duration": 3,
    "start_time": "2021-08-06T11:01:06.211Z"
   },
   {
    "duration": 186,
    "start_time": "2021-08-06T11:01:06.216Z"
   },
   {
    "duration": 2,
    "start_time": "2021-08-06T11:01:06.404Z"
   },
   {
    "duration": 10,
    "start_time": "2021-08-06T11:01:06.408Z"
   },
   {
    "duration": 13,
    "start_time": "2021-08-06T11:01:06.419Z"
   },
   {
    "duration": 9,
    "start_time": "2021-08-06T11:01:06.433Z"
   },
   {
    "duration": 8,
    "start_time": "2021-08-06T11:01:06.444Z"
   },
   {
    "duration": 7,
    "start_time": "2021-08-06T11:01:06.453Z"
   },
   {
    "duration": 7,
    "start_time": "2021-08-06T11:01:06.462Z"
   },
   {
    "duration": 23,
    "start_time": "2021-08-06T11:01:06.470Z"
   },
   {
    "duration": 21,
    "start_time": "2021-08-06T11:01:06.495Z"
   },
   {
    "duration": 763,
    "start_time": "2021-08-06T11:01:06.518Z"
   },
   {
    "duration": -222729,
    "start_time": "2021-08-06T11:04:50.012Z"
   },
   {
    "duration": -222737,
    "start_time": "2021-08-06T11:04:50.021Z"
   },
   {
    "duration": -222745,
    "start_time": "2021-08-06T11:04:50.030Z"
   },
   {
    "duration": -222753,
    "start_time": "2021-08-06T11:04:50.038Z"
   },
   {
    "duration": -222761,
    "start_time": "2021-08-06T11:04:50.047Z"
   },
   {
    "duration": -222768,
    "start_time": "2021-08-06T11:04:50.055Z"
   },
   {
    "duration": -222777,
    "start_time": "2021-08-06T11:04:50.065Z"
   },
   {
    "duration": -222784,
    "start_time": "2021-08-06T11:04:50.073Z"
   },
   {
    "duration": 686,
    "start_time": "2021-08-06T11:03:08.239Z"
   },
   {
    "duration": 218,
    "start_time": "2021-08-06T11:03:15.527Z"
   },
   {
    "duration": 23,
    "start_time": "2021-08-06T11:03:16.894Z"
   },
   {
    "duration": 13,
    "start_time": "2021-08-06T11:03:18.423Z"
   },
   {
    "duration": 3,
    "start_time": "2021-08-06T11:03:21.039Z"
   },
   {
    "duration": 12,
    "start_time": "2021-08-06T11:03:22.741Z"
   },
   {
    "duration": 19,
    "start_time": "2021-08-06T11:03:24.509Z"
   },
   {
    "duration": 11,
    "start_time": "2021-08-06T11:03:27.710Z"
   },
   {
    "duration": 18,
    "start_time": "2021-08-06T11:03:30.654Z"
   },
   {
    "duration": 11,
    "start_time": "2021-08-06T11:03:31.359Z"
   },
   {
    "duration": 20,
    "start_time": "2021-08-06T11:04:48.204Z"
   },
   {
    "duration": 12,
    "start_time": "2021-08-06T11:04:52.787Z"
   },
   {
    "duration": 5,
    "start_time": "2021-08-06T11:04:54.671Z"
   },
   {
    "duration": 3,
    "start_time": "2021-08-06T11:05:15.501Z"
   },
   {
    "duration": 7,
    "start_time": "2021-08-06T11:05:16.396Z"
   },
   {
    "duration": 16,
    "start_time": "2021-08-06T11:05:23.469Z"
   },
   {
    "duration": 748,
    "start_time": "2021-08-06T11:05:29.764Z"
   },
   {
    "duration": 1517,
    "start_time": "2021-08-06T11:08:09.119Z"
   },
   {
    "duration": 709,
    "start_time": "2021-08-06T11:08:10.638Z"
   },
   {
    "duration": 44,
    "start_time": "2021-08-06T11:08:11.348Z"
   },
   {
    "duration": 23,
    "start_time": "2021-08-06T11:08:11.394Z"
   },
   {
    "duration": 29,
    "start_time": "2021-08-06T11:08:11.418Z"
   },
   {
    "duration": 3,
    "start_time": "2021-08-06T11:08:11.449Z"
   },
   {
    "duration": 49,
    "start_time": "2021-08-06T11:08:11.453Z"
   },
   {
    "duration": 198,
    "start_time": "2021-08-06T11:08:11.505Z"
   },
   {
    "duration": 14,
    "start_time": "2021-08-06T11:08:11.705Z"
   },
   {
    "duration": 19,
    "start_time": "2021-08-06T11:08:11.721Z"
   },
   {
    "duration": 4,
    "start_time": "2021-08-06T11:08:11.742Z"
   },
   {
    "duration": 18,
    "start_time": "2021-08-06T11:08:11.748Z"
   },
   {
    "duration": 45,
    "start_time": "2021-08-06T11:08:11.768Z"
   },
   {
    "duration": 12,
    "start_time": "2021-08-06T11:08:11.815Z"
   },
   {
    "duration": 11,
    "start_time": "2021-08-06T11:08:11.828Z"
   },
   {
    "duration": 5,
    "start_time": "2021-08-06T11:08:11.840Z"
   },
   {
    "duration": 66,
    "start_time": "2021-08-06T11:08:11.847Z"
   },
   {
    "duration": 10,
    "start_time": "2021-08-06T11:08:11.915Z"
   },
   {
    "duration": 5,
    "start_time": "2021-08-06T11:08:11.926Z"
   },
   {
    "duration": 3,
    "start_time": "2021-08-06T11:08:11.933Z"
   },
   {
    "duration": 11,
    "start_time": "2021-08-06T11:08:11.938Z"
   },
   {
    "duration": 49,
    "start_time": "2021-08-06T11:08:11.951Z"
   },
   {
    "duration": 23,
    "start_time": "2021-08-06T11:08:12.003Z"
   },
   {
    "duration": 1380,
    "start_time": "2021-08-06T11:08:12.028Z"
   },
   {
    "duration": 2,
    "start_time": "2021-08-06T11:08:13.410Z"
   },
   {
    "duration": 10,
    "start_time": "2021-08-06T11:08:13.414Z"
   },
   {
    "duration": 423,
    "start_time": "2021-08-06T11:08:13.426Z"
   },
   {
    "duration": 23,
    "start_time": "2021-08-06T11:08:13.851Z"
   },
   {
    "duration": 1679,
    "start_time": "2021-08-06T11:08:13.875Z"
   },
   {
    "duration": 77,
    "start_time": "2021-08-06T11:08:15.556Z"
   },
   {
    "duration": 2278,
    "start_time": "2021-08-06T11:08:15.635Z"
   },
   {
    "duration": 6,
    "start_time": "2021-08-06T11:08:17.914Z"
   },
   {
    "duration": 18,
    "start_time": "2021-08-06T11:08:17.921Z"
   },
   {
    "duration": 3,
    "start_time": "2021-08-06T11:08:17.940Z"
   },
   {
    "duration": 165,
    "start_time": "2021-08-06T11:08:17.945Z"
   },
   {
    "duration": 2,
    "start_time": "2021-08-06T11:08:18.112Z"
   },
   {
    "duration": 11,
    "start_time": "2021-08-06T11:08:18.115Z"
   },
   {
    "duration": 8,
    "start_time": "2021-08-06T11:08:18.128Z"
   },
   {
    "duration": 9,
    "start_time": "2021-08-06T11:08:18.137Z"
   },
   {
    "duration": 10,
    "start_time": "2021-08-06T11:08:18.147Z"
   },
   {
    "duration": 5,
    "start_time": "2021-08-06T11:08:18.158Z"
   },
   {
    "duration": 8,
    "start_time": "2021-08-06T11:08:18.164Z"
   },
   {
    "duration": 18,
    "start_time": "2021-08-06T11:08:18.173Z"
   },
   {
    "duration": 11,
    "start_time": "2021-08-06T11:08:18.193Z"
   },
   {
    "duration": 894,
    "start_time": "2021-08-06T11:08:18.205Z"
   },
   {
    "duration": 22442,
    "start_time": "2021-08-06T11:08:19.101Z"
   },
   {
    "duration": 21387,
    "start_time": "2021-08-06T11:08:41.545Z"
   },
   {
    "duration": -222622,
    "start_time": "2021-08-06T11:12:45.556Z"
   },
   {
    "duration": -222638,
    "start_time": "2021-08-06T11:12:45.574Z"
   },
   {
    "duration": -222651,
    "start_time": "2021-08-06T11:12:45.588Z"
   },
   {
    "duration": -222661,
    "start_time": "2021-08-06T11:12:45.599Z"
   },
   {
    "duration": -222730,
    "start_time": "2021-08-06T11:12:45.669Z"
   },
   {
    "duration": -222740,
    "start_time": "2021-08-06T11:12:45.680Z"
   },
   {
    "duration": 1123,
    "start_time": "2021-08-06T11:09:07.169Z"
   },
   {
    "duration": 23109,
    "start_time": "2021-08-06T11:09:12.812Z"
   },
   {
    "duration": 3,
    "start_time": "2021-08-06T11:09:48.528Z"
   },
   {
    "duration": 259,
    "start_time": "2021-08-06T11:09:59.649Z"
   },
   {
    "duration": 260,
    "start_time": "2021-08-06T11:10:29.089Z"
   },
   {
    "duration": 384,
    "start_time": "2021-08-06T11:10:35.168Z"
   },
   {
    "duration": 274,
    "start_time": "2021-08-06T11:10:42.377Z"
   },
   {
    "duration": 9,
    "start_time": "2021-08-06T11:10:51.272Z"
   },
   {
    "duration": 643,
    "start_time": "2021-08-06T11:16:41.748Z"
   },
   {
    "duration": 199,
    "start_time": "2021-08-06T11:16:46.084Z"
   },
   {
    "duration": 15,
    "start_time": "2021-08-06T11:16:48.139Z"
   },
   {
    "duration": 13,
    "start_time": "2021-08-06T11:16:49.739Z"
   },
   {
    "duration": 4,
    "start_time": "2021-08-06T11:16:52.728Z"
   },
   {
    "duration": 11,
    "start_time": "2021-08-06T11:16:53.755Z"
   },
   {
    "duration": 18,
    "start_time": "2021-08-06T11:16:56.652Z"
   },
   {
    "duration": 11,
    "start_time": "2021-08-06T11:16:58.116Z"
   },
   {
    "duration": 12,
    "start_time": "2021-08-06T11:17:01.835Z"
   },
   {
    "duration": 53,
    "start_time": "2021-08-06T11:17:07.100Z"
   },
   {
    "duration": 11,
    "start_time": "2021-08-06T11:17:09.587Z"
   },
   {
    "duration": 1442,
    "start_time": "2021-08-06T11:17:17.188Z"
   },
   {
    "duration": 664,
    "start_time": "2021-08-06T11:17:18.631Z"
   },
   {
    "duration": 33,
    "start_time": "2021-08-06T11:17:19.297Z"
   },
   {
    "duration": 25,
    "start_time": "2021-08-06T11:17:19.332Z"
   },
   {
    "duration": 53,
    "start_time": "2021-08-06T11:17:19.359Z"
   },
   {
    "duration": 3,
    "start_time": "2021-08-06T11:17:19.414Z"
   },
   {
    "duration": 27,
    "start_time": "2021-08-06T11:17:19.419Z"
   },
   {
    "duration": 204,
    "start_time": "2021-08-06T11:17:19.448Z"
   },
   {
    "duration": 14,
    "start_time": "2021-08-06T11:17:19.653Z"
   },
   {
    "duration": 24,
    "start_time": "2021-08-06T11:17:19.669Z"
   },
   {
    "duration": 3,
    "start_time": "2021-08-06T11:17:19.695Z"
   },
   {
    "duration": 18,
    "start_time": "2021-08-06T11:17:19.699Z"
   },
   {
    "duration": 24,
    "start_time": "2021-08-06T11:17:19.719Z"
   },
   {
    "duration": 10,
    "start_time": "2021-08-06T11:17:19.744Z"
   },
   {
    "duration": 10,
    "start_time": "2021-08-06T11:17:19.756Z"
   },
   {
    "duration": 24,
    "start_time": "2021-08-06T11:17:19.767Z"
   },
   {
    "duration": 62,
    "start_time": "2021-08-06T11:17:19.793Z"
   },
   {
    "duration": 11,
    "start_time": "2021-08-06T11:17:19.856Z"
   },
   {
    "duration": 24,
    "start_time": "2021-08-06T11:17:19.868Z"
   },
   {
    "duration": 2,
    "start_time": "2021-08-06T11:17:19.893Z"
   },
   {
    "duration": 21,
    "start_time": "2021-08-06T11:17:19.897Z"
   },
   {
    "duration": 19,
    "start_time": "2021-08-06T11:17:19.920Z"
   },
   {
    "duration": 28,
    "start_time": "2021-08-06T11:17:19.943Z"
   },
   {
    "duration": 1480,
    "start_time": "2021-08-06T11:17:19.973Z"
   },
   {
    "duration": 2,
    "start_time": "2021-08-06T11:17:21.455Z"
   },
   {
    "duration": 12,
    "start_time": "2021-08-06T11:17:21.459Z"
   },
   {
    "duration": 412,
    "start_time": "2021-08-06T11:17:21.473Z"
   },
   {
    "duration": 18,
    "start_time": "2021-08-06T11:17:21.891Z"
   },
   {
    "duration": 1641,
    "start_time": "2021-08-06T11:17:21.911Z"
   },
   {
    "duration": 81,
    "start_time": "2021-08-06T11:17:23.554Z"
   },
   {
    "duration": 2511,
    "start_time": "2021-08-06T11:17:23.637Z"
   },
   {
    "duration": 7,
    "start_time": "2021-08-06T11:17:26.150Z"
   },
   {
    "duration": 37,
    "start_time": "2021-08-06T11:17:26.158Z"
   },
   {
    "duration": 4,
    "start_time": "2021-08-06T11:17:26.196Z"
   },
   {
    "duration": 216,
    "start_time": "2021-08-06T11:17:26.201Z"
   },
   {
    "duration": 2,
    "start_time": "2021-08-06T11:17:26.419Z"
   },
   {
    "duration": 15,
    "start_time": "2021-08-06T11:17:26.423Z"
   },
   {
    "duration": 16,
    "start_time": "2021-08-06T11:17:26.439Z"
   },
   {
    "duration": 12,
    "start_time": "2021-08-06T11:17:26.457Z"
   },
   {
    "duration": 12,
    "start_time": "2021-08-06T11:17:26.471Z"
   },
   {
    "duration": 12,
    "start_time": "2021-08-06T11:17:26.484Z"
   },
   {
    "duration": 10,
    "start_time": "2021-08-06T11:17:26.498Z"
   },
   {
    "duration": 8,
    "start_time": "2021-08-06T11:17:26.509Z"
   },
   {
    "duration": 10,
    "start_time": "2021-08-06T11:17:26.519Z"
   },
   {
    "duration": 869,
    "start_time": "2021-08-06T11:17:26.530Z"
   },
   {
    "duration": 28360,
    "start_time": "2021-08-06T11:17:27.401Z"
   },
   {
    "duration": 10596,
    "start_time": "2021-08-06T11:17:55.762Z"
   },
   {
    "duration": -222424,
    "start_time": "2021-08-06T11:21:48.784Z"
   },
   {
    "duration": -222436,
    "start_time": "2021-08-06T11:21:48.796Z"
   },
   {
    "duration": -222444,
    "start_time": "2021-08-06T11:21:48.805Z"
   },
   {
    "duration": -222453,
    "start_time": "2021-08-06T11:21:48.815Z"
   },
   {
    "duration": -222461,
    "start_time": "2021-08-06T11:21:48.824Z"
   },
   {
    "duration": -222470,
    "start_time": "2021-08-06T11:21:48.834Z"
   },
   {
    "duration": 492,
    "start_time": "2021-08-06T11:18:09.108Z"
   },
   {
    "duration": 27004,
    "start_time": "2021-08-06T11:18:12.324Z"
   },
   {
    "duration": 518,
    "start_time": "2021-08-06T11:18:54.524Z"
   },
   {
    "duration": 3,
    "start_time": "2021-08-06T11:18:59.476Z"
   },
   {
    "duration": 279,
    "start_time": "2021-08-06T11:19:04.285Z"
   },
   {
    "duration": 1281,
    "start_time": "2021-08-06T11:24:33.043Z"
   },
   {
    "duration": 711,
    "start_time": "2021-08-06T11:24:34.326Z"
   },
   {
    "duration": 33,
    "start_time": "2021-08-06T11:24:35.039Z"
   },
   {
    "duration": 32,
    "start_time": "2021-08-06T11:24:35.074Z"
   },
   {
    "duration": 28,
    "start_time": "2021-08-06T11:24:35.108Z"
   },
   {
    "duration": 3,
    "start_time": "2021-08-06T11:24:35.137Z"
   },
   {
    "duration": 20,
    "start_time": "2021-08-06T11:24:35.142Z"
   },
   {
    "duration": 217,
    "start_time": "2021-08-06T11:24:35.164Z"
   },
   {
    "duration": 19,
    "start_time": "2021-08-06T11:24:35.383Z"
   },
   {
    "duration": 16,
    "start_time": "2021-08-06T11:24:35.403Z"
   },
   {
    "duration": 3,
    "start_time": "2021-08-06T11:24:35.420Z"
   },
   {
    "duration": 13,
    "start_time": "2021-08-06T11:24:35.424Z"
   },
   {
    "duration": 20,
    "start_time": "2021-08-06T11:24:35.438Z"
   },
   {
    "duration": 32,
    "start_time": "2021-08-06T11:24:35.460Z"
   },
   {
    "duration": 11,
    "start_time": "2021-08-06T11:24:35.493Z"
   },
   {
    "duration": 6,
    "start_time": "2021-08-06T11:24:35.505Z"
   },
   {
    "duration": 362,
    "start_time": "2021-08-06T11:24:35.512Z"
   },
   {
    "duration": -222477,
    "start_time": "2021-08-06T11:28:18.354Z"
   },
   {
    "duration": -222485,
    "start_time": "2021-08-06T11:28:18.363Z"
   },
   {
    "duration": -222530,
    "start_time": "2021-08-06T11:28:18.409Z"
   },
   {
    "duration": -222538,
    "start_time": "2021-08-06T11:28:18.418Z"
   },
   {
    "duration": -222548,
    "start_time": "2021-08-06T11:28:18.429Z"
   },
   {
    "duration": -222560,
    "start_time": "2021-08-06T11:28:18.442Z"
   },
   {
    "duration": -222567,
    "start_time": "2021-08-06T11:28:18.450Z"
   },
   {
    "duration": -222580,
    "start_time": "2021-08-06T11:28:18.464Z"
   },
   {
    "duration": -222589,
    "start_time": "2021-08-06T11:28:18.474Z"
   },
   {
    "duration": -222598,
    "start_time": "2021-08-06T11:28:18.484Z"
   },
   {
    "duration": -222606,
    "start_time": "2021-08-06T11:28:18.493Z"
   },
   {
    "duration": -222627,
    "start_time": "2021-08-06T11:28:18.515Z"
   },
   {
    "duration": -222637,
    "start_time": "2021-08-06T11:28:18.526Z"
   },
   {
    "duration": -222647,
    "start_time": "2021-08-06T11:28:18.537Z"
   },
   {
    "duration": -222661,
    "start_time": "2021-08-06T11:28:18.552Z"
   },
   {
    "duration": -222670,
    "start_time": "2021-08-06T11:28:18.561Z"
   },
   {
    "duration": -222678,
    "start_time": "2021-08-06T11:28:18.570Z"
   },
   {
    "duration": -222700,
    "start_time": "2021-08-06T11:28:18.593Z"
   },
   {
    "duration": -222706,
    "start_time": "2021-08-06T11:28:18.600Z"
   },
   {
    "duration": -222716,
    "start_time": "2021-08-06T11:28:18.611Z"
   },
   {
    "duration": -222736,
    "start_time": "2021-08-06T11:28:18.632Z"
   },
   {
    "duration": -222750,
    "start_time": "2021-08-06T11:28:18.647Z"
   },
   {
    "duration": -222762,
    "start_time": "2021-08-06T11:28:18.660Z"
   },
   {
    "duration": -222770,
    "start_time": "2021-08-06T11:28:18.669Z"
   },
   {
    "duration": -222780,
    "start_time": "2021-08-06T11:28:18.680Z"
   },
   {
    "duration": -222790,
    "start_time": "2021-08-06T11:28:18.691Z"
   },
   {
    "duration": -222796,
    "start_time": "2021-08-06T11:28:18.698Z"
   },
   {
    "duration": -222810,
    "start_time": "2021-08-06T11:28:18.713Z"
   },
   {
    "duration": -222820,
    "start_time": "2021-08-06T11:28:18.724Z"
   },
   {
    "duration": -222841,
    "start_time": "2021-08-06T11:28:18.746Z"
   },
   {
    "duration": -222849,
    "start_time": "2021-08-06T11:28:18.754Z"
   },
   {
    "duration": -222862,
    "start_time": "2021-08-06T11:28:18.768Z"
   },
   {
    "duration": -222874,
    "start_time": "2021-08-06T11:28:18.782Z"
   },
   {
    "duration": -222886,
    "start_time": "2021-08-06T11:28:18.794Z"
   },
   {
    "duration": -222894,
    "start_time": "2021-08-06T11:28:18.803Z"
   },
   {
    "duration": -222902,
    "start_time": "2021-08-06T11:28:18.812Z"
   },
   {
    "duration": 1440,
    "start_time": "2021-08-06T11:26:38.487Z"
   },
   {
    "duration": 663,
    "start_time": "2021-08-06T11:26:39.929Z"
   },
   {
    "duration": 33,
    "start_time": "2021-08-06T11:26:40.595Z"
   },
   {
    "duration": 23,
    "start_time": "2021-08-06T11:26:40.630Z"
   },
   {
    "duration": 51,
    "start_time": "2021-08-06T11:26:40.654Z"
   },
   {
    "duration": 3,
    "start_time": "2021-08-06T11:26:40.706Z"
   },
   {
    "duration": 22,
    "start_time": "2021-08-06T11:26:40.711Z"
   },
   {
    "duration": 197,
    "start_time": "2021-08-06T11:26:40.735Z"
   },
   {
    "duration": 14,
    "start_time": "2021-08-06T11:26:40.934Z"
   },
   {
    "duration": 18,
    "start_time": "2021-08-06T11:26:40.949Z"
   },
   {
    "duration": 3,
    "start_time": "2021-08-06T11:26:40.968Z"
   },
   {
    "duration": 28,
    "start_time": "2021-08-06T11:26:40.972Z"
   },
   {
    "duration": 20,
    "start_time": "2021-08-06T11:26:41.002Z"
   },
   {
    "duration": 11,
    "start_time": "2021-08-06T11:26:41.023Z"
   },
   {
    "duration": 11,
    "start_time": "2021-08-06T11:26:41.035Z"
   },
   {
    "duration": 12,
    "start_time": "2021-08-06T11:26:41.048Z"
   },
   {
    "duration": 185,
    "start_time": "2021-08-06T11:26:41.062Z"
   },
   {
    "duration": 10,
    "start_time": "2021-08-06T11:26:41.249Z"
   },
   {
    "duration": 5,
    "start_time": "2021-08-06T11:26:41.260Z"
   },
   {
    "duration": 11,
    "start_time": "2021-08-06T11:26:41.266Z"
   },
   {
    "duration": 27,
    "start_time": "2021-08-06T11:26:41.279Z"
   },
   {
    "duration": 26,
    "start_time": "2021-08-06T11:26:41.310Z"
   },
   {
    "duration": 28,
    "start_time": "2021-08-06T11:26:41.338Z"
   },
   {
    "duration": 1355,
    "start_time": "2021-08-06T11:26:41.368Z"
   },
   {
    "duration": 3,
    "start_time": "2021-08-06T11:26:42.724Z"
   },
   {
    "duration": 20,
    "start_time": "2021-08-06T11:26:42.728Z"
   },
   {
    "duration": 446,
    "start_time": "2021-08-06T11:26:42.749Z"
   },
   {
    "duration": 19,
    "start_time": "2021-08-06T11:26:43.197Z"
   },
   {
    "duration": 1881,
    "start_time": "2021-08-06T11:26:43.217Z"
   },
   {
    "duration": 107,
    "start_time": "2021-08-06T11:26:45.099Z"
   },
   {
    "duration": 2659,
    "start_time": "2021-08-06T11:26:45.208Z"
   },
   {
    "duration": 6,
    "start_time": "2021-08-06T11:26:47.868Z"
   },
   {
    "duration": 30,
    "start_time": "2021-08-06T11:26:47.875Z"
   },
   {
    "duration": 3,
    "start_time": "2021-08-06T11:26:47.907Z"
   },
   {
    "duration": 165,
    "start_time": "2021-08-06T11:26:47.911Z"
   },
   {
    "duration": 15,
    "start_time": "2021-08-06T11:26:48.077Z"
   },
   {
    "duration": 10,
    "start_time": "2021-08-06T11:26:48.094Z"
   },
   {
    "duration": 8,
    "start_time": "2021-08-06T11:26:48.106Z"
   },
   {
    "duration": 9,
    "start_time": "2021-08-06T11:26:48.116Z"
   },
   {
    "duration": 5,
    "start_time": "2021-08-06T11:26:48.126Z"
   },
   {
    "duration": 4,
    "start_time": "2021-08-06T11:26:48.132Z"
   },
   {
    "duration": 10,
    "start_time": "2021-08-06T11:26:48.138Z"
   },
   {
    "duration": 10,
    "start_time": "2021-08-06T11:26:48.149Z"
   },
   {
    "duration": 12,
    "start_time": "2021-08-06T11:26:48.160Z"
   },
   {
    "duration": 900,
    "start_time": "2021-08-06T11:26:48.192Z"
   },
   {
    "duration": 27785,
    "start_time": "2021-08-06T11:26:49.094Z"
   },
   {
    "duration": 7934,
    "start_time": "2021-08-06T11:27:16.881Z"
   },
   {
    "duration": -222416,
    "start_time": "2021-08-06T11:31:07.233Z"
   },
   {
    "duration": -222426,
    "start_time": "2021-08-06T11:31:07.244Z"
   },
   {
    "duration": -222435,
    "start_time": "2021-08-06T11:31:07.254Z"
   },
   {
    "duration": -222445,
    "start_time": "2021-08-06T11:31:07.264Z"
   },
   {
    "duration": -222453,
    "start_time": "2021-08-06T11:31:07.273Z"
   },
   {
    "duration": -222461,
    "start_time": "2021-08-06T11:31:07.282Z"
   },
   {
    "duration": 671,
    "start_time": "2021-08-06T11:27:28.422Z"
   },
   {
    "duration": 28501,
    "start_time": "2021-08-06T11:27:30.391Z"
   },
   {
    "duration": 285,
    "start_time": "2021-08-06T11:28:09.318Z"
   },
   {
    "duration": 3,
    "start_time": "2021-08-06T11:28:12.246Z"
   },
   {
    "duration": 431,
    "start_time": "2021-08-06T11:28:13.718Z"
   },
   {
    "duration": 9,
    "start_time": "2021-08-06T11:28:24.110Z"
   },
   {
    "duration": 522004,
    "start_time": "2021-08-06T11:37:13.714Z"
   },
   {
    "duration": 546488,
    "start_time": "2021-08-06T11:45:55.720Z"
   },
   {
    "duration": 3,
    "start_time": "2021-08-06T12:14:36.589Z"
   },
   {
    "duration": 466,
    "start_time": "2021-08-06T12:14:39.005Z"
   },
   {
    "duration": 3,
    "start_time": "2021-08-06T12:43:37.689Z"
   },
   {
    "duration": 377,
    "start_time": "2021-08-06T12:43:39.473Z"
   },
   {
    "duration": 286,
    "start_time": "2021-08-06T12:43:49.673Z"
   },
   {
    "duration": 338,
    "start_time": "2021-08-06T12:45:52.332Z"
   },
   {
    "duration": 3,
    "start_time": "2021-08-06T12:46:30.103Z"
   },
   {
    "duration": 4,
    "start_time": "2021-08-06T12:46:31.007Z"
   },
   {
    "duration": 350,
    "start_time": "2021-08-06T12:46:31.726Z"
   },
   {
    "duration": 9,
    "start_time": "2021-08-06T12:48:08.039Z"
   },
   {
    "duration": 240,
    "start_time": "2021-08-06T12:49:24.176Z"
   },
   {
    "duration": 2,
    "start_time": "2021-08-06T12:49:45.149Z"
   },
   {
    "duration": 3,
    "start_time": "2021-08-06T12:49:45.812Z"
   },
   {
    "duration": 232,
    "start_time": "2021-08-06T12:49:46.413Z"
   },
   {
    "duration": 6,
    "start_time": "2021-08-06T12:50:18.036Z"
   },
   {
    "duration": 6,
    "start_time": "2021-08-06T12:50:38.779Z"
   },
   {
    "duration": 259,
    "start_time": "2021-08-06T12:51:11.076Z"
   },
   {
    "duration": 6,
    "start_time": "2021-08-06T12:56:26.143Z"
   },
   {
    "duration": 4,
    "start_time": "2021-08-06T12:56:51.048Z"
   },
   {
    "duration": 3,
    "start_time": "2021-08-06T12:57:07.472Z"
   },
   {
    "duration": 3,
    "start_time": "2021-08-06T12:57:08.071Z"
   },
   {
    "duration": 307,
    "start_time": "2021-08-06T12:57:09.111Z"
   },
   {
    "duration": 5,
    "start_time": "2021-08-06T12:57:23.488Z"
   },
   {
    "duration": 301,
    "start_time": "2021-08-06T12:57:48.929Z"
   },
   {
    "duration": 6,
    "start_time": "2021-08-06T12:57:50.966Z"
   },
   {
    "duration": 6,
    "start_time": "2021-08-06T12:58:01.783Z"
   },
   {
    "duration": 5,
    "start_time": "2021-08-06T12:58:11.758Z"
   },
   {
    "duration": 6,
    "start_time": "2021-08-06T12:59:06.360Z"
   },
   {
    "duration": 1498,
    "start_time": "2021-08-06T13:05:33.149Z"
   },
   {
    "duration": 680,
    "start_time": "2021-08-06T13:05:34.649Z"
   },
   {
    "duration": 37,
    "start_time": "2021-08-06T13:05:35.331Z"
   },
   {
    "duration": 45,
    "start_time": "2021-08-06T13:05:35.369Z"
   },
   {
    "duration": 33,
    "start_time": "2021-08-06T13:05:35.416Z"
   },
   {
    "duration": 4,
    "start_time": "2021-08-06T13:05:35.450Z"
   },
   {
    "duration": 50,
    "start_time": "2021-08-06T13:05:35.455Z"
   },
   {
    "duration": 305,
    "start_time": "2021-08-06T13:05:35.508Z"
   },
   {
    "duration": 15,
    "start_time": "2021-08-06T13:05:35.815Z"
   },
   {
    "duration": 16,
    "start_time": "2021-08-06T13:05:35.832Z"
   },
   {
    "duration": 5,
    "start_time": "2021-08-06T13:05:35.849Z"
   },
   {
    "duration": 35,
    "start_time": "2021-08-06T13:05:35.856Z"
   },
   {
    "duration": 21,
    "start_time": "2021-08-06T13:05:35.893Z"
   },
   {
    "duration": 15,
    "start_time": "2021-08-06T13:05:35.916Z"
   },
   {
    "duration": 22,
    "start_time": "2021-08-06T13:05:35.933Z"
   },
   {
    "duration": 35,
    "start_time": "2021-08-06T13:05:35.957Z"
   },
   {
    "duration": 6,
    "start_time": "2021-08-06T13:05:35.994Z"
   },
   {
    "duration": 149,
    "start_time": "2021-08-06T13:05:36.002Z"
   },
   {
    "duration": 11,
    "start_time": "2021-08-06T13:05:36.153Z"
   },
   {
    "duration": 5,
    "start_time": "2021-08-06T13:05:36.166Z"
   },
   {
    "duration": 20,
    "start_time": "2021-08-06T13:05:36.173Z"
   },
   {
    "duration": 12,
    "start_time": "2021-08-06T13:05:36.195Z"
   },
   {
    "duration": 16,
    "start_time": "2021-08-06T13:05:36.211Z"
   },
   {
    "duration": 21,
    "start_time": "2021-08-06T13:05:36.229Z"
   },
   {
    "duration": 1513,
    "start_time": "2021-08-06T13:05:36.251Z"
   },
   {
    "duration": 3,
    "start_time": "2021-08-06T13:05:37.766Z"
   },
   {
    "duration": 22,
    "start_time": "2021-08-06T13:05:37.770Z"
   },
   {
    "duration": 441,
    "start_time": "2021-08-06T13:05:37.794Z"
   },
   {
    "duration": 21,
    "start_time": "2021-08-06T13:05:38.236Z"
   },
   {
    "duration": 1788,
    "start_time": "2021-08-06T13:05:38.259Z"
   },
   {
    "duration": 142,
    "start_time": "2021-08-06T13:05:40.049Z"
   },
   {
    "duration": 2716,
    "start_time": "2021-08-06T13:05:40.193Z"
   },
   {
    "duration": 7,
    "start_time": "2021-08-06T13:05:42.911Z"
   },
   {
    "duration": 20,
    "start_time": "2021-08-06T13:05:42.920Z"
   },
   {
    "duration": 4,
    "start_time": "2021-08-06T13:05:42.942Z"
   },
   {
    "duration": 169,
    "start_time": "2021-08-06T13:05:42.991Z"
   },
   {
    "duration": 3,
    "start_time": "2021-08-06T13:05:43.161Z"
   },
   {
    "duration": 14,
    "start_time": "2021-08-06T13:05:43.165Z"
   },
   {
    "duration": 22,
    "start_time": "2021-08-06T13:05:43.181Z"
   },
   {
    "duration": 10,
    "start_time": "2021-08-06T13:05:43.205Z"
   },
   {
    "duration": 10,
    "start_time": "2021-08-06T13:05:43.217Z"
   },
   {
    "duration": 14,
    "start_time": "2021-08-06T13:05:43.229Z"
   },
   {
    "duration": 11,
    "start_time": "2021-08-06T13:05:43.244Z"
   },
   {
    "duration": 16,
    "start_time": "2021-08-06T13:05:43.257Z"
   },
   {
    "duration": 16,
    "start_time": "2021-08-06T13:05:43.275Z"
   },
   {
    "duration": 1307,
    "start_time": "2021-08-06T13:05:43.293Z"
   },
   {
    "duration": 31231,
    "start_time": "2021-08-06T13:05:44.602Z"
   },
   {
    "duration": 36272,
    "start_time": "2021-08-06T13:06:15.834Z"
   },
   {
    "duration": -222195,
    "start_time": "2021-08-06T13:10:34.303Z"
   },
   {
    "duration": -222203,
    "start_time": "2021-08-06T13:10:34.312Z"
   },
   {
    "duration": -222212,
    "start_time": "2021-08-06T13:10:34.322Z"
   },
   {
    "duration": -222222,
    "start_time": "2021-08-06T13:10:34.333Z"
   },
   {
    "duration": -222230,
    "start_time": "2021-08-06T13:10:34.342Z"
   },
   {
    "duration": -222239,
    "start_time": "2021-08-06T13:10:34.352Z"
   },
   {
    "duration": -222247,
    "start_time": "2021-08-06T13:10:34.361Z"
   },
   {
    "duration": -222256,
    "start_time": "2021-08-06T13:10:34.371Z"
   },
   {
    "duration": -222265,
    "start_time": "2021-08-06T13:10:34.381Z"
   },
   {
    "duration": -222285,
    "start_time": "2021-08-06T13:10:34.402Z"
   },
   {
    "duration": -222293,
    "start_time": "2021-08-06T13:10:34.411Z"
   },
   {
    "duration": -222303,
    "start_time": "2021-08-06T13:10:34.422Z"
   },
   {
    "duration": -222311,
    "start_time": "2021-08-06T13:10:34.431Z"
   },
   {
    "duration": -222322,
    "start_time": "2021-08-06T13:10:34.442Z"
   },
   {
    "duration": 1192,
    "start_time": "2021-08-06T13:06:55.908Z"
   },
   {
    "duration": 28057,
    "start_time": "2021-08-06T13:06:58.373Z"
   },
   {
    "duration": 134,
    "start_time": "2021-08-06T13:07:54.763Z"
   },
   {
    "duration": 1882,
    "start_time": "2021-08-06T13:08:08.039Z"
   },
   {
    "duration": 909,
    "start_time": "2021-08-06T13:08:09.927Z"
   },
   {
    "duration": 72,
    "start_time": "2021-08-06T13:08:10.838Z"
   },
   {
    "duration": 42,
    "start_time": "2021-08-06T13:08:10.912Z"
   },
   {
    "duration": 54,
    "start_time": "2021-08-06T13:08:10.956Z"
   },
   {
    "duration": 4,
    "start_time": "2021-08-06T13:08:11.012Z"
   },
   {
    "duration": 25,
    "start_time": "2021-08-06T13:08:11.018Z"
   },
   {
    "duration": 230,
    "start_time": "2021-08-06T13:08:11.046Z"
   },
   {
    "duration": 27,
    "start_time": "2021-08-06T13:08:11.278Z"
   },
   {
    "duration": 22,
    "start_time": "2021-08-06T13:08:11.308Z"
   },
   {
    "duration": 13,
    "start_time": "2021-08-06T13:08:11.332Z"
   },
   {
    "duration": 24,
    "start_time": "2021-08-06T13:08:11.347Z"
   },
   {
    "duration": 36,
    "start_time": "2021-08-06T13:08:11.373Z"
   },
   {
    "duration": 11,
    "start_time": "2021-08-06T13:08:11.412Z"
   },
   {
    "duration": 37,
    "start_time": "2021-08-06T13:08:11.426Z"
   },
   {
    "duration": 27,
    "start_time": "2021-08-06T13:08:11.467Z"
   },
   {
    "duration": 8,
    "start_time": "2021-08-06T13:08:11.496Z"
   },
   {
    "duration": 49,
    "start_time": "2021-08-06T13:08:11.506Z"
   },
   {
    "duration": 14,
    "start_time": "2021-08-06T13:08:11.558Z"
   },
   {
    "duration": 20,
    "start_time": "2021-08-06T13:08:11.574Z"
   },
   {
    "duration": 4,
    "start_time": "2021-08-06T13:08:11.596Z"
   },
   {
    "duration": 24,
    "start_time": "2021-08-06T13:08:11.605Z"
   },
   {
    "duration": 27,
    "start_time": "2021-08-06T13:08:11.632Z"
   },
   {
    "duration": 53,
    "start_time": "2021-08-06T13:08:11.661Z"
   },
   {
    "duration": 1469,
    "start_time": "2021-08-06T13:08:11.716Z"
   },
   {
    "duration": 11,
    "start_time": "2021-08-06T13:08:13.187Z"
   },
   {
    "duration": 16,
    "start_time": "2021-08-06T13:08:13.200Z"
   },
   {
    "duration": 677,
    "start_time": "2021-08-06T13:08:13.219Z"
   },
   {
    "duration": 22,
    "start_time": "2021-08-06T13:08:13.898Z"
   },
   {
    "duration": 1548,
    "start_time": "2021-08-06T13:08:13.922Z"
   },
   {
    "duration": 127,
    "start_time": "2021-08-06T13:08:15.472Z"
   },
   {
    "duration": 2903,
    "start_time": "2021-08-06T13:08:15.600Z"
   },
   {
    "duration": 6,
    "start_time": "2021-08-06T13:08:18.505Z"
   },
   {
    "duration": 19,
    "start_time": "2021-08-06T13:08:18.513Z"
   },
   {
    "duration": 17,
    "start_time": "2021-08-06T13:08:18.534Z"
   },
   {
    "duration": 158,
    "start_time": "2021-08-06T13:08:18.592Z"
   },
   {
    "duration": 3,
    "start_time": "2021-08-06T13:08:18.752Z"
   },
   {
    "duration": 47,
    "start_time": "2021-08-06T13:08:18.757Z"
   },
   {
    "duration": 17,
    "start_time": "2021-08-06T13:08:18.806Z"
   },
   {
    "duration": 19,
    "start_time": "2021-08-06T13:08:18.825Z"
   },
   {
    "duration": 12,
    "start_time": "2021-08-06T13:08:18.845Z"
   },
   {
    "duration": 5,
    "start_time": "2021-08-06T13:08:18.859Z"
   },
   {
    "duration": 4,
    "start_time": "2021-08-06T13:08:18.866Z"
   },
   {
    "duration": 7,
    "start_time": "2021-08-06T13:08:18.872Z"
   },
   {
    "duration": 19,
    "start_time": "2021-08-06T13:08:18.881Z"
   },
   {
    "duration": 1293,
    "start_time": "2021-08-06T13:08:18.902Z"
   },
   {
    "duration": 27461,
    "start_time": "2021-08-06T13:08:20.197Z"
   },
   {
    "duration": 5473,
    "start_time": "2021-08-06T13:08:47.661Z"
   },
   {
    "duration": -222162,
    "start_time": "2021-08-06T13:12:35.298Z"
   },
   {
    "duration": -222171,
    "start_time": "2021-08-06T13:12:35.308Z"
   },
   {
    "duration": -222182,
    "start_time": "2021-08-06T13:12:35.319Z"
   },
   {
    "duration": -222189,
    "start_time": "2021-08-06T13:12:35.327Z"
   },
   {
    "duration": -222198,
    "start_time": "2021-08-06T13:12:35.337Z"
   },
   {
    "duration": -222206,
    "start_time": "2021-08-06T13:12:35.346Z"
   },
   {
    "duration": -222215,
    "start_time": "2021-08-06T13:12:35.356Z"
   },
   {
    "duration": -222223,
    "start_time": "2021-08-06T13:12:35.365Z"
   },
   {
    "duration": -222231,
    "start_time": "2021-08-06T13:12:35.374Z"
   },
   {
    "duration": -222251,
    "start_time": "2021-08-06T13:12:35.394Z"
   },
   {
    "duration": -222261,
    "start_time": "2021-08-06T13:12:35.405Z"
   },
   {
    "duration": -222269,
    "start_time": "2021-08-06T13:12:35.414Z"
   },
   {
    "duration": -222281,
    "start_time": "2021-08-06T13:12:35.427Z"
   },
   {
    "duration": -222290,
    "start_time": "2021-08-06T13:12:35.437Z"
   },
   {
    "duration": 1032,
    "start_time": "2021-08-06T13:08:57.066Z"
   },
   {
    "duration": 23708,
    "start_time": "2021-08-06T13:08:59.917Z"
   },
   {
    "duration": 3,
    "start_time": "2021-08-06T13:09:45.654Z"
   },
   {
    "duration": 3,
    "start_time": "2021-08-06T13:09:46.269Z"
   },
   {
    "duration": 284,
    "start_time": "2021-08-06T13:09:46.925Z"
   },
   {
    "duration": 9,
    "start_time": "2021-08-06T13:09:48.997Z"
   },
   {
    "duration": 2,
    "start_time": "2021-08-06T13:09:51.397Z"
   },
   {
    "duration": 3,
    "start_time": "2021-08-06T13:09:52.269Z"
   },
   {
    "duration": 6,
    "start_time": "2021-08-06T13:09:53.037Z"
   },
   {
    "duration": 6,
    "start_time": "2021-08-06T13:09:54.700Z"
   },
   {
    "duration": 1402,
    "start_time": "2021-08-06T13:10:34.833Z"
   },
   {
    "duration": 677,
    "start_time": "2021-08-06T13:10:36.237Z"
   },
   {
    "duration": 36,
    "start_time": "2021-08-06T13:10:36.916Z"
   },
   {
    "duration": 45,
    "start_time": "2021-08-06T13:10:36.954Z"
   },
   {
    "duration": 32,
    "start_time": "2021-08-06T13:10:37.001Z"
   },
   {
    "duration": 4,
    "start_time": "2021-08-06T13:10:37.034Z"
   },
   {
    "duration": 24,
    "start_time": "2021-08-06T13:10:37.039Z"
   },
   {
    "duration": 199,
    "start_time": "2021-08-06T13:10:37.092Z"
   },
   {
    "duration": 15,
    "start_time": "2021-08-06T13:10:37.293Z"
   },
   {
    "duration": 17,
    "start_time": "2021-08-06T13:10:37.310Z"
   },
   {
    "duration": 3,
    "start_time": "2021-08-06T13:10:37.329Z"
   },
   {
    "duration": 29,
    "start_time": "2021-08-06T13:10:37.334Z"
   },
   {
    "duration": 31,
    "start_time": "2021-08-06T13:10:37.365Z"
   },
   {
    "duration": 13,
    "start_time": "2021-08-06T13:10:37.398Z"
   },
   {
    "duration": 27,
    "start_time": "2021-08-06T13:10:37.413Z"
   },
   {
    "duration": 13,
    "start_time": "2021-08-06T13:10:37.442Z"
   },
   {
    "duration": 7,
    "start_time": "2021-08-06T13:10:37.456Z"
   },
   {
    "duration": 25,
    "start_time": "2021-08-06T13:10:37.491Z"
   },
   {
    "duration": 11,
    "start_time": "2021-08-06T13:10:37.519Z"
   },
   {
    "duration": 7,
    "start_time": "2021-08-06T13:10:37.532Z"
   },
   {
    "duration": 4,
    "start_time": "2021-08-06T13:10:37.541Z"
   },
   {
    "duration": 17,
    "start_time": "2021-08-06T13:10:37.546Z"
   },
   {
    "duration": 16,
    "start_time": "2021-08-06T13:10:37.591Z"
   },
   {
    "duration": 19,
    "start_time": "2021-08-06T13:10:37.609Z"
   },
   {
    "duration": 1378,
    "start_time": "2021-08-06T13:10:37.630Z"
   },
   {
    "duration": 3,
    "start_time": "2021-08-06T13:10:39.010Z"
   },
   {
    "duration": 35,
    "start_time": "2021-08-06T13:10:39.015Z"
   },
   {
    "duration": 842,
    "start_time": "2021-08-06T13:10:39.053Z"
   },
   {
    "duration": 31,
    "start_time": "2021-08-06T13:10:39.897Z"
   },
   {
    "duration": 1596,
    "start_time": "2021-08-06T13:10:39.929Z"
   },
   {
    "duration": 92,
    "start_time": "2021-08-06T13:10:41.527Z"
   },
   {
    "duration": 2873,
    "start_time": "2021-08-06T13:10:41.621Z"
   },
   {
    "duration": 7,
    "start_time": "2021-08-06T13:10:44.496Z"
   },
   {
    "duration": 19,
    "start_time": "2021-08-06T13:10:44.505Z"
   },
   {
    "duration": 4,
    "start_time": "2021-08-06T13:10:44.525Z"
   },
   {
    "duration": 203,
    "start_time": "2021-08-06T13:10:44.531Z"
   },
   {
    "duration": 2,
    "start_time": "2021-08-06T13:10:44.736Z"
   },
   {
    "duration": 52,
    "start_time": "2021-08-06T13:10:44.740Z"
   },
   {
    "duration": 9,
    "start_time": "2021-08-06T13:10:44.794Z"
   },
   {
    "duration": 9,
    "start_time": "2021-08-06T13:10:44.804Z"
   },
   {
    "duration": 5,
    "start_time": "2021-08-06T13:10:44.814Z"
   },
   {
    "duration": 6,
    "start_time": "2021-08-06T13:10:44.821Z"
   },
   {
    "duration": 6,
    "start_time": "2021-08-06T13:10:44.828Z"
   },
   {
    "duration": 8,
    "start_time": "2021-08-06T13:10:44.835Z"
   },
   {
    "duration": 13,
    "start_time": "2021-08-06T13:10:44.845Z"
   },
   {
    "duration": 1038,
    "start_time": "2021-08-06T13:10:44.859Z"
   },
   {
    "duration": 25840,
    "start_time": "2021-08-06T13:10:45.900Z"
   },
   {
    "duration": 4919,
    "start_time": "2021-08-06T13:11:11.742Z"
   },
   {
    "duration": -222153,
    "start_time": "2021-08-06T13:14:58.817Z"
   },
   {
    "duration": -222163,
    "start_time": "2021-08-06T13:14:58.829Z"
   },
   {
    "duration": -222171,
    "start_time": "2021-08-06T13:14:58.838Z"
   },
   {
    "duration": -222181,
    "start_time": "2021-08-06T13:14:58.849Z"
   },
   {
    "duration": -222189,
    "start_time": "2021-08-06T13:14:58.858Z"
   },
   {
    "duration": -222197,
    "start_time": "2021-08-06T13:14:58.868Z"
   },
   {
    "duration": -222205,
    "start_time": "2021-08-06T13:14:58.878Z"
   },
   {
    "duration": -222214,
    "start_time": "2021-08-06T13:14:58.888Z"
   },
   {
    "duration": -222220,
    "start_time": "2021-08-06T13:14:58.896Z"
   },
   {
    "duration": -222240,
    "start_time": "2021-08-06T13:14:58.917Z"
   },
   {
    "duration": -222249,
    "start_time": "2021-08-06T13:14:58.927Z"
   },
   {
    "duration": -222260,
    "start_time": "2021-08-06T13:14:58.940Z"
   },
   {
    "duration": -222283,
    "start_time": "2021-08-06T13:14:58.964Z"
   },
   {
    "duration": -222297,
    "start_time": "2021-08-06T13:14:58.979Z"
   },
   {
    "duration": 1142,
    "start_time": "2021-08-06T13:11:19.156Z"
   },
   {
    "duration": 28649,
    "start_time": "2021-08-06T13:11:21.060Z"
   },
   {
    "duration": 3,
    "start_time": "2021-08-06T13:12:04.019Z"
   },
   {
    "duration": 3,
    "start_time": "2021-08-06T13:12:04.892Z"
   },
   {
    "duration": 401,
    "start_time": "2021-08-06T13:12:05.595Z"
   },
   {
    "duration": 9,
    "start_time": "2021-08-06T13:12:07.676Z"
   },
   {
    "duration": 3,
    "start_time": "2021-08-06T13:12:22.907Z"
   },
   {
    "duration": 2,
    "start_time": "2021-08-06T13:12:23.691Z"
   },
   {
    "duration": 5,
    "start_time": "2021-08-06T13:12:26.108Z"
   },
   {
    "duration": 6,
    "start_time": "2021-08-06T13:12:28.178Z"
   },
   {
    "duration": 16,
    "start_time": "2021-08-06T13:19:33.478Z"
   },
   {
    "duration": 3,
    "start_time": "2021-08-06T13:20:28.274Z"
   },
   {
    "duration": 5,
    "start_time": "2021-08-06T13:20:57.662Z"
   },
   {
    "duration": 659,
    "start_time": "2021-08-06T13:23:20.908Z"
   },
   {
    "duration": 191,
    "start_time": "2021-08-06T13:23:30.652Z"
   },
   {
    "duration": 15,
    "start_time": "2021-08-06T13:23:31.763Z"
   },
   {
    "duration": 13,
    "start_time": "2021-08-06T13:23:33.387Z"
   },
   {
    "duration": 3,
    "start_time": "2021-08-06T13:23:34.486Z"
   },
   {
    "duration": 12,
    "start_time": "2021-08-06T13:23:35.419Z"
   },
   {
    "duration": 20,
    "start_time": "2021-08-06T13:23:38.580Z"
   },
   {
    "duration": 11,
    "start_time": "2021-08-06T13:23:39.379Z"
   },
   {
    "duration": 21,
    "start_time": "2021-08-06T13:23:42.531Z"
   },
   {
    "duration": 11,
    "start_time": "2021-08-06T13:23:44.612Z"
   },
   {
    "duration": 29,
    "start_time": "2021-08-06T13:23:47.668Z"
   },
   {
    "duration": 690,
    "start_time": "2021-08-06T13:27:17.377Z"
   },
   {
    "duration": 200,
    "start_time": "2021-08-06T13:27:26.117Z"
   },
   {
    "duration": 16,
    "start_time": "2021-08-06T13:27:28.144Z"
   },
   {
    "duration": 14,
    "start_time": "2021-08-06T13:27:30.633Z"
   },
   {
    "duration": 4,
    "start_time": "2021-08-06T13:27:33.745Z"
   },
   {
    "duration": 12,
    "start_time": "2021-08-06T13:27:35.752Z"
   },
   {
    "duration": 18,
    "start_time": "2021-08-06T13:27:38.840Z"
   },
   {
    "duration": 12,
    "start_time": "2021-08-06T13:27:40.832Z"
   },
   {
    "duration": 17,
    "start_time": "2021-08-06T13:27:43.496Z"
   },
   {
    "duration": 13,
    "start_time": "2021-08-06T13:27:44.015Z"
   },
   {
    "duration": 26,
    "start_time": "2021-08-06T13:27:44.720Z"
   },
   {
    "duration": 9,
    "start_time": "2021-08-06T13:28:12.019Z"
   },
   {
    "duration": 28,
    "start_time": "2021-08-06T13:28:53.256Z"
   },
   {
    "duration": 30,
    "start_time": "2021-08-06T13:29:02.801Z"
   },
   {
    "duration": 11,
    "start_time": "2021-08-06T13:29:10.697Z"
   },
   {
    "duration": 14,
    "start_time": "2021-08-06T13:29:24.871Z"
   },
   {
    "duration": 1533,
    "start_time": "2021-08-06T13:30:10.033Z"
   },
   {
    "duration": 841,
    "start_time": "2021-08-06T13:30:11.568Z"
   },
   {
    "duration": 54,
    "start_time": "2021-08-06T13:30:12.411Z"
   },
   {
    "duration": 57,
    "start_time": "2021-08-06T13:30:12.467Z"
   },
   {
    "duration": 48,
    "start_time": "2021-08-06T13:30:12.526Z"
   },
   {
    "duration": 5,
    "start_time": "2021-08-06T13:30:12.592Z"
   },
   {
    "duration": 36,
    "start_time": "2021-08-06T13:30:12.599Z"
   },
   {
    "duration": 310,
    "start_time": "2021-08-06T13:30:12.639Z"
   },
   {
    "duration": 15,
    "start_time": "2021-08-06T13:30:12.951Z"
   },
   {
    "duration": 35,
    "start_time": "2021-08-06T13:30:12.968Z"
   },
   {
    "duration": 3,
    "start_time": "2021-08-06T13:30:13.005Z"
   },
   {
    "duration": 24,
    "start_time": "2021-08-06T13:30:13.009Z"
   },
   {
    "duration": 23,
    "start_time": "2021-08-06T13:30:13.035Z"
   },
   {
    "duration": 11,
    "start_time": "2021-08-06T13:30:13.059Z"
   },
   {
    "duration": 22,
    "start_time": "2021-08-06T13:30:13.091Z"
   },
   {
    "duration": 11,
    "start_time": "2021-08-06T13:30:13.115Z"
   },
   {
    "duration": 374,
    "start_time": "2021-08-06T13:30:13.127Z"
   },
   {
    "duration": -222776,
    "start_time": "2021-08-06T13:33:56.280Z"
   },
   {
    "duration": -222785,
    "start_time": "2021-08-06T13:33:56.290Z"
   },
   {
    "duration": -222791,
    "start_time": "2021-08-06T13:33:56.297Z"
   },
   {
    "duration": -222799,
    "start_time": "2021-08-06T13:33:56.306Z"
   },
   {
    "duration": -222805,
    "start_time": "2021-08-06T13:33:56.313Z"
   },
   {
    "duration": -222812,
    "start_time": "2021-08-06T13:33:56.321Z"
   },
   {
    "duration": -222819,
    "start_time": "2021-08-06T13:33:56.329Z"
   },
   {
    "duration": -222826,
    "start_time": "2021-08-06T13:33:56.337Z"
   },
   {
    "duration": -222832,
    "start_time": "2021-08-06T13:33:56.344Z"
   },
   {
    "duration": -222840,
    "start_time": "2021-08-06T13:33:56.353Z"
   },
   {
    "duration": -222846,
    "start_time": "2021-08-06T13:33:56.360Z"
   },
   {
    "duration": -222853,
    "start_time": "2021-08-06T13:33:56.368Z"
   },
   {
    "duration": -222870,
    "start_time": "2021-08-06T13:33:56.386Z"
   },
   {
    "duration": -222878,
    "start_time": "2021-08-06T13:33:56.395Z"
   },
   {
    "duration": -222885,
    "start_time": "2021-08-06T13:33:56.402Z"
   },
   {
    "duration": -222893,
    "start_time": "2021-08-06T13:33:56.411Z"
   },
   {
    "duration": -222899,
    "start_time": "2021-08-06T13:33:56.418Z"
   },
   {
    "duration": -222906,
    "start_time": "2021-08-06T13:33:56.426Z"
   },
   {
    "duration": -222913,
    "start_time": "2021-08-06T13:33:56.434Z"
   },
   {
    "duration": -222920,
    "start_time": "2021-08-06T13:33:56.442Z"
   },
   {
    "duration": -222926,
    "start_time": "2021-08-06T13:33:56.449Z"
   },
   {
    "duration": -222934,
    "start_time": "2021-08-06T13:33:56.457Z"
   },
   {
    "duration": -222941,
    "start_time": "2021-08-06T13:33:56.465Z"
   },
   {
    "duration": -222949,
    "start_time": "2021-08-06T13:33:56.474Z"
   },
   {
    "duration": -222955,
    "start_time": "2021-08-06T13:33:56.481Z"
   },
   {
    "duration": -222970,
    "start_time": "2021-08-06T13:33:56.497Z"
   },
   {
    "duration": -222978,
    "start_time": "2021-08-06T13:33:56.505Z"
   },
   {
    "duration": -222986,
    "start_time": "2021-08-06T13:33:56.514Z"
   },
   {
    "duration": -222992,
    "start_time": "2021-08-06T13:33:56.521Z"
   },
   {
    "duration": -223000,
    "start_time": "2021-08-06T13:33:56.530Z"
   },
   {
    "duration": -223007,
    "start_time": "2021-08-06T13:33:56.537Z"
   },
   {
    "duration": -223014,
    "start_time": "2021-08-06T13:33:56.545Z"
   },
   {
    "duration": -223021,
    "start_time": "2021-08-06T13:33:56.553Z"
   },
   {
    "duration": -223028,
    "start_time": "2021-08-06T13:33:56.561Z"
   },
   {
    "duration": -223034,
    "start_time": "2021-08-06T13:33:56.568Z"
   },
   {
    "duration": -223042,
    "start_time": "2021-08-06T13:33:56.576Z"
   },
   {
    "duration": -223049,
    "start_time": "2021-08-06T13:33:56.584Z"
   },
   {
    "duration": -223056,
    "start_time": "2021-08-06T13:33:56.592Z"
   },
   {
    "duration": -223070,
    "start_time": "2021-08-06T13:33:56.607Z"
   },
   {
    "duration": -223078,
    "start_time": "2021-08-06T13:33:56.615Z"
   },
   {
    "duration": -223085,
    "start_time": "2021-08-06T13:33:56.623Z"
   },
   {
    "duration": -223092,
    "start_time": "2021-08-06T13:33:56.631Z"
   },
   {
    "duration": 158,
    "start_time": "2021-08-06T13:30:44.610Z"
   },
   {
    "duration": 28,
    "start_time": "2021-08-06T13:30:53.593Z"
   },
   {
    "duration": 1549,
    "start_time": "2021-08-06T13:31:01.292Z"
   },
   {
    "duration": 693,
    "start_time": "2021-08-06T13:31:02.842Z"
   },
   {
    "duration": 34,
    "start_time": "2021-08-06T13:31:03.537Z"
   },
   {
    "duration": 35,
    "start_time": "2021-08-06T13:31:03.574Z"
   },
   {
    "duration": 32,
    "start_time": "2021-08-06T13:31:03.610Z"
   },
   {
    "duration": 3,
    "start_time": "2021-08-06T13:31:03.644Z"
   },
   {
    "duration": 48,
    "start_time": "2021-08-06T13:31:03.649Z"
   },
   {
    "duration": 194,
    "start_time": "2021-08-06T13:31:03.700Z"
   },
   {
    "duration": 14,
    "start_time": "2021-08-06T13:31:03.896Z"
   },
   {
    "duration": 19,
    "start_time": "2021-08-06T13:31:03.912Z"
   },
   {
    "duration": 3,
    "start_time": "2021-08-06T13:31:03.932Z"
   },
   {
    "duration": 14,
    "start_time": "2021-08-06T13:31:03.937Z"
   },
   {
    "duration": 46,
    "start_time": "2021-08-06T13:31:03.953Z"
   },
   {
    "duration": 12,
    "start_time": "2021-08-06T13:31:04.001Z"
   },
   {
    "duration": 22,
    "start_time": "2021-08-06T13:31:04.015Z"
   },
   {
    "duration": 12,
    "start_time": "2021-08-06T13:31:04.039Z"
   },
   {
    "duration": 56,
    "start_time": "2021-08-06T13:31:04.053Z"
   },
   {
    "duration": 12,
    "start_time": "2021-08-06T13:31:04.110Z"
   },
   {
    "duration": 3,
    "start_time": "2021-08-06T13:31:04.123Z"
   },
   {
    "duration": 13,
    "start_time": "2021-08-06T13:31:04.128Z"
   },
   {
    "duration": 18,
    "start_time": "2021-08-06T13:31:04.143Z"
   },
   {
    "duration": 48,
    "start_time": "2021-08-06T13:31:04.162Z"
   },
   {
    "duration": 1456,
    "start_time": "2021-08-06T13:31:04.214Z"
   },
   {
    "duration": 2,
    "start_time": "2021-08-06T13:31:05.673Z"
   },
   {
    "duration": 22,
    "start_time": "2021-08-06T13:31:05.676Z"
   },
   {
    "duration": 444,
    "start_time": "2021-08-06T13:31:05.700Z"
   },
   {
    "duration": 21,
    "start_time": "2021-08-06T13:31:06.146Z"
   },
   {
    "duration": 1586,
    "start_time": "2021-08-06T13:31:06.169Z"
   },
   {
    "duration": 368,
    "start_time": "2021-08-06T13:31:07.756Z"
   },
   {
    "duration": 2595,
    "start_time": "2021-08-06T13:31:08.126Z"
   },
   {
    "duration": 6,
    "start_time": "2021-08-06T13:31:10.723Z"
   },
   {
    "duration": 19,
    "start_time": "2021-08-06T13:31:10.731Z"
   },
   {
    "duration": 40,
    "start_time": "2021-08-06T13:31:10.752Z"
   },
   {
    "duration": 172,
    "start_time": "2021-08-06T13:31:10.794Z"
   },
   {
    "duration": 3,
    "start_time": "2021-08-06T13:31:10.967Z"
   },
   {
    "duration": 11,
    "start_time": "2021-08-06T13:31:10.972Z"
   },
   {
    "duration": 12,
    "start_time": "2021-08-06T13:31:10.984Z"
   },
   {
    "duration": 10,
    "start_time": "2021-08-06T13:31:10.998Z"
   },
   {
    "duration": 5,
    "start_time": "2021-08-06T13:31:11.010Z"
   },
   {
    "duration": 6,
    "start_time": "2021-08-06T13:31:11.016Z"
   },
   {
    "duration": 4,
    "start_time": "2021-08-06T13:31:11.024Z"
   },
   {
    "duration": 14,
    "start_time": "2021-08-06T13:31:11.030Z"
   },
   {
    "duration": 9,
    "start_time": "2021-08-06T13:31:11.045Z"
   },
   {
    "duration": 1044,
    "start_time": "2021-08-06T13:31:11.056Z"
   },
   {
    "duration": 25212,
    "start_time": "2021-08-06T13:31:12.102Z"
   },
   {
    "duration": 7441,
    "start_time": "2021-08-06T13:31:37.315Z"
   },
   {
    "duration": -222135,
    "start_time": "2021-08-06T13:35:26.894Z"
   },
   {
    "duration": -222146,
    "start_time": "2021-08-06T13:35:26.906Z"
   },
   {
    "duration": -222154,
    "start_time": "2021-08-06T13:35:26.916Z"
   },
   {
    "duration": -222164,
    "start_time": "2021-08-06T13:35:26.927Z"
   },
   {
    "duration": -222172,
    "start_time": "2021-08-06T13:35:26.937Z"
   },
   {
    "duration": -222183,
    "start_time": "2021-08-06T13:35:26.949Z"
   },
   {
    "duration": -222190,
    "start_time": "2021-08-06T13:35:26.957Z"
   },
   {
    "duration": -222199,
    "start_time": "2021-08-06T13:35:26.967Z"
   },
   {
    "duration": -222249,
    "start_time": "2021-08-06T13:35:27.018Z"
   },
   {
    "duration": -222263,
    "start_time": "2021-08-06T13:35:27.033Z"
   },
   {
    "duration": -222271,
    "start_time": "2021-08-06T13:35:27.042Z"
   },
   {
    "duration": -222283,
    "start_time": "2021-08-06T13:35:27.055Z"
   },
   {
    "duration": -222291,
    "start_time": "2021-08-06T13:35:27.064Z"
   },
   {
    "duration": 1197,
    "start_time": "2021-08-06T13:31:48.499Z"
   },
   {
    "duration": 29297,
    "start_time": "2021-08-06T13:31:49.698Z"
   },
   {
    "duration": 3,
    "start_time": "2021-08-06T13:32:43.929Z"
   },
   {
    "duration": 3,
    "start_time": "2021-08-06T13:32:44.415Z"
   },
   {
    "duration": 316,
    "start_time": "2021-08-06T13:32:45.152Z"
   },
   {
    "duration": 10,
    "start_time": "2021-08-06T13:32:54.167Z"
   },
   {
    "duration": 248,
    "start_time": "2021-08-06T13:33:16.615Z"
   },
   {
    "duration": 12,
    "start_time": "2021-08-06T13:34:00.775Z"
   },
   {
    "duration": 3,
    "start_time": "2021-08-06T13:34:02.182Z"
   },
   {
    "duration": 7,
    "start_time": "2021-08-06T13:34:02.765Z"
   },
   {
    "duration": 6,
    "start_time": "2021-08-06T13:34:03.566Z"
   },
   {
    "duration": 1526,
    "start_time": "2021-08-06T13:34:51.816Z"
   },
   {
    "duration": 694,
    "start_time": "2021-08-06T13:34:53.344Z"
   },
   {
    "duration": 33,
    "start_time": "2021-08-06T13:34:54.040Z"
   },
   {
    "duration": 33,
    "start_time": "2021-08-06T13:34:54.074Z"
   },
   {
    "duration": 29,
    "start_time": "2021-08-06T13:34:54.109Z"
   },
   {
    "duration": 2,
    "start_time": "2021-08-06T13:34:54.140Z"
   },
   {
    "duration": 51,
    "start_time": "2021-08-06T13:34:54.144Z"
   },
   {
    "duration": 194,
    "start_time": "2021-08-06T13:34:54.198Z"
   },
   {
    "duration": 14,
    "start_time": "2021-08-06T13:34:54.394Z"
   },
   {
    "duration": 15,
    "start_time": "2021-08-06T13:34:54.409Z"
   },
   {
    "duration": 3,
    "start_time": "2021-08-06T13:34:54.426Z"
   },
   {
    "duration": 15,
    "start_time": "2021-08-06T13:34:54.430Z"
   },
   {
    "duration": 20,
    "start_time": "2021-08-06T13:34:54.446Z"
   },
   {
    "duration": 33,
    "start_time": "2021-08-06T13:34:54.468Z"
   },
   {
    "duration": 23,
    "start_time": "2021-08-06T13:34:54.502Z"
   },
   {
    "duration": 12,
    "start_time": "2021-08-06T13:34:54.527Z"
   },
   {
    "duration": 57,
    "start_time": "2021-08-06T13:34:54.541Z"
   },
   {
    "duration": 12,
    "start_time": "2021-08-06T13:34:54.599Z"
   },
   {
    "duration": 2,
    "start_time": "2021-08-06T13:34:54.613Z"
   },
   {
    "duration": 11,
    "start_time": "2021-08-06T13:34:54.617Z"
   },
   {
    "duration": 16,
    "start_time": "2021-08-06T13:34:54.630Z"
   },
   {
    "duration": 47,
    "start_time": "2021-08-06T13:34:54.648Z"
   },
   {
    "duration": 1519,
    "start_time": "2021-08-06T13:34:54.700Z"
   },
   {
    "duration": 3,
    "start_time": "2021-08-06T13:34:56.221Z"
   },
   {
    "duration": 12,
    "start_time": "2021-08-06T13:34:56.226Z"
   },
   {
    "duration": 473,
    "start_time": "2021-08-06T13:34:56.240Z"
   },
   {
    "duration": 20,
    "start_time": "2021-08-06T13:34:56.715Z"
   },
   {
    "duration": 1621,
    "start_time": "2021-08-06T13:34:56.737Z"
   },
   {
    "duration": 322,
    "start_time": "2021-08-06T13:34:58.360Z"
   },
   {
    "duration": 2672,
    "start_time": "2021-08-06T13:34:58.684Z"
   },
   {
    "duration": 8,
    "start_time": "2021-08-06T13:35:01.358Z"
   },
   {
    "duration": 47,
    "start_time": "2021-08-06T13:35:01.368Z"
   },
   {
    "duration": 5,
    "start_time": "2021-08-06T13:35:01.417Z"
   },
   {
    "duration": 207,
    "start_time": "2021-08-06T13:35:01.423Z"
   },
   {
    "duration": 3,
    "start_time": "2021-08-06T13:35:01.632Z"
   },
   {
    "duration": 22,
    "start_time": "2021-08-06T13:35:01.637Z"
   },
   {
    "duration": 22,
    "start_time": "2021-08-06T13:35:01.661Z"
   },
   {
    "duration": 10,
    "start_time": "2021-08-06T13:35:01.685Z"
   },
   {
    "duration": 18,
    "start_time": "2021-08-06T13:35:01.697Z"
   },
   {
    "duration": 23,
    "start_time": "2021-08-06T13:35:01.717Z"
   },
   {
    "duration": 26,
    "start_time": "2021-08-06T13:35:01.741Z"
   },
   {
    "duration": 35,
    "start_time": "2021-08-06T13:35:01.769Z"
   },
   {
    "duration": 26,
    "start_time": "2021-08-06T13:35:01.806Z"
   },
   {
    "duration": 964,
    "start_time": "2021-08-06T13:35:01.834Z"
   },
   {
    "duration": 26804,
    "start_time": "2021-08-06T13:35:02.801Z"
   },
   {
    "duration": 16028,
    "start_time": "2021-08-06T13:35:29.607Z"
   },
   {
    "duration": -222152,
    "start_time": "2021-08-06T13:39:27.789Z"
   },
   {
    "duration": -222164,
    "start_time": "2021-08-06T13:39:27.801Z"
   },
   {
    "duration": -222172,
    "start_time": "2021-08-06T13:39:27.810Z"
   },
   {
    "duration": -222182,
    "start_time": "2021-08-06T13:39:27.821Z"
   },
   {
    "duration": -222190,
    "start_time": "2021-08-06T13:39:27.830Z"
   },
   {
    "duration": -222199,
    "start_time": "2021-08-06T13:39:27.840Z"
   },
   {
    "duration": -222207,
    "start_time": "2021-08-06T13:39:27.849Z"
   },
   {
    "duration": -222217,
    "start_time": "2021-08-06T13:39:27.860Z"
   },
   {
    "duration": -222225,
    "start_time": "2021-08-06T13:39:27.869Z"
   },
   {
    "duration": -222247,
    "start_time": "2021-08-06T13:39:27.892Z"
   },
   {
    "duration": -222258,
    "start_time": "2021-08-06T13:39:27.903Z"
   },
   {
    "duration": -222268,
    "start_time": "2021-08-06T13:39:27.914Z"
   },
   {
    "duration": -222277,
    "start_time": "2021-08-06T13:39:27.924Z"
   },
   {
    "duration": 779,
    "start_time": "2021-08-06T13:35:48.615Z"
   },
   {
    "duration": 28788,
    "start_time": "2021-08-06T13:35:50.543Z"
   },
   {
    "duration": 3,
    "start_time": "2021-08-06T13:36:30.718Z"
   },
   {
    "duration": 3,
    "start_time": "2021-08-06T13:36:31.408Z"
   },
   {
    "duration": 438,
    "start_time": "2021-08-06T13:36:32.014Z"
   },
   {
    "duration": 14,
    "start_time": "2021-08-06T13:36:33.759Z"
   },
   {
    "duration": 517,
    "start_time": "2021-08-06T13:36:53.031Z"
   },
   {
    "duration": 10,
    "start_time": "2021-08-06T13:36:54.965Z"
   },
   {
    "duration": 274,
    "start_time": "2021-08-06T13:37:01.862Z"
   },
   {
    "duration": 9,
    "start_time": "2021-08-06T13:37:05.670Z"
   },
   {
    "duration": 366,
    "start_time": "2021-08-06T13:37:12.671Z"
   },
   {
    "duration": 277,
    "start_time": "2021-08-06T13:37:21.686Z"
   },
   {
    "duration": 10,
    "start_time": "2021-08-06T13:37:23.511Z"
   },
   {
    "duration": 1472,
    "start_time": "2021-08-06T13:39:27.863Z"
   },
   {
    "duration": 686,
    "start_time": "2021-08-06T13:39:29.337Z"
   },
   {
    "duration": 34,
    "start_time": "2021-08-06T13:39:30.024Z"
   },
   {
    "duration": 43,
    "start_time": "2021-08-06T13:39:30.060Z"
   },
   {
    "duration": 48,
    "start_time": "2021-08-06T13:39:30.105Z"
   },
   {
    "duration": 3,
    "start_time": "2021-08-06T13:39:30.155Z"
   },
   {
    "duration": 38,
    "start_time": "2021-08-06T13:39:30.159Z"
   },
   {
    "duration": 201,
    "start_time": "2021-08-06T13:39:30.199Z"
   },
   {
    "duration": 16,
    "start_time": "2021-08-06T13:39:30.402Z"
   },
   {
    "duration": 19,
    "start_time": "2021-08-06T13:39:30.420Z"
   },
   {
    "duration": 3,
    "start_time": "2021-08-06T13:39:30.441Z"
   },
   {
    "duration": 25,
    "start_time": "2021-08-06T13:39:30.446Z"
   },
   {
    "duration": 29,
    "start_time": "2021-08-06T13:39:30.472Z"
   },
   {
    "duration": 11,
    "start_time": "2021-08-06T13:39:30.503Z"
   },
   {
    "duration": 29,
    "start_time": "2021-08-06T13:39:30.516Z"
   },
   {
    "duration": 11,
    "start_time": "2021-08-06T13:39:30.547Z"
   },
   {
    "duration": 41,
    "start_time": "2021-08-06T13:39:30.559Z"
   },
   {
    "duration": 10,
    "start_time": "2021-08-06T13:39:30.602Z"
   },
   {
    "duration": 15,
    "start_time": "2021-08-06T13:39:30.613Z"
   },
   {
    "duration": 21,
    "start_time": "2021-08-06T13:39:30.629Z"
   },
   {
    "duration": 33,
    "start_time": "2021-08-06T13:39:30.651Z"
   },
   {
    "duration": 22,
    "start_time": "2021-08-06T13:39:30.686Z"
   },
   {
    "duration": 1405,
    "start_time": "2021-08-06T13:39:30.711Z"
   },
   {
    "duration": 2,
    "start_time": "2021-08-06T13:39:32.119Z"
   },
   {
    "duration": 11,
    "start_time": "2021-08-06T13:39:32.122Z"
   },
   {
    "duration": 441,
    "start_time": "2021-08-06T13:39:32.135Z"
   },
   {
    "duration": 32,
    "start_time": "2021-08-06T13:39:32.577Z"
   },
   {
    "duration": 1560,
    "start_time": "2021-08-06T13:39:32.610Z"
   },
   {
    "duration": 267,
    "start_time": "2021-08-06T13:39:34.171Z"
   },
   {
    "duration": 2554,
    "start_time": "2021-08-06T13:39:34.440Z"
   },
   {
    "duration": 6,
    "start_time": "2021-08-06T13:39:36.996Z"
   },
   {
    "duration": 26,
    "start_time": "2021-08-06T13:39:37.003Z"
   },
   {
    "duration": 3,
    "start_time": "2021-08-06T13:39:37.031Z"
   },
   {
    "duration": 180,
    "start_time": "2021-08-06T13:39:37.036Z"
   },
   {
    "duration": 2,
    "start_time": "2021-08-06T13:39:37.218Z"
   },
   {
    "duration": 11,
    "start_time": "2021-08-06T13:39:37.222Z"
   },
   {
    "duration": 9,
    "start_time": "2021-08-06T13:39:37.234Z"
   },
   {
    "duration": 9,
    "start_time": "2021-08-06T13:39:37.245Z"
   },
   {
    "duration": 7,
    "start_time": "2021-08-06T13:39:37.255Z"
   },
   {
    "duration": 10,
    "start_time": "2021-08-06T13:39:37.264Z"
   },
   {
    "duration": 16,
    "start_time": "2021-08-06T13:39:37.276Z"
   },
   {
    "duration": 10,
    "start_time": "2021-08-06T13:39:37.294Z"
   },
   {
    "duration": 15,
    "start_time": "2021-08-06T13:39:37.306Z"
   },
   {
    "duration": 1069,
    "start_time": "2021-08-06T13:39:37.323Z"
   },
   {
    "duration": 24843,
    "start_time": "2021-08-06T13:39:38.394Z"
   },
   {
    "duration": 475827,
    "start_time": "2021-08-06T13:40:03.239Z"
   },
   {
    "duration": 1225,
    "start_time": "2021-08-06T13:47:59.068Z"
   },
   {
    "duration": 28712,
    "start_time": "2021-08-06T13:48:00.296Z"
   },
   {
    "duration": 497761,
    "start_time": "2021-08-06T13:48:29.009Z"
   },
   {
    "duration": 3,
    "start_time": "2021-08-06T13:56:46.772Z"
   },
   {
    "duration": 348,
    "start_time": "2021-08-06T13:56:46.791Z"
   },
   {
    "duration": 9,
    "start_time": "2021-08-06T13:56:47.140Z"
   },
   {
    "duration": 5,
    "start_time": "2021-08-06T13:56:47.151Z"
   },
   {
    "duration": 7,
    "start_time": "2021-08-06T13:56:47.158Z"
   },
   {
    "duration": 300,
    "start_time": "2021-08-06T13:56:47.167Z"
   },
   {
    "duration": 25,
    "start_time": "2021-08-06T13:56:47.469Z"
   },
   {
    "duration": 3,
    "start_time": "2021-08-06T13:56:47.496Z"
   },
   {
    "duration": 11,
    "start_time": "2021-08-06T13:56:47.501Z"
   },
   {
    "duration": 16,
    "start_time": "2021-08-06T13:56:47.514Z"
   },
   {
    "duration": 350,
    "start_time": "2021-08-06T14:29:45.660Z"
   },
   {
    "duration": 1636,
    "start_time": "2021-08-06T14:31:37.207Z"
   },
   {
    "duration": 772,
    "start_time": "2021-08-06T14:31:38.847Z"
   },
   {
    "duration": 35,
    "start_time": "2021-08-06T14:31:39.621Z"
   },
   {
    "duration": 43,
    "start_time": "2021-08-06T14:31:39.658Z"
   },
   {
    "duration": 31,
    "start_time": "2021-08-06T14:31:39.703Z"
   },
   {
    "duration": 4,
    "start_time": "2021-08-06T14:31:39.736Z"
   },
   {
    "duration": 53,
    "start_time": "2021-08-06T14:31:39.743Z"
   },
   {
    "duration": 202,
    "start_time": "2021-08-06T14:31:39.799Z"
   },
   {
    "duration": 16,
    "start_time": "2021-08-06T14:31:40.003Z"
   },
   {
    "duration": 19,
    "start_time": "2021-08-06T14:31:40.021Z"
   },
   {
    "duration": 5,
    "start_time": "2021-08-06T14:31:40.041Z"
   },
   {
    "duration": 15,
    "start_time": "2021-08-06T14:31:40.047Z"
   },
   {
    "duration": 23,
    "start_time": "2021-08-06T14:31:40.091Z"
   },
   {
    "duration": 12,
    "start_time": "2021-08-06T14:31:40.115Z"
   },
   {
    "duration": 22,
    "start_time": "2021-08-06T14:31:40.129Z"
   },
   {
    "duration": 41,
    "start_time": "2021-08-06T14:31:40.153Z"
   },
   {
    "duration": 30,
    "start_time": "2021-08-06T14:31:40.196Z"
   },
   {
    "duration": 10,
    "start_time": "2021-08-06T14:31:40.228Z"
   },
   {
    "duration": 3,
    "start_time": "2021-08-06T14:31:40.240Z"
   },
   {
    "duration": 13,
    "start_time": "2021-08-06T14:31:40.245Z"
   },
   {
    "duration": 39,
    "start_time": "2021-08-06T14:31:40.259Z"
   },
   {
    "duration": 20,
    "start_time": "2021-08-06T14:31:40.302Z"
   },
   {
    "duration": 1377,
    "start_time": "2021-08-06T14:31:40.324Z"
   },
   {
    "duration": 2,
    "start_time": "2021-08-06T14:31:41.703Z"
   },
   {
    "duration": 16,
    "start_time": "2021-08-06T14:31:41.707Z"
   },
   {
    "duration": 435,
    "start_time": "2021-08-06T14:31:41.724Z"
   },
   {
    "duration": 30,
    "start_time": "2021-08-06T14:31:42.161Z"
   },
   {
    "duration": 1658,
    "start_time": "2021-08-06T14:31:42.193Z"
   },
   {
    "duration": 143,
    "start_time": "2021-08-06T14:31:43.853Z"
   },
   {
    "duration": 2565,
    "start_time": "2021-08-06T14:31:43.997Z"
   },
   {
    "duration": 7,
    "start_time": "2021-08-06T14:31:46.563Z"
   },
   {
    "duration": 31,
    "start_time": "2021-08-06T14:31:46.571Z"
   },
   {
    "duration": 4,
    "start_time": "2021-08-06T14:31:46.603Z"
   },
   {
    "duration": 159,
    "start_time": "2021-08-06T14:31:46.608Z"
   },
   {
    "duration": 2,
    "start_time": "2021-08-06T14:31:46.769Z"
   },
   {
    "duration": 24,
    "start_time": "2021-08-06T14:31:46.773Z"
   },
   {
    "duration": 12,
    "start_time": "2021-08-06T14:31:46.799Z"
   },
   {
    "duration": 9,
    "start_time": "2021-08-06T14:31:46.813Z"
   },
   {
    "duration": 4,
    "start_time": "2021-08-06T14:31:46.823Z"
   },
   {
    "duration": 5,
    "start_time": "2021-08-06T14:31:46.828Z"
   },
   {
    "duration": 4,
    "start_time": "2021-08-06T14:31:46.834Z"
   },
   {
    "duration": 14,
    "start_time": "2021-08-06T14:31:46.840Z"
   },
   {
    "duration": 7,
    "start_time": "2021-08-06T14:31:46.856Z"
   },
   {
    "duration": 930,
    "start_time": "2021-08-06T14:31:46.865Z"
   },
   {
    "duration": 24287,
    "start_time": "2021-08-06T14:31:47.797Z"
   },
   {
    "duration": 5265,
    "start_time": "2021-08-06T14:32:12.085Z"
   },
   {
    "duration": -222039,
    "start_time": "2021-08-06T14:35:59.391Z"
   },
   {
    "duration": -222050,
    "start_time": "2021-08-06T14:35:59.403Z"
   },
   {
    "duration": -222060,
    "start_time": "2021-08-06T14:35:59.413Z"
   },
   {
    "duration": -222072,
    "start_time": "2021-08-06T14:35:59.426Z"
   },
   {
    "duration": -222081,
    "start_time": "2021-08-06T14:35:59.436Z"
   },
   {
    "duration": -222092,
    "start_time": "2021-08-06T14:35:59.448Z"
   },
   {
    "duration": -222101,
    "start_time": "2021-08-06T14:35:59.460Z"
   },
   {
    "duration": -222110,
    "start_time": "2021-08-06T14:35:59.470Z"
   },
   {
    "duration": -222121,
    "start_time": "2021-08-06T14:35:59.482Z"
   },
   {
    "duration": -222144,
    "start_time": "2021-08-06T14:35:59.505Z"
   },
   {
    "duration": -222156,
    "start_time": "2021-08-06T14:35:59.518Z"
   },
   {
    "duration": -222166,
    "start_time": "2021-08-06T14:35:59.529Z"
   },
   {
    "duration": -222177,
    "start_time": "2021-08-06T14:35:59.541Z"
   },
   {
    "duration": 1083,
    "start_time": "2021-08-06T14:32:20.209Z"
   },
   {
    "duration": 27786,
    "start_time": "2021-08-06T14:32:21.945Z"
   },
   {
    "duration": 3,
    "start_time": "2021-08-06T14:33:37.577Z"
   },
   {
    "duration": 3,
    "start_time": "2021-08-06T14:33:38.288Z"
   },
   {
    "duration": 238,
    "start_time": "2021-08-06T14:33:39.720Z"
   },
   {
    "duration": 9,
    "start_time": "2021-08-06T14:33:51.536Z"
   },
   {
    "duration": 3,
    "start_time": "2021-08-06T14:33:54.152Z"
   },
   {
    "duration": 6,
    "start_time": "2021-08-06T14:33:54.848Z"
   },
   {
    "duration": 6,
    "start_time": "2021-08-06T14:33:55.641Z"
   },
   {
    "duration": 1471,
    "start_time": "2021-08-06T14:51:50.260Z"
   },
   {
    "duration": 644,
    "start_time": "2021-08-06T14:51:51.733Z"
   },
   {
    "duration": 33,
    "start_time": "2021-08-06T14:51:52.379Z"
   },
   {
    "duration": 23,
    "start_time": "2021-08-06T14:51:52.414Z"
   },
   {
    "duration": 28,
    "start_time": "2021-08-06T14:51:52.438Z"
   },
   {
    "duration": 25,
    "start_time": "2021-08-06T14:51:52.467Z"
   },
   {
    "duration": 21,
    "start_time": "2021-08-06T14:51:52.493Z"
   },
   {
    "duration": 194,
    "start_time": "2021-08-06T14:51:52.516Z"
   },
   {
    "duration": 14,
    "start_time": "2021-08-06T14:51:52.712Z"
   },
   {
    "duration": 15,
    "start_time": "2021-08-06T14:51:52.728Z"
   },
   {
    "duration": 3,
    "start_time": "2021-08-06T14:51:52.744Z"
   },
   {
    "duration": 12,
    "start_time": "2021-08-06T14:51:52.749Z"
   },
   {
    "duration": 44,
    "start_time": "2021-08-06T14:51:52.762Z"
   },
   {
    "duration": 10,
    "start_time": "2021-08-06T14:51:52.808Z"
   },
   {
    "duration": 20,
    "start_time": "2021-08-06T14:51:52.819Z"
   },
   {
    "duration": 10,
    "start_time": "2021-08-06T14:51:52.841Z"
   },
   {
    "duration": 58,
    "start_time": "2021-08-06T14:51:52.852Z"
   },
   {
    "duration": 10,
    "start_time": "2021-08-06T14:51:52.911Z"
   },
   {
    "duration": 2,
    "start_time": "2021-08-06T14:51:52.923Z"
   },
   {
    "duration": 11,
    "start_time": "2021-08-06T14:51:52.927Z"
   },
   {
    "duration": 16,
    "start_time": "2021-08-06T14:51:52.939Z"
   },
   {
    "duration": 51,
    "start_time": "2021-08-06T14:51:52.956Z"
   },
   {
    "duration": 1490,
    "start_time": "2021-08-06T14:51:53.010Z"
   },
   {
    "duration": 3,
    "start_time": "2021-08-06T14:51:54.502Z"
   },
   {
    "duration": 26,
    "start_time": "2021-08-06T14:51:54.507Z"
   },
   {
    "duration": 434,
    "start_time": "2021-08-06T14:51:54.535Z"
   },
   {
    "duration": 36,
    "start_time": "2021-08-06T14:51:54.971Z"
   },
   {
    "duration": 1785,
    "start_time": "2021-08-06T14:51:55.009Z"
   },
   {
    "duration": 108,
    "start_time": "2021-08-06T14:51:56.796Z"
   },
   {
    "duration": 2531,
    "start_time": "2021-08-06T14:51:56.906Z"
   },
   {
    "duration": 6,
    "start_time": "2021-08-06T14:51:59.438Z"
   },
   {
    "duration": 16,
    "start_time": "2021-08-06T14:51:59.446Z"
   },
   {
    "duration": 4,
    "start_time": "2021-08-06T14:51:59.491Z"
   },
   {
    "duration": 159,
    "start_time": "2021-08-06T14:51:59.497Z"
   },
   {
    "duration": 3,
    "start_time": "2021-08-06T14:51:59.658Z"
   },
   {
    "duration": 9,
    "start_time": "2021-08-06T14:51:59.662Z"
   },
   {
    "duration": 21,
    "start_time": "2021-08-06T14:51:59.673Z"
   },
   {
    "duration": 9,
    "start_time": "2021-08-06T14:51:59.695Z"
   },
   {
    "duration": 5,
    "start_time": "2021-08-06T14:51:59.705Z"
   },
   {
    "duration": 4,
    "start_time": "2021-08-06T14:51:59.712Z"
   },
   {
    "duration": 4,
    "start_time": "2021-08-06T14:51:59.718Z"
   },
   {
    "duration": 11,
    "start_time": "2021-08-06T14:51:59.724Z"
   },
   {
    "duration": 8,
    "start_time": "2021-08-06T14:51:59.737Z"
   },
   {
    "duration": 1349,
    "start_time": "2021-08-06T14:51:59.747Z"
   },
   {
    "duration": 23324,
    "start_time": "2021-08-06T14:52:01.098Z"
   },
   {
    "duration": 479667,
    "start_time": "2021-08-06T14:52:24.424Z"
   },
   {
    "duration": 1107,
    "start_time": "2021-08-06T15:00:24.093Z"
   },
   {
    "duration": 26248,
    "start_time": "2021-08-06T15:00:25.202Z"
   },
   {
    "duration": 466375,
    "start_time": "2021-08-06T15:00:51.452Z"
   },
   {
    "duration": 3,
    "start_time": "2021-08-06T15:08:37.829Z"
   },
   {
    "duration": 306,
    "start_time": "2021-08-06T15:08:37.833Z"
   },
   {
    "duration": 8,
    "start_time": "2021-08-06T15:08:38.141Z"
   },
   {
    "duration": 6,
    "start_time": "2021-08-06T15:08:38.150Z"
   },
   {
    "duration": 4,
    "start_time": "2021-08-06T15:08:38.158Z"
   },
   {
    "duration": 296,
    "start_time": "2021-08-06T15:08:38.164Z"
   },
   {
    "duration": 29,
    "start_time": "2021-08-06T15:08:38.462Z"
   },
   {
    "duration": 2,
    "start_time": "2021-08-06T15:08:38.493Z"
   },
   {
    "duration": 9,
    "start_time": "2021-08-06T15:08:38.497Z"
   },
   {
    "duration": 6,
    "start_time": "2021-08-06T15:08:38.507Z"
   },
   {
    "duration": 4997,
    "start_time": "2021-08-06T15:35:04.009Z"
   },
   {
    "duration": 10,
    "start_time": "2021-08-06T15:36:07.471Z"
   },
   {
    "duration": 3,
    "start_time": "2021-08-06T15:36:13.166Z"
   },
   {
    "duration": 5,
    "start_time": "2021-08-06T15:36:15.183Z"
   },
   {
    "duration": 6,
    "start_time": "2021-08-06T15:36:20.608Z"
   },
   {
    "duration": 2665,
    "start_time": "2021-08-07T10:04:25.381Z"
   },
   {
    "duration": 913,
    "start_time": "2021-08-07T10:04:28.049Z"
   },
   {
    "duration": 71,
    "start_time": "2021-08-07T10:04:28.965Z"
   },
   {
    "duration": 69,
    "start_time": "2021-08-07T10:04:29.038Z"
   },
   {
    "duration": 54,
    "start_time": "2021-08-07T10:04:29.110Z"
   },
   {
    "duration": 10,
    "start_time": "2021-08-07T10:04:29.191Z"
   },
   {
    "duration": 39,
    "start_time": "2021-08-07T10:04:29.204Z"
   },
   {
    "duration": 408,
    "start_time": "2021-08-07T10:04:29.247Z"
   },
   {
    "duration": 38,
    "start_time": "2021-08-07T10:04:29.658Z"
   },
   {
    "duration": 21,
    "start_time": "2021-08-07T10:04:29.699Z"
   },
   {
    "duration": 5,
    "start_time": "2021-08-07T10:04:29.723Z"
   },
   {
    "duration": 22,
    "start_time": "2021-08-07T10:04:29.730Z"
   },
   {
    "duration": 55,
    "start_time": "2021-08-07T10:04:29.755Z"
   },
   {
    "duration": 16,
    "start_time": "2021-08-07T10:04:29.813Z"
   },
   {
    "duration": 60,
    "start_time": "2021-08-07T10:04:29.832Z"
   },
   {
    "duration": 19,
    "start_time": "2021-08-07T10:04:29.895Z"
   },
   {
    "duration": 71,
    "start_time": "2021-08-07T10:04:29.917Z"
   },
   {
    "duration": 20,
    "start_time": "2021-08-07T10:04:29.990Z"
   },
   {
    "duration": 5,
    "start_time": "2021-08-07T10:04:30.013Z"
   },
   {
    "duration": 30,
    "start_time": "2021-08-07T10:04:30.021Z"
   },
   {
    "duration": 61,
    "start_time": "2021-08-07T10:04:30.054Z"
   },
   {
    "duration": 53,
    "start_time": "2021-08-07T10:04:30.119Z"
   },
   {
    "duration": 3762,
    "start_time": "2021-08-07T10:04:30.191Z"
   },
   {
    "duration": 4,
    "start_time": "2021-08-07T10:04:33.957Z"
   },
   {
    "duration": 42,
    "start_time": "2021-08-07T10:04:33.964Z"
   },
   {
    "duration": 728,
    "start_time": "2021-08-07T10:04:34.011Z"
   },
   {
    "duration": 70,
    "start_time": "2021-08-07T10:04:34.742Z"
   },
   {
    "duration": 2663,
    "start_time": "2021-08-07T10:04:34.815Z"
   },
   {
    "duration": 213,
    "start_time": "2021-08-07T10:04:37.480Z"
   },
   {
    "duration": 4300,
    "start_time": "2021-08-07T10:04:37.697Z"
   },
   {
    "duration": 10,
    "start_time": "2021-08-07T10:04:42.000Z"
   },
   {
    "duration": 30,
    "start_time": "2021-08-07T10:04:42.012Z"
   },
   {
    "duration": 6,
    "start_time": "2021-08-07T10:04:42.088Z"
   },
   {
    "duration": 337,
    "start_time": "2021-08-07T10:04:42.096Z"
   },
   {
    "duration": 4,
    "start_time": "2021-08-07T10:04:42.436Z"
   },
   {
    "duration": 15,
    "start_time": "2021-08-07T10:04:42.442Z"
   },
   {
    "duration": 33,
    "start_time": "2021-08-07T10:04:42.460Z"
   },
   {
    "duration": 18,
    "start_time": "2021-08-07T10:04:42.496Z"
   },
   {
    "duration": 8,
    "start_time": "2021-08-07T10:04:42.517Z"
   },
   {
    "duration": 17,
    "start_time": "2021-08-07T10:04:42.529Z"
   },
   {
    "duration": 9,
    "start_time": "2021-08-07T10:04:42.549Z"
   },
   {
    "duration": 35,
    "start_time": "2021-08-07T10:04:42.561Z"
   },
   {
    "duration": 16,
    "start_time": "2021-08-07T10:04:42.600Z"
   },
   {
    "duration": 1486,
    "start_time": "2021-08-07T10:04:42.618Z"
   },
   {
    "duration": 34124,
    "start_time": "2021-08-07T10:04:44.107Z"
   },
   {
    "duration": 657465,
    "start_time": "2021-08-07T10:05:18.233Z"
   },
   {
    "duration": 1599,
    "start_time": "2021-08-07T10:16:15.701Z"
   },
   {
    "duration": 35440,
    "start_time": "2021-08-07T10:16:17.303Z"
   },
   {
    "duration": 332606,
    "start_time": "2021-08-07T10:16:52.745Z"
   },
   {
    "duration": -202,
    "start_time": "2021-08-07T10:22:25.556Z"
   },
   {
    "duration": -222,
    "start_time": "2021-08-07T10:22:25.577Z"
   },
   {
    "duration": -233,
    "start_time": "2021-08-07T10:22:25.590Z"
   },
   {
    "duration": -250,
    "start_time": "2021-08-07T10:22:25.608Z"
   },
   {
    "duration": -262,
    "start_time": "2021-08-07T10:22:25.621Z"
   },
   {
    "duration": -273,
    "start_time": "2021-08-07T10:22:25.634Z"
   },
   {
    "duration": -278,
    "start_time": "2021-08-07T10:22:25.641Z"
   },
   {
    "duration": 4,
    "start_time": "2021-08-07T10:22:30.813Z"
   },
   {
    "duration": 9,
    "start_time": "2021-08-07T10:22:37.251Z"
   },
   {
    "duration": 7490,
    "start_time": "2021-08-07T10:22:44.555Z"
   },
   {
    "duration": 14,
    "start_time": "2021-08-07T10:23:34.231Z"
   },
   {
    "duration": 3,
    "start_time": "2021-08-07T10:23:39.599Z"
   },
   {
    "duration": 9,
    "start_time": "2021-08-07T10:24:10.863Z"
   },
   {
    "duration": 8,
    "start_time": "2021-08-07T10:24:14.677Z"
   },
   {
    "duration": 2125,
    "start_time": "2021-08-07T11:03:55.872Z"
   },
   {
    "duration": 1255,
    "start_time": "2021-08-07T11:03:58.000Z"
   },
   {
    "duration": 95,
    "start_time": "2021-08-07T11:03:59.259Z"
   },
   {
    "duration": 74,
    "start_time": "2021-08-07T11:03:59.357Z"
   },
   {
    "duration": 120,
    "start_time": "2021-08-07T11:03:59.434Z"
   },
   {
    "duration": 6,
    "start_time": "2021-08-07T11:03:59.558Z"
   },
   {
    "duration": 74,
    "start_time": "2021-08-07T11:03:59.567Z"
   },
   {
    "duration": 412,
    "start_time": "2021-08-07T11:03:59.646Z"
   },
   {
    "duration": 39,
    "start_time": "2021-08-07T11:04:00.062Z"
   },
   {
    "duration": 26,
    "start_time": "2021-08-07T11:04:00.104Z"
   },
   {
    "duration": 5,
    "start_time": "2021-08-07T11:04:00.133Z"
   },
   {
    "duration": 27,
    "start_time": "2021-08-07T11:04:00.141Z"
   },
   {
    "duration": 28,
    "start_time": "2021-08-07T11:04:00.190Z"
   },
   {
    "duration": 17,
    "start_time": "2021-08-07T11:04:00.221Z"
   },
   {
    "duration": 56,
    "start_time": "2021-08-07T11:04:00.241Z"
   },
   {
    "duration": 17,
    "start_time": "2021-08-07T11:04:00.300Z"
   },
   {
    "duration": 66,
    "start_time": "2021-08-07T11:04:00.320Z"
   },
   {
    "duration": 17,
    "start_time": "2021-08-07T11:04:00.390Z"
   },
   {
    "duration": 8,
    "start_time": "2021-08-07T11:04:00.409Z"
   },
   {
    "duration": 20,
    "start_time": "2021-08-07T11:04:00.420Z"
   },
   {
    "duration": 58,
    "start_time": "2021-08-07T11:04:00.443Z"
   },
   {
    "duration": 39,
    "start_time": "2021-08-07T11:04:00.503Z"
   },
   {
    "duration": 2856,
    "start_time": "2021-08-07T11:04:00.548Z"
   },
   {
    "duration": 4,
    "start_time": "2021-08-07T11:04:03.407Z"
   },
   {
    "duration": 26,
    "start_time": "2021-08-07T11:04:03.414Z"
   },
   {
    "duration": 691,
    "start_time": "2021-08-07T11:04:03.442Z"
   },
   {
    "duration": 49,
    "start_time": "2021-08-07T11:04:04.136Z"
   },
   {
    "duration": 3268,
    "start_time": "2021-08-07T11:04:04.188Z"
   },
   {
    "duration": 227,
    "start_time": "2021-08-07T11:04:07.458Z"
   },
   {
    "duration": 4482,
    "start_time": "2021-08-07T11:04:07.689Z"
   },
   {
    "duration": 23,
    "start_time": "2021-08-07T11:04:12.173Z"
   },
   {
    "duration": 24,
    "start_time": "2021-08-07T11:04:12.199Z"
   },
   {
    "duration": 5,
    "start_time": "2021-08-07T11:04:12.225Z"
   },
   {
    "duration": 378,
    "start_time": "2021-08-07T11:04:12.233Z"
   },
   {
    "duration": 4,
    "start_time": "2021-08-07T11:04:12.614Z"
   },
   {
    "duration": 16,
    "start_time": "2021-08-07T11:04:12.620Z"
   },
   {
    "duration": 17,
    "start_time": "2021-08-07T11:04:12.638Z"
   },
   {
    "duration": 53,
    "start_time": "2021-08-07T11:04:12.658Z"
   },
   {
    "duration": 7,
    "start_time": "2021-08-07T11:04:12.713Z"
   },
   {
    "duration": 12,
    "start_time": "2021-08-07T11:04:12.723Z"
   },
   {
    "duration": 8,
    "start_time": "2021-08-07T11:04:12.738Z"
   },
   {
    "duration": 36,
    "start_time": "2021-08-07T11:04:12.749Z"
   },
   {
    "duration": 16,
    "start_time": "2021-08-07T11:04:12.788Z"
   },
   {
    "duration": 1683,
    "start_time": "2021-08-07T11:04:12.807Z"
   },
   {
    "duration": 34231,
    "start_time": "2021-08-07T11:04:14.498Z"
   },
   {
    "duration": 667520,
    "start_time": "2021-08-07T11:04:48.731Z"
   },
   {
    "duration": 1549,
    "start_time": "2021-08-07T11:15:56.254Z"
   },
   {
    "duration": 39139,
    "start_time": "2021-08-07T11:15:57.887Z"
   },
   {
    "duration": 671487,
    "start_time": "2021-08-07T11:16:37.028Z"
   },
   {
    "duration": 4,
    "start_time": "2021-08-07T11:27:48.518Z"
   },
   {
    "duration": 8,
    "start_time": "2021-08-07T11:27:48.525Z"
   },
   {
    "duration": 9729,
    "start_time": "2021-08-07T11:27:48.536Z"
   },
   {
    "duration": 26,
    "start_time": "2021-08-07T11:27:58.267Z"
   },
   {
    "duration": 4,
    "start_time": "2021-08-07T11:27:58.297Z"
   },
   {
    "duration": 12,
    "start_time": "2021-08-07T11:27:58.306Z"
   },
   {
    "duration": 9,
    "start_time": "2021-08-07T11:27:58.321Z"
   }
  ],
  "kernelspec": {
   "display_name": "Python 3 (ipykernel)",
   "language": "python",
   "name": "python3"
  },
  "language_info": {
   "codemirror_mode": {
    "name": "ipython",
    "version": 3
   },
   "file_extension": ".py",
   "mimetype": "text/x-python",
   "name": "python",
   "nbconvert_exporter": "python",
   "pygments_lexer": "ipython3",
   "version": "3.8.8"
  },
  "toc": {
   "base_numbering": 1,
   "nav_menu": {},
   "number_sections": true,
   "sideBar": true,
   "skip_h1_title": true,
   "title_cell": "Содержание",
   "title_sidebar": "Содержание",
   "toc_cell": true,
   "toc_position": {
    "height": "calc(100% - 180px)",
    "left": "10px",
    "top": "150px",
    "width": "289.6px"
   },
   "toc_section_display": true,
   "toc_window_display": true
  }
 },
 "nbformat": 4,
 "nbformat_minor": 2
}
